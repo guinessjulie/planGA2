{
 "cells": [
  {
   "cell_type": "code",
   "execution_count": null,
   "id": "initial_id",
   "metadata": {
    "collapsed": true
   },
   "outputs": [],
   "source": []
  },
  {
   "cell_type": "code",
   "execution_count": null,
   "outputs": [
    {
     "name": "stdout",
     "output_type": "stream",
     "text": [
      "initial length = 24\n",
      "grid[0,0]\n",
      "grid[0,1]\n",
      "nx=-1,ny=1 x=0 y=1\n",
      "nx=1,ny=1 x=0 y=1\n",
      "1,1 = tot=23\n",
      "nx=0,ny=0 x=0 y=1\n"
     ]
    }
   ],
   "source": [
    "import constants\n",
    "import trivial_utils\n",
    "from GridDrawer import GridDrawer\n",
    "\n",
    "def subtraction_length(grid,x,y, tot):\n",
    "    rows, cols = len(grid), len(grid[0])\n",
    "    direction = constants.DIRECTIONS\n",
    "    for dx, dy in direction:\n",
    "        nx, ny = x+dx, y+dy\n",
    "        print(f'nx={nx},ny={ny} x={x} y={y}')\n",
    "        if not ( nx < 0 or nx >= rows or ny <0  >= cols or( x == nx and y == ny)): #경계조건을 만족하지 않는 경우, 즉 붙어있는 경우 에지는 내부이다. \n",
    "            tot -= 1\n",
    "            print(f'{nx},{ny} = tot={tot}')\n",
    "    return tot\n",
    "\n",
    "def is_boundary_cell(grid, x, y):\n",
    "    \"\"\"\n",
    "    주어진 셀이 경계에 있는지 확인합니다.\n",
    "    grid: 2차원 리스트로 표현된 그리드\n",
    "    x, y: 확인할 셀의 좌표\n",
    "    \"\"\"\n",
    "    rows, cols = len(grid), len(grid[0])\n",
    "    # 주어진 셀 주변을 확인합니다. 대각선을 포함한 8방향을 확인할 수도 있고,\n",
    "    # 상하좌우 4방향만 확인할 수도 있습니다. 여기서는 상하좌우 4방향만 확인합니다.\n",
    "    directions = [(0, 1), (1, 0), (0, -1), (-1, 0),(-1,-1),(1, -1), (-1, 1), (1, 1)]\n",
    "    nvertices = {}\n",
    "    for dx, dy in directions:\n",
    "        nx, ny = x + dx, y + dy\n",
    "        # 경계 조건을 확인합니다.\n",
    "        if nx < 0 or nx >= rows or ny < 0 or ny >= cols or grid[nx][ny] == 0: # 이웃중 하나라도 경계에 있으면\n",
    "            print(f'grid[{x}],[{y}]={grid[x][y]}, check grid[{x}][{y}]={grid[nx][ny]}')\n",
    "            return True\n",
    "        print(f'grid[{x}],[{y}]={grid[x][y]}, check grid[{x}][{y}]={grid[nx][ny]}')\n",
    "        return False\n",
    "    \n",
    "    \n",
    "def count_num_cells(grid):\n",
    "    return sum(cell==1 for row in grid for cell in row)\n",
    "\n",
    "\n",
    "def count_polygon_vertices(grid):\n",
    "    \"\"\"\n",
    "    그리드에서 다각형의 꼭짓점 수를 계산합니다.\n",
    "    grid: 2차원 리스트로 표현된 그리드\n",
    "    \"\"\"\n",
    "    vertices_count = 0\n",
    "    rows, cols = len(grid), len(grid[0])\n",
    "    for x in range(rows):\n",
    "        for y in range(cols):\n",
    "            print(f'grid[{x},{y}]')\n",
    "            if grid[x][y] == 1 and is_boundary_cell(grid, x, y):\n",
    "                vertices_count += 1\n",
    "    return vertices_count\n",
    "\n",
    "# 예시 그리드\n",
    "grid_example = [\n",
    "    [0, 1, 1, 0],\n",
    "    [1, 1, 1, 0],\n",
    "    [0, 1, 0, 0],\n",
    "]\n",
    "#GridDrawer.plot_colored_grid(grid_example, trivial_utils.create_filename())\n",
    "# 꼭짓점 수 계산\n",
    "# vertices_count = count_polygon_vertices(grid_example)\n",
    "# print(f\"다각형의 꼭짓점 수: {vertices_count}\") #엉터리 방터리\n",
    "\n",
    "\n",
    "def calc_boundary_length(grid):\n",
    "    length_edge = count_num_cells(grid) * 4\n",
    "    print(f'initial length = {length_edge}')\n",
    "    rows, cols = len(grid), len(grid[0])\n",
    "    for x in range(rows):\n",
    "        for y in range(cols):\n",
    "            print(f'grid[{x},{y}]')\n",
    "            if grid[x][y] == 1 :\n",
    "                length_edge = subtraction_length(grid, x, y, length_edge)\n",
    "                print(f'AT grid[{x}][{y}]:{grid[x][y]} length={length_edge}')\n",
    "    return length_edge\n",
    "\n",
    "\n",
    "\n",
    "\n",
    "length = calc_boundary_length(grid_example)\n",
    "print(f'length:{length}') # todo wrong\n"
   ],
   "metadata": {
    "collapsed": false,
    "is_executing": true,
    "ExecuteTime": {
     "start_time": "2024-03-08T07:55:03.400383Z"
    }
   },
   "id": "49e3f5d8fa1a4351"
  },
  {
   "cell_type": "code",
   "execution_count": null,
   "outputs": [],
   "source": [],
   "metadata": {
    "collapsed": false
   },
   "id": "3b1036050cf67bfd"
  }
 ],
 "metadata": {
  "kernelspec": {
   "display_name": "Python 3",
   "language": "python",
   "name": "python3"
  },
  "language_info": {
   "codemirror_mode": {
    "name": "ipython",
    "version": 2
   },
   "file_extension": ".py",
   "mimetype": "text/x-python",
   "name": "python",
   "nbconvert_exporter": "python",
   "pygments_lexer": "ipython2",
   "version": "2.7.6"
  }
 },
 "nbformat": 4,
 "nbformat_minor": 5
}
