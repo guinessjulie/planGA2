{
 "cells": [
  {
   "cell_type": "markdown",
   "source": [
    "# Creating Editing LWPOLYLINE"
   ],
   "metadata": {
    "collapsed": false
   },
   "id": "d2065daa91c73da9"
  },
  {
   "cell_type": "code",
   "execution_count": 12,
   "outputs": [
    {
     "name": "stdout",
     "output_type": "stream",
     "text": [
      ".\n"
     ]
    }
   ],
   "source": [
    "# Copyright (c) 2014-2022, Manfred Moitzi\n",
    "# License: MIT License\n",
    "import pathlib\n",
    "import ezdxf\n",
    "\n",
    "CWD = pathlib.Path(\"./0610\").expanduser()\n",
    "if not CWD.exists():\n",
    "    CWD = pathlib.Path(\".\")\n",
    "\n",
    "\n",
    "# ------------------------------------------------------------------------------\n",
    "# This example shows the usage of the LWPOLYLINE entity, which is the default\n",
    "# 2D polyline entity (LW stands for LightWeight).\n",
    "#\n",
    "# docs: https://ezdxf.mozman.at/docs/dxfentities/lwpolyline.html\n",
    "# circular arc segments: https://ezdxf.mozman.at/docs/dxfentities/lwpolyline.html#bulge-value\n",
    "# tutorial: https://ezdxf.mozman.at/docs/tutorials/lwpolyline.html\n",
    "# ------------------------------------------------------------------------------\n",
    "\n",
    "\n",
    "def create_lwpolyline():\n",
    "    doc = ezdxf.new(\"R2000\")\n",
    "    msp = doc.modelspace()\n",
    "\n",
    "    points = [(0, 0), (3, 0), (6, 3), (6, 6)]\n",
    "    msp.add_lwpolyline(points)\n",
    "    doc.saveas(CWD / \"lwpolyline1.dxf\")\n",
    "\n",
    "\n",
    "def append_points_to_lwpolyline():\n",
    "    doc = ezdxf.readfile(CWD / \"lwpolyline1.dxf\")\n",
    "    msp = doc.modelspace()\n",
    "\n",
    "    pline = msp.query(\"LWPOLYLINE\").first\n",
    "    pline.append_points([(8, 7), (10, 7)])\n",
    "    doc.saveas(CWD / \"lwpolyline2.dxf\")\n",
    "\n",
    "\n",
    "def edit_lwpolyline():\n",
    "    doc = ezdxf.readfile(CWD / \"lwpolyline2.dxf\")\n",
    "    msp = doc.modelspace()\n",
    "\n",
    "    pline = msp.query(\"LWPOLYLINE\").first\n",
    "    # edit by context manager:\n",
    "    with pline.points() as points:  # points is a python standard list\n",
    "        # del points[-2:]  # delete last 2 points\n",
    "        # points.extend([(4, 7), (0, 7)])  # adding 2 other points\n",
    "        # the same as one command\n",
    "        points[-2:] = [(4, 7), (0, 7)]\n",
    "    # implicit call of line.set_points(points) at context manager exit\n",
    "    doc.saveas(CWD / \"lwpolyline3.dxf\")\n",
    "\n",
    "\n",
    "def lwpolyline_width():\n",
    "    doc = ezdxf.new(\"AC1015\")\n",
    "    msp = doc.modelspace()\n",
    "\n",
    "    # Each line segment can have a different start/end width, if omitted\n",
    "    # start/end width = 0.\n",
    "    # point format = (x, y, [start_width, [end_width, [bulge]]])\n",
    "    points = [\n",
    "        (0, 0, 0.1, 1.5),\n",
    "        (3, 0, 0.5, 0.5),\n",
    "        (6, 3, 0.3, 0.5),\n",
    "        (6, 6, 0.4, 0.5),\n",
    "    ]\n",
    "    msp.add_lwpolyline(points)\n",
    "    doc.saveas(CWD / \"lwpolyline_width.dxf\")\n",
    "\n",
    "\n",
    "def lwpolyline_with_circular_arcs():\n",
    "    doc = ezdxf.new(\"AC1015\")\n",
    "    msp = doc.modelspace()\n",
    "\n",
    "    # LWPolyline can also have curved elements, they are defined by the bulge value.\n",
    "    # point format = (x, y, [start_width, [end_width, [bulge]]])\n",
    "\n",
    "    points = [\n",
    "        (0, 0, 0, 0.05),\n",
    "        (3, 0, 0.1, 0.2, -0.5),\n",
    "        (6, 0, 0.1, 0.05),\n",
    "        (9, 0),\n",
    "    ]\n",
    "    msp.add_lwpolyline(points)\n",
    "    doc.saveas(CWD / \"lwpolyline_bulge.dxf\")\n",
    "\n",
    "\n",
    "if __name__ == \"__main__\":\n",
    "    create_lwpolyline()\n",
    "    append_points_to_lwpolyline()\n",
    "    edit_lwpolyline()\n",
    "    lwpolyline_width()\n",
    "    lwpolyline_with_circular_arcs()"
   ],
   "metadata": {
    "collapsed": false,
    "ExecuteTime": {
     "end_time": "2024-06-10T03:08:28.607501200Z",
     "start_time": "2024-06-10T03:08:28.437388400Z"
    }
   },
   "id": "946fb4fd2d289797"
  },
  {
   "cell_type": "code",
   "execution_count": 13,
   "outputs": [],
   "source": [
    "def create_lwpolyoine_example():\n",
    "    create_lwpolyline()\n",
    "    append_points_to_lwpolyline()\n",
    "    edit_lwpolyline()\n",
    "    lwpolyline_width()\n",
    "    lwpolyline_with_circular_arcs()\n",
    "    \n",
    "    "
   ],
   "metadata": {
    "collapsed": false,
    "ExecuteTime": {
     "end_time": "2024-06-10T03:08:43.196454800Z",
     "start_time": "2024-06-10T03:08:43.185478400Z"
    }
   },
   "id": "ffa28b107021734d"
  },
  {
   "cell_type": "markdown",
   "source": [
    "# Simply View with matplotlib"
   ],
   "metadata": {
    "collapsed": false
   },
   "id": "6029e496740a96ad"
  },
  {
   "cell_type": "code",
   "execution_count": 9,
   "outputs": [],
   "source": [
    "|import ezdxf\n",
    "import matplotlib.pyplot as plt\n",
    "\n",
    "def plot_dxf(filename):\n",
    "    # Load the DXF document\n",
    "    doc = ezdxf.readfile(filename)\n",
    "    msp = doc.modelspace()\n",
    "\n",
    "    # Extract the lines from the DXF\n",
    "    lines = []\n",
    "    for entity in msp:\n",
    "        if entity.dxftype() == 'LINE':\n",
    "            start = entity.dxf.start\n",
    "            end = entity.dxf.end\n",
    "            lines.append(((start.x, start.y), (end.x, end.y)))\n",
    "\n",
    "    # Plot the DXF content\n",
    "    fig, ax = plt.subplots()\n",
    "    for line in lines:\n",
    "        (x1, y1), (x2, y2) = line\n",
    "        ax.plot([x1, x2], [y1, y2], color='black')\n",
    "\n",
    "    ax.set_aspect('equal')\n",
    "    plt.xlabel('X (mm)')\n",
    "    plt.ylabel('Y (mm)')\n",
    "    plt.title('DXF Viewer')\n",
    "    plt.show()\n"
   ],
   "metadata": {
    "collapsed": false,
    "ExecuteTime": {
     "start_time": "2024-06-10T02:46:36.528491900Z"
    }
   },
   "id": "d4c2f08379af9c27"
  },
  {
   "cell_type": "markdown",
   "source": [
    "# Padding Test"
   ],
   "metadata": {
    "collapsed": false
   },
   "id": "96a3a79dc6535a04"
  },
  {
   "cell_type": "code",
   "execution_count": 1,
   "outputs": [
    {
     "name": "stdout",
     "output_type": "stream",
     "text": [
      "DXF file saved. Please check the file to verify padding.\n"
     ]
    }
   ],
   "source": [
    "from RoomPolygon import RoomPolygon\n",
    "from PolygonExporter import PolygonExporter\n",
    "\n",
    "def test_polygon_exporter():\n",
    "    room_corners = [\n",
    "        (6000, 5000), (6000, 6000), (7000, 6000),\n",
    "        (7000, 3000), (6000, 3000), (6000, 4000),\n",
    "        (5000, 4000), (5000, 5000)\n",
    "    ]\n",
    "    room_polygon = RoomPolygon(room_corners)\n",
    "\n",
    "    # Initialize the exporter with a cell size, grid shape, and padding size\n",
    "    polygon_exporter = PolygonExporter(cell_size=1000, grid_shape=(7, 7), padding_size=1000)\n",
    "\n",
    "    # Save the single room polygon to DXF\n",
    "    polygon_exporter.save_polygon_to_dxf(room_polygon.corners, \"test_room_polygon.dxf\")\n",
    "\n",
    "    print(\"DXF file saved. Please check the file to verify padding.\")\n",
    "\n",
    "test_polygon_exporter()"
   ],
   "metadata": {
    "collapsed": false,
    "ExecuteTime": {
     "end_time": "2024-06-18T07:28:58.582596100Z",
     "start_time": "2024-06-18T07:28:56.603958700Z"
    }
   },
   "id": "5c684dce3a956d77"
  },
  {
   "cell_type": "code",
   "execution_count": null,
   "outputs": [],
   "source": [],
   "metadata": {
    "collapsed": false
   },
   "id": "47b9820b0e993fd4"
  }
 ],
 "metadata": {
  "kernelspec": {
   "display_name": "Python 3",
   "language": "python",
   "name": "python3"
  },
  "language_info": {
   "codemirror_mode": {
    "name": "ipython",
    "version": 2
   },
   "file_extension": ".py",
   "mimetype": "text/x-python",
   "name": "python",
   "nbconvert_exporter": "python",
   "pygments_lexer": "ipython2",
   "version": "2.7.6"
  }
 },
 "nbformat": 4,
 "nbformat_minor": 5
}
