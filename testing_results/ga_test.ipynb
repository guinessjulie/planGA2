{
 "cells": [
  {
   "cell_type": "code",
   "execution_count": null,
   "id": "initial_id",
   "metadata": {
    "collapsed": true
   },
   "outputs": [],
   "source": []
  },
  {
   "cell_type": "code",
   "execution_count": null,
   "outputs": [],
   "source": [
    "import matplotlib.pyplot as plt\n",
    "import numpy as np\n",
    "\n",
    "k = 4  # Number of categories\n",
    "colors = plt.cm.get_cmap('hsv', k+1)\n",
    "\n",
    "# Generate some random data and categories\n",
    "np.random.seed(0)  # For reproducibility\n",
    "x = np.random.randn(100)\n",
    "y = np.random.randn(100)\n",
    "categories = np.random.randint(0, k, 100)  # Assign one of k categories to each point\n",
    "\n",
    "plt.scatter(x, y, c=categories, cmap=colors)\n",
    "plt.colorbar()  # Show color scale\n",
    "plt.show()"
   ],
   "metadata": {
    "collapsed": false
   },
   "id": "79eb622fa691cfb4"
  },
  {
   "cell_type": "code",
   "execution_count": null,
   "outputs": [],
   "source": [
    "\n",
    "# grid[1,0]=2\n",
    "print(grid)"
   ],
   "metadata": {
    "collapsed": false
   },
   "id": "b62143044f190f87"
  },
  {
   "cell_type": "code",
   "execution_count": null,
   "outputs": [],
   "source": [
    "import numpy as np\n",
    "import matplotlib.pyplot as plt\n",
    "\n",
    "grid = np.zeros((2, 3), dtype=int)\n",
    "grid[0, 1] = 1  # Setting one cell to a different value\n",
    "grid[0,2] = 2\n",
    "grid[1,2] = 3\n",
    "print(grid)\n",
    "fig, ax = plt.subplots()\n",
    "\n",
    "# Create a color map with k distinct colors\n",
    "colors = plt.cm.get_cmap('hsv', 2)\n",
    "\n",
    "# Plot the grid with explicit vmin and vmax to ensure the colormap covers the range of grid values\n",
    "cax = ax.matshow(grid, cmap=colors, vmin=0, vmax=1)\n",
    "ax.axis('off')  # Turn off the axis labels\n",
    "\n",
    "# Adjust layout\n",
    "ax.set_aspect(\"auto\")\n",
    "\n",
    "# Optional: Add a colorbar to illustrate the mapping from values to colors\n",
    "plt.colorbar(cax)\n",
    "\n",
    "plt.show()\n",
    "\n",
    "    "
   ],
   "metadata": {
    "collapsed": false
   },
   "id": "5f12a0550e2feae8"
  },
  {
   "cell_type": "code",
   "execution_count": null,
   "outputs": [],
   "source": [
    "import numpy as np\n",
    "import matplotlib.pyplot as plt\n",
    "from matplotlib.colors import ListedColormap\n",
    "\n",
    "# Example grid\n",
    "grid = np.array([[0, 1, 2],\n",
    "                 [1, 2, 0],\n",
    "                 [2, 0, 1]])\n",
    "\n",
    "# Define your colors (e.g., for 3 distinct values)\n",
    "colors = ['red', 'green', 'blue']  # RGB colors for values 0, 1, and 2\n",
    "cmap = ListedColormap(colors)\n",
    "\n",
    "# Plot the grid\n",
    "fig, ax = plt.subplots()\n",
    "cax = ax.matshow(grid, cmap=cmap)\n",
    "ax.axis('off')\n",
    "ax.set_aspect(\"auto\")\n",
    "\n",
    "# Optional: Add a colorbar to illustrate the mapping from values to colors\n",
    "plt.colorbar(cax, ticks=[0, 1, 2])\n",
    "\n",
    "plt.show()\n"
   ],
   "metadata": {
    "collapsed": false
   },
   "id": "2f7e0b0929e158b"
  },
  {
   "cell_type": "code",
   "execution_count": null,
   "outputs": [],
   "source": [
    "import numpy as np\n",
    "import matplotlib.pyplot as plt\n",
    "import matplotlib.colors as mcolors\n",
    "\n",
    "# Example grid with k distinct values\n",
    "k = 5  # Number of distinct values/colors\n",
    "grid = np.random.randint(0, k, size=(10, 10))\n",
    "\n",
    "# Create a colormap with k distinct colors\n",
    "# 'tab10', 'tab20', 'Set3' are good choices for distinct colors, choose based on k\n",
    "if k <= 10:\n",
    "    cmap = plt.cm.get_cmap('tab10', k)\n",
    "elif k <= 20:\n",
    "    cmap = plt.cm.get_cmap('tab20', k)\n",
    "else:\n",
    "    cmap = plt.cm.get_cmap('Set3', k)  # Adjust accordingly if k > 20\n",
    "\n",
    "# Normalize the grid values to match the colormap\n",
    "norm = mcolors.Normalize(vmin=0, vmax=k-1)\n",
    "\n",
    "# Create a ScalarMappable to map normalized values to colors\n",
    "sm = plt.cm.ScalarMappable(cmap=cmap, norm=norm)\n",
    "sm.set_array([])  # You need to set the array for the ScalarMappable\n",
    "\n",
    "fig, ax = plt.subplots()\n",
    "\n",
    "# Plot each cell with the color mapped from the value\n",
    "for i in range(grid.shape[0]):\n",
    "    for j in range(grid.shape[1]):\n",
    "        ax.add_patch(plt.Rectangle((j, i), 1, 1, color=sm.to_rgba(grid[i, j])))\n",
    "\n",
    "ax.set_xlim(0, grid.shape[1])\n",
    "ax.set_ylim(0, grid.shape[0])\n",
    "ax.invert_yaxis()  # Invert y axis to have the origin at the top left corner\n",
    "ax.axis('off')  # Turn off the axis\n",
    "\n",
    "# Optional: Display a colorbar\n",
    "plt.colorbar(sm, ticks=range(k), spacing='proportional', shrink=0.92, aspect=40, orientation='horizontal')\n",
    "\n",
    "plt.show()\n"
   ],
   "metadata": {
    "collapsed": false
   },
   "id": "7e3f1d2f1dd19674"
  },
  {
   "cell_type": "code",
   "execution_count": null,
   "outputs": [],
   "source": [
    "import numpy as np\n",
    "import matplotlib.pyplot as plt\n",
    "import matplotlib.colors as mcolors\n",
    "def plot_grid_k_distinct_color(grid, k):\n",
    "    \n",
    "    if k <= 10:\n",
    "        cmap = plt.cm.get_cmap('tab10', k)\n",
    "    elif k <= 20:\n",
    "        cmap = plt.cm.get_cmap('tab20', k)\n",
    "    else:\n",
    "        cmap = plt.cm.get_cmap('Set3', k)\n",
    "    \n",
    "    norm = mcolors.Normalize(vmin=0, vmax=k-1)\n",
    "    \n",
    "    fig, ax = plt.subplots()\n",
    "    \n",
    "    # Use imshow instead of manually plotting rectangles\n",
    "    im = ax.imshow(grid, cmap=cmap, norm=norm)\n",
    "    ax.axis('off')\n",
    "    # Now, adding colorbar should work without issues\n",
    "    plt.colorbar(im, ax=ax, ticks=range(k), spacing='proportional', shrink=0.92, aspect=40, orientation='horizontal')\n",
    "    \n",
    "    plt.show()\n",
    "\n",
    "\n",
    "grid = np.zeros((2, 3), dtype=int)\n",
    "grid[0, 1] = 1  # Setting one cell to a different value\n",
    "grid[0,2] = 2\n",
    "grid[1,2] = 3\n",
    "print(grid)\n",
    "plot_grid_k_distinct_color(grid,2, 3, 4)"
   ],
   "metadata": {
    "collapsed": false
   },
   "id": "f5ea728d60ba430f"
  },
  {
   "cell_type": "code",
   "execution_count": null,
   "outputs": [],
   "source": [
    "import numpy as np\n",
    "import matplotlib.pyplot as plt\n",
    "import matplotlib.colors as mcolors\n",
    "\n",
    "# Define the number of rows and columns for subplot grid\n",
    "nrows, ncols = 2, 2\n",
    "\n",
    "# Example data: list of grids with k distinct values\n",
    "k = 5  # Number of distinct values/colors\n",
    "grids = [np.random.randint(0, k, size=(10, 10)) for _ in range(nrows * ncols)]\n",
    "\n",
    "# Create a colormap and normalization instance\n",
    "cmap = plt.cm.get_cmap('tab10', k)  # Assuming k <= 10 for simplicity\n",
    "norm = mcolors.Normalize(vmin=0, vmax=k-1)\n",
    "\n",
    "# Create a figure and a grid of subplots\n",
    "fig, axs = plt.subplots(nrows=nrows, ncols=ncols, figsize=(10, 10))\n",
    "\n",
    "# Loop over all subplots to fill in the content\n",
    "for i, ax in enumerate(axs.flatten()):\n",
    "    # Select the corresponding grid data\n",
    "    grid = grids[i]\n",
    "\n",
    "    # Create an image display of the grid data\n",
    "    im = ax.imshow(grid, cmap=cmap, norm=norm)\n",
    "\n",
    "    # Optional: customize each subplot\n",
    "    ax.set_title(f'Plot {i+1}')\n",
    "    ax.axis('off')  # Hide the axes ticks and labels\n",
    "\n",
    "# Adjust layout to prevent overlap\n",
    "plt.tight_layout()\n",
    "\n",
    "# Optional: Add a single colorbar for the entire figure, if appropriate\n",
    "cbar_ax = fig.add_axes([0.92, 0.15, 0.03, 0.7])  # Adjust as needed\n",
    "fig.colorbar(im, cax=cbar_ax, ticks=range(k))\n",
    "\n",
    "plt.show()\n"
   ],
   "metadata": {
    "collapsed": false
   },
   "id": "37ebde17ab584ecd"
  },
  {
   "cell_type": "code",
   "execution_count": null,
   "outputs": [],
   "source": [
    "def find_cells_with_zero_neighbor(grid):\n",
    "    nrows, ncols = len(grid), len(grid[0]) if grid else 0\n",
    "    result = []\n",
    "\n",
    "    # Define neighbor offsets\n",
    "    neighbors = [(-1, 0), (1, 0), (0, -1), (0, 1)]\n",
    "\n",
    "    for row in range(nrows):\n",
    "        for col in range(ncols):\n",
    "            # Check each neighbor\n",
    "            for dy, dx in neighbors:\n",
    "                new_row, new_col = row + dy, col + dx\n",
    "                # Check if the neighbor is within grid bounds\n",
    "                if 0 <= new_row < nrows and 0 <= new_col < ncols:\n",
    "                    # If neighbor's value is zero, add the cell to the result\n",
    "                    if grid[new_row][new_col] == 0:\n",
    "                        result.append((row, col))\n",
    "                        break  # No need to check other neighbors\n",
    "\n",
    "    return result\n",
    "\n",
    "# Example grid\n",
    "grid = [\n",
    "    [1, 2, 3],\n",
    "    [4, 0, 6],\n",
    "    [7, 8, 9]\n",
    "]\n",
    "\n",
    "# Get the subset of cells\n",
    "subset = find_cells_with_zero_neighbor(grid)\n",
    "print(subset)\n"
   ],
   "metadata": {
    "collapsed": false
   },
   "id": "a34ef7a69ef62a3"
  },
  {
   "cell_type": "code",
   "execution_count": null,
   "outputs": [],
   "source": [
    "def has_neighbor_zero(grid, row, col):\n",
    "    nrows, ncols = len(grid), len(grid[0])\n",
    "    # Define relative positions of neighbors (up, down, left, right)\n",
    "    neighbors = [(-1, 0), (1, 0), (0, -1), (0, 1)]\n",
    "    for dy, dx in neighbors:\n",
    "        new_row, new_col = row + dy, col + dx\n",
    "        if 0 <= new_row < nrows and 0 <= new_col < ncols and grid[new_row][new_col] == 0:\n",
    "            return True\n",
    "    return False\n",
    "grid = [\n",
    "    [1, 2, 0, 4],\n",
    "    [5, 6, 7, 8],\n",
    "    [9, 0, 11, 12],\n",
    "    [13, 0, 15, 16]\n",
    "]\n",
    "\n",
    "import random\n",
    "subset_cells = [(row, col) for row in range(len(grid)) for col in range(len(grid[0])) if has_neighbor_zero(grid, row, col)]\n",
    "subset_cells_nonzero = [(row, col) for row in range(len(grid)) for col in range(len(grid[0])) if has_neighbor_zero(grid, row, col) and grid[row][col] !=0 ]\n",
    "cell = tuple(subset_cells_nonzero[random.randint(0, len(subset_cells_nonzero) - 1)])\n",
    "print(f'{subset_cells}, \\n{subset_cells_nonzero}')\n",
    "print(cell)"
   ],
   "metadata": {
    "collapsed": false
   },
   "id": "fd05aafc4ccdee73"
  },
  {
   "cell_type": "markdown",
   "source": [
    "from PIL import ImageCreating a grid of images with intervals (or padding) between them can be done efficiently using Python, particularly with libraries such as Pillow (PIL). The idea is to create a new, larger image that will serve as the canvas for your grid. Then, you place each of your 27 images onto this canvas at the correct positions, accounting for the desired intervals between them.\n",
    "\n",
    "Let's assume you want to create a 3x9 grid (3 rows and 9 columns) as an example, with a specific padding size between images. Here's a step-by-step guide on how to do this:\n",
    "\n",
    "Install Pillow: First, ensure you have Pillow installed in your environment. If not, you can install it using pip:\n",
    "1. Load the Images: Load all the images from the directory into a list.\n",
    "\n",
    "2. Calculate Canvas Size: Determine the size of the final image (canvas) by taking the size of one image and accounting for the intervals and the number of images per row and column.\n",
    "\n",
    "3. Create the Canvas: Create a new, blank image with the calculated size.\n",
    "\n",
    "4. Place the Images on the Canvas: Iterate over your images and paste them into the correct positions on the canvas, adding the interval as necessary.\n",
    "\n",
    "Here is a complete example code snippet:"
   ],
   "metadata": {
    "collapsed": false
   },
   "id": "c2a3a9d05b4bd516"
  },
  {
   "cell_type": "code",
   "execution_count": null,
   "outputs": [],
   "source": [
    "from PIL import Image\n",
    "import os\n",
    "\n",
    "from PIL import Image\n",
    "import os\n",
    "\n",
    "# Parameters\n",
    "directory = 'F:\\\\2023\\\\dev\\\\pythonProject1'\n",
    "interval = 5  # Space between images\n",
    "grid_size = (9, 3)  # Grid size as (columns, rows)\n",
    "\n",
    "# Load all images\n",
    "images = [Image.open(os.path.join(directory, f)) for f in os.listdir(directory) if f.endswith('.png')]\n",
    "if not images:\n",
    "    raise ValueError(\"No PNG images found in the directory.\")\n",
    "\n",
    "# Assume all images are the same size\n",
    "image_width, image_height = images[0].size\n",
    "\n",
    "# Calculate total grid size\n",
    "total_width = (image_width * grid_size[0]) + (interval * (grid_size[0] - 1))\n",
    "total_height = (image_height * grid_size[1]) + (interval * (grid_size[1] - 1))\n",
    "\n",
    "# Create a new image with a white background\n",
    "grid_image = Image.new('RGB', (total_width, total_height), 'white')\n",
    "\n",
    "# Paste images into the grid\n",
    "for index, image in enumerate(images):\n",
    "    column = index % grid_size[0]\n",
    "    row = index // grid_size[0]\n",
    "    x = column * (image_width + interval)\n",
    "    y = row * (image_height + interval)\n",
    "    grid_image.paste(image, (x, y))\n",
    "\n",
    "# Save or show the grid image\n",
    "grid_image_path = 'F:\\\\2023\\\\dev\\\\pythonProject1\\\\grid_img.png'\n",
    "grid_image.save(grid_image_path)\n",
    "# Or display it directly if you're using a Jupyter notebook\n",
    "# grid_image.show()\n",
    "\n"
   ],
   "metadata": {
    "collapsed": false
   },
   "id": "3bcc45460dde3f6e"
  },
  {
   "cell_type": "code",
   "execution_count": null,
   "outputs": [],
   "source": [
    "from PIL import Image\n",
    "import os\n",
    "\n",
    "# Parameters\n",
    "directory ='F:\\\\2023\\\\dev\\\\pythonProject1\\\\initialize'\n",
    "interval = 5  # Space between images\n",
    "grid_size = (9, 3)  # Grid size as (columns, rows)\n",
    "\n",
    "# Get all PNG filenames in the directory and sort them\n",
    "filenames = sorted([f for f in os.listdir(directory) if f.endswith('.png')])\n",
    "\n",
    "# Load images in sorted order\n",
    "images = [Image.open(os.path.join(directory, filename)) for filename in filenames]\n",
    "\n",
    "if not images:\n",
    "    raise ValueError(\"No PNG images found in the directory.\")\n",
    "\n",
    "# Assume all images are the same size\n",
    "image_width, image_height = images[0].size\n",
    "\n",
    "# Calculate total grid size\n",
    "total_width = (image_width * grid_size[0]) + (interval * (grid_size[0] - 1))\n",
    "total_height = (image_height * grid_size[1]) + (interval * (grid_size[1] - 1))\n",
    "\n",
    "# Create a new image with a white background\n",
    "grid_image = Image.new('RGB', (total_width, total_height), 'white')\n",
    "\n",
    "# Paste images into the grid\n",
    "for index, image in enumerate(images):\n",
    "    column = index % grid_size[0]\n",
    "    row = index // grid_size[0]\n",
    "    x = column * (image_width + interval)\n",
    "    y = row * (image_height + interval)\n",
    "    grid_image.paste(image, (x, y))\n",
    "\n",
    "# Save or show the grid image\n",
    "grid_image_path = 'F:\\\\2023\\\\dev\\\\pythonProject1\\\\initialize\\\\grid_img.png'\n",
    "grid_image.save(grid_image_path)\n",
    "# Or display it directly if you're using a Jupyter notebook\n",
    "# grid_image.show()\n"
   ],
   "metadata": {
    "collapsed": false
   },
   "id": "7479071c01abdadd"
  },
  {
   "cell_type": "code",
   "execution_count": null,
   "outputs": [],
   "source": [
    "import os\n",
    "import re\n",
    "\n",
    "# Directory containing the files to be renamed\n",
    "directory = 'F:\\\\2023\\\\dev\\\\pythonProject1'\n",
    "\n",
    "# Regular expression to match filenames like 'step_1.png' but not 'step_10.png'\n",
    "regex = r'step_(\\d)\\.png'\n",
    "\n",
    "# Function to replace the match with zero-padded number\n",
    "def replace_with_zero_padded(match):\n",
    "    return f'step_0{match.group(1)}.png'\n",
    "\n",
    "# Iterate over all files in the directory\n",
    "for filename in os.listdir(directory):\n",
    "    # Check if the filename matches the pattern\n",
    "    new_filename = re.sub(regex, replace_with_zero_padded, filename)\n",
    "    if new_filename != filename:\n",
    "        # Full path for current and new filenames\n",
    "        old_file_path = os.path.join(directory, filename)\n",
    "        new_file_path = os.path.join(directory, new_filename)\n",
    "        # Rename the file\n",
    "        os.rename(old_file_path, new_file_path)\n",
    "        print(f'Renamed \"{filename}\" to \"{new_filename}\"')\n"
   ],
   "metadata": {
    "collapsed": false
   },
   "id": "ccf93006ef9bc2f6"
  },
  {
   "cell_type": "code",
   "execution_count": null,
   "outputs": [],
   "source": [
    "from PIL import Image\n",
    "import os\n",
    "\n",
    "\n",
    "# Parameters\n",
    "directory ='F:\\\\2023\\\\dev\\\\pythonProject1\\\\initialize'\n",
    "interval = 5  # Space between images\n",
    "grid_size = (9, 3)  # Grid size as (columns, rows)\n",
    "\n",
    "# Get all PNG filenames in the directory and sort them\n",
    "filenames = sorted([f for f in os.listdir(directory) if f.endswith('.png')])\n",
    "\n",
    "# Load images in sorted order\n",
    "images = [Image.open(os.path.join(directory, filename)) for filename in filenames]\n",
    "\n",
    "if not images:\n",
    "    raise ValueError(\"No PNG images found in the directory.\")\n",
    "\n",
    "# Assume all images are the same size\n",
    "image_width, image_height = images[0].size\n",
    "\n",
    "# Calculate total grid size\n",
    "total_width = (image_width * grid_size[0]) + (interval * (grid_size[0] - 1))\n",
    "total_height = (image_height * grid_size[1]) + (interval * (grid_size[1] - 1))\n",
    "\n",
    "# Create a new image with a white background\n",
    "grid_image = Image.new('RGB', (total_width, total_height), 'white')\n",
    "\n",
    "# Paste images into the grid\n",
    "for index, image in enumerate(images):\n",
    "    column = index % grid_size[0]\n",
    "    row = index // grid_size[0]\n",
    "    x = column * (image_width + interval)\n",
    "    y = row * (image_height + interval)\n",
    "    grid_image.paste(image, (x, y))\n",
    "\n",
    "# Save or show the grid image\n",
    "grid_image_path = 'F:\\\\2023\\\\dev\\\\pythonProject1\\\\initialize\\\\grid_img.png'\n",
    "grid_image.save(grid_image_path)\n"
   ],
   "metadata": {
    "collapsed": false
   },
   "id": "22f8e27200037372"
  },
  {
   "cell_type": "code",
   "execution_count": null,
   "outputs": [],
   "source": [
    "import numpy as np\n",
    "import random\n",
    "import matplotlib.pyplot as plt \n",
    "def create_adjacent_colored_grid(m, n, k):\n",
    "    \"\"\"\n",
    "    Creates a grid of size m x n, with adjacent cells grouped together with k different colors.\n",
    "    \n",
    "    Parameters:\n",
    "    - m (int): The number of rows in the grid.\n",
    "    - n (int): The number of columns in the grid.\n",
    "    - k (int): The number of color groups to be formed.\n",
    "\n",
    "    Returns:\n",
    "    - A matplotlib plot of the grid with adjacent cells colored the same.\n",
    "    \"\"\"\n",
    "    # Create an m x n grid initialized with zeros\n",
    "    grid = np.zeros((m, n), dtype=int)\n",
    "\n",
    "    # Initialize the grid with k different colors randomly\n",
    "    for i in range(k):\n",
    "        # Choose a random cell that is not already colored (not zero)\n",
    "        cell = (random.randint(0, m-1), random.randint(0, n-1))\n",
    "        while grid[cell] != 0:\n",
    "            cell = (random.randint(0, m-1), random.randint(0, n-1))\n",
    "        grid[cell] = i + 1  # Set to a new color\n",
    "\n",
    "    # Create a list of offsets to look for adjacent cells\n",
    "    adjacent_offsets = [(-1, 0), (1, 0), (0, -1), (0, 1)]\n",
    "\n",
    "    # Randomly choose cells to color until all cells are filled\n",
    "    while np.any(grid == 0):\n",
    "        # Randomly choose a cell that is already colored\n",
    "        colored_cells = np.argwhere(grid != 0)\n",
    "        cell = tuple(colored_cells[random.randint(0, len(colored_cells) - 1)])\n",
    "\n",
    "        # Randomly choose an adjacent cell to color\n",
    "        random.shuffle(adjacent_offsets)\n",
    "        for offset in adjacent_offsets:\n",
    "            adjacent_cell = (cell[0] + offset[0], cell[1] + offset[1])\n",
    "            # Check if the adjacent cell is within the grid and not already colored\n",
    "            if (0 <= adjacent_cell[0] < m) and (0 <= adjacent_cell[1] < n) and grid[adjacent_cell] == 0:\n",
    "                # Color the adjacent cell with the same color as the current cell\n",
    "                grid[adjacent_cell] = grid[cell]\n",
    "                break\n",
    "\n",
    "    # Create a color map with k distinct colors\n",
    "    colors = plt.cm.get_cmap('hsv', k+1)\n",
    "\n",
    "    # Plot the grid\n",
    "    plt.figure(figsize=(n, m))\n",
    "    plt.matshow(grid, cmap=colors)\n",
    "    plt.colorbar()\n",
    "\n",
    "    # Turn off the axis labels\n",
    "    plt.axis('off')\n",
    "    \n",
    "    # Display the plot\n",
    "    plt.show()\n",
    "\n",
    "# Example usage:\n",
    "m = 10  # Number of rows\n",
    "n = 15  # Number of columns\n",
    "k = 5   # Number of color groups\n",
    "\n",
    "create_adjacent_colored_grid(m, n, k)\n"
   ],
   "metadata": {
    "collapsed": false
   },
   "id": "e0a86dc63f248db7"
  },
  {
   "cell_type": "code",
   "execution_count": null,
   "outputs": [],
   "source": [
    "# grid_creation.py\n",
    "import numpy as np\n",
    "import random\n",
    "\n",
    "def create_adjacent_colored_grid(m, n, k):\n",
    "    \"\"\"\n",
    "    Creates a grid of size m x n, with adjacent cells grouped together with k different colors.\n",
    "    \"\"\"\n",
    "    grid = np.zeros((m, n), dtype=int)\n",
    "\n",
    "    for i in range(k):\n",
    "        cell = (random.randint(0, m-1), random.randint(0, n-1))\n",
    "        while grid[cell] != 0:\n",
    "            cell = (random.randint(0, m-1), random.randint(0, n-1))\n",
    "        grid[cell] = i + 1\n",
    "\n",
    "    adjacent_offsets = [(-1, 0), (1, 0), (0, -1), (0, 1)]\n",
    "\n",
    "    while np.any(grid == 0):\n",
    "        colored_cells = np.argwhere(grid != 0)\n",
    "        cell = tuple(colored_cells[random.randint(0, len(colored_cells) - 1)])\n",
    "\n",
    "        random.shuffle(adjacent_offsets)\n",
    "        for offset in adjacent_offsets:\n",
    "            adjacent_cell = (cell[0] + offset[0], cell[1] + offset[1])\n",
    "            if (0 <= adjacent_cell[0] < m) and (0 <= adjacent_cell[1] < n) and grid[adjacent_cell] == 0:\n",
    "                grid[adjacent_cell] = grid[cell]\n",
    "                break\n",
    "\n",
    "    return grid\n"
   ],
   "metadata": {
    "collapsed": false
   },
   "id": "cf02aaede2698e73"
  },
  {
   "cell_type": "code",
   "execution_count": null,
   "outputs": [],
   "source": [
    "# grid_plotting.py\n",
    "import matplotlib.pyplot as plt\n",
    "\n",
    "def plot_grid(grid, k):\n",
    "    \"\"\"\n",
    "    Plots a given grid with k different colors.\n",
    "    \"\"\"\n",
    "    colors = plt.cm.get_cmap('hsv', k+1)\n",
    "    plt.figure(figsize=(grid.shape[1], grid.shape[0]))\n",
    "    plt.matshow(grid, cmap=colors)\n",
    "    plt.colorbar()\n",
    "    plt.axis('off')\n",
    "    plt.show()\n"
   ],
   "metadata": {
    "collapsed": false
   },
   "id": "b1d4b46dae756351"
  },
  {
   "cell_type": "code",
   "execution_count": null,
   "outputs": [],
   "source": [
    "# example_usage.py\n",
    "#from grid_creation import create_adjacent_colored_grid\n",
    "#from grid_plotting import plot_grid\n",
    "\n",
    "m = 10  # Number of rows\n",
    "n = 15  # Number of columns\n",
    "k = 5   # Number of color groups\n",
    "\n",
    "grid = create_adjacent_colored_grid(m, n, k)\n",
    "plot_grid(grid, k)\n"
   ],
   "metadata": {
    "collapsed": false
   },
   "id": "af224804c5c42544"
  },
  {
   "cell_type": "code",
   "execution_count": null,
   "outputs": [],
   "source": [
    "import matplotlib.pyplot as plt\n",
    "\n",
    "def plot_grids(m, n, k, rows, cols):\n",
    "    \"\"\"\n",
    "    Creates a plot with multiple subplots arranged in specified rows and columns, each displaying a grid.\n",
    "    \n",
    "    Parameters:\n",
    "    - m (int): The number of rows in each grid.\n",
    "    - n (int): The number of columns in each grid.\n",
    "    - k (int): The number of color groups in each grid.\n",
    "    - rows (int): The number of subplot rows.\n",
    "    - cols (int): The number of subplot columns.\n",
    "    \"\"\"\n",
    "    fig, axes = plt.subplots(rows, cols, figsize=(n*cols, m*rows))\n",
    "    for i in range(rows):\n",
    "        for j in range(cols):\n",
    "            grid = create_adjacent_colored_grid(m, n, k)\n",
    "            colors = plt.cm.get_cmap('hsv', k+1)\n",
    "            if rows == 1 or cols == 1:  # Handling the case of a single row or column of subplots\n",
    "                ax = axes[max(i, j)]\n",
    "            else:\n",
    "                ax = axes[i, j]\n",
    "            ax.matshow(grid, cmap=colors)\n",
    "            ax.axis('off')\n",
    "    plotfilename = create\n",
    "    plt.savefig('grids')\n",
    "    plt.show()\n",
    "plot_grids(m=10, n=15, k=5, rows=2, cols=4)\n"
   ],
   "metadata": {
    "collapsed": false
   },
   "id": "e4434cf10c966222"
  },
  {
   "cell_type": "code",
   "execution_count": null,
   "outputs": [],
   "source": [
    "m, n =2, 5\n",
    "[(x, y) for x in range(m) for y in range(n)]\n"
   ],
   "metadata": {
    "collapsed": false
   },
   "id": "2d942caaebac278d"
  },
  {
   "cell_type": "code",
   "execution_count": null,
   "outputs": [],
   "source": [
    "import numpy as np\n",
    "\n",
    "grid = np.array([\n",
    " [3, 3, 3, 3, 3, 3],\n",
    " [3, 3, 3, 3, 3, 3],\n",
    " [1, 3, 3, 1, 3, 3],\n",
    " [1, 3, 1, 1, 2, 2],\n",
    " [1, 1, 1, 1, 2, 2]]\n",
    "\n",
    ")\n",
    "import math\n",
    "def calculate_simplicity(grid):\n",
    "    # Find unique colors\n",
    "    unique_colors = np.unique(grid)\n",
    "    \n",
    "    simplicity_scores = {}\n",
    "    \n",
    "    for color in unique_colors:\n",
    "        # Find cells of the current color\n",
    "        color_cells = np.argwhere(grid == color)\n",
    "        \n",
    "        # Calculate area as the number of cells\n",
    "        area = len(color_cells)\n",
    "        \n",
    "        # Calculate perimeter\n",
    "        perimeter = 0\n",
    "        for cell in color_cells:\n",
    "            x, y = cell\n",
    "            # Check all four neighbors\n",
    "            neighbors = [(x-1, y), (x+1, y), (x, y-1), (x, y+1)]\n",
    "            for nx, ny in neighbors:\n",
    "                if nx < 0 or nx >= grid.shape[0] or ny < 0 or ny >= grid.shape[1] or grid[nx, ny] != color:\n",
    "                    perimeter += 1\n",
    "        \n",
    "        # Calculate simplicity as area/perimeter\n",
    "        \n",
    "        simplicity = area / perimeter if perimeter > 0 else 0\n",
    "        simplicity =   (16* area) / math.pow(perimeter,2) if perimeter > 0 else 0\n",
    "        simplicity_scores[color] = simplicity\n",
    "        print(f'color={color}, perimeter={perimeter}, area={area}')\n",
    "    return simplicity_scores\n",
    "\n",
    "simplicity_scores = calculate_simplicity(grid)\n",
    "for color, simplicity in simplicity_scores.items():\n",
    "    print(f\"Color {color}: Simplicity = {simplicity:.2f}\")\n"
   ],
   "metadata": {
    "collapsed": false
   },
   "id": "98478097e20d924f"
  },
  {
   "cell_type": "code",
   "execution_count": null,
   "outputs": [],
   "source": [
    "|math.pow(14,2) / (16* 7) "
   ],
   "metadata": {
    "collapsed": false
   },
   "id": "adfff80c800e4be6"
  },
  {
   "cell_type": "code",
   "execution_count": null,
   "outputs": [],
   "source": [
    "import math\n",
    "math.pow(3,2)"
   ],
   "metadata": {
    "collapsed": false
   },
   "id": "bc339ca9095014b2"
  },
  {
   "cell_type": "code",
   "execution_count": 113,
   "outputs": [
    {
     "name": "stdout",
     "output_type": "stream",
     "text": [
      "[2, 3, 1, 2, 2]\n",
      "[3, 2, 1, 3, 3]\n",
      "[1, 1, 2, 2, 2]\n"
     ]
    }
   ],
   "source": [
    "def count_neighbors(grid):\n",
    "    # 그리드의 행과 열의 크기를 가져옵니다.\n",
    "    rows, cols = len(grid), len(grid[0])\n",
    "    \n",
    "    # 이웃을 확인할 8가지 방향을 정의합니다. (상, 하, 좌, 우, 대각선 4방향)\n",
    "    directions = [(-1, 0), (1, 0), (0, -1), (0, 1)]\n",
    "    \n",
    "    # 결과를 저장할 리스트를 초기화합니다.\n",
    "    neighbor_count = [[0 for _ in range(cols)] for _ in range(rows)]\n",
    "    \n",
    "    # 그리드의 각 셀을 순회하며 이웃을 세어줍니다.\n",
    "    for row in range(rows):\n",
    "        for col in range(cols):\n",
    "            # 현재 셀의 값(색)을 가져옵니다.\n",
    "            current_value = grid[row][col]\n",
    "            # 이웃의 수를 세기 위한 카운터를 초기화합니다.\n",
    "            count = 0\n",
    "            for d in directions:\n",
    "                # 이웃 셀의 위치를 계산합니다.\n",
    "                nr, nc = row + d[0], col + d[1]\n",
    "                # 이웃 셀이 그리드 범위 내에 있고, 같은 색(값)인지 확인합니다.\n",
    "                if 0 <= nr < rows and 0 <= nc < cols and grid[nr][nc] == current_value:\n",
    "                    count += 1\n",
    "            # 계산된 이웃의 수를 결과 리스트에 저장합니다.\n",
    "            neighbor_count[row][col] = count\n",
    "    \n",
    "    return neighbor_count\n",
    "\n",
    "# 주어진 그리드\n",
    "grid = [[3, 3, 3, 1, 1],\n",
    "        [3, 3, 2, 1, 1],\n",
    "        [3, 2, 2, 1, 1]]\n",
    "\n",
    "# 같은 색의 이웃 개수를 세어 출력합니다.\n",
    "neighbor_counts = count_neighbors(grid)\n",
    "for row in neighbor_counts:\n",
    "    print(row)\n"
   ],
   "metadata": {
    "collapsed": false,
    "ExecuteTime": {
     "end_time": "2024-02-06T07:16:43.324415400Z",
     "start_time": "2024-02-06T07:16:43.312324300Z"
    }
   },
   "id": "d29a582a40bb8ef3"
  },
  {
   "cell_type": "code",
   "execution_count": null,
   "outputs": [],
   "source": [
    "def count_different_color_neighbors(grid):\n",
    "    # 그리드의 행과 열의 크기를 가져옵니다.\n",
    "    rows, cols = len(grid), len(grid[0])\n",
    "    \n",
    "    # 상, 하, 좌, 우 방향 정의\n",
    "    directions = [(-1, 0), (1, 0), (0, -1), (0, 1)]\n",
    "    \n",
    "    # 결과를 저장할 리스트를 초기화합니다.\n",
    "    different_neighbor_count = [[0 for _ in range(cols)] for _ in range(rows)]\n",
    "    \n",
    "    # 그리드의 각 셀을 순회합니다.\n",
    "    for row in range(rows):\n",
    "        for col in range(cols):\n",
    "            # 현재 셀의 색깔을 가져옵니다.\n",
    "            current_color = grid[row][col]\n",
    "            # 다른 색의 이웃을 세기 위한 카운터\n",
    "            count = 0\n",
    "            for d in directions:\n",
    "                # 이웃 셀의 위치를 계산합니다.\n",
    "                nr, nc = row + d[0], col + d[1]\n",
    "                # 이웃 셀이 그리드 범위 내에 있고, 현재 셀과 색깔이 다른지 확인합니다.\n",
    "                if 0 <= nr < rows and 0 <= nc < cols and grid[nr][nc] != current_color:\n",
    "                    count += 1\n",
    "            # 계산된 다른 색의 이웃의 수를 결과 리스트에 저장합니다.\n",
    "            different_neighbor_count[row][col] = count\n",
    "    \n",
    "    return different_neighbor_count\n",
    "\n",
    "# 주어진 그리드\n",
    "grid = [[3, 3, 3, 1, 1],\n",
    "        [3, 3, 2, 1, 1],\n",
    "        [3, 2, 2, 1, 1]]\n",
    "\n",
    "# 자기 자신과 색깔이 다른 이웃의 개수를 세어 출력합니다.\n",
    "different_neighbor_counts = count_different_color_neighbors(grid)\n",
    "for row in different_neighbor_counts:\n",
    "    print(row)\n"
   ],
   "metadata": {
    "collapsed": false
   },
   "id": "90fcc2997956bdbc"
  },
  {
   "cell_type": "code",
   "execution_count": null,
   "outputs": [],
   "source": [
    "grid = [[1, 1, 2, 2, 2],\n",
    "        [2, 2, 2, 2, 2],\n",
    "        [2, 2, 2, 3, 2]]"
   ],
   "metadata": {
    "collapsed": false
   },
   "id": "528a196c4cfad265"
  },
  {
   "cell_type": "code",
   "execution_count": null,
   "outputs": [],
   "source": [
    "different_neighbor_counts = count_different_color_neighbors(grid)\n",
    "for row in different_neighbor_counts:\n",
    "    print(row)"
   ],
   "metadata": {
    "collapsed": false
   },
   "id": "a7cc768aea0514c2"
  },
  {
   "cell_type": "code",
   "execution_count": 110,
   "outputs": [],
   "source": [],
   "metadata": {
    "collapsed": false,
    "ExecuteTime": {
     "end_time": "2024-02-06T03:35:48.422865200Z",
     "start_time": "2024-02-06T03:35:48.388300300Z"
    }
   },
   "id": "93743be6f66bef19"
  },
  {
   "cell_type": "code",
   "execution_count": null,
   "outputs": [],
   "source": [
    "# mutate function\n",
    "import random\n",
    "import copy\n",
    "\n",
    "def find_and_change_color(grid):\n",
    "    # 자기 자신과 색깔이 다른 이웃의 개수를 계산합니다.\n",
    "    different_neighbor_counts = count_different_color_neighbors(grid)\n",
    "    print(f'sum of diff={sum(sum(row) for row in different_neighbor_counts)}')\n",
    "    rows, cols = len(grid), len(grid[0])\n",
    "    # 상, 하, 좌, 우 방향 정의\n",
    "    directions = [(-1, 0), (1, 0), (0, -1), (0, 1)]\n",
    "    new_grid = copy.deepcopy(grid)\n",
    "\n",
    "    # 3, 2, 1 순으로 조건에 맞는 셀 찾기\n",
    "    for target_count in [3, 2, 1]:\n",
    "        for row in range(rows):\n",
    "            for col in range(cols):\n",
    "                if different_neighbor_counts[row][col] == target_count:\n",
    "                    current_color = new_grid[row][col]\n",
    "                    # 조건에 맞는 셀의 이웃 중 색깔이 다른 이웃을 찾습니다.\n",
    "                    different_color_neighbors = []\n",
    "                    for d in directions:\n",
    "                        nr, nc = row + d[0], col + d[1]\n",
    "                        if 0 <= nr < rows and 0 <= nc < cols and new_grid[nr][nc] != current_color:\n",
    "                            different_color_neighbors.append((nr, nc))\n",
    "                    # 이웃 중 하나를 임의로 선택하여 색깔 변경\n",
    "                    if different_color_neighbors:\n",
    "                        nr, nc = random.choice(different_color_neighbors)\n",
    "                        # 선택된 이웃의 색깔을 현재 셀의 색깔로 변경\n",
    "                        new_grid[nr][nc] = current_color\n",
    "                        return new_grid  # 변경 후 그리드 반환\n",
    "\n",
    "    return new_grid  # 조건에 맞는 셀이 없는 경우 원본 그리드 반환\n",
    "\n",
    "# 주어진 그리드\n",
    "grid = [[3, 3, 3, 1, 1],\n",
    "        [3, 3, 2, 1, 1],\n",
    "        [3, 2, 2, 1, 1]]\n",
    "\n",
    "# 함수 실행\n",
    "new_grid = find_and_change_color(grid)\n",
    "\n",
    "# 변경된 그리드 출력\n",
    "for row in new_grid:\n",
    "    print(row)\n"
   ],
   "metadata": {
    "collapsed": false
   },
   "id": "12e3c8d08558ee06"
  },
  {
   "cell_type": "code",
   "execution_count": null,
   "outputs": [],
   "source": [
    "new_grid = find_and_change_color(grid)\n",
    "\n",
    "# 변경된 그리드 출력\n",
    "for row in new_grid:\n",
    "    print(row)\n"
   ],
   "metadata": {
    "collapsed": false
   },
   "id": "f8d604d625197dc8"
  },
  {
   "cell_type": "code",
   "execution_count": 76,
   "outputs": [],
   "source": [
    "import matplotlib as mpl\n",
    "def plot_grid_single(grid, name='temp.png'):\n",
    "    plt.figure()\n",
    "    colors = mpl.colormaps['Accent']\n",
    "    plt.matshow(grid, cmap=colors)\n",
    "    plt.axis('off')\n",
    "    plt.savefig(name)\n",
    "    plt.show()"
   ],
   "metadata": {
    "collapsed": false,
    "ExecuteTime": {
     "end_time": "2024-02-06T02:14:19.101722300Z",
     "start_time": "2024-02-06T02:14:19.087822600Z"
    }
   },
   "id": "b4109d6a1c69656e"
  },
  {
   "cell_type": "code",
   "execution_count": 104,
   "outputs": [],
   "source": [],
   "metadata": {
    "collapsed": false,
    "ExecuteTime": {
     "end_time": "2024-02-06T03:24:03.196551500Z",
     "start_time": "2024-02-06T03:24:03.160544200Z"
    }
   },
   "id": "8325ae1b69aa694"
  },
  {
   "cell_type": "markdown",
   "source": [
    "# This is Final Fitness Function For Simplicity\n",
    "함수 내에서 내에서 유사한 색상의 셀이 많을수록, 즉 색상 변화가 적을수록 높은 값을 반환한다는 개념"
   ],
   "metadata": {
    "collapsed": false
   },
   "id": "c4d0e4f814291498"
  },
  {
   "cell_type": "code",
   "execution_count": 108,
   "outputs": [
    {
     "name": "stdout",
     "output_type": "stream",
     "text": [
      "62\n"
     ]
    }
   ],
   "source": [
    "def calculate_simplicity_score(matrix):\n",
    "    # 각 값의 개수를 저장할 딕셔너리\n",
    "    counts = {0: 0, 1: 0, 2: 0, 3:0, 4:0}\n",
    "    \n",
    "    # 매트리스의 각 셀 값을 순회하며 개수를 센다\n",
    "    for row in matrix:\n",
    "        for cell in row:\n",
    "            if cell in counts:\n",
    "                counts[cell] += 1\n",
    "    \n",
    "    # 수정된 가중치 설정\n",
    "    weights = {0: 100, 1:50, 2: 25, 3:12, 4:0}\n",
    "    \n",
    "    # 총 가치 계산\n",
    "    total_value = sum(counts[value] * weights[value] for value in counts)\n",
    "    simplicity_fitness = total_value// (len(matrix) *len(matrix[1]))\n",
    "    return simplicity_fitness\n",
    "\n",
    "# count_different_color_neighbors(grid)로부터 얻은 매트리스 예시\n",
    "matrix =  [[0, 0, 2, 1, 0], \n",
    "           [0, 2, 3, 1, 0], \n",
    "           [1, 2, 1, 1, 0]]\n",
    "# 매트리스의 특징을 파악하는 스칼라 값 계산\n",
    "scalar_value = calculate_simplicity_score(matrix)\n",
    "print(scalar_value)\n"
   ],
   "metadata": {
    "collapsed": false,
    "ExecuteTime": {
     "end_time": "2024-02-06T03:31:53.065918300Z",
     "start_time": "2024-02-06T03:31:53.002059900Z"
    }
   },
   "id": "e7d66c938840a381"
  },
  {
   "cell_type": "code",
   "execution_count": 107,
   "outputs": [
    {
     "name": "stdout",
     "output_type": "stream",
     "text": [
      "90\n"
     ]
    }
   ],
   "source": [
    "matrix =  [[0, 0, 0, 0, 0], \n",
    "           [1, 1, 1, 0, 0], \n",
    "           [0, 0, 0, 0, 0]]\n",
    "\n",
    "# 매트리스의 특징을 파악하는 스칼라 값 계산\n",
    "scalar_value = calculate_diversity_score(matrix) \n",
    "print(scalar_value)"
   ],
   "metadata": {
    "collapsed": false,
    "ExecuteTime": {
     "end_time": "2024-02-06T03:29:28.579305900Z",
     "start_time": "2024-02-06T03:29:28.556654400Z"
    }
   },
   "id": "b90d93700b8e5924"
  },
  {
   "cell_type": "code",
   "execution_count": 107,
   "outputs": [],
   "source": [],
   "metadata": {
    "collapsed": false,
    "ExecuteTime": {
     "end_time": "2024-02-06T03:29:29.393459800Z",
     "start_time": "2024-02-06T03:29:29.373454100Z"
    }
   },
   "id": "e1582e5971a19111"
  },
  {
   "cell_type": "code",
   "execution_count": 112,
   "outputs": [
    {
     "data": {
      "text/plain": "<Figure size 640x480 with 0 Axes>"
     },
     "metadata": {},
     "output_type": "display_data"
    },
    {
     "data": {
      "text/plain": "<Figure size 800x480 with 1 Axes>",
      "image/png": "[encoded data removed]"
     },
     "metadata": {},
     "output_type": "display_data"
    },
    {
     "name": "stdout",
     "output_type": "stream",
     "text": [
      "counts = [[0, 0, 2, 1, 0], [0, 2, 3, 1, 0], [1, 2, 1, 1, 0]]\n",
      "fit = 62\n",
      "new_grid\n",
      "\n",
      "sum of diff=14\n",
      "count_grid = [[0, 0, 2, 2, 0], [0, 2, 2, 3, 1], [1, 2, 1, 2, 0]]\n",
      "fit = 54\n"
     ]
    },
    {
     "data": {
      "text/plain": "<Figure size 640x480 with 0 Axes>"
     },
     "metadata": {},
     "output_type": "display_data"
    },
    {
     "data": {
      "text/plain": "<Figure size 800x480 with 1 Axes>",
      "image/png": "[encoded data removed]"
     },
     "metadata": {},
     "output_type": "display_data"
    },
    {
     "name": "stdout",
     "output_type": "stream",
     "text": [
      "sum of diff=14\n",
      "count_grid = [[0, 1, 2, 1, 0], [0, 2, 2, 1, 0], [1, 2, 1, 1, 0]]\n",
      "fit = 60\n"
     ]
    },
    {
     "data": {
      "text/plain": "<Figure size 640x480 with 0 Axes>"
     },
     "metadata": {},
     "output_type": "display_data"
    },
    {
     "data": {
      "text/plain": "<Figure size 800x480 with 1 Axes>",
      "image/png": "[encoded data removed]"
     },
     "metadata": {},
     "output_type": "display_data"
    },
    {
     "name": "stdout",
     "output_type": "stream",
     "text": [
      "sum of diff=14\n",
      "count_grid = [[0, 1, 2, 1, 0], [1, 2, 2, 1, 0], [1, 1, 1, 1, 0]]\n",
      "fit = 58\n"
     ]
    },
    {
     "data": {
      "text/plain": "<Figure size 640x480 with 0 Axes>"
     },
     "metadata": {},
     "output_type": "display_data"
    },
    {
     "data": {
      "text/plain": "<Figure size 800x480 with 1 Axes>",
      "image/png": "[encoded data removed]"
     },
     "metadata": {},
     "output_type": "display_data"
    },
    {
     "name": "stdout",
     "output_type": "stream",
     "text": [
      "sum of diff=14\n",
      "count_grid = [[0, 1, 2, 1, 0], [0, 2, 2, 1, 0], [1, 2, 1, 1, 0]]\n",
      "fit = 60\n"
     ]
    },
    {
     "data": {
      "text/plain": "<Figure size 640x480 with 0 Axes>"
     },
     "metadata": {},
     "output_type": "display_data"
    },
    {
     "data": {
      "text/plain": "<Figure size 800x480 with 1 Axes>",
      "image/png": "[encoded data removed]"
     },
     "metadata": {},
     "output_type": "display_data"
    },
    {
     "name": "stdout",
     "output_type": "stream",
     "text": [
      "sum of diff=14\n",
      "count_grid = [[0, 0, 2, 2, 0], [0, 2, 2, 3, 1], [1, 2, 1, 2, 0]]\n",
      "fit = 54\n"
     ]
    },
    {
     "data": {
      "text/plain": "<Figure size 640x480 with 0 Axes>"
     },
     "metadata": {},
     "output_type": "display_data"
    },
    {
     "data": {
      "text/plain": "<Figure size 800x480 with 1 Axes>",
      "image/png": "[encoded data removed]"
     },
     "metadata": {},
     "output_type": "display_data"
    }
   ],
   "source": [
    "\n",
    "\n",
    "import random\n",
    "import copy\n",
    "\n",
    "def find_and_change_color(grid):\n",
    "    # 자기 자신과 색깔이 다른 이웃의 개수를 계산합니다.\n",
    "    different_neighbor_counts = count_different_color_neighbors(grid)\n",
    "    print(f'sum of diff={sum(sum(row) for row in different_neighbor_counts)}')\n",
    "    rows, cols = len(grid), len(grid[0])\n",
    "    # 상, 하, 좌, 우 방향 정의\n",
    "    directions = [(-1, 0), (1, 0), (0, -1), (0, 1)]\n",
    "    new_grid = copy.deepcopy(grid)\n",
    "\n",
    "    # 3, 2, 1 순으로 조건에 맞는 셀 찾기\n",
    "    for target_count in [3, 2, 1]:\n",
    "        for row in range(rows):\n",
    "            for col in range(cols):\n",
    "                if different_neighbor_counts[row][col] == target_count:\n",
    "                    current_color = new_grid[row][col]\n",
    "                    # 조건에 맞는 셀의 이웃 중 색깔이 다른 이웃을 찾습니다.\n",
    "                    different_color_neighbors = []\n",
    "                    for d in directions:\n",
    "                        nr, nc = row + d[0], col + d[1]\n",
    "                        if 0 <= nr < rows and 0 <= nc < cols and new_grid[nr][nc] != current_color:\n",
    "                            different_color_neighbors.append((nr, nc))\n",
    "                    # 이웃 중 하나를 임의로 선택하여 색깔 변경\n",
    "                    if different_color_neighbors:\n",
    "                        nr, nc = random.choice(different_color_neighbors)\n",
    "                        # 선택된 이웃의 색깔을 현재 셀의 색깔로 변경\n",
    "                        new_grid[nr][nc] = current_color\n",
    "                        return new_grid  # 변경 후 그리드 반환\n",
    "\n",
    "    return new_grid  # 조건에 맞는 셀이 없는 경우 원본 그리드 반환\n",
    "\n",
    "def calculate_simplicity_score(matrix):\n",
    "    # 각 값의 개수를 저장할 딕셔너리\n",
    "    counts = {0: 0, 1: 0, 2: 0, 3:0, 4:0}\n",
    "    \n",
    "    # 매트리스의 각 셀 값을 순회하며 개수를 센다\n",
    "    for row in matrix:\n",
    "        for cell in row:\n",
    "            if cell in counts:\n",
    "                counts[cell] += 1\n",
    "    \n",
    "    # 수정된 가중치 설정\n",
    "    weights = {0: 100, 1:50, 2: 25, 3:12, 4:0}\n",
    "    \n",
    "    # 총 가치 계산\n",
    "    total_value = sum(counts[value] * weights[value] for value in counts)\n",
    "    simplicity_fitness = total_value// (len(matrix) *len(matrix[1]))\n",
    "    return simplicity_fitness\n",
    "\n",
    "def module_main():\n",
    "    grid = np.array([\n",
    "        [3, 3, 3, 1, 1],\n",
    "        [3, 3, 2, 1, 1],\n",
    "        [3, 2, 2, 1, 1]])\n",
    "    plot_grid_single(grid)\n",
    "    count_grid = count_different_color_neighbors(grid)\n",
    "    fit = calculate_simplicity_score(count_grid)\n",
    "    \n",
    "    print(f'counts = {count_grid}')\n",
    "    print(f'fit = {fit}')\n",
    "    print('new_grid\\n')\n",
    "    for i in range(5):\n",
    "        new_grid = find_and_change_color(grid)\n",
    "        count_grid = count_different_color_neighbors(new_grid)\n",
    "        print(f'count_grid = {count_grid}')\n",
    "        new_fit = calculate_simplicity_score(count_grid)\n",
    "        print(f'fit = {new_fit}')\n",
    "        print('\\n')\n",
    "        \n",
    "        plot_grid_single(new_grid)\n",
    "\n",
    "module_main()    \n",
    "\n"
   ],
   "metadata": {
    "collapsed": false,
    "ExecuteTime": {
     "end_time": "2024-02-06T03:37:33.682355200Z",
     "start_time": "2024-02-06T03:37:31.862191Z"
    }
   },
   "id": "153272e3e7b2f6e3"
  },
  {
   "cell_type": "code",
   "execution_count": null,
   "outputs": [],
   "source": [],
   "metadata": {
    "collapsed": false
   },
   "id": "84f2009be9c552f6"
  }
 ],
 "metadata": {
  "kernelspec": {
   "display_name": "Python 3",
   "language": "python",
   "name": "python3"
  },
  "language_info": {
   "codemirror_mode": {
    "name": "ipython",
    "version": 2
   },
   "file_extension": ".py",
   "mimetype": "text/x-python",
   "name": "python",
   "nbconvert_exporter": "python",
   "pygments_lexer": "ipython2",
   "version": "2.7.6"
  }
 },
 "nbformat": 4,
 "nbformat_minor": 5
}
