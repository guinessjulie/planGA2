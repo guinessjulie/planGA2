{
 "cells": [
  {
   "cell_type": "code",
   "execution_count": 77,
   "id": "initial_id",
   "metadata": {
    "collapsed": true,
    "ExecuteTime": {
     "end_time": "2024-09-06T02:36:39.772540700Z",
     "start_time": "2024-09-06T02:36:39.719473400Z"
    }
   },
   "outputs": [
    {
     "data": {
      "text/plain": "      Size_Opt  Adj_Opt  Ori_Opt  Adjacency  Orientation      Size  \\\n0            0        1        1        0.4         0.75  0.550483   \n1            0        1        1        0.4         0.75  0.644841   \n2            0        1        1        0.4         0.75  0.684452   \n3            0        1        1        0.4         0.75  0.659028   \n4            0        1        1        0.4         1.00  0.561538   \n...        ...      ...      ...        ...          ...       ...   \n1995         1        1        0        0.6         0.75  0.916667   \n1996         1        1        0        0.6         0.75  0.927778   \n1997         1        1        0        0.6         0.50  0.788889   \n1998         1        1        0        0.6         0.50  0.933333   \n1999         1        1        0        0.6         0.50  0.924561   \n\n      Simplicity  Rectangularity  Regularity  PA Ratio  Weighted_Fitness  \n0       0.666667        0.845226    0.569800  0.797369          0.490802  \n1       0.654167        0.800744    0.534224  0.762175          0.507350  \n2       0.666667        0.831250    0.612847  0.807340          0.513192  \n3       0.883333        0.956349    0.717744  0.911361          0.509507  \n4       0.791667        0.922321    0.685771  0.873394          0.514085  \n...          ...             ...         ...       ...               ...  \n1995    0.716667        0.869345    0.616661  0.825861          0.694737  \n1996    0.766667        0.891560    0.578132  0.806030          0.696317  \n1997    0.662500        0.842708    0.551467  0.777302          0.605974  \n1998    0.712798        0.832002    0.595247  0.764618          0.624535  \n1999    0.739583        0.843750    0.645417  0.808069          0.623546  \n\n[2000 rows x 11 columns]",
      "text/html": "<div>\n<style scoped>\n    .dataframe tbody tr th:only-of-type {\n        vertical-align: middle;\n    }\n\n    .dataframe tbody tr th {\n        vertical-align: top;\n    }\n\n    .dataframe thead th {\n        text-align: right;\n    }\n</style>\n<table border=\"1\" class=\"dataframe\">\n  <thead>\n    <tr style=\"text-align: right;\">\n      <th></th>\n      <th>Size_Opt</th>\n      <th>Adj_Opt</th>\n      <th>Ori_Opt</th>\n      <th>Adjacency</th>\n      <th>Orientation</th>\n      <th>Size</th>\n      <th>Simplicity</th>\n      <th>Rectangularity</th>\n      <th>Regularity</th>\n      <th>PA Ratio</th>\n      <th>Weighted_Fitness</th>\n    </tr>\n  </thead>\n  <tbody>\n    <tr>\n      <th>0</th>\n      <td>0</td>\n      <td>1</td>\n      <td>1</td>\n      <td>0.4</td>\n      <td>0.75</td>\n      <td>0.550483</td>\n      <td>0.666667</td>\n      <td>0.845226</td>\n      <td>0.569800</td>\n      <td>0.797369</td>\n      <td>0.490802</td>\n    </tr>\n    <tr>\n      <th>1</th>\n      <td>0</td>\n      <td>1</td>\n      <td>1</td>\n      <td>0.4</td>\n      <td>0.75</td>\n      <td>0.644841</td>\n      <td>0.654167</td>\n      <td>0.800744</td>\n      <td>0.534224</td>\n      <td>0.762175</td>\n      <td>0.507350</td>\n    </tr>\n    <tr>\n      <th>2</th>\n      <td>0</td>\n      <td>1</td>\n      <td>1</td>\n      <td>0.4</td>\n      <td>0.75</td>\n      <td>0.684452</td>\n      <td>0.666667</td>\n      <td>0.831250</td>\n      <td>0.612847</td>\n      <td>0.807340</td>\n      <td>0.513192</td>\n    </tr>\n    <tr>\n      <th>3</th>\n      <td>0</td>\n      <td>1</td>\n      <td>1</td>\n      <td>0.4</td>\n      <td>0.75</td>\n      <td>0.659028</td>\n      <td>0.883333</td>\n      <td>0.956349</td>\n      <td>0.717744</td>\n      <td>0.911361</td>\n      <td>0.509507</td>\n    </tr>\n    <tr>\n      <th>4</th>\n      <td>0</td>\n      <td>1</td>\n      <td>1</td>\n      <td>0.4</td>\n      <td>1.00</td>\n      <td>0.561538</td>\n      <td>0.791667</td>\n      <td>0.922321</td>\n      <td>0.685771</td>\n      <td>0.873394</td>\n      <td>0.514085</td>\n    </tr>\n    <tr>\n      <th>...</th>\n      <td>...</td>\n      <td>...</td>\n      <td>...</td>\n      <td>...</td>\n      <td>...</td>\n      <td>...</td>\n      <td>...</td>\n      <td>...</td>\n      <td>...</td>\n      <td>...</td>\n      <td>...</td>\n    </tr>\n    <tr>\n      <th>1995</th>\n      <td>1</td>\n      <td>1</td>\n      <td>0</td>\n      <td>0.6</td>\n      <td>0.75</td>\n      <td>0.916667</td>\n      <td>0.716667</td>\n      <td>0.869345</td>\n      <td>0.616661</td>\n      <td>0.825861</td>\n      <td>0.694737</td>\n    </tr>\n    <tr>\n      <th>1996</th>\n      <td>1</td>\n      <td>1</td>\n      <td>0</td>\n      <td>0.6</td>\n      <td>0.75</td>\n      <td>0.927778</td>\n      <td>0.766667</td>\n      <td>0.891560</td>\n      <td>0.578132</td>\n      <td>0.806030</td>\n      <td>0.696317</td>\n    </tr>\n    <tr>\n      <th>1997</th>\n      <td>1</td>\n      <td>1</td>\n      <td>0</td>\n      <td>0.6</td>\n      <td>0.50</td>\n      <td>0.788889</td>\n      <td>0.662500</td>\n      <td>0.842708</td>\n      <td>0.551467</td>\n      <td>0.777302</td>\n      <td>0.605974</td>\n    </tr>\n    <tr>\n      <th>1998</th>\n      <td>1</td>\n      <td>1</td>\n      <td>0</td>\n      <td>0.6</td>\n      <td>0.50</td>\n      <td>0.933333</td>\n      <td>0.712798</td>\n      <td>0.832002</td>\n      <td>0.595247</td>\n      <td>0.764618</td>\n      <td>0.624535</td>\n    </tr>\n    <tr>\n      <th>1999</th>\n      <td>1</td>\n      <td>1</td>\n      <td>0</td>\n      <td>0.6</td>\n      <td>0.50</td>\n      <td>0.924561</td>\n      <td>0.739583</td>\n      <td>0.843750</td>\n      <td>0.645417</td>\n      <td>0.808069</td>\n      <td>0.623546</td>\n    </tr>\n  </tbody>\n</table>\n<p>2000 rows × 11 columns</p>\n</div>"
     },
     "execution_count": 77,
     "metadata": {},
     "output_type": "execute_result"
    }
   ],
   "source": [
    "import pandas as pd\n",
    "\n",
    "# Load the uploaded CSV files\n",
    "file_path_1 = '../Analysis0906_113355.csv'\n",
    "file_path_2 = '../Analysis0906_112648.csv'\n",
    "\n",
    "\n",
    "# Load both CSV files to check their contents\n",
    "data_1 = pd.read_csv(file_path_1)\n",
    "data_2 = pd.read_csv(file_path_2)\n",
    "\n",
    "data = pd.concat([data_1, data_2], ignore_index=True)\n",
    "data\n"
   ]
  },
  {
   "cell_type": "markdown",
   "source": [
    "# 기본 통계값"
   ],
   "metadata": {
    "collapsed": false
   },
   "id": "9ee65cf67c71cb43"
  },
  {
   "cell_type": "markdown",
   "source": [],
   "metadata": {
    "collapsed": false
   },
   "id": "f5afc6f1b6f4aec4"
  },
  {
   "cell_type": "code",
   "execution_count": 88,
   "outputs": [
    {
     "data": {
      "text/plain": "          Size_Opt      Adj_Opt     Ori_Opt    Adjacency  Orientation  \\\ncount  2000.000000  2000.000000  2000.00000  2000.000000  2000.000000   \nmean      0.500000     0.460000     0.55500     0.458700     0.732375   \nstd       0.500125     0.498522     0.49709     0.195738     0.298773   \nmin       0.000000     0.000000     0.00000     0.000000     0.000000   \n25%       0.000000     0.000000     0.00000     0.400000     0.500000   \n50%       0.500000     0.000000     1.00000     0.400000     0.750000   \n75%       1.000000     1.000000     1.00000     0.600000     1.000000   \nmax       1.000000     1.000000     1.00000     1.000000     1.000000   \n\n              Size   Simplicity  Rectangularity   Regularity     PA Ratio  \\\ncount  2000.000000  2000.000000     2000.000000  2000.000000  2000.000000   \nmean      0.769682     0.721515        0.861185     0.603962     0.804238   \nstd       0.122573     0.075375        0.048499     0.068548     0.049135   \nmin       0.364625     0.516667        0.679187     0.365251     0.609405   \n25%       0.677848     0.666667        0.827083     0.556405     0.771944   \n50%       0.775877     0.716667        0.862500     0.600517     0.803704   \n75%       0.868590     0.770833        0.894934     0.647788     0.837621   \nmax       1.000000     0.958333        0.992188     0.893333     0.966118   \n\n       Weighted_Fitness  \ncount      2.000000e+03  \nmean       5.112524e-01  \nstd        2.040999e-01  \nmin        1.333333e-09  \n25%        3.857798e-01  \n50%        5.337111e-01  \n75%        6.746379e-01  \nmax        9.846545e-01  ",
      "text/html": "<div>\n<style scoped>\n    .dataframe tbody tr th:only-of-type {\n        vertical-align: middle;\n    }\n\n    .dataframe tbody tr th {\n        vertical-align: top;\n    }\n\n    .dataframe thead th {\n        text-align: right;\n    }\n</style>\n<table border=\"1\" class=\"dataframe\">\n  <thead>\n    <tr style=\"text-align: right;\">\n      <th></th>\n      <th>Size_Opt</th>\n      <th>Adj_Opt</th>\n      <th>Ori_Opt</th>\n      <th>Adjacency</th>\n      <th>Orientation</th>\n      <th>Size</th>\n      <th>Simplicity</th>\n      <th>Rectangularity</th>\n      <th>Regularity</th>\n      <th>PA Ratio</th>\n      <th>Weighted_Fitness</th>\n    </tr>\n  </thead>\n  <tbody>\n    <tr>\n      <th>count</th>\n      <td>2000.000000</td>\n      <td>2000.000000</td>\n      <td>2000.00000</td>\n      <td>2000.000000</td>\n      <td>2000.000000</td>\n      <td>2000.000000</td>\n      <td>2000.000000</td>\n      <td>2000.000000</td>\n      <td>2000.000000</td>\n      <td>2000.000000</td>\n      <td>2.000000e+03</td>\n    </tr>\n    <tr>\n      <th>mean</th>\n      <td>0.500000</td>\n      <td>0.460000</td>\n      <td>0.55500</td>\n      <td>0.458700</td>\n      <td>0.732375</td>\n      <td>0.769682</td>\n      <td>0.721515</td>\n      <td>0.861185</td>\n      <td>0.603962</td>\n      <td>0.804238</td>\n      <td>5.112524e-01</td>\n    </tr>\n    <tr>\n      <th>std</th>\n      <td>0.500125</td>\n      <td>0.498522</td>\n      <td>0.49709</td>\n      <td>0.195738</td>\n      <td>0.298773</td>\n      <td>0.122573</td>\n      <td>0.075375</td>\n      <td>0.048499</td>\n      <td>0.068548</td>\n      <td>0.049135</td>\n      <td>2.040999e-01</td>\n    </tr>\n    <tr>\n      <th>min</th>\n      <td>0.000000</td>\n      <td>0.000000</td>\n      <td>0.00000</td>\n      <td>0.000000</td>\n      <td>0.000000</td>\n      <td>0.364625</td>\n      <td>0.516667</td>\n      <td>0.679187</td>\n      <td>0.365251</td>\n      <td>0.609405</td>\n      <td>1.333333e-09</td>\n    </tr>\n    <tr>\n      <th>25%</th>\n      <td>0.000000</td>\n      <td>0.000000</td>\n      <td>0.00000</td>\n      <td>0.400000</td>\n      <td>0.500000</td>\n      <td>0.677848</td>\n      <td>0.666667</td>\n      <td>0.827083</td>\n      <td>0.556405</td>\n      <td>0.771944</td>\n      <td>3.857798e-01</td>\n    </tr>\n    <tr>\n      <th>50%</th>\n      <td>0.500000</td>\n      <td>0.000000</td>\n      <td>1.00000</td>\n      <td>0.400000</td>\n      <td>0.750000</td>\n      <td>0.775877</td>\n      <td>0.716667</td>\n      <td>0.862500</td>\n      <td>0.600517</td>\n      <td>0.803704</td>\n      <td>5.337111e-01</td>\n    </tr>\n    <tr>\n      <th>75%</th>\n      <td>1.000000</td>\n      <td>1.000000</td>\n      <td>1.00000</td>\n      <td>0.600000</td>\n      <td>1.000000</td>\n      <td>0.868590</td>\n      <td>0.770833</td>\n      <td>0.894934</td>\n      <td>0.647788</td>\n      <td>0.837621</td>\n      <td>6.746379e-01</td>\n    </tr>\n    <tr>\n      <th>max</th>\n      <td>1.000000</td>\n      <td>1.000000</td>\n      <td>1.00000</td>\n      <td>1.000000</td>\n      <td>1.000000</td>\n      <td>1.000000</td>\n      <td>0.958333</td>\n      <td>0.992188</td>\n      <td>0.893333</td>\n      <td>0.966118</td>\n      <td>9.846545e-01</td>\n    </tr>\n  </tbody>\n</table>\n</div>"
     },
     "execution_count": 88,
     "metadata": {},
     "output_type": "execute_result"
    }
   ],
   "source": [
    "# 데이터의 기본 통계값을 출력\n",
    "basic_statistics = data.describe()\n",
    "basic_statistics\n"
   ],
   "metadata": {
    "collapsed": false,
    "ExecuteTime": {
     "start_time": "2024-09-06T03:09:17.169995800Z"
    }
   },
   "id": "9d9aebfd5e6dbc4e"
  },
  {
   "cell_type": "code",
   "execution_count": 97,
   "outputs": [
    {
     "name": "stdout",
     "output_type": "stream",
     "text": [
      "Weighted Fitness Stats:\n",
      " count    2.000000e+03\n",
      "mean     5.112524e-01\n",
      "std      2.040999e-01\n",
      "min      1.333333e-09\n",
      "25%      3.857798e-01\n",
      "50%      5.337111e-01\n",
      "75%      6.746379e-01\n",
      "max      9.846545e-01\n",
      "Name: Weighted_Fitness, dtype: float64\n",
      "\n",
      "Adjacency Satisfaction Stats:\n",
      " count    2000.000000\n",
      "mean        0.458700\n",
      "std         0.195738\n",
      "min         0.000000\n",
      "25%         0.400000\n",
      "50%         0.400000\n",
      "75%         0.600000\n",
      "max         1.000000\n",
      "Name: Adjacency, dtype: float64\n",
      "\n",
      "Size Satisfaction Stats:\n",
      " count    2000.000000\n",
      "mean        0.769682\n",
      "std         0.122573\n",
      "min         0.364625\n",
      "25%         0.677848\n",
      "50%         0.775877\n",
      "75%         0.868590\n",
      "max         1.000000\n",
      "Name: Size, dtype: float64\n",
      "\n",
      "Orientation Satisfaction Stats:\n",
      " count    2000.000000\n",
      "mean        0.732375\n",
      "std         0.298773\n",
      "min         0.000000\n",
      "25%         0.500000\n",
      "50%         0.750000\n",
      "75%         1.000000\n",
      "max         1.000000\n",
      "Name: Orientation, dtype: float64\n"
     ]
    }
   ],
   "source": [
    "# 특정 열에 대한 기본 통계값\n",
    "weighted_fitness_stats = data['Weighted_Fitness'].describe()\n",
    "adjacency_stats = data['Adjacency'].describe()\n",
    "size_satisfaction_stats = data['Size'].describe()\n",
    "orientation_satisfaction_stats = data['Orientation'].describe()\n",
    "\n",
    "# 출력\n",
    "print(\"Weighted Fitness Stats:\\n\", weighted_fitness_stats)\n",
    "print(\"\\nAdjacency Satisfaction Stats:\\n\", adjacency_stats)\n",
    "print(\"\\nSize Satisfaction Stats:\\n\", size_satisfaction_stats)\n",
    "print(\"\\nOrientation Satisfaction Stats:\\n\", orientation_satisfaction_stats)\n"
   ],
   "metadata": {
    "collapsed": false,
    "ExecuteTime": {
     "end_time": "2024-09-06T03:53:35.521427500Z",
     "start_time": "2024-09-06T03:53:35.506328900Z"
    }
   },
   "id": "19ead7bfda4d82d0"
  },
  {
   "cell_type": "code",
   "execution_count": 94,
   "outputs": [
    {
     "data": {
      "text/plain": "       Weighted_Fitness    Adjacency         Size  Orientation\ncount      2.000000e+03  2000.000000  2000.000000  2000.000000\nmean       5.112524e-01     0.458700     0.769682     0.732375\nstd        2.040999e-01     0.195738     0.122573     0.298773\nmin        1.333333e-09     0.000000     0.364625     0.000000\n25%        3.857798e-01     0.400000     0.677848     0.500000\n50%        5.337111e-01     0.400000     0.775877     0.750000\n75%        6.746379e-01     0.600000     0.868590     1.000000\nmax        9.846545e-01     1.000000     1.000000     1.000000",
      "text/html": "<div>\n<style scoped>\n    .dataframe tbody tr th:only-of-type {\n        vertical-align: middle;\n    }\n\n    .dataframe tbody tr th {\n        vertical-align: top;\n    }\n\n    .dataframe thead th {\n        text-align: right;\n    }\n</style>\n<table border=\"1\" class=\"dataframe\">\n  <thead>\n    <tr style=\"text-align: right;\">\n      <th></th>\n      <th>Weighted_Fitness</th>\n      <th>Adjacency</th>\n      <th>Size</th>\n      <th>Orientation</th>\n    </tr>\n  </thead>\n  <tbody>\n    <tr>\n      <th>count</th>\n      <td>2.000000e+03</td>\n      <td>2000.000000</td>\n      <td>2000.000000</td>\n      <td>2000.000000</td>\n    </tr>\n    <tr>\n      <th>mean</th>\n      <td>5.112524e-01</td>\n      <td>0.458700</td>\n      <td>0.769682</td>\n      <td>0.732375</td>\n    </tr>\n    <tr>\n      <th>std</th>\n      <td>2.040999e-01</td>\n      <td>0.195738</td>\n      <td>0.122573</td>\n      <td>0.298773</td>\n    </tr>\n    <tr>\n      <th>min</th>\n      <td>1.333333e-09</td>\n      <td>0.000000</td>\n      <td>0.364625</td>\n      <td>0.000000</td>\n    </tr>\n    <tr>\n      <th>25%</th>\n      <td>3.857798e-01</td>\n      <td>0.400000</td>\n      <td>0.677848</td>\n      <td>0.500000</td>\n    </tr>\n    <tr>\n      <th>50%</th>\n      <td>5.337111e-01</td>\n      <td>0.400000</td>\n      <td>0.775877</td>\n      <td>0.750000</td>\n    </tr>\n    <tr>\n      <th>75%</th>\n      <td>6.746379e-01</td>\n      <td>0.600000</td>\n      <td>0.868590</td>\n      <td>1.000000</td>\n    </tr>\n    <tr>\n      <th>max</th>\n      <td>9.846545e-01</td>\n      <td>1.000000</td>\n      <td>1.000000</td>\n      <td>1.000000</td>\n    </tr>\n  </tbody>\n</table>\n</div>"
     },
     "execution_count": 94,
     "metadata": {},
     "output_type": "execute_result"
    }
   ],
   "source": [
    "import pandas as pd\n",
    "\n",
    "# 특정 열에 대한 기본 통계값을 계산하고 하나로 묶는 코드\n",
    "\n",
    "# 데이터셋이 있다고 가정합니다.\n",
    "\n",
    "# 각 피트니스 지표에 대한 기본 통계값 계산\n",
    "weighted_fitness_stats = data['Weighted_Fitness'].describe()\n",
    "adjacency_stats = data['Adjacency'].describe()\n",
    "size_satisfaction_stats = data['Size'].describe()\n",
    "orientation_satisfaction_stats = data['Orientation'].describe()\n",
    "\n",
    "# 통계값을 하나의 테이블로 결합\n",
    "combined_stats = pd.concat([weighted_fitness_stats, adjacency_stats, size_satisfaction_stats, orientation_satisfaction_stats], axis=1)\n",
    "combined_stats.columns = ['Weighted_Fitness', 'Adjacency', 'Size', 'Orientation']\n",
    "\n",
    "combined_stats\n"
   ],
   "metadata": {
    "collapsed": false,
    "ExecuteTime": {
     "end_time": "2024-09-06T03:31:00.355697500Z",
     "start_time": "2024-09-06T03:31:00.319656600Z"
    }
   },
   "id": "926f494a89b6ca10"
  },
  {
   "cell_type": "markdown",
   "source": [
    "### 5. 결과 및 분석\n",
    "\n",
    "#### 5.1. 기본 통계 분석\n",
    "\n",
    "본 연구에서는 사이즈 적합도 모듈을 수정한 후 새로운 데이터를 생성하고 이를 바탕으로 기본 통계 분석을 수행하였다. 아래는 2,000개의 샘플에 대한 각 최적화 변수(Size_Opt, Adj_Opt, Ori_Opt)와 피트니스 지표(Adjacency, Orientation, Size, Simplicity, Rectangularity, Regularity, PA Ratio, Weighted Fitness)의 기술 통계량이다.\n",
    "\n",
    "- **Size_Opt (사이즈 최적화 적용 여부)**: 최적화가 적용된 경우는 평균값이 0.5로, 전체 샘플의 절반에서 사이즈 최적화가 적용된 것을 나타낸다. 데이터의 분포는 고르게 퍼져 있으며, 최소값 0과 최대값 1 사이의 값을 가진다.\n",
    "  \n",
    "- **Adj_Opt (인접성 최적화 적용 여부)**: 평균값은 0.46으로, 전체 데이터에서 약 46%의 경우 인접성 최적화가 적용되었음을 나타낸다. 표준편차는 0.498로, 데이터가 고르게 분포되어 있음을 알 수 있다.\n",
    "\n",
    "- **Ori_Opt (방향성 최적화 적용 여부)**: 평균값은 0.555로, 약 55%의 경우에서 방향성 최적화가 적용되었다. 또한 최소값은 0, 최대값은 1로, 다른 최적화 지표들과 동일하게 이항 변수의 특성을 보인다.\n",
    "\n",
    "#### 5.2. 피트니스 지표 분석\n",
    "\n",
    "각 피트니스 지표의 통계값을 통해 각 최적화가 전체 설계 적합도에 미치는 영향을 분석하였다.\n",
    "\n",
    "- **Adjacency (인접성 만족도)**: 평균값은 0.459로, 전반적으로 인접성 만족도가 45.9%임을 나타낸다. 표준편차는 0.196으로, 인접성 만족도 분포가 비교적 넓게 퍼져있다. 25%, 50%, 75%의 분위수를 보면, 인접성 최적화가 적용된 경우와 그렇지 않은 경우의 차이가 크지 않음을 유추할 수 있다.\n",
    "\n",
    "- **Orientation (방향성 만족도)**: 방향성 만족도는 평균 0.732로, 전체적으로 높은 값을 보이고 있다. 25% 분위수가 0.5이고, 75% 분위수는 1.0이므로 방향성 만족도가 상대적으로 높은 분포를 보임을 알 수 있다.\n",
    "\n",
    "- **Size (사이즈 만족도)**: 사이즈 만족도의 평균은 0.769로, 대체로 방 크기 최적화가 잘 이루어진 것으로 보인다. 최소값은 0.365로 사이즈 만족도가 낮은 일부 경우도 존재하지만, 75% 분위수가 0.869로 전체적인 만족도가 높은 수준임을 알 수 있다.\n",
    "\n",
    "- **Simplicity (단순성)**: 단순성 만족도는 평균 0.721로, 표준편차는 0.075로 비교적 낮다. 이는 단순성에 대한 만족도가 전체적으로 비슷한 수준에서 나타남을 의미한다.\n",
    "\n",
    "- **Rectangularity (직사각형 비율)**: 평균값은 0.861로, 높은 직사각형 비율을 보여주고 있다. 이는 설계된 방들의 형태가 비교적 규칙적인 직사각형 형태를 유지하고 있음을 의미한다. 표준편차가 0.048로 낮은 수치를 보여, 직사각형 비율에 대한 만족도는 매우 일정함을 알 수 있다.\n",
    "\n",
    "- **Regularity (규칙성)**: 규칙성은 평균 0.604로 나타났으며, 표준편차는 0.069로 적절히 분포되어 있다. 이는 설계된 방들이 일정한 패턴을 유지하는 경향을 보인다는 것을 의미한다.\n",
    "\n",
    "- **PA Ratio (PA 비율)**: 평균 0.804로, PA 비율은 높은 수준을 보이고 있다. 이는 설계된 방들이 면적 대비 외형적인 효율성을 잘 유지하고 있음을 시사한다.\n",
    "\n",
    "- **Weighted Fitness (가중치된 피트니스)**: 최종 가중치된 피트니스의 평균은 0.511로, 전체적으로 중간 이상의 적합도를 보인다. 그러나 최소값이 매우 낮은 1.33e-09로 일부 설계에서는 피트니스가 매우 낮은 경우가 발생했음을 알 수 있다. 반면, 최대값은 0.985로, 높은 적합도를 보이는 설계도 다수 존재함을 확인할 수 있다.\n",
    "\n",
    "#### 5.2. 세부 피트니스 지표 통계 분석\n",
    "\n",
    "앞서 제시한 피트니스 지표들의 전반적인 경향성을 확인한 후, 각 피트니스 지표에 대한 상세한 통계값을 통해 추가적인 해석을 도출할 수 있다. 이번 분석에서는 **Weighted Fitness**, **Adjacency Satisfaction**, **Size Satisfaction**, **Orientation Satisfaction**에 대한 통계값을 심층적으로 다룬다.\n",
    "\n",
    "1. **Weighted Fitness (가중치된 피트니스)**:\n",
    "   - 가중치된 피트니스의 평균값은 0.511로, 중간값(50%)이 0.533인 것을 보면 설계의 절반 이상에서 비교적 높은 적합도를 달성한 것을 알 수 있다.\n",
    "   - 표준편차는 0.204로, 분포가 상당히 다양하게 퍼져 있음을 나타내며, 일부 설계에서는 피트니스 값이 매우 낮게 기록된 것도 확인할 수 있다(최소값 1.33e-09).\n",
    "   - 25% 분위수가 0.385, 75% 분위수가 0.674이므로 상위 25%의 설계들은 0.674 이상의 피트니스 값을 기록했으며, 이는 설계의 높은 적합도를 반영한다.\n",
    "\n",
    "2. **Adjacency Satisfaction (인접성 만족도)**:\n",
    "   - 인접성 만족도의 평균은 0.459으로 비교적 낮은 값을 보였으며, 이는 설계된 방들 간의 인접성 요구 사항이 다소 충족되지 않았음을 나타낸다.\n",
    "   - 50%의 중위값이 0.400인 것을 보면 전체 설계의 절반 정도가 40%의 인접성 만족도에 머물러 있음을 알 수 있다.\n",
    "   - 최소값은 0, 최대값은 1로, 특정 설계에서는 인접성 요구 사항을 전혀 만족하지 못한 경우도 있으며, 반대로 완전히 만족한 경우도 있다.\n",
    "\n",
    "3. **Size Satisfaction (사이즈 만족도)**:\n",
    "   - 사이즈 만족도는 평균값이 0.770으로 비교적 높은 수준을 보였다. 이는 전체 설계의 사이즈 최적화가 성공적으로 이루어진 것을 시사한다.\n",
    "   - 표준편차는 0.122로, 데이터의 분포가 다른 지표에 비해 다소 좁게 퍼져 있음을 의미한다. 이는 대부분의 설계에서 사이즈 적합도가 비슷하게 나타남을 알 수 있다.\n",
    "   - 25% 분위수가 0.678이고, 75% 분위수가 0.869로 사이즈 만족도가 상위 25%에 해당하는 설계들은 87% 이상의 만족도를 달성했음을 알 수 있다.\n",
    "\n",
    "4. **Orientation Satisfaction (방향성 만족도)**:\n",
    "   - 방향성 만족도의 평균값은 0.732로, 전체적으로 높은 수준의 방향성 요구 사항이 충족되었음을 나타낸다.\n",
    "   - 표준편차는 0.299로 다소 넓은 분포를 보이고 있으며, 최소값이 0, 최대값이 1인 것을 보면, 일부 설계에서는 방향성 요구 사항이 전혀 충족되지 않은 경우도 존재하는 반면, 완전히 만족된 설계도 있다.\n",
    "   - 25% 분위수가 0.5로, 전체 설계의 하위 25%는 50% 이하의 방향성 만족도를 기록했지만, 상위 25%의 설계는 100% 만족도를 기록했다는 점에서 차이가 크다.\n",
    "\n",
    "\n",
    "#### 5.3. 결론\n",
    "\n",
    "전체적으로 분석된 통계값들을 통해, 사이즈 적합도 모듈을 수정한 후에도 피트니스 관련 지표들이 높은 수준을 유지하고 있음을 알 수 있다. 특히, 직사각형 비율과 방향성 최적화가 높은 만족도를 보이며, 사이즈 최적화 역시 평균 이상의 만족도를 나타냈다. 하지만 인접성 만족도는 상대적으로 낮은 값을 보여, 추가적인 최적화가 필요할 수 있음을 시사한다.\n",
    "\n",
    "#### 5.3. 결론\n",
    "\n",
    "이번 기본 통계 분석을 통해 **사이즈 만족도**와 **방향성 만족도**는 전반적으로 높은 수준에서 잘 충족되었음을 알 수 있었다. 특히, 사이즈 만족도의 경우 높은 평균값과 비교적 낮은 표준편차를 보여, 데이터의 분포가 일정하게 나타나고 있음을 확인하였다. 반면, **인접성 만족도**는 상대적으로 낮은 값을 보였으며, 이를 통해 인접성 요구 사항을 충족시키는 데 있어 추가적인 개선이 필요할 수 있음을 알 수 있다."
   ],
   "metadata": {
    "collapsed": false
   },
   "id": "f762a26a2de7ee91"
  },
  {
   "cell_type": "markdown",
   "source": [
    "# 각 최적화 적용 여부별 관련 적합성 관계"
   ],
   "metadata": {
    "collapsed": false
   },
   "id": "b9dcfb23363c02b7"
  },
  {
   "cell_type": "code",
   "execution_count": 100,
   "outputs": [
    {
     "name": "stdout",
     "output_type": "stream",
     "text": [
      "Statistics for Size_Opt = 0:\n",
      "        Size_Opt         Size\n",
      "count    1000.0  1000.000000\n",
      "mean        0.0     0.684407\n",
      "std         0.0     0.093426\n",
      "min         0.0     0.364625\n",
      "25%         0.0     0.625490\n",
      "50%         0.0     0.685707\n",
      "75%         0.0     0.745532\n",
      "max         0.0     0.927778\n",
      "\n",
      "Statistics for Size_Opt = 1:\n",
      "        Size_Opt         Size\n",
      "count    1000.0  1000.000000\n",
      "mean        1.0     0.854956\n",
      "std         0.0     0.082321\n",
      "min         1.0     0.546429\n",
      "25%         1.0     0.809666\n",
      "50%         1.0     0.864698\n",
      "75%         1.0     0.919444\n",
      "max         1.0     1.000000\n",
      "\n",
      "Statistics for Adj_Opt = 0:\n",
      "        Adj_Opt    Adjacency\n",
      "count   1080.0  1080.000000\n",
      "mean       0.0     0.439444\n",
      "std        0.0     0.192827\n",
      "min        0.0     0.000000\n",
      "25%        0.0     0.400000\n",
      "50%        0.0     0.400000\n",
      "75%        0.0     0.600000\n",
      "max        0.0     1.000000\n",
      "\n",
      "Statistics for Adj_Opt = 1:\n",
      "        Adj_Opt   Adjacency\n",
      "count    920.0  920.000000\n",
      "mean       1.0    0.481304\n",
      "std        0.0    0.196815\n",
      "min        1.0    0.000000\n",
      "25%        1.0    0.400000\n",
      "50%        1.0    0.400000\n",
      "75%        1.0    0.600000\n",
      "max        1.0    1.000000\n",
      "\n",
      "Statistics for Ori_Opt = 0:\n",
      "        Ori_Opt  Orientation\n",
      "count    890.0   890.000000\n",
      "mean       0.0     0.468258\n",
      "std        0.0     0.242528\n",
      "min        0.0     0.000000\n",
      "25%        0.0     0.250000\n",
      "50%        0.0     0.500000\n",
      "75%        0.0     0.500000\n",
      "max        0.0     1.000000\n",
      "\n",
      "Statistics for Ori_Opt = 1:\n",
      "        Ori_Opt  Orientation\n",
      "count   1110.0  1110.000000\n",
      "mean       1.0     0.944144\n",
      "std        0.0     0.113502\n",
      "min        1.0     0.500000\n",
      "25%        1.0     1.000000\n",
      "50%        1.0     1.000000\n",
      "75%        1.0     1.000000\n",
      "max        1.0     1.000000\n"
     ]
    }
   ],
   "source": [
    "# Size_Opt에 따른 데이터 필터링\n",
    "size_opt_0 = data[data['Size_Opt'] == 0]\n",
    "size_opt_1 = data[data['Size_Opt'] == 1]\n",
    "\n",
    "# Adj_Opt에 따른 데이터 필터링\n",
    "adj_opt_0 = data[data['Adj_Opt'] == 0]\n",
    "adj_opt_1 = data[data['Adj_Opt'] == 1]\n",
    "\n",
    "# Ori_Opt에 따른 데이터 필터링\n",
    "ori_opt_0 = data[data['Ori_Opt'] == 0]\n",
    "ori_opt_1 = data[data['Ori_Opt'] == 1]\n",
    "\n",
    "# Size_Opt에 따라 관련된 Size 컬럼만 통계 출력\n",
    "stats_size_opt_0 = size_opt_0[['Size_Opt', 'Size']].describe()\n",
    "stats_size_opt_1 = size_opt_1[['Size_Opt', 'Size']].describe()\n",
    "\n",
    "# Adj_Opt에 따라 관련된 Adjacency 컬럼만 통계 출력\n",
    "stats_adj_opt_0 = adj_opt_0[['Adj_Opt', 'Adjacency']].describe()\n",
    "stats_adj_opt_1 = adj_opt_1[['Adj_Opt', 'Adjacency']].describe()\n",
    "\n",
    "# Ori_Opt에 따라 관련된 Orientation 컬럼만 통계 출력\n",
    "stats_ori_opt_0 = ori_opt_0[['Ori_Opt', 'Orientation']].describe()\n",
    "stats_ori_opt_1 = ori_opt_1[['Ori_Opt', 'Orientation']].describe()\n",
    "\n",
    "# 결과 출력\n",
    "print(\"Statistics for Size_Opt = 0:\\n\", stats_size_opt_0)\n",
    "print(\"\\nStatistics for Size_Opt = 1:\\n\", stats_size_opt_1)\n",
    "\n",
    "print(\"\\nStatistics for Adj_Opt = 0:\\n\", stats_adj_opt_0)\n",
    "print(\"\\nStatistics for Adj_Opt = 1:\\n\", stats_adj_opt_1)\n",
    "\n",
    "print(\"\\nStatistics for Ori_Opt = 0:\\n\", stats_ori_opt_0)\n",
    "print(\"\\nStatistics for Ori_Opt = 1:\\n\", stats_ori_opt_1)\n"
   ],
   "metadata": {
    "collapsed": false,
    "ExecuteTime": {
     "end_time": "2024-09-06T06:06:59.786956100Z",
     "start_time": "2024-09-06T06:06:59.738221600Z"
    }
   },
   "id": "4f69f3279ed62a11"
  },
  {
   "cell_type": "code",
   "execution_count": 110,
   "outputs": [
    {
     "name": "stdout",
     "output_type": "stream",
     "text": [
      "Correlation Matrix (with _Opt in rows):\n",
      "           Adjacency  Orientation      Size  Simplicity  Rectangularity  \\\n",
      "Size_Opt   0.093516    -0.056495  0.695878   -0.382456       -0.469031   \n",
      "Adj_Opt    0.106612     0.016676  0.104134   -0.023710       -0.051363   \n",
      "Ori_Opt   -0.000807     0.791766 -0.024223    0.002490        0.007865   \n",
      "\n",
      "          Regularity  PA Ratio  Weighted_Fitness  \n",
      "Size_Opt    0.031453 -0.408373          0.108845  \n",
      "Adj_Opt    -0.040378 -0.062346          0.100750  \n",
      "Ori_Opt     0.029762  0.019531          0.306250  \n"
     ]
    },
    {
     "data": {
      "text/plain": "          Adjacency  Orientation      Size  Simplicity  Rectangularity  \\\nSize_Opt   0.093516    -0.056495  0.695878   -0.382456       -0.469031   \nAdj_Opt    0.106612     0.016676  0.104134   -0.023710       -0.051363   \nOri_Opt   -0.000807     0.791766 -0.024223    0.002490        0.007865   \n\n          Regularity  PA Ratio  Weighted_Fitness  \nSize_Opt    0.031453 -0.408373          0.108845  \nAdj_Opt    -0.040378 -0.062346          0.100750  \nOri_Opt     0.029762  0.019531          0.306250  ",
      "text/html": "<div>\n<style scoped>\n    .dataframe tbody tr th:only-of-type {\n        vertical-align: middle;\n    }\n\n    .dataframe tbody tr th {\n        vertical-align: top;\n    }\n\n    .dataframe thead th {\n        text-align: right;\n    }\n</style>\n<table border=\"1\" class=\"dataframe\">\n  <thead>\n    <tr style=\"text-align: right;\">\n      <th></th>\n      <th>Adjacency</th>\n      <th>Orientation</th>\n      <th>Size</th>\n      <th>Simplicity</th>\n      <th>Rectangularity</th>\n      <th>Regularity</th>\n      <th>PA Ratio</th>\n      <th>Weighted_Fitness</th>\n    </tr>\n  </thead>\n  <tbody>\n    <tr>\n      <th>Size_Opt</th>\n      <td>0.093516</td>\n      <td>-0.056495</td>\n      <td>0.695878</td>\n      <td>-0.382456</td>\n      <td>-0.469031</td>\n      <td>0.031453</td>\n      <td>-0.408373</td>\n      <td>0.108845</td>\n    </tr>\n    <tr>\n      <th>Adj_Opt</th>\n      <td>0.106612</td>\n      <td>0.016676</td>\n      <td>0.104134</td>\n      <td>-0.023710</td>\n      <td>-0.051363</td>\n      <td>-0.040378</td>\n      <td>-0.062346</td>\n      <td>0.100750</td>\n    </tr>\n    <tr>\n      <th>Ori_Opt</th>\n      <td>-0.000807</td>\n      <td>0.791766</td>\n      <td>-0.024223</td>\n      <td>0.002490</td>\n      <td>0.007865</td>\n      <td>0.029762</td>\n      <td>0.019531</td>\n      <td>0.306250</td>\n    </tr>\n  </tbody>\n</table>\n</div>"
     },
     "execution_count": 110,
     "metadata": {},
     "output_type": "execute_result"
    }
   ],
   "source": [
    "# 피트니스 지표 간의 상관관계 분석 (가로줄에 _Opt 유지, 세로줄에서 _Opt 제거)\n",
    "correlation_matrix_with_opt = data.corr()\n",
    "\n",
    "# _Opt가 있는 컬럼과 다른 피트니스 지표 간의 상관관계를 추출\n",
    "opt_columns = ['Size_Opt', 'Adj_Opt', 'Ori_Opt']\n",
    "fitness_columns = ['Adjacency', 'Orientation', 'Size', 'Simplicity', 'Rectangularity', 'Regularity', 'PA Ratio', 'Weighted_Fitness']\n",
    "\n",
    "# _Opt 컬럼을 가로축에 유지하고 세로축에서 제외한 상관관계 추출\n",
    "filtered_correlation_matrix = correlation_matrix_with_opt.loc[opt_columns, fitness_columns]\n",
    "\n",
    "# 결과 출력\n",
    "print(\"Correlation Matrix (with _Opt in rows):\\n\", filtered_correlation_matrix)\n",
    "filtered_correlation_matrix"
   ],
   "metadata": {
    "collapsed": false,
    "ExecuteTime": {
     "end_time": "2024-09-06T10:44:54.803735200Z",
     "start_time": "2024-09-06T10:44:54.762194300Z"
    }
   },
   "id": "f0912b3725b3bce8"
  },
  {
   "cell_type": "code",
   "execution_count": 116,
   "outputs": [
    {
     "name": "stdout",
     "output_type": "stream",
     "text": [
      "Correlation Matrix (with Pearson correlation):\n",
      "          Adjacency Orientation      Size Simplicity Rectangularity Regularity  \\\n",
      "Size_Opt  0.093516   -0.056495  0.695878  -0.382456      -0.469031   0.031453   \n",
      "Adj_Opt   0.106612    0.016676  0.104134   -0.02371      -0.051363  -0.040378   \n",
      "Ori_Opt  -0.000807    0.791766 -0.024223    0.00249       0.007865   0.029762   \n",
      "\n",
      "          PA Ratio Weighted_Fitness  \n",
      "Size_Opt -0.408373         0.108845  \n",
      "Adj_Opt  -0.062346          0.10075  \n",
      "Ori_Opt   0.019531          0.30625  \n",
      "\n",
      "P-values for each correlation:\n",
      "          Adjacency Orientation      Size Simplicity Rectangularity Regularity  \\\n",
      "Size_Opt  0.000028    0.011505       0.0        0.0            0.0   0.159699   \n",
      "Adj_Opt   0.000002    0.456066  0.000003   0.289216       0.021613    0.07102   \n",
      "Ori_Opt   0.971222         0.0  0.278906   0.911375       0.725201   0.183367   \n",
      "\n",
      "          PA Ratio Weighted_Fitness  \n",
      "Size_Opt       0.0         0.000001  \n",
      "Adj_Opt   0.005284         0.000006  \n",
      "Ori_Opt   0.382672              0.0  \n",
      "\n",
      "Significant correlations (p-value < 0.05):\n",
      "           Adjacency  Orientation   Size  Simplicity  Rectangularity  \\\n",
      "Size_Opt       True         True   True        True            True   \n",
      "Adj_Opt        True        False   True       False            True   \n",
      "Ori_Opt       False         True  False       False           False   \n",
      "\n",
      "          Regularity  PA Ratio  Weighted_Fitness  \n",
      "Size_Opt       False      True              True  \n",
      "Adj_Opt        False      True              True  \n",
      "Ori_Opt        False     False              True  \n"
     ]
    },
    {
     "data": {
      "text/plain": "         Adjacency Orientation      Size Simplicity Rectangularity Regularity  \\\nSize_Opt  0.000028    0.011505       0.0        0.0            0.0   0.159699   \nAdj_Opt   0.000002    0.456066  0.000003   0.289216       0.021613    0.07102   \nOri_Opt   0.971222         0.0  0.278906   0.911375       0.725201   0.183367   \n\n          PA Ratio Weighted_Fitness  \nSize_Opt       0.0         0.000001  \nAdj_Opt   0.005284         0.000006  \nOri_Opt   0.382672              0.0  ",
      "text/html": "<div>\n<style scoped>\n    .dataframe tbody tr th:only-of-type {\n        vertical-align: middle;\n    }\n\n    .dataframe tbody tr th {\n        vertical-align: top;\n    }\n\n    .dataframe thead th {\n        text-align: right;\n    }\n</style>\n<table border=\"1\" class=\"dataframe\">\n  <thead>\n    <tr style=\"text-align: right;\">\n      <th></th>\n      <th>Adjacency</th>\n      <th>Orientation</th>\n      <th>Size</th>\n      <th>Simplicity</th>\n      <th>Rectangularity</th>\n      <th>Regularity</th>\n      <th>PA Ratio</th>\n      <th>Weighted_Fitness</th>\n    </tr>\n  </thead>\n  <tbody>\n    <tr>\n      <th>Size_Opt</th>\n      <td>0.000028</td>\n      <td>0.011505</td>\n      <td>0.0</td>\n      <td>0.0</td>\n      <td>0.0</td>\n      <td>0.159699</td>\n      <td>0.0</td>\n      <td>0.000001</td>\n    </tr>\n    <tr>\n      <th>Adj_Opt</th>\n      <td>0.000002</td>\n      <td>0.456066</td>\n      <td>0.000003</td>\n      <td>0.289216</td>\n      <td>0.021613</td>\n      <td>0.07102</td>\n      <td>0.005284</td>\n      <td>0.000006</td>\n    </tr>\n    <tr>\n      <th>Ori_Opt</th>\n      <td>0.971222</td>\n      <td>0.0</td>\n      <td>0.278906</td>\n      <td>0.911375</td>\n      <td>0.725201</td>\n      <td>0.183367</td>\n      <td>0.382672</td>\n      <td>0.0</td>\n    </tr>\n  </tbody>\n</table>\n</div>"
     },
     "execution_count": 116,
     "metadata": {},
     "output_type": "execute_result"
    }
   ],
   "source": [
    "import pandas as pd\n",
    "from scipy.stats import pearsonr\n",
    "\n",
    "# 상관관계와 p-value를 저장할 데이터프레임 생성\n",
    "correlation_results = pd.DataFrame(index=opt_columns, columns=fitness_columns)\n",
    "p_value_results = pd.DataFrame(index=opt_columns, columns=fitness_columns)\n",
    "\n",
    "# 각 _Opt와 피트니스 지표 간의 상관관계 및 p-value 계산\n",
    "for opt in opt_columns:\n",
    "    for fitness in fitness_columns:\n",
    "        corr, p_value = pearsonr(data[opt], data[fitness])\n",
    "        correlation_results.loc[opt, fitness] = corr\n",
    "        p_value_results.loc[opt, fitness] = p_value\n",
    "\n",
    "# 결과 출력\n",
    "print(\"Correlation Matrix (with Pearson correlation):\\n\", correlation_results)\n",
    "print(\"\\nP-values for each correlation:\\n\", p_value_results)\n",
    "\n",
    "# 유의미한 상관관계 확인 (p-value < 0.05)\n",
    "significant_correlations = p_value_results < 0.05\n",
    "print(\"\\nSignificant correlations (p-value < 0.05):\\n\", significant_correlations)\n",
    "p_value_results"
   ],
   "metadata": {
    "collapsed": false,
    "ExecuteTime": {
     "end_time": "2024-09-06T14:24:40.044190600Z",
     "start_time": "2024-09-06T14:24:39.974213Z"
    }
   },
   "id": "f92fd5e9d09bc2c0"
  },
  {
   "cell_type": "code",
   "execution_count": 112,
   "outputs": [
    {
     "name": "stdout",
     "output_type": "stream",
     "text": [
      "Grouped Statistics:\n",
      "                           Adjacency  Orientation      Size  Simplicity  \\\n",
      "Size_Opt Adj_Opt Ori_Opt                                                 \n",
      "0        0       0         0.427500     0.450000  0.689773    0.741031   \n",
      "                 1         0.437838     0.958108  0.692659    0.753009   \n",
      "         1       0         0.440000     0.501316  0.675011    0.759987   \n",
      "                 1         0.461000     0.957500  0.671629    0.747388   \n",
      "1        0       0         0.446957     0.436957  0.852443    0.691707   \n",
      "                 1         0.446667     0.929167  0.836020    0.689435   \n",
      "         1       0         0.519130     0.491304  0.861336    0.698368   \n",
      "                 1         0.492000     0.930000  0.867139    0.691711   \n",
      "\n",
      "                          Rectangularity  Regularity  PA Ratio  \\\n",
      "Size_Opt Adj_Opt Ori_Opt                                         \n",
      "0        0       0              0.879934    0.587630  0.815898   \n",
      "                 1              0.887085    0.614121  0.831468   \n",
      "         1       0              0.886677    0.600043  0.824159   \n",
      "                 1              0.880264    0.597712  0.821248   \n",
      "1        0       0              0.837579    0.612273  0.786956   \n",
      "                 1              0.835473    0.608160  0.779882   \n",
      "         1       0              0.842521    0.607117  0.788752   \n",
      "                 1              0.838355    0.598998  0.781979   \n",
      "\n",
      "                          Weighted_Fitness  \n",
      "Size_Opt Adj_Opt Ori_Opt                    \n",
      "0        0       0                0.399294  \n",
      "                 1                0.537780  \n",
      "         1       0                0.434250  \n",
      "                 1                0.558630  \n",
      "1        0       0                0.437580  \n",
      "                 1                0.567533  \n",
      "         1       0                0.495315  \n",
      "                 1                0.608961  \n"
     ]
    },
    {
     "data": {
      "text/plain": "                          Adjacency  Orientation      Size  Simplicity  \\\nSize_Opt Adj_Opt Ori_Opt                                                 \n0        0       0         0.427500     0.450000  0.689773    0.741031   \n                 1         0.437838     0.958108  0.692659    0.753009   \n         1       0         0.440000     0.501316  0.675011    0.759987   \n                 1         0.461000     0.957500  0.671629    0.747388   \n1        0       0         0.446957     0.436957  0.852443    0.691707   \n                 1         0.446667     0.929167  0.836020    0.689435   \n         1       0         0.519130     0.491304  0.861336    0.698368   \n                 1         0.492000     0.930000  0.867139    0.691711   \n\n                          Rectangularity  Regularity  PA Ratio  \\\nSize_Opt Adj_Opt Ori_Opt                                         \n0        0       0              0.879934    0.587630  0.815898   \n                 1              0.887085    0.614121  0.831468   \n         1       0              0.886677    0.600043  0.824159   \n                 1              0.880264    0.597712  0.821248   \n1        0       0              0.837579    0.612273  0.786956   \n                 1              0.835473    0.608160  0.779882   \n         1       0              0.842521    0.607117  0.788752   \n                 1              0.838355    0.598998  0.781979   \n\n                          Weighted_Fitness  \nSize_Opt Adj_Opt Ori_Opt                    \n0        0       0                0.399294  \n                 1                0.537780  \n         1       0                0.434250  \n                 1                0.558630  \n1        0       0                0.437580  \n                 1                0.567533  \n         1       0                0.495315  \n                 1                0.608961  ",
      "text/html": "<div>\n<style scoped>\n    .dataframe tbody tr th:only-of-type {\n        vertical-align: middle;\n    }\n\n    .dataframe tbody tr th {\n        vertical-align: top;\n    }\n\n    .dataframe thead th {\n        text-align: right;\n    }\n</style>\n<table border=\"1\" class=\"dataframe\">\n  <thead>\n    <tr style=\"text-align: right;\">\n      <th></th>\n      <th></th>\n      <th></th>\n      <th>Adjacency</th>\n      <th>Orientation</th>\n      <th>Size</th>\n      <th>Simplicity</th>\n      <th>Rectangularity</th>\n      <th>Regularity</th>\n      <th>PA Ratio</th>\n      <th>Weighted_Fitness</th>\n    </tr>\n    <tr>\n      <th>Size_Opt</th>\n      <th>Adj_Opt</th>\n      <th>Ori_Opt</th>\n      <th></th>\n      <th></th>\n      <th></th>\n      <th></th>\n      <th></th>\n      <th></th>\n      <th></th>\n      <th></th>\n    </tr>\n  </thead>\n  <tbody>\n    <tr>\n      <th rowspan=\"4\" valign=\"top\">0</th>\n      <th rowspan=\"2\" valign=\"top\">0</th>\n      <th>0</th>\n      <td>0.427500</td>\n      <td>0.450000</td>\n      <td>0.689773</td>\n      <td>0.741031</td>\n      <td>0.879934</td>\n      <td>0.587630</td>\n      <td>0.815898</td>\n      <td>0.399294</td>\n    </tr>\n    <tr>\n      <th>1</th>\n      <td>0.437838</td>\n      <td>0.958108</td>\n      <td>0.692659</td>\n      <td>0.753009</td>\n      <td>0.887085</td>\n      <td>0.614121</td>\n      <td>0.831468</td>\n      <td>0.537780</td>\n    </tr>\n    <tr>\n      <th rowspan=\"2\" valign=\"top\">1</th>\n      <th>0</th>\n      <td>0.440000</td>\n      <td>0.501316</td>\n      <td>0.675011</td>\n      <td>0.759987</td>\n      <td>0.886677</td>\n      <td>0.600043</td>\n      <td>0.824159</td>\n      <td>0.434250</td>\n    </tr>\n    <tr>\n      <th>1</th>\n      <td>0.461000</td>\n      <td>0.957500</td>\n      <td>0.671629</td>\n      <td>0.747388</td>\n      <td>0.880264</td>\n      <td>0.597712</td>\n      <td>0.821248</td>\n      <td>0.558630</td>\n    </tr>\n    <tr>\n      <th rowspan=\"4\" valign=\"top\">1</th>\n      <th rowspan=\"2\" valign=\"top\">0</th>\n      <th>0</th>\n      <td>0.446957</td>\n      <td>0.436957</td>\n      <td>0.852443</td>\n      <td>0.691707</td>\n      <td>0.837579</td>\n      <td>0.612273</td>\n      <td>0.786956</td>\n      <td>0.437580</td>\n    </tr>\n    <tr>\n      <th>1</th>\n      <td>0.446667</td>\n      <td>0.929167</td>\n      <td>0.836020</td>\n      <td>0.689435</td>\n      <td>0.835473</td>\n      <td>0.608160</td>\n      <td>0.779882</td>\n      <td>0.567533</td>\n    </tr>\n    <tr>\n      <th rowspan=\"2\" valign=\"top\">1</th>\n      <th>0</th>\n      <td>0.519130</td>\n      <td>0.491304</td>\n      <td>0.861336</td>\n      <td>0.698368</td>\n      <td>0.842521</td>\n      <td>0.607117</td>\n      <td>0.788752</td>\n      <td>0.495315</td>\n    </tr>\n    <tr>\n      <th>1</th>\n      <td>0.492000</td>\n      <td>0.930000</td>\n      <td>0.867139</td>\n      <td>0.691711</td>\n      <td>0.838355</td>\n      <td>0.598998</td>\n      <td>0.781979</td>\n      <td>0.608961</td>\n    </tr>\n  </tbody>\n</table>\n</div>"
     },
     "execution_count": 112,
     "metadata": {},
     "output_type": "execute_result"
    }
   ],
   "source": [
    "# 제약 조건에 따른 그룹별 통계\n",
    "grouped_stats = data.groupby(['Size_Opt', 'Adj_Opt', 'Ori_Opt']).mean()\n",
    "\n",
    "# 출력\n",
    "print(\"Grouped Statistics:\\n\", grouped_stats)\n",
    "grouped_stats"
   ],
   "metadata": {
    "collapsed": false,
    "ExecuteTime": {
     "end_time": "2024-09-06T10:46:52.490280700Z",
     "start_time": "2024-09-06T10:46:52.418733100Z"
    }
   },
   "id": "35fc1efb33d6331"
  },
  {
   "cell_type": "code",
   "execution_count": 80,
   "outputs": [
    {
     "data": {
      "text/plain": "<Figure size 640x480 with 1 Axes>",
      "image/png": "[encoded data removed]"
     },
     "metadata": {},
     "output_type": "display_data"
    }
   ],
   "source": [
    "import matplotlib.pyplot as plt\n",
    "\n",
    "# Weighted Fitness 히스토그램\n",
    "data['Weighted_Fitness'].hist(bins=20)\n",
    "plt.title('Distribution of Weighted Fitness')\n",
    "plt.xlabel('Weighted Fitness')\n",
    "plt.ylabel('Frequency')\n",
    "plt.show()"
   ],
   "metadata": {
    "collapsed": false,
    "ExecuteTime": {
     "end_time": "2024-09-06T02:50:52.475316300Z",
     "start_time": "2024-09-06T02:50:52.203058800Z"
    }
   },
   "id": "4dbf1c1a7cd3a148"
  },
  {
   "cell_type": "markdown",
   "source": [
    "# Size_opt 값에 따라 데이터를 0과 1인 두 그룹으로 나누고, 각각의 통계를 비교하는 방법\n",
    "\n",
    "1. Size_opt 값에 따른 데이터 분할\n",
    "먼저 Size_opt 값이 0인 그룹과 1인 그룹으로 데이터를 나누고 각각에 대해 통계를 구할 수 있습니다."
   ],
   "metadata": {
    "collapsed": false
   },
   "id": "63d5bdd2b2c32ed6"
  },
  {
   "cell_type": "code",
   "execution_count": 95,
   "outputs": [
    {
     "name": "stdout",
     "output_type": "stream",
     "text": [
      "Statistics for Size_Opt = 0:\n",
      "        Size_Opt        Size\n",
      "count     100.0  100.000000\n",
      "mean        0.0    0.696681\n",
      "std         0.0    0.093474\n",
      "min         0.0    0.437923\n",
      "25%         0.0    0.642750\n",
      "50%         0.0    0.689061\n",
      "75%         0.0    0.760189\n",
      "max         0.0    0.908333\n",
      "\n",
      "Statistics for Size_Opt = 1:\n",
      "        Size_Opt        Size\n",
      "count     100.0  100.000000\n",
      "mean        1.0    0.794063\n",
      "std         0.0    0.099057\n",
      "min         1.0    0.519444\n",
      "25%         1.0    0.732377\n",
      "50%         1.0    0.805797\n",
      "75%         1.0    0.870448\n",
      "max         1.0    0.961111\n",
      "\n",
      "Statistics for Adj_Opt = 0:\n",
      "        Adj_Opt  Adjacency\n",
      "count     80.0  80.000000\n",
      "mean       0.0   0.422500\n",
      "std        0.0   0.215815\n",
      "min        0.0   0.000000\n",
      "25%        0.0   0.200000\n",
      "50%        0.0   0.400000\n",
      "75%        0.0   0.600000\n",
      "max        0.0   0.800000\n",
      "\n",
      "Statistics for Adj_Opt = 1:\n",
      "        Adj_Opt   Adjacency\n",
      "count    120.0  120.000000\n",
      "mean       1.0    0.430000\n",
      "std        0.0    0.211676\n",
      "min        1.0    0.000000\n",
      "25%        1.0    0.400000\n",
      "50%        1.0    0.400000\n",
      "75%        1.0    0.600000\n",
      "max        1.0    1.000000\n",
      "\n",
      "Statistics for Ori_Opt = 0:\n",
      "        Ori_Opt  Orientation\n",
      "count     85.0    85.000000\n",
      "mean       0.0     0.529412\n",
      "std        0.0     0.226292\n",
      "min        0.0     0.000000\n",
      "25%        0.0     0.500000\n",
      "50%        0.0     0.500000\n",
      "75%        0.0     0.750000\n",
      "max        0.0     1.000000\n",
      "\n",
      "Statistics for Ori_Opt = 1:\n",
      "        Ori_Opt  Orientation\n",
      "count    115.0   115.000000\n",
      "mean       1.0     0.963043\n",
      "std        0.0     0.089120\n",
      "min        1.0     0.750000\n",
      "25%        1.0     1.000000\n",
      "50%        1.0     1.000000\n",
      "75%        1.0     1.000000\n",
      "max        1.0     1.000000\n"
     ]
    }
   ],
   "source": [
    "# Size_Opt에 따라 관련된 Size 컬럼만 통계 출력\n",
    "stats_size_opt_0 = size_opt_0[['Size_Opt', 'Size']].describe()\n",
    "stats_size_opt_1 = size_opt_1[['Size_Opt', 'Size']].describe()\n",
    "\n",
    "# Adj_Opt에 따라 관련된 Adjacency 컬럼만 통계 출력\n",
    "stats_adj_opt_0 = adj_opt_0[['Adj_Opt', 'Adjacency']].describe()\n",
    "stats_adj_opt_1 = adj_opt_1[['Adj_Opt', 'Adjacency']].describe()\n",
    "\n",
    "# Ori_Opt에 따라 관련된 Orientation 컬럼만 통계 출력\n",
    "stats_ori_opt_0 = ori_opt_0[['Ori_Opt', 'Orientation']].describe()\n",
    "stats_ori_opt_1 = ori_opt_1[['Ori_Opt', 'Orientation']].describe()\n",
    "\n",
    "# 결과 출력\n",
    "print(\"Statistics for Size_Opt = 0:\\n\", stats_size_opt_0)\n",
    "print(\"\\nStatistics for Size_Opt = 1:\\n\", stats_size_opt_1)\n",
    "\n",
    "print(\"\\nStatistics for Adj_Opt = 0:\\n\", stats_adj_opt_0)\n",
    "print(\"\\nStatistics for Adj_Opt = 1:\\n\", stats_adj_opt_1)\n",
    "\n",
    "print(\"\\nStatistics for Ori_Opt = 0:\\n\", stats_ori_opt_0)\n",
    "print(\"\\nStatistics for Ori_Opt = 1:\\n\", stats_ori_opt_1)\n"
   ],
   "metadata": {
    "collapsed": false,
    "ExecuteTime": {
     "end_time": "2024-09-06T03:46:09.387997700Z",
     "start_time": "2024-09-06T03:46:09.339180700Z"
    }
   },
   "id": "95e706da8260e08f"
  },
  {
   "cell_type": "markdown",
   "source": [
    "### 5.8. 최적화 적용 여부에 따른 피트니스 비교 분석\n",
    "\n",
    "이 섹션에서는 각 최적화 조건인 **Size_Opt**, **Adj_Opt**, **Ori_Opt**가 활성화된 경우와 비활성화된 경우의 피트니스 값의 차이를 비교 분석한다. 각 조건이 적용되었을 때 관련 피트니스 지표에 미치는 영향을 독립적으로 살펴본다.\n",
    "\n",
    "#### 5.8.1. **Size_Opt** 적용 여부에 따른 **Size** 피트니스 비교\n",
    "\n",
    "- **Size_Opt = 1** (활성화된 경우):\n",
    "  - **Size** 평균: 0.794063\n",
    "  - **Size** 표준편차: 0.099057\n",
    "  - **Size** 최소값: 0.519444\n",
    "  - **Size** 최대값: 0.961111\n",
    "  - **Size** 중위수(50%): 0.805797\n",
    "\n",
    "- **Size_Opt = 0** (비활성화된 경우):\n",
    "  - **Size** 평균: 0.696681\n",
    "  - **Size** 표준편차: 0.093474\n",
    "  - **Size** 최소값: 0.437923\n",
    "  - **Size** 최대값: 0.908333\n",
    "  - **Size** 중위수(50%): 0.689061\n",
    "\n",
    "**분석:**\n",
    "**Size_Opt**가 활성화된 경우, **Size** 피트니스가 평균 0.794063으로 비활성화된 경우의 평균 0.696681보다 약 0.1 정도 높아졌다. 이는 면적 최적화가 적용될 경우, 방의 면적 적합도가 더 높은 수준으로 유지됨을 의미한다. 표준편차는 두 그룹 간 큰 차이는 없으나, 최댓값과 중위수를 고려할 때, **Size_Opt**가 활성화된 그룹이 면적 적합성에서 더 일관되고 높은 성능을 보임을 알 수 있다.\n",
    "\n",
    "#### 5.8.2. **Adj_Opt** 적용 여부에 따른 **Adjacency** 피트니스 비교\n",
    "\n",
    "- **Adj_Opt = 1** (활성화된 경우):\n",
    "  - **Adjacency** 평균: 0.430000\n",
    "  - **Adjacency** 표준편차: 0.211676\n",
    "  - **Adjacency** 최소값: 0.000000\n",
    "  - **Adjacency** 최대값: 1.000000\n",
    "  - **Adjacency** 중위수(50%): 0.400000\n",
    "\n",
    "- **Adj_Opt = 0** (비활성화된 경우):\n",
    "  - **Adjacency** 평균: 0.422500\n",
    "  - **Adjacency** 표준편차: 0.215815\n",
    "  - **Adjacency** 최소값: 0.000000\n",
    "  - **Adjacency** 최대값: 0.800000\n",
    "  - **Adjacency** 중위수(50%): 0.400000\n",
    "\n",
    "**분석:**\n",
    "**Adj_Opt**가 활성화된 경우와 비활성화된 경우의 **Adjacency** 평균값은 각각 0.430000과 0.422500으로 큰 차이가 없다. 이는 인접성 최적화가 활성화되더라도 전체적으로 **Adjacency** 피트니스에는 큰 영향을 미치지 않음을 보여준다. 표준편차와 중위수도 비슷한 수준을 유지하고 있어, 인접성 최적화는 다른 피트니스 지표에 비해 그 효과가 제한적인 것으로 보인다.\n",
    "\n",
    "#### 5.8.3. **Ori_Opt** 적용 여부에 따른 **Orientation** 피트니스 비교\n",
    "\n",
    "- **Ori_Opt = 1** (활성화된 경우):\n",
    "  - **Orientation** 평균: 0.963043\n",
    "  - **Orientation** 표준편차: 0.089120\n",
    "  - **Orientation** 최소값: 0.750000\n",
    "  - **Orientation** 최대값: 1.000000\n",
    "  - **Orientation** 중위수(50%): 1.000000\n",
    "\n",
    "- **Ori_Opt = 0** (비활성화된 경우):\n",
    "  - **Orientation** 평균: 0.529412\n",
    "  - **Orientation** 표준편차: 0.226292\n",
    "  - **Orientation** 최소값: 0.000000\n",
    "  - **Orientation** 최대값: 1.000000\n",
    "  - **Orientation** 중위수(50%): 0.500000\n",
    "\n",
    "**분석:**\n",
    "**Ori_Opt**가 활성화된 경우, **Orientation** 피트니스는 평균 0.963043으로 비활성화된 경우의 0.529412에 비해 크게 증가하였다. 이는 방향성 최적화가 적용될 때, 방의 방향 적합도가 크게 향상됨을 의미하며, 최적화된 경우 중위수와 최대값 모두 1.000000으로 완벽한 적합성을 달성할 수 있음을 보여준다. 반면, **Ori_Opt**가 비활성화된 경우 방향성 적합성은 평균 0.529412로 낮은 값을 기록하며, 표준편차가 더 커 변동폭이 크게 나타난다.\n",
    "\n",
    "#### 5.8.4. 요약\n",
    "\n",
    "각 최적화 조건이 활성화된 경우, 관련된 피트니스 지표에서 유의미한 차이를 보였다. 특히 **Size_Opt**와 **Ori_Opt**는 활성화 여부에 따라 각각 **Size** 및 **Orientation** 피트니스에서 상당한 개선을 보였다. 반면, **Adj_Opt**는 활성화되었을 때와 비활성화된 경우 **Adjacency** 피트니스에 큰 차이를 보이지 않았으며, 인접성 최적화의 효과는 상대적으로 미미한 것으로 나타났다."
   ],
   "metadata": {
    "collapsed": false
   },
   "id": "5fcab029491c60b1"
  },
  {
   "cell_type": "markdown",
   "source": [
    "#  boxplot / histogram을 통한 데이터 시각화"
   ],
   "metadata": {
    "collapsed": false
   },
   "id": "345c6d6e82b740c6"
  },
  {
   "cell_type": "code",
   "execution_count": 52,
   "outputs": [
    {
     "data": {
      "text/plain": "<Figure size 1000x600 with 0 Axes>"
     },
     "metadata": {},
     "output_type": "display_data"
    },
    {
     "data": {
      "text/plain": "<Figure size 640x480 with 1 Axes>",
      "image/png": "[encoded data removed]"
     },
     "metadata": {},
     "output_type": "display_data"
    }
   ],
   "source": [
    "import matplotlib.pyplot as plt\n",
    "\n",
    "# Weighted Fitness의 boxplot으로 두 그룹을 비교\n",
    "plt.figure(figsize=(10, 6))\n",
    "data.boxplot(column='Weighted_Fitness', by='Size_Opt')\n",
    "plt.title('Weighted Fitness Comparison by Size_Opt')\n",
    "plt.suptitle('')\n",
    "plt.xlabel('Size_Opt')\n",
    "plt.ylabel('Size')\n",
    "plt.show()\n"
   ],
   "metadata": {
    "collapsed": false,
    "ExecuteTime": {
     "end_time": "2024-09-05T10:59:50.161547900Z",
     "start_time": "2024-09-05T10:59:49.959635500Z"
    }
   },
   "id": "5cd1f37626ea3a3"
  },
  {
   "cell_type": "markdown",
   "source": [
    "# 다른 opt가 모두 0이고 지정 opt의 값만 변할 때, 다른 변인은 모두 통제한 상태에서 하나의 변인만을 관찰하\n",
    "각 Opt 값이 1이고 나머지는 모두 0인 경우의 관련 피트니스 지표를 비교하는 방법을 설명드리겠습니다. 예를 들어, Size_Opt가 1이고 다른 Opt 값이 모두 0인 경우와, Size_Opt가 0이고 다른 Opt 값도 모두 0인 경우의 Size 관련 피트니스 지표를 비교합니다. 이를 다른 Opt 값들(Adj_Opt, Ori_Opt)에도 적용합니다."
   ],
   "metadata": {
    "collapsed": false
   },
   "id": "3f7ed83c734da46b"
  },
  {
   "cell_type": "code",
   "execution_count": 109,
   "outputs": [
    {
     "name": "stdout",
     "output_type": "stream",
     "text": [
      "Size_Opt = 1, Adj_Opt = 0, Ori_Opt = 0:\n",
      "              Size\n",
      "count  230.000000\n",
      "mean     0.852443\n",
      "std      0.078989\n",
      "min      0.563131\n",
      "25%      0.802517\n",
      "50%      0.858333\n",
      "75%      0.916667\n",
      "max      1.000000\n",
      "\n",
      "Size_Opt = 0, Adj_Opt = 0, Ori_Opt = 0:\n",
      "              Size\n",
      "count  240.000000\n",
      "mean     0.689773\n",
      "std      0.087666\n",
      "min      0.444643\n",
      "25%      0.631729\n",
      "50%      0.688654\n",
      "75%      0.749942\n",
      "max      0.893590\n",
      "\n",
      "Adj_Opt = 1, Size_Opt = 0, Ori_Opt = 0:\n",
      "         Adjacency\n",
      "count  190.000000\n",
      "mean     0.440000\n",
      "std      0.189904\n",
      "min      0.000000\n",
      "25%      0.400000\n",
      "50%      0.400000\n",
      "75%      0.600000\n",
      "max      0.800000\n",
      "\n",
      "Adj_Opt = 0, Size_Opt = 0, Ori_Opt = 0:\n",
      "         Adjacency\n",
      "count  240.000000\n",
      "mean     0.427500\n",
      "std      0.181331\n",
      "min      0.000000\n",
      "25%      0.400000\n",
      "50%      0.400000\n",
      "75%      0.600000\n",
      "max      0.800000\n",
      "\n",
      "Ori_Opt = 1, Size_Opt = 0, Adj_Opt = 0:\n",
      "        Orientation\n",
      "count   370.000000\n",
      "mean      0.958108\n",
      "std       0.093497\n",
      "min       0.750000\n",
      "25%       1.000000\n",
      "50%       1.000000\n",
      "75%       1.000000\n",
      "max       1.000000\n",
      "\n",
      "Ori_Opt = 0, Size_Opt = 0, Adj_Opt = 0:\n",
      "        Orientation\n",
      "count   240.000000\n",
      "mean      0.450000\n",
      "std       0.235678\n",
      "min       0.000000\n",
      "25%       0.250000\n",
      "50%       0.500000\n",
      "75%       0.500000\n",
      "max       1.000000\n"
     ]
    }
   ],
   "source": [
    "# Size_Opt = 1이고 다른 Opt들은 0일 때의 데이터 필터링\n",
    "size_opt_1_only = data[(data['Size_Opt'] == 1) & (data['Adj_Opt'] == 0) & (data['Ori_Opt'] == 0)]\n",
    "\n",
    "# Size_Opt = 0이고 다른 Opt들도 0일 때의 데이터 필터링\n",
    "size_opt_0_only = data[(data['Size_Opt'] == 0) & (data['Adj_Opt'] == 0) & (data['Ori_Opt'] == 0)]\n",
    "\n",
    "# 두 그룹의 Size 관련 피트니스 지표 통계 계산\n",
    "size_fitness_1 = size_opt_1_only[['Size']].describe()\n",
    "size_fitness_0 = size_opt_0_only[['Size']].describe()\n",
    "\n",
    "# 결과 출력\n",
    "print(\"Size_Opt = 1, Adj_Opt = 0, Ori_Opt = 0:\\n\", size_fitness_1)\n",
    "print(\"\\nSize_Opt = 0, Adj_Opt = 0, Ori_Opt = 0:\\n\", size_fitness_0)\n",
    "\n",
    "# Adjacency 관련 지표도 같은 방식으로 진행\n",
    "adj_opt_1_only = data[(data['Adj_Opt'] == 1) & (data['Size_Opt'] == 0) & (data['Ori_Opt'] == 0)]\n",
    "adj_opt_0_only = data[(data['Adj_Opt'] == 0) & (data['Size_Opt'] == 0) & (data['Ori_Opt'] == 0)]\n",
    "\n",
    "# 두 그룹의 Adjacency 관련 피트니스 지표 통계 계산\n",
    "adj_fitness_1 = adj_opt_1_only[['Adjacency']].describe()\n",
    "adj_fitness_0 = adj_opt_0_only[['Adjacency']].describe()\n",
    "\n",
    "print(\"\\nAdj_Opt = 1, Size_Opt = 0, Ori_Opt = 0:\\n\", adj_fitness_1)\n",
    "print(\"\\nAdj_Opt = 0, Size_Opt = 0, Ori_Opt = 0:\\n\", adj_fitness_0)\n",
    "\n",
    "# Orientation 관련 지표도 같은 방식으로 진행\n",
    "ori_opt_1_only = data[(data['Ori_Opt'] == 1) & (data['Size_Opt'] == 0) & (data['Adj_Opt'] == 0)]\n",
    "ori_opt_0_only = data[(data['Ori_Opt'] == 0) & (data['Size_Opt'] == 0) & (data['Adj_Opt'] == 0)]\n",
    "\n",
    "# 두 그룹의 Orientation 관련 피트니스 지표 통계 계산\n",
    "ori_fitness_1 = ori_opt_1_only[['Orientation']].describe()\n",
    "ori_fitness_0 = ori_opt_0_only[['Orientation']].describe()\n",
    "\n",
    "print(\"\\nOri_Opt = 1, Size_Opt = 0, Adj_Opt = 0:\\n\", ori_fitness_1)\n",
    "print(\"\\nOri_Opt = 0, Size_Opt = 0, Adj_Opt = 0:\\n\", ori_fitness_0)\n"
   ],
   "metadata": {
    "collapsed": false,
    "ExecuteTime": {
     "end_time": "2024-09-06T10:43:11.113336800Z",
     "start_time": "2024-09-06T10:43:11.076121500Z"
    }
   },
   "id": "15de9b916ff79bb7"
  },
  {
   "cell_type": "markdown",
   "source": [
    "### 5.7. 최적화 조건이 활성화된 경우와 비활성화된 경우의 비교 분석\n",
    "\n",
    "이 섹션에서는 각 최적화 조건(**Size_Opt**, **Adj_Opt**, **Ori_Opt**)이 활성화된 경우와 비활성화된 경우를 비교하여 그 효과를 분석한다. 최적화 조건의 활성화 여부에 따라 관련 피트니스 지표에 어떠한 영향을 미치는지 구체적으로 설명한다.\n",
    "\n",
    "#### 5.7.1. **Size_Opt**의 활성화 여부에 따른 **Size** 적합성 비교\n",
    "\n",
    "- **Size_Opt = 1** (활성화된 경우):\n",
    "  - **Size** 평균: 0.852443\n",
    "  - **Size** 표준편차: 0.078989\n",
    "  - **Size** 최소값: 0.563131\n",
    "  - **Size** 최대값: 1.000000\n",
    "\n",
    "- **Size_Opt = 0** (비활성화된 경우):\n",
    "  - **Size** 평균: 0.689773\n",
    "  - **Size** 표준편차: 0.087666\n",
    "  - **Size** 최소값: 0.444643\n",
    "  - **Size** 최대값: 0.893590\n",
    "\n",
    "**분석:**\n",
    "**Size_Opt**가 활성화된 경우 **Size** 적합성은 평균 0.852443으로, 비활성화된 경우의 평균 0.689773보다 크게 개선되었다. 이는 면적 최적화가 활성화되었을 때 면적 적합성이 크게 향상됨을 보여준다. 또한, 표준편차가 0.078989로, 값의 변동폭이 비교적 안정적이며, 최대값 역시 1.000000으로 완벽한 적합성을 달성할 수 있음을 나타낸다. 반면, **Size_Opt**가 비활성화된 경우 적합성 값은 더 낮고 변동폭도 크다.\n",
    "\n",
    "#### 5.7.2. **Adj_Opt**의 활성화 여부에 따른 **Adjacency** 적합성 비교\n",
    "\n",
    "- **Adj_Opt = 1** (활성화된 경우):\n",
    "  - **Adjacency** 평균: 0.440000\n",
    "  - **Adjacency** 표준편차: 0.189904\n",
    "  - **Adjacency** 최소값: 0.000000\n",
    "  - **Adjacency** 최대값: 0.800000\n",
    "\n",
    "- **Adj_Opt = 0** (비활성화된 경우):\n",
    "  - **Adjacency** 평균: 0.427500\n",
    "  - **Adjacency** 표준편차: 0.181331\n",
    "  - **Adjacency** 최소값: 0.000000\n",
    "  - **Adjacency** 최대값: 0.800000\n",
    "\n",
    "**분석:**\n",
    "**Adj_Opt**가 활성화된 경우, **Adjacency** 적합성의 평균값은 0.440000으로 비활성화된 경우의 0.427500에 비해 약간 높았다. 그러나 두 경우 모두 큰 차이를 보이지 않았으며, 인접성 적합성의 최대값(0.800000)과 최소값(0.000000)도 동일했다. 이는 **Adj_Opt**의 효과가 상대적으로 제한적이며, 인접성 최적화가 전체 피트니스에 미치는 영향이 크지 않다는 점을 시사한다.\n",
    "\n",
    "#### 5.7.3. **Ori_Opt**의 활성화 여부에 따른 **Orientation** 적합성 비교\n",
    "\n",
    "- **Ori_Opt = 1** (활성화된 경우):\n",
    "  - **Orientation** 평균: 0.958108\n",
    "  - **Orientation** 표준편차: 0.093497\n",
    "  - **Orientation** 최소값: 0.750000\n",
    "  - **Orientation** 최대값: 1.000000\n",
    "\n",
    "- **Ori_Opt = 0** (비활성화된 경우):\n",
    "  - **Orientation** 평균: 0.450000\n",
    "  - **Orientation** 표준편차: 0.235678\n",
    "  - **Orientation** 최소값: 0.000000\n",
    "  - **Orientation** 최대값: 1.000000\n",
    "\n",
    "**분석:**\n",
    "**Ori_Opt**가 활성화된 경우 **Orientation** 적합성의 평균값은 0.958108로, 매우 높은 수준의 적합성을 달성하였다. 표준편차가 0.093497로 상대적으로 낮으며, 대부분의 사례에서 높은 적합성을 보인다. 반면, **Ori_Opt**가 비활성화된 경우 **Orientation** 평균값은 0.450000에 불과하고, 표준편차가 0.235678로 값의 변동폭도 컸다. 이는 **Ori_Opt**가 활성화되었을 때 방향성 적합성이 크게 개선됨을 의미한다.\n",
    "\n",
    "#### 5.7.4. 요약\n",
    "\n",
    "각 최적화 조건이 활성화된 경우, 관련 피트니스 지표의 적합성이 크게 향상되는 경향을 보였다. 특히 **Size_Opt**와 **Ori_Opt**는 각각 면적 및 방향성 적합성에 큰 영향을 미쳤으며, 해당 지표에서 높은 적합성을 기록하였다. 반면 **Adj_Opt**는 활성화 여부에 따른 **Adjacency** 적합성의 차이가 크지 않으며, 인접성 최적화가 다른 최적화 조건에 비해 효과가 제한적임을 보여준다."
   ],
   "metadata": {
    "collapsed": false
   },
   "id": "80c53fbc96b7425d"
  },
  {
   "cell_type": "code",
   "execution_count": 107,
   "outputs": [
    {
     "name": "stdout",
     "output_type": "stream",
     "text": [
      "Correlation matrix for Size_Opt (Size_Opt vs Size) with Adj_Opt = 0 and Ori_Opt = 0:\n",
      "           Size_Opt      Size\n",
      "Size_Opt  1.000000  0.698302\n",
      "Size      0.698302  1.000000\n",
      "\n",
      "Correlation matrix for Adj_Opt (Adj_Opt vs Adjacency) with Size_Opt = 0 and Ori_Opt = 0:\n",
      "             Adj_Opt  Adjacency\n",
      "Adj_Opt    1.000000   0.033584\n",
      "Adjacency  0.033584   1.000000\n",
      "\n",
      "Correlation matrix for Ori_Opt (Ori_Opt vs Orientation) with Size_Opt = 0 and Adj_Opt = 0:\n",
      "               Ori_Opt  Orientation\n",
      "Ori_Opt      1.000000     0.833611\n",
      "Orientation  0.833611     1.000000\n"
     ]
    }
   ],
   "source": [
    "# Size_Opt가 1 또는 0이고, 다른 Opt (Adj_Opt, Ori_Opt)가 모두 0일 때의 Size와 Size_Opt 상관관계\n",
    "size_opt_condition = data[(data['Adj_Opt'] == 0) & (data['Ori_Opt'] == 0)]\n",
    "corr_size_opt = size_opt_condition[['Size_Opt', 'Size']].corr()\n",
    "\n",
    "# Adj_Opt가 1 또는 0이고, 다른 Opt (Size_Opt, Ori_Opt)가 모두 0일 때의 Adjacency와 Adj_Opt 상관관계\n",
    "adj_opt_condition = data[(data['Size_Opt'] == 0) & (data['Ori_Opt'] == 0)]\n",
    "corr_adj_opt = adj_opt_condition[['Adj_Opt', 'Adjacency']].corr()\n",
    "\n",
    "# Ori_Opt가 1 또는 0이고, 다른 Opt (Size_Opt, Adj_Opt)가 모두 0일 때의 Orientation과 Ori_Opt 상관관계\n",
    "ori_opt_condition = data[(data['Size_Opt'] == 0) & (data['Adj_Opt'] == 0)]\n",
    "corr_ori_opt = ori_opt_condition[['Ori_Opt', 'Orientation']].corr()\n",
    "\n",
    "# 결과 출력\n",
    "print(\"Correlation matrix for Size_Opt (Size_Opt vs Size) with Adj_Opt = 0 and Ori_Opt = 0:\\n\", corr_size_opt)\n",
    "print(\"\\nCorrelation matrix for Adj_Opt (Adj_Opt vs Adjacency) with Size_Opt = 0 and Ori_Opt = 0:\\n\", corr_adj_opt)\n",
    "print(\"\\nCorrelation matrix for Ori_Opt (Ori_Opt vs Orientation) with Size_Opt = 0 and Adj_Opt = 0:\\n\", corr_ori_opt)\n"
   ],
   "metadata": {
    "collapsed": false,
    "ExecuteTime": {
     "end_time": "2024-09-06T10:11:58.528860400Z",
     "start_time": "2024-09-06T10:11:58.408642700Z"
    }
   },
   "id": "62f076e8b8480d5"
  },
  {
   "cell_type": "markdown",
   "source": [
    "\n",
    "\n",
    "# 세가지 optimization의 조합의 통계\n",
    "Size_Opt, Adj_Opt, Ori_Opt의 세 가지 조합을 기준으로 데이터를 그룹화하여 통계를 내는 코드를 작성해 드리겠습니다. 이 통계는 각 조합에 해당하는 그룹에 대해 평균, 표준편차 등의 통계량을 계산하는 방식입니다.\n"
   ],
   "metadata": {
    "collapsed": false
   },
   "id": "fb6c8820f5953a7e"
  },
  {
   "cell_type": "code",
   "execution_count": 108,
   "outputs": [
    {
     "data": {
      "text/plain": "                         Adjacency                           Orientation  \\\n                              mean       std  min  max count        mean   \nSize_Opt Adj_Opt Ori_Opt                                                   \n0        0       0        0.427500  0.181331  0.0  0.8   240    0.450000   \n                 1        0.437838  0.194993  0.0  1.0   370    0.958108   \n         1       0        0.440000  0.189904  0.0  0.8   190    0.501316   \n                 1        0.461000  0.181781  0.0  1.0   200    0.957500   \n1        0       0        0.446957  0.202742  0.0  1.0   230    0.436957   \n                 1        0.446667  0.191420  0.0  1.0   240    0.929167   \n         1       0        0.519130  0.202774  0.0  1.0   230    0.491304   \n                 1        0.492000  0.200508  0.0  0.8   300    0.930000   \n\n                                                     ...  PA Ratio            \\\n                               std   min  max count  ...      mean       std   \nSize_Opt Adj_Opt Ori_Opt                             ...                       \n0        0       0        0.235678  0.00  1.0   240  ...  0.815898  0.043855   \n                 1        0.093497  0.75  1.0   370  ...  0.831468  0.043257   \n         1       0        0.253934  0.00  1.0   190  ...  0.824159  0.041538   \n                 1        0.097423  0.50  1.0   200  ...  0.821248  0.045599   \n1        0       0        0.237903  0.00  1.0   230  ...  0.786956  0.045956   \n                 1        0.126024  0.50  1.0   240  ...  0.779882  0.047457   \n         1       0        0.240384  0.00  1.0   230  ...  0.788752  0.046297   \n                 1        0.131304  0.50  1.0   300  ...  0.781979  0.043592   \n\n                                                   Weighted_Fitness            \\\n                               min       max count             mean       std   \nSize_Opt Adj_Opt Ori_Opt                                                        \n0        0       0        0.685778  0.936998   240         0.399294  0.189618   \n                 1        0.640837  0.953457   370         0.537780  0.184855   \n         1       0        0.705362  0.927316   190         0.434250  0.197985   \n                 1        0.672297  0.966118   200         0.558630  0.146937   \n1        0       0        0.640087  0.903891   230         0.437580  0.222254   \n                 1        0.626104  0.916210   240         0.567533  0.184779   \n         1       0        0.609405  0.901456   230         0.495315  0.205220   \n                 1        0.653908  0.890278   300         0.608961  0.195883   \n\n                                                        \n                                   min       max count  \nSize_Opt Adj_Opt Ori_Opt                                \n0        0       0        1.333333e-09  0.718075   240  \n                 1        2.000000e-09  0.923977   370  \n         1       0        2.000000e-09  0.832906   190  \n                 1        2.000000e-09  0.947246   200  \n1        0       0        2.000000e-09  0.984654   230  \n                 1        2.000000e-09  0.978208   240  \n         1       0        2.000000e-09  0.847246   230  \n                 1        2.000000e-09  0.888889   300  \n\n[8 rows x 40 columns]",
      "text/html": "<div>\n<style scoped>\n    .dataframe tbody tr th:only-of-type {\n        vertical-align: middle;\n    }\n\n    .dataframe tbody tr th {\n        vertical-align: top;\n    }\n\n    .dataframe thead tr th {\n        text-align: left;\n    }\n\n    .dataframe thead tr:last-of-type th {\n        text-align: right;\n    }\n</style>\n<table border=\"1\" class=\"dataframe\">\n  <thead>\n    <tr>\n      <th></th>\n      <th></th>\n      <th></th>\n      <th colspan=\"5\" halign=\"left\">Adjacency</th>\n      <th colspan=\"5\" halign=\"left\">Orientation</th>\n      <th>...</th>\n      <th colspan=\"5\" halign=\"left\">PA Ratio</th>\n      <th colspan=\"5\" halign=\"left\">Weighted_Fitness</th>\n    </tr>\n    <tr>\n      <th></th>\n      <th></th>\n      <th></th>\n      <th>mean</th>\n      <th>std</th>\n      <th>min</th>\n      <th>max</th>\n      <th>count</th>\n      <th>mean</th>\n      <th>std</th>\n      <th>min</th>\n      <th>max</th>\n      <th>count</th>\n      <th>...</th>\n      <th>mean</th>\n      <th>std</th>\n      <th>min</th>\n      <th>max</th>\n      <th>count</th>\n      <th>mean</th>\n      <th>std</th>\n      <th>min</th>\n      <th>max</th>\n      <th>count</th>\n    </tr>\n    <tr>\n      <th>Size_Opt</th>\n      <th>Adj_Opt</th>\n      <th>Ori_Opt</th>\n      <th></th>\n      <th></th>\n      <th></th>\n      <th></th>\n      <th></th>\n      <th></th>\n      <th></th>\n      <th></th>\n      <th></th>\n      <th></th>\n      <th></th>\n      <th></th>\n      <th></th>\n      <th></th>\n      <th></th>\n      <th></th>\n      <th></th>\n      <th></th>\n      <th></th>\n      <th></th>\n      <th></th>\n    </tr>\n  </thead>\n  <tbody>\n    <tr>\n      <th rowspan=\"4\" valign=\"top\">0</th>\n      <th rowspan=\"2\" valign=\"top\">0</th>\n      <th>0</th>\n      <td>0.427500</td>\n      <td>0.181331</td>\n      <td>0.0</td>\n      <td>0.8</td>\n      <td>240</td>\n      <td>0.450000</td>\n      <td>0.235678</td>\n      <td>0.00</td>\n      <td>1.0</td>\n      <td>240</td>\n      <td>...</td>\n      <td>0.815898</td>\n      <td>0.043855</td>\n      <td>0.685778</td>\n      <td>0.936998</td>\n      <td>240</td>\n      <td>0.399294</td>\n      <td>0.189618</td>\n      <td>1.333333e-09</td>\n      <td>0.718075</td>\n      <td>240</td>\n    </tr>\n    <tr>\n      <th>1</th>\n      <td>0.437838</td>\n      <td>0.194993</td>\n      <td>0.0</td>\n      <td>1.0</td>\n      <td>370</td>\n      <td>0.958108</td>\n      <td>0.093497</td>\n      <td>0.75</td>\n      <td>1.0</td>\n      <td>370</td>\n      <td>...</td>\n      <td>0.831468</td>\n      <td>0.043257</td>\n      <td>0.640837</td>\n      <td>0.953457</td>\n      <td>370</td>\n      <td>0.537780</td>\n      <td>0.184855</td>\n      <td>2.000000e-09</td>\n      <td>0.923977</td>\n      <td>370</td>\n    </tr>\n    <tr>\n      <th rowspan=\"2\" valign=\"top\">1</th>\n      <th>0</th>\n      <td>0.440000</td>\n      <td>0.189904</td>\n      <td>0.0</td>\n      <td>0.8</td>\n      <td>190</td>\n      <td>0.501316</td>\n      <td>0.253934</td>\n      <td>0.00</td>\n      <td>1.0</td>\n      <td>190</td>\n      <td>...</td>\n      <td>0.824159</td>\n      <td>0.041538</td>\n      <td>0.705362</td>\n      <td>0.927316</td>\n      <td>190</td>\n      <td>0.434250</td>\n      <td>0.197985</td>\n      <td>2.000000e-09</td>\n      <td>0.832906</td>\n      <td>190</td>\n    </tr>\n    <tr>\n      <th>1</th>\n      <td>0.461000</td>\n      <td>0.181781</td>\n      <td>0.0</td>\n      <td>1.0</td>\n      <td>200</td>\n      <td>0.957500</td>\n      <td>0.097423</td>\n      <td>0.50</td>\n      <td>1.0</td>\n      <td>200</td>\n      <td>...</td>\n      <td>0.821248</td>\n      <td>0.045599</td>\n      <td>0.672297</td>\n      <td>0.966118</td>\n      <td>200</td>\n      <td>0.558630</td>\n      <td>0.146937</td>\n      <td>2.000000e-09</td>\n      <td>0.947246</td>\n      <td>200</td>\n    </tr>\n    <tr>\n      <th rowspan=\"4\" valign=\"top\">1</th>\n      <th rowspan=\"2\" valign=\"top\">0</th>\n      <th>0</th>\n      <td>0.446957</td>\n      <td>0.202742</td>\n      <td>0.0</td>\n      <td>1.0</td>\n      <td>230</td>\n      <td>0.436957</td>\n      <td>0.237903</td>\n      <td>0.00</td>\n      <td>1.0</td>\n      <td>230</td>\n      <td>...</td>\n      <td>0.786956</td>\n      <td>0.045956</td>\n      <td>0.640087</td>\n      <td>0.903891</td>\n      <td>230</td>\n      <td>0.437580</td>\n      <td>0.222254</td>\n      <td>2.000000e-09</td>\n      <td>0.984654</td>\n      <td>230</td>\n    </tr>\n    <tr>\n      <th>1</th>\n      <td>0.446667</td>\n      <td>0.191420</td>\n      <td>0.0</td>\n      <td>1.0</td>\n      <td>240</td>\n      <td>0.929167</td>\n      <td>0.126024</td>\n      <td>0.50</td>\n      <td>1.0</td>\n      <td>240</td>\n      <td>...</td>\n      <td>0.779882</td>\n      <td>0.047457</td>\n      <td>0.626104</td>\n      <td>0.916210</td>\n      <td>240</td>\n      <td>0.567533</td>\n      <td>0.184779</td>\n      <td>2.000000e-09</td>\n      <td>0.978208</td>\n      <td>240</td>\n    </tr>\n    <tr>\n      <th rowspan=\"2\" valign=\"top\">1</th>\n      <th>0</th>\n      <td>0.519130</td>\n      <td>0.202774</td>\n      <td>0.0</td>\n      <td>1.0</td>\n      <td>230</td>\n      <td>0.491304</td>\n      <td>0.240384</td>\n      <td>0.00</td>\n      <td>1.0</td>\n      <td>230</td>\n      <td>...</td>\n      <td>0.788752</td>\n      <td>0.046297</td>\n      <td>0.609405</td>\n      <td>0.901456</td>\n      <td>230</td>\n      <td>0.495315</td>\n      <td>0.205220</td>\n      <td>2.000000e-09</td>\n      <td>0.847246</td>\n      <td>230</td>\n    </tr>\n    <tr>\n      <th>1</th>\n      <td>0.492000</td>\n      <td>0.200508</td>\n      <td>0.0</td>\n      <td>0.8</td>\n      <td>300</td>\n      <td>0.930000</td>\n      <td>0.131304</td>\n      <td>0.50</td>\n      <td>1.0</td>\n      <td>300</td>\n      <td>...</td>\n      <td>0.781979</td>\n      <td>0.043592</td>\n      <td>0.653908</td>\n      <td>0.890278</td>\n      <td>300</td>\n      <td>0.608961</td>\n      <td>0.195883</td>\n      <td>2.000000e-09</td>\n      <td>0.888889</td>\n      <td>300</td>\n    </tr>\n  </tbody>\n</table>\n<p>8 rows × 40 columns</p>\n</div>"
     },
     "execution_count": 108,
     "metadata": {},
     "output_type": "execute_result"
    }
   ],
   "source": [
    "# 필요한 컬럼만 선택\n",
    "columns_of_interest = ['Size_Opt', 'Adj_Opt', 'Ori_Opt', 'Adjacency', 'Orientation', 'Size', 'Simplicity', 'Rectangularity', 'Regularity', 'PA Ratio', 'Weighted_Fitness']\n",
    "\n",
    "# 데이터 그룹화: Size_Opt, Adj_Opt, Ori_Opt 세 가지 조합으로 그룹화\n",
    "grouped_data = data[columns_of_interest].groupby(['Size_Opt', 'Adj_Opt', 'Ori_Opt'])\n",
    "\n",
    "# 각 그룹에 대한 통계 계산\n",
    "grouped_stats = grouped_data.agg(['mean', 'std', 'min', 'max', 'count'])\n",
    "\n",
    "# 결과 출력\n",
    "grouped_stats\n"
   ],
   "metadata": {
    "collapsed": false,
    "ExecuteTime": {
     "end_time": "2024-09-06T10:23:00.799631500Z",
     "start_time": "2024-09-06T10:23:00.747660600Z"
    }
   },
   "id": "9fc271942d70ca40"
  },
  {
   "cell_type": "markdown",
   "source": [],
   "metadata": {
    "collapsed": false
   },
   "id": "e8f2598fea9b88c9"
  },
  {
   "cell_type": "markdown",
   "source": [
    "### 5. 결과 및 분석\n",
    "\n",
    "#### 5.1. 서론\n",
    "본 연구에서는 주어진 제약조건을 만족시키는 평면도를 생성하기 위한 최적화 과정을 분석하였다. 최적화는 크게 세 가지 요소로 이루어졌으며, 이는 방 크기 최적화(`Size_Opt`), 인접성 최적화(`Adj_Opt`), 방의 방향 최적화(`Ori_Opt`)로 구분된다. 각 최적화 요소가 적용된 경우와 적용되지 않은 경우를 비교하여, 관련된 피트니스(만족도) 지표들이 어떻게 변화하는지를 분석하고자 하였다. 또한, 하나의 최적화가 다른 피트니스 지표들에 미치는 영향을 파악하였다.\n",
    "\n",
    "#### 5.2. 분석 방법\n",
    "본 분석에서는 각 최적화 조건(`Size_Opt`, `Adj_Opt`, `Ori_Opt`)에 따라 그룹을 나누어, 각 그룹별 피트니스 지표의 평균값 및 표준편차, 최대값과 최소값 등을 계산하였다. 이를 통해 각 최적화 조건이 방의 크기, 인접성, 방향성, 단순성, 직사각형성, 규칙성, 공간활용비율(PA Ratio), 그리고 가중치 피트니스 지표에 미치는 영향을 파악하고자 하였다. 각 그룹의 통계값을 통해, 독립적인 최적화 요소와 복합적인 최적화가 관련 피트니스 지표에 어떤 차이를 보이는지 비교 분석하였다.\n",
    "\n",
    "#### 5.3. 최적화 조건별 결과 분석\n",
    "\n",
    "##### 5.3.1. 방 크기 최적화(`Size_Opt`)\n",
    "`Size_Opt`가 적용된 경우와 적용되지 않은 경우의 크기 만족도(`Size`) 지표를 비교한 결과, `Size_Opt`가 적용된 그룹의 평균 크기 만족도는 0.798로, 적용되지 않은 그룹(0.678)보다 약 17% 높게 나타났다. 이는 방 크기 최적화가 효과적으로 크기 관련 피트니스 지표를 향상시킴을 보여준다. 또한, 표준편차는 두 그룹 간에 큰 차이를 보이지 않아, 최적화 여부와 관계없이 크기 만족도의 분포가 유사한 것으로 나타났다. 다른 지표의 경우, 큰 차이를 보이지 않았으나, Rectangularity에서 사이즈 최적화를 \n",
    "\n",
    "- `Size_Opt = 1` (방 크기 최적화 적용): 평균 크기 만족도 0.798, 표준편차 0.099\n",
    "- `Size_Opt = 0` (방 크기 최적화 미적용): 평균 크기 만족도 0.678, 표준편차 0.092\n",
    "\n",
    "##### 5.3.2. 인접성 최적화(`Adj_Opt`)\n",
    "`Adj_Opt`를 적용한 그룹과 그렇지 않은 그룹 간의 인접성 만족도(`Adjacency`) 비교 결과, 최적화가 적용된 경우(평균 0.43)와 적용되지 않은 경우(평균 0.42) 간에 큰 차이가 없었다. 이는 인접성 최적화가 크기 최적화에 비해 상대적으로 제한적인 효과를 보일 수 있음을 시사한다. 그러나, 인접성 최적화가 적용되지 않은 그룹에서 인접성 만족도의 최소값은 0으로 나타나, 일부 케이스에서는 인접성이 크게 저하될 수 있음을 알 수 있다.\n",
    "\n",
    "- `Adj_Opt = 1` (인접성 최적화 적용): 평균 인접성 만족도 0.43\n",
    "- `Adj_Opt = 0` (인접성 최적화 미적용): 평균 인접성 만족도 0.42\n",
    "\n",
    "##### 5.3.3. 방향 최적화(`Ori_Opt`)\n",
    "방향 최적화(`Ori_Opt`)가 적용된 경우, 방의 방향 만족도(`Orientation`)는 평균 0.963으로, 최적화가 적용되지 않은 그룹(평균 0.529)보다 약 82% 더 높은 만족도를 보였다. 이는 방향 최적화가 해당 피트니스 지표에 매우 긍정적인 영향을 미친다는 것을 의미한다. 특히 최적화가 적용된 그룹의 표준편차(0.089)는 매우 작아, 대부분의 샘플이 높은 방향 만족도를 보임을 확인할 수 있었다.\n",
    "\n",
    "- `Ori_Opt = 1` (방향 최적화 적용): 평균 방향 만족도 0.963, 표준편차 0.089\n",
    "- `Ori_Opt = 0` (방향 최적화 미적용): 평균 방향 만족도 0.529, 표준편차 0.226\n",
    "\n",
    "#### 5.4. 복합 최적화 분석\n",
    "최적화 요소들이 복합적으로 적용된 경우, 개별 최적화와 비교했을 때 복합적인 영향을 미치는지를 분석하였다.\n",
    "\n",
    "##### 5.4.1. 방 크기 최적화 및 인접성 최적화 적용\n",
    "`Size_Opt`와 `Adj_Opt`가 모두 적용된 그룹에서는 크기 만족도(평균 0.811)가 단일 `Size_Opt` 적용 그룹(0.794)보다 약간 더 높게 나타났으나, 차이는 크지 않았다. 이는 인접성 최적화가 방 크기 최적화에 미치는 직접적인 상호작용이 제한적일 수 있음을 의미한다.\n",
    "\n",
    "##### 5.4.2. 방 크기 및 방향 최적화 적용\n",
    "`Size_Opt`와 `Ori_Opt`가 모두 적용된 경우, 방향 만족도는 0.889로, 단일 `Ori_Opt` 적용 그룹(0.963)보다 다소 낮게 나타났다. 이는 크기 최적화가 방의 방향성을 완벽하게 만족시키기 어려운 점을 시사하며, 상충되는 요구 사항이 있을 수 있음을 보여준다.\n",
    "\n",
    "#### 5.5. 상관관계 분석\n",
    "상관관계 분석 결과, 방 크기 최적화(`Size_Opt`)는 크기 만족도(`Size`)와 강한 양의 상관관계(0.566)를 보였으며, 방향 최적화(`Ori_Opt`)는 방향 만족도(`Orientation`)와 매우 강한 양의 상관관계(0.811)를 나타냈다. 반면 인접성 최적화(`Adj_Opt`)는 인접성 만족도와 약한 상관관계(0.0907)를 보여, 크기나 방향에 비해 인접성의 영향이 적다는 점을 확인할 수 있었다.\n",
    "\n",
    "### 6. 결론\n",
    "본 연구에서는 세 가지 주요 최적화 요소(`Size_Opt`, `Adj_Opt`, `Ori_Opt`)가 개별적 및 복합적으로 피트니스 지표에 미치는 영향을 분석하였다. 방 크기 최적화와 방향 최적화는 해당 피트니스 지표에 강한 영향을 미치는 반면, 인접성 최적화는 상대적으로 제한적인 효과를 보였다. 또한, 복합 최적화를 통해서는 상호 간의 영향을 확인할 수 있었으며, 특히 방 크기와 방향 최적화는 상충되는 요구 사항이 있음을 확인할 수 있었다."
   ],
   "metadata": {
    "collapsed": false
   },
   "id": "c640764def98f187"
  },
  {
   "cell_type": "code",
   "execution_count": 74,
   "outputs": [
    {
     "data": {
      "text/plain": "                         Adjacency                           Orientation  \\\n                              mean       std  min  max count        mean   \nSize_Opt Adj_Opt Ori_Opt                                                   \n1        0       0        0.446957  0.202742  0.0  1.0   230    0.436957   \n                 1        0.446667  0.191420  0.0  1.0   240    0.929167   \n         1       0        0.519130  0.202774  0.0  1.0   230    0.491304   \n                 1        0.492000  0.200508  0.0  0.8   300    0.930000   \n\n                                                    ...  PA Ratio            \\\n                               std  min  max count  ...      mean       std   \nSize_Opt Adj_Opt Ori_Opt                            ...                       \n1        0       0        0.237903  0.0  1.0   230  ...  0.786956  0.045956   \n                 1        0.126024  0.5  1.0   240  ...  0.779882  0.047457   \n         1       0        0.240384  0.0  1.0   230  ...  0.788752  0.046297   \n                 1        0.131304  0.5  1.0   300  ...  0.781979  0.043592   \n\n                                                   Weighted_Fitness            \\\n                               min       max count             mean       std   \nSize_Opt Adj_Opt Ori_Opt                                                        \n1        0       0        0.640087  0.903891   230         0.437580  0.222254   \n                 1        0.626104  0.916210   240         0.567533  0.184779   \n         1       0        0.609405  0.901456   230         0.495315  0.205220   \n                 1        0.653908  0.890278   300         0.608961  0.195883   \n\n                                                        \n                                   min       max count  \nSize_Opt Adj_Opt Ori_Opt                                \n1        0       0        2.000000e-09  0.984654   230  \n                 1        2.000000e-09  0.978208   240  \n         1       0        2.000000e-09  0.847246   230  \n                 1        2.000000e-09  0.888889   300  \n\n[4 rows x 40 columns]",
      "text/html": "<div>\n<style scoped>\n    .dataframe tbody tr th:only-of-type {\n        vertical-align: middle;\n    }\n\n    .dataframe tbody tr th {\n        vertical-align: top;\n    }\n\n    .dataframe thead tr th {\n        text-align: left;\n    }\n\n    .dataframe thead tr:last-of-type th {\n        text-align: right;\n    }\n</style>\n<table border=\"1\" class=\"dataframe\">\n  <thead>\n    <tr>\n      <th></th>\n      <th></th>\n      <th></th>\n      <th colspan=\"5\" halign=\"left\">Adjacency</th>\n      <th colspan=\"5\" halign=\"left\">Orientation</th>\n      <th>...</th>\n      <th colspan=\"5\" halign=\"left\">PA Ratio</th>\n      <th colspan=\"5\" halign=\"left\">Weighted_Fitness</th>\n    </tr>\n    <tr>\n      <th></th>\n      <th></th>\n      <th></th>\n      <th>mean</th>\n      <th>std</th>\n      <th>min</th>\n      <th>max</th>\n      <th>count</th>\n      <th>mean</th>\n      <th>std</th>\n      <th>min</th>\n      <th>max</th>\n      <th>count</th>\n      <th>...</th>\n      <th>mean</th>\n      <th>std</th>\n      <th>min</th>\n      <th>max</th>\n      <th>count</th>\n      <th>mean</th>\n      <th>std</th>\n      <th>min</th>\n      <th>max</th>\n      <th>count</th>\n    </tr>\n    <tr>\n      <th>Size_Opt</th>\n      <th>Adj_Opt</th>\n      <th>Ori_Opt</th>\n      <th></th>\n      <th></th>\n      <th></th>\n      <th></th>\n      <th></th>\n      <th></th>\n      <th></th>\n      <th></th>\n      <th></th>\n      <th></th>\n      <th></th>\n      <th></th>\n      <th></th>\n      <th></th>\n      <th></th>\n      <th></th>\n      <th></th>\n      <th></th>\n      <th></th>\n      <th></th>\n      <th></th>\n    </tr>\n  </thead>\n  <tbody>\n    <tr>\n      <th rowspan=\"4\" valign=\"top\">1</th>\n      <th rowspan=\"2\" valign=\"top\">0</th>\n      <th>0</th>\n      <td>0.446957</td>\n      <td>0.202742</td>\n      <td>0.0</td>\n      <td>1.0</td>\n      <td>230</td>\n      <td>0.436957</td>\n      <td>0.237903</td>\n      <td>0.0</td>\n      <td>1.0</td>\n      <td>230</td>\n      <td>...</td>\n      <td>0.786956</td>\n      <td>0.045956</td>\n      <td>0.640087</td>\n      <td>0.903891</td>\n      <td>230</td>\n      <td>0.437580</td>\n      <td>0.222254</td>\n      <td>2.000000e-09</td>\n      <td>0.984654</td>\n      <td>230</td>\n    </tr>\n    <tr>\n      <th>1</th>\n      <td>0.446667</td>\n      <td>0.191420</td>\n      <td>0.0</td>\n      <td>1.0</td>\n      <td>240</td>\n      <td>0.929167</td>\n      <td>0.126024</td>\n      <td>0.5</td>\n      <td>1.0</td>\n      <td>240</td>\n      <td>...</td>\n      <td>0.779882</td>\n      <td>0.047457</td>\n      <td>0.626104</td>\n      <td>0.916210</td>\n      <td>240</td>\n      <td>0.567533</td>\n      <td>0.184779</td>\n      <td>2.000000e-09</td>\n      <td>0.978208</td>\n      <td>240</td>\n    </tr>\n    <tr>\n      <th rowspan=\"2\" valign=\"top\">1</th>\n      <th>0</th>\n      <td>0.519130</td>\n      <td>0.202774</td>\n      <td>0.0</td>\n      <td>1.0</td>\n      <td>230</td>\n      <td>0.491304</td>\n      <td>0.240384</td>\n      <td>0.0</td>\n      <td>1.0</td>\n      <td>230</td>\n      <td>...</td>\n      <td>0.788752</td>\n      <td>0.046297</td>\n      <td>0.609405</td>\n      <td>0.901456</td>\n      <td>230</td>\n      <td>0.495315</td>\n      <td>0.205220</td>\n      <td>2.000000e-09</td>\n      <td>0.847246</td>\n      <td>230</td>\n    </tr>\n    <tr>\n      <th>1</th>\n      <td>0.492000</td>\n      <td>0.200508</td>\n      <td>0.0</td>\n      <td>0.8</td>\n      <td>300</td>\n      <td>0.930000</td>\n      <td>0.131304</td>\n      <td>0.5</td>\n      <td>1.0</td>\n      <td>300</td>\n      <td>...</td>\n      <td>0.781979</td>\n      <td>0.043592</td>\n      <td>0.653908</td>\n      <td>0.890278</td>\n      <td>300</td>\n      <td>0.608961</td>\n      <td>0.195883</td>\n      <td>2.000000e-09</td>\n      <td>0.888889</td>\n      <td>300</td>\n    </tr>\n  </tbody>\n</table>\n<p>4 rows × 40 columns</p>\n</div>"
     },
     "execution_count": 74,
     "metadata": {},
     "output_type": "execute_result"
    }
   ],
   "source": [
    "import pandas as pd\n",
    "\n",
    "# Load the uploaded CSV files\n",
    "file_path_1 = '../Analysis0906_112648.csv'\n",
    "\n",
    "\n",
    "# Load both CSV files to check their contents\n",
    "data = pd.read_csv(file_path_1)\n",
    "# 필요한 컬럼만 선택\n",
    "columns_of_interest = ['Size_Opt', 'Adj_Opt', 'Ori_Opt', 'Adjacency', 'Orientation', 'Size', 'Simplicity', 'Rectangularity', 'Regularity', 'PA Ratio', 'Weighted_Fitness']\n",
    "\n",
    "# 데이터 그룹화: Size_Opt, Adj_Opt, Ori_Opt 세 가지 조합으로 그룹화\n",
    "grouped_data = data[columns_of_interest].groupby(['Size_Opt', 'Adj_Opt', 'Ori_Opt'])\n",
    "\n",
    "# 각 그룹에 대한 통계 계산\n",
    "grouped_stats = grouped_data.agg(['mean', 'std', 'min', 'max', 'count'])\n",
    "\n",
    "# 결과 출력\n",
    "grouped_stats\n"
   ],
   "metadata": {
    "collapsed": false,
    "ExecuteTime": {
     "end_time": "2024-09-06T02:30:46.280375200Z",
     "start_time": "2024-09-06T02:30:46.226573100Z"
    }
   },
   "id": "968fbcdf7f49a14"
  },
  {
   "cell_type": "markdown",
   "source": [
    "통계적으로 유의미한지 여부를 판단하려면, 두 그룹의 평균 차이가 우연에 의한 것이 아니라 실제로 의미 있는 차이인지를 검증하는 **통계적 검정**이 필요합니다. 가장 일반적으로 사용하는 방법은 **t-검정**(t-test)입니다. 이 검정은 두 그룹의 평균 차이가 통계적으로 유의미한지 판단하는 데 유용합니다.\n",
    "\n",
    "### 절차:\n",
    "1. **가설 설정**:\n",
    "   - **귀무가설 (H₀)**: 두 그룹의 평균 차이는 없다. 즉, 인접성 최적화가 적용된 그룹과 미적용 그룹 사이의 **Adjacency Satisfaction**의 차이는 유의미하지 않다.\n",
    "   - **대립가설 (H₁)**: 두 그룹의 평균 차이는 있다. 즉, 인접성 최적화가 적용된 그룹은 미적용 그룹과 유의미하게 다른 **Adjacency Satisfaction**을 보인다.\n",
    "\n",
    "2. **t-검정 수행**:\n",
    "   - **독립표본 t-검정**을 사용하여 두 그룹의 평균 차이를 분석할 수 있습니다. 두 그룹의 **Adjacency Satisfaction**에 대해 검정 통계량(t값)을 계산하고, 해당 값의 **p-value**가 설정된 유의수준(일반적으로 0.05) 이하인지 확인합니다.\n",
    "   - p-value가 유의수준보다 작으면 귀무가설을 기각하고, 두 그룹의 차이가 통계적으로 유의미하다고 결론 내립니다.\n",
    "\n",
    "### 통계적 유의성 설명의 예:\n",
    "\n",
    "1. **두 그룹의 평균 차이가 유의미한 경우**:\n",
    "   \"t-검정을 통해 인접성 최적화 적용 여부에 따른 두 그룹의 Adjacency Satisfaction 평균 차이를 검증한 결과, p-value가 0.05보다 작아 통계적으로 유의미한 차이가 있음을 확인할 수 있었습니다. 따라서 인접성 최적화가 적용된 그룹은 미적용 그룹에 비해 인접성 만족도가 유의미하게 높다는 결론을 내릴 수 있습니다.\"\n",
    "\n",
    "2. **두 그룹의 평균 차이가 유의미하지 않은 경우**:\n",
    "   \"t-검정을 통해 두 그룹의 Adjacency Satisfaction 평균 차이를 검증한 결과, p-value가 0.05보다 커서 통계적으로 유의미한 차이가 없음을 확인할 수 있었습니다. 이는 인접성 최적화가 적용된 그룹과 미적용 그룹 간의 차이가 우연에 의한 것이며, 실제로 큰 영향을 미치지 않았을 가능성을 시사합니다.\"\n",
    "\n",
    "### 추가로 고려할 점:\n",
    "- **표본 크기**: 그룹의 표본 크기가 충분히 커야 합니다. 표본 크기가 너무 작으면 통계적 검정에서 차이를 발견하기 어려울 수 있습니다.\n",
    "- **분산의 동일성**: 두 그룹의 분산이 유사한지 여부를 확인해야 합니다. 만약 분산이 다르다면, **Welch's t-test**와 같은 방법을 사용해야 할 수 있습니다.\n",
    "\n",
    "이러한 통계적 검정을 통해 데이터 분석이 유의미한지를 명확하게 설명할 수 있습니다."
   ],
   "metadata": {
    "collapsed": false
   },
   "id": "77c4549ade3c01f6"
  },
  {
   "cell_type": "code",
   "execution_count": 113,
   "outputs": [
    {
     "name": "stdout",
     "output_type": "stream",
     "text": [
      "t-statistic: -4.784928587270539, p-value: 1.840011083304916e-06\n",
      "두 그룹 간의 평균 차이는 통계적으로 유의미합니다.\n"
     ]
    }
   ],
   "source": [
    "import pandas as pd\n",
    "from scipy.stats import ttest_ind\n",
    "\n",
    "# 예시 데이터: Adjacency와 Adj_Opt 데이터가 있는 데이터프레임\n",
    "# data = pd.read_csv(\"your_data.csv\")\n",
    "\n",
    "# 1. 데이터 그룹화: Adj_Opt가 0인 그룹과 1인 그룹\n",
    "group_adj_0 = data[data['Adj_Opt'] == 0]['Adjacency']\n",
    "group_adj_1 = data[data['Adj_Opt'] == 1]['Adjacency']\n",
    "\n",
    "# 2. t-검정 수행\n",
    "t_stat, p_value = ttest_ind(group_adj_0, group_adj_1, equal_var=False)  # 분산이 다를 경우 equal_var=False\n",
    "\n",
    "# 3. 결과 출력\n",
    "print(f\"t-statistic: {t_stat}, p-value: {p_value}\")\n",
    "\n",
    "# p-value가 0.05보다 작은지 확인\n",
    "if p_value < 0.05:\n",
    "    print(\"두 그룹 간의 평균 차이는 통계적으로 유의미합니다.\")\n",
    "else:\n",
    "    print(\"두 그룹 간의 평균 차이는 통계적으로 유의미하지 않습니다.\")\n"
   ],
   "metadata": {
    "collapsed": false,
    "ExecuteTime": {
     "end_time": "2024-09-06T14:17:43.859359100Z",
     "start_time": "2024-09-06T14:17:38.675949200Z"
    }
   },
   "id": "6ca010f03cf83744"
  },
  {
   "cell_type": "code",
   "execution_count": null,
   "outputs": [],
   "source": [],
   "metadata": {
    "collapsed": false
   },
   "id": "525884c9a361f424"
  }
 ],
 "metadata": {
  "kernelspec": {
   "display_name": "Python 3",
   "language": "python",
   "name": "python3"
  },
  "language_info": {
   "codemirror_mode": {
    "name": "ipython",
    "version": 2
   },
   "file_extension": ".py",
   "mimetype": "text/x-python",
   "name": "python",
   "nbconvert_exporter": "python",
   "pygments_lexer": "ipython2",
   "version": "2.7.6"
  }
 },
 "nbformat": 4,
 "nbformat_minor": 5
}
