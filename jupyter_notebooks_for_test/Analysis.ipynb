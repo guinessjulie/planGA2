{
 "cells": [
  {
   "cell_type": "code",
   "execution_count": 58,
   "id": "initial_id",
   "metadata": {
    "collapsed": true,
    "ExecuteTime": {
     "end_time": "2024-09-05T11:37:55.296951800Z",
     "start_time": "2024-09-05T11:37:55.255271100Z"
    }
   },
   "outputs": [
    {
     "name": "stdout",
     "output_type": "stream",
     "text": [
      "      Size_Opt  Adj_Opt  Ori_Opt  Adjacency  Orientation      Size  \\\n",
      "0            1        0        1        0.2         1.00  0.811111   \n",
      "1            1        0        1        0.4         1.00  0.911111   \n",
      "2            1        0        1        0.4         1.00  0.816667   \n",
      "3            1        0        1        0.4         1.00  0.994444   \n",
      "4            1        0        1        0.6         1.00  0.983333   \n",
      "...        ...      ...      ...        ...          ...       ...   \n",
      "1995         0        0        0        0.4         0.50  0.755556   \n",
      "1996         0        0        0        0.2         0.25  0.685732   \n",
      "1997         0        0        0        0.6         0.50  0.750000   \n",
      "1998         0        0        0        0.2         0.25  0.700000   \n",
      "1999         0        0        0        0.2         0.75  0.755556   \n",
      "\n",
      "      Simplicity  Rectangularity  Regularity  PA Ratio  Weighted_Fitness  \n",
      "0       0.875000        0.960417    0.752951  0.922595          0.326988  \n",
      "1       0.770833        0.904464    0.703271  0.875804          0.563574  \n",
      "2       0.916667        0.958333    0.711806  0.923560          0.553672  \n",
      "3       0.841667        0.931944    0.725434  0.891213          0.570973  \n",
      "4       0.916667        0.965278    0.753472  0.906111          0.747624  \n",
      "...          ...             ...         ...       ...               ...  \n",
      "1995    0.875000        0.930556    0.522569  0.834610          0.480565  \n",
      "1996    0.687500        0.878229    0.680868  0.847297          0.258761  \n",
      "1997    0.791667        0.904464    0.561854  0.825806          0.600000  \n",
      "1998    0.750000        0.867708    0.644861  0.840232          0.259259  \n",
      "1999    0.812500        0.911458    0.555556  0.825859          0.316034  \n",
      "\n",
      "[2000 rows x 11 columns]\n"
     ]
    }
   ],
   "source": [
    "import pandas as pd\n",
    "\n",
    "# Load the uploaded CSV files\n",
    "file_path_1 = '../Analysis0905_203017.csv'\n",
    "file_path_2 = '../Analysis0905_203443.csv'\n",
    "\n",
    "# Load both CSV files to check their contents\n",
    "data_1 = pd.read_csv(file_path_1)\n",
    "data_2 = pd.read_csv(file_path_2)\n",
    "\n",
    "data = pd.concat([data_1, data_2], ignore_index=True)\n",
    "print(data)\n",
    "\n"
   ]
  },
  {
   "cell_type": "markdown",
   "source": [
    "# 기본 통계값"
   ],
   "metadata": {
    "collapsed": false
   },
   "id": "9ee65cf67c71cb43"
  },
  {
   "cell_type": "code",
   "execution_count": 59,
   "outputs": [
    {
     "data": {
      "text/plain": "          Size_Opt      Adj_Opt      Ori_Opt    Adjacency  Orientation  \\\ncount  2000.000000  2000.000000  2000.000000  2000.000000  2000.000000   \nmean      0.500000     0.540000     0.450000     0.491400     0.676875   \nstd       0.500125     0.498522     0.497618     0.208009     0.292791   \nmin       0.000000     0.000000     0.000000     0.000000     0.000000   \n25%       0.000000     0.000000     0.000000     0.400000     0.500000   \n50%       0.500000     1.000000     0.000000     0.600000     0.750000   \n75%       1.000000     1.000000     1.000000     0.600000     1.000000   \nmax       1.000000     1.000000     1.000000     1.000000     1.000000   \n\n              Size   Simplicity  Rectangularity   Regularity     PA Ratio  \\\ncount  2000.000000  2000.000000     2000.000000  2000.000000  2000.000000   \nmean      0.742979     0.751906        0.892903     0.611293     0.815000   \nstd       0.111592     0.069956        0.071517     0.077419     0.045642   \nmin       0.381046     0.516667        0.712971     0.400430     0.659279   \n25%       0.673794     0.704167        0.854861     0.558044     0.784054   \n50%       0.744173     0.750000        0.884859     0.605003     0.817012   \n75%       0.820635     0.800000        0.916667     0.657010     0.848190   \nmax       1.000000     0.958333        1.583333     1.046806     0.940068   \n\n       Weighted_Fitness  \ncount      2.000000e+03  \nmean       5.169802e-01  \nstd        1.979983e-01  \nmin        2.000000e-09  \n25%        3.910001e-01  \n50%        5.328384e-01  \n75%        6.721979e-01  \nmax        9.786871e-01  ",
      "text/html": "<div>\n<style scoped>\n    .dataframe tbody tr th:only-of-type {\n        vertical-align: middle;\n    }\n\n    .dataframe tbody tr th {\n        vertical-align: top;\n    }\n\n    .dataframe thead th {\n        text-align: right;\n    }\n</style>\n<table border=\"1\" class=\"dataframe\">\n  <thead>\n    <tr style=\"text-align: right;\">\n      <th></th>\n      <th>Size_Opt</th>\n      <th>Adj_Opt</th>\n      <th>Ori_Opt</th>\n      <th>Adjacency</th>\n      <th>Orientation</th>\n      <th>Size</th>\n      <th>Simplicity</th>\n      <th>Rectangularity</th>\n      <th>Regularity</th>\n      <th>PA Ratio</th>\n      <th>Weighted_Fitness</th>\n    </tr>\n  </thead>\n  <tbody>\n    <tr>\n      <th>count</th>\n      <td>2000.000000</td>\n      <td>2000.000000</td>\n      <td>2000.000000</td>\n      <td>2000.000000</td>\n      <td>2000.000000</td>\n      <td>2000.000000</td>\n      <td>2000.000000</td>\n      <td>2000.000000</td>\n      <td>2000.000000</td>\n      <td>2000.000000</td>\n      <td>2.000000e+03</td>\n    </tr>\n    <tr>\n      <th>mean</th>\n      <td>0.500000</td>\n      <td>0.540000</td>\n      <td>0.450000</td>\n      <td>0.491400</td>\n      <td>0.676875</td>\n      <td>0.742979</td>\n      <td>0.751906</td>\n      <td>0.892903</td>\n      <td>0.611293</td>\n      <td>0.815000</td>\n      <td>5.169802e-01</td>\n    </tr>\n    <tr>\n      <th>std</th>\n      <td>0.500125</td>\n      <td>0.498522</td>\n      <td>0.497618</td>\n      <td>0.208009</td>\n      <td>0.292791</td>\n      <td>0.111592</td>\n      <td>0.069956</td>\n      <td>0.071517</td>\n      <td>0.077419</td>\n      <td>0.045642</td>\n      <td>1.979983e-01</td>\n    </tr>\n    <tr>\n      <th>min</th>\n      <td>0.000000</td>\n      <td>0.000000</td>\n      <td>0.000000</td>\n      <td>0.000000</td>\n      <td>0.000000</td>\n      <td>0.381046</td>\n      <td>0.516667</td>\n      <td>0.712971</td>\n      <td>0.400430</td>\n      <td>0.659279</td>\n      <td>2.000000e-09</td>\n    </tr>\n    <tr>\n      <th>25%</th>\n      <td>0.000000</td>\n      <td>0.000000</td>\n      <td>0.000000</td>\n      <td>0.400000</td>\n      <td>0.500000</td>\n      <td>0.673794</td>\n      <td>0.704167</td>\n      <td>0.854861</td>\n      <td>0.558044</td>\n      <td>0.784054</td>\n      <td>3.910001e-01</td>\n    </tr>\n    <tr>\n      <th>50%</th>\n      <td>0.500000</td>\n      <td>1.000000</td>\n      <td>0.000000</td>\n      <td>0.600000</td>\n      <td>0.750000</td>\n      <td>0.744173</td>\n      <td>0.750000</td>\n      <td>0.884859</td>\n      <td>0.605003</td>\n      <td>0.817012</td>\n      <td>5.328384e-01</td>\n    </tr>\n    <tr>\n      <th>75%</th>\n      <td>1.000000</td>\n      <td>1.000000</td>\n      <td>1.000000</td>\n      <td>0.600000</td>\n      <td>1.000000</td>\n      <td>0.820635</td>\n      <td>0.800000</td>\n      <td>0.916667</td>\n      <td>0.657010</td>\n      <td>0.848190</td>\n      <td>6.721979e-01</td>\n    </tr>\n    <tr>\n      <th>max</th>\n      <td>1.000000</td>\n      <td>1.000000</td>\n      <td>1.000000</td>\n      <td>1.000000</td>\n      <td>1.000000</td>\n      <td>1.000000</td>\n      <td>0.958333</td>\n      <td>1.583333</td>\n      <td>1.046806</td>\n      <td>0.940068</td>\n      <td>9.786871e-01</td>\n    </tr>\n  </tbody>\n</table>\n</div>"
     },
     "execution_count": 59,
     "metadata": {},
     "output_type": "execute_result"
    }
   ],
   "source": [
    "# 데이터의 기본 통계값을 출력\n",
    "basic_statistics = data.describe()\n",
    "basic_statistics\n"
   ],
   "metadata": {
    "collapsed": false,
    "ExecuteTime": {
     "end_time": "2024-09-05T11:38:07.345741Z",
     "start_time": "2024-09-05T11:38:07.299686Z"
    }
   },
   "id": "9d9aebfd5e6dbc4e"
  },
  {
   "cell_type": "code",
   "execution_count": 60,
   "outputs": [
    {
     "name": "stdout",
     "output_type": "stream",
     "text": [
      "Weighted Fitness Stats:\n",
      " count    2.000000e+03\n",
      "mean     5.169802e-01\n",
      "std      1.979983e-01\n",
      "min      2.000000e-09\n",
      "25%      3.910001e-01\n",
      "50%      5.328384e-01\n",
      "75%      6.721979e-01\n",
      "max      9.786871e-01\n",
      "Name: Weighted_Fitness, dtype: float64\n",
      "\n",
      "Adjacency Satisfaction Stats:\n",
      " count    2000.000000\n",
      "mean        0.491400\n",
      "std         0.208009\n",
      "min         0.000000\n",
      "25%         0.400000\n",
      "50%         0.600000\n",
      "75%         0.600000\n",
      "max         1.000000\n",
      "Name: Adjacency, dtype: float64\n",
      "\n",
      "Size Satisfaction Stats:\n",
      " count    2000.000000\n",
      "mean        0.742979\n",
      "std         0.111592\n",
      "min         0.381046\n",
      "25%         0.673794\n",
      "50%         0.744173\n",
      "75%         0.820635\n",
      "max         1.000000\n",
      "Name: Size, dtype: float64\n",
      "\n",
      "Orientation Satisfaction Stats:\n",
      " count    2000.000000\n",
      "mean        0.676875\n",
      "std         0.292791\n",
      "min         0.000000\n",
      "25%         0.500000\n",
      "50%         0.750000\n",
      "75%         1.000000\n",
      "max         1.000000\n",
      "Name: Orientation, dtype: float64\n"
     ]
    }
   ],
   "source": [
    "# 특정 열에 대한 기본 통계값\n",
    "weighted_fitness_stats = data['Weighted_Fitness'].describe()\n",
    "adjacency_stats = data['Adjacency'].describe()\n",
    "size_satisfaction_stats = data['Size'].describe()\n",
    "orientation_satisfaction_stats = data['Orientation'].describe()\n",
    "\n",
    "# 출력\n",
    "print(\"Weighted Fitness Stats:\\n\", weighted_fitness_stats)\n",
    "print(\"\\nAdjacency Satisfaction Stats:\\n\", adjacency_stats)\n",
    "print(\"\\nSize Satisfaction Stats:\\n\", size_satisfaction_stats)\n",
    "print(\"\\nOrientation Satisfaction Stats:\\n\", orientation_satisfaction_stats)\n"
   ],
   "metadata": {
    "collapsed": false,
    "ExecuteTime": {
     "end_time": "2024-09-05T11:39:37.134552500Z",
     "start_time": "2024-09-05T11:39:37.091726900Z"
    }
   },
   "id": "19ead7bfda4d82d0"
  },
  {
   "cell_type": "code",
   "execution_count": 61,
   "outputs": [
    {
     "name": "stdout",
     "output_type": "stream",
     "text": [
      "Correlation Matrix:\n",
      "                   Size_Opt   Adj_Opt   Ori_Opt  Adjacency  Orientation  \\\n",
      "Size_Opt          1.000000 -0.020064 -0.120605   0.017311    -0.115726   \n",
      "Adj_Opt          -0.020064  1.000000 -0.133092  -0.001505    -0.120896   \n",
      "Ori_Opt          -0.120605 -0.133092  1.000000   0.002610     0.778753   \n",
      "Adjacency         0.017311 -0.001505  0.002610   1.000000    -0.028196   \n",
      "Orientation      -0.115726 -0.120896  0.778753  -0.028196     1.000000   \n",
      "Size              0.566377 -0.028044 -0.078145   0.071730    -0.036165   \n",
      "Simplicity        0.031031  0.036999 -0.001005  -0.029634    -0.027357   \n",
      "Rectangularity    0.127320 -0.044578  0.001073  -0.017346    -0.048119   \n",
      "Regularity        0.171928 -0.047180  0.007299   0.050274    -0.013716   \n",
      "PA Ratio         -0.155638  0.041875  0.065926   0.015973     0.029789   \n",
      "Weighted_Fitness  0.033831 -0.072958  0.301788   0.753700     0.468677   \n",
      "\n",
      "                      Size  Simplicity  Rectangularity  Regularity  PA Ratio  \\\n",
      "Size_Opt          0.566377    0.031031        0.127320    0.171928 -0.155638   \n",
      "Adj_Opt          -0.028044    0.036999       -0.044578   -0.047180  0.041875   \n",
      "Ori_Opt          -0.078145   -0.001005        0.001073    0.007299  0.065926   \n",
      "Adjacency         0.071730   -0.029634       -0.017346    0.050274  0.015973   \n",
      "Orientation      -0.036165   -0.027357       -0.048119   -0.013716  0.029789   \n",
      "Size              1.000000   -0.000834        0.018173    0.078381 -0.082928   \n",
      "Simplicity       -0.000834    1.000000        0.428988    0.098688  0.629561   \n",
      "Rectangularity    0.018173    0.428988        1.000000    0.485650  0.313182   \n",
      "Regularity        0.078381    0.098688        0.485650    1.000000  0.486045   \n",
      "PA Ratio         -0.082928    0.629561        0.313182    0.486045  1.000000   \n",
      "Weighted_Fitness  0.138885   -0.058351       -0.039949    0.046949 -0.007576   \n",
      "\n",
      "                  Weighted_Fitness  \n",
      "Size_Opt                  0.033831  \n",
      "Adj_Opt                  -0.072958  \n",
      "Ori_Opt                   0.301788  \n",
      "Adjacency                 0.753700  \n",
      "Orientation               0.468677  \n",
      "Size                      0.138885  \n",
      "Simplicity               -0.058351  \n",
      "Rectangularity           -0.039949  \n",
      "Regularity                0.046949  \n",
      "PA Ratio                 -0.007576  \n",
      "Weighted_Fitness          1.000000  \n"
     ]
    }
   ],
   "source": [
    "# 피트니스 지표 간의 상관관계 분석\n",
    "correlation_matrix = data.corr()\n",
    "print(\"Correlation Matrix:\\n\", correlation_matrix)\n"
   ],
   "metadata": {
    "collapsed": false,
    "ExecuteTime": {
     "end_time": "2024-09-05T11:39:48.679945900Z",
     "start_time": "2024-09-05T11:39:48.664128100Z"
    }
   },
   "id": "f0912b3725b3bce8"
  },
  {
   "cell_type": "code",
   "execution_count": 63,
   "outputs": [
    {
     "name": "stdout",
     "output_type": "stream",
     "text": [
      "Grouped Statistics:\n",
      "                           Adjacency  Orientation      Size  Simplicity  \\\n",
      "Size_Opt Adj_Opt Ori_Opt                                                 \n",
      "0        0       0         0.441905     0.494048  0.678305    0.745996   \n",
      "                 1         0.514167     0.944792  0.691702    0.747470   \n",
      "         1       0         0.480000     0.423214  0.687744    0.754523   \n",
      "                 1         0.508148     0.969444  0.662114    0.749694   \n",
      "1        0       0         0.511304     0.495652  0.797709    0.746447   \n",
      "                 1         0.494167     0.889583  0.811390    0.755997   \n",
      "         1       0         0.513684     0.477632  0.809120    0.756732   \n",
      "                 1         0.424000     0.893333  0.803291    0.755974   \n",
      "\n",
      "                          Rectangularity  Regularity  PA Ratio  \\\n",
      "Size_Opt Adj_Opt Ori_Opt                                         \n",
      "0        0       0              0.881201    0.602026  0.820798   \n",
      "                 1              0.883463    0.594001  0.822062   \n",
      "         1       0              0.885106    0.590108  0.818694   \n",
      "                 1              0.884766    0.606553  0.826685   \n",
      "1        0       0              0.917708    0.638224  0.802311   \n",
      "                 1              0.902049    0.626050  0.807089   \n",
      "         1       0              0.889901    0.614244  0.808878   \n",
      "                 1              0.908530    0.627625  0.815279   \n",
      "\n",
      "                          Weighted_Fitness  \n",
      "Size_Opt Adj_Opt Ori_Opt                    \n",
      "0        0       0                0.418722  \n",
      "                 1                0.603765  \n",
      "         1       0                0.425919  \n",
      "                 1                0.585893  \n",
      "1        0       0                0.495788  \n",
      "                 1                0.596464  \n",
      "         1       0                0.494787  \n",
      "                 1                0.523169  \n"
     ]
    }
   ],
   "source": [
    "# 제약 조건에 따른 그룹별 통계\n",
    "grouped_stats = data.groupby(['Size_Opt', 'Adj_Opt', 'Ori_Opt']).mean()\n",
    "\n",
    "# 출력\n",
    "print(\"Grouped Statistics:\\n\", grouped_stats)"
   ],
   "metadata": {
    "collapsed": false,
    "ExecuteTime": {
     "end_time": "2024-09-05T11:41:29.499836400Z",
     "start_time": "2024-09-05T11:41:29.485666300Z"
    }
   },
   "id": "35fc1efb33d6331"
  },
  {
   "cell_type": "code",
   "execution_count": 64,
   "outputs": [
    {
     "data": {
      "text/plain": "<Figure size 640x480 with 1 Axes>",
      "image/png": "[encoded data removed]"
     },
     "metadata": {},
     "output_type": "display_data"
    }
   ],
   "source": [
    "import matplotlib.pyplot as plt\n",
    "\n",
    "# Weighted Fitness 히스토그램\n",
    "data['Weighted_Fitness'].hist(bins=20)\n",
    "plt.title('Distribution of Weighted Fitness')\n",
    "plt.xlabel('Weighted Fitness')\n",
    "plt.ylabel('Frequency')\n",
    "plt.show()"
   ],
   "metadata": {
    "collapsed": false,
    "ExecuteTime": {
     "end_time": "2024-09-05T11:41:30.819536600Z",
     "start_time": "2024-09-05T11:41:30.595880200Z"
    }
   },
   "id": "4dbf1c1a7cd3a148"
  },
  {
   "cell_type": "markdown",
   "source": [
    "# Size_opt 값에 따라 데이터를 0과 1인 두 그룹으로 나누고, 각각의 통계를 비교하는 방법\n",
    "\n",
    "1. Size_opt 값에 따른 데이터 분할\n",
    "먼저 Size_opt 값이 0인 그룹과 1인 그룹으로 데이터를 나누고 각각에 대해 통계를 구할 수 있습니다."
   ],
   "metadata": {
    "collapsed": false
   },
   "id": "63d5bdd2b2c32ed6"
  },
  {
   "cell_type": "code",
   "execution_count": 65,
   "outputs": [
    {
     "name": "stdout",
     "output_type": "stream",
     "text": [
      "Statistics for Size_Opt = 0:\n",
      "        Size_Opt        Size\n",
      "count     100.0  100.000000\n",
      "mean        0.0    0.696681\n",
      "std         0.0    0.093474\n",
      "min         0.0    0.437923\n",
      "25%         0.0    0.642750\n",
      "50%         0.0    0.689061\n",
      "75%         0.0    0.760189\n",
      "max         0.0    0.908333\n",
      "\n",
      "Statistics for Size_Opt = 1:\n",
      "        Size_Opt        Size\n",
      "count     100.0  100.000000\n",
      "mean        1.0    0.794063\n",
      "std         0.0    0.099057\n",
      "min         1.0    0.519444\n",
      "25%         1.0    0.732377\n",
      "50%         1.0    0.805797\n",
      "75%         1.0    0.870448\n",
      "max         1.0    0.961111\n",
      "\n",
      "Statistics for Adj_Opt = 0:\n",
      "        Adj_Opt  Adjacency\n",
      "count     80.0  80.000000\n",
      "mean       0.0   0.422500\n",
      "std        0.0   0.215815\n",
      "min        0.0   0.000000\n",
      "25%        0.0   0.200000\n",
      "50%        0.0   0.400000\n",
      "75%        0.0   0.600000\n",
      "max        0.0   0.800000\n",
      "\n",
      "Statistics for Adj_Opt = 1:\n",
      "        Adj_Opt   Adjacency\n",
      "count    120.0  120.000000\n",
      "mean       1.0    0.430000\n",
      "std        0.0    0.211676\n",
      "min        1.0    0.000000\n",
      "25%        1.0    0.400000\n",
      "50%        1.0    0.400000\n",
      "75%        1.0    0.600000\n",
      "max        1.0    1.000000\n",
      "\n",
      "Statistics for Ori_Opt = 0:\n",
      "        Ori_Opt  Orientation\n",
      "count     85.0    85.000000\n",
      "mean       0.0     0.529412\n",
      "std        0.0     0.226292\n",
      "min        0.0     0.000000\n",
      "25%        0.0     0.500000\n",
      "50%        0.0     0.500000\n",
      "75%        0.0     0.750000\n",
      "max        0.0     1.000000\n",
      "\n",
      "Statistics for Ori_Opt = 1:\n",
      "        Ori_Opt  Orientation\n",
      "count    115.0   115.000000\n",
      "mean       1.0     0.963043\n",
      "std        0.0     0.089120\n",
      "min        1.0     0.750000\n",
      "25%        1.0     1.000000\n",
      "50%        1.0     1.000000\n",
      "75%        1.0     1.000000\n",
      "max        1.0     1.000000\n"
     ]
    }
   ],
   "source": [
    "# Size_Opt에 따라 관련된 Size 컬럼만 통계 출력\n",
    "stats_size_opt_0 = size_opt_0[['Size_Opt', 'Size']].describe()\n",
    "stats_size_opt_1 = size_opt_1[['Size_Opt', 'Size']].describe()\n",
    "\n",
    "# Adj_Opt에 따라 관련된 Adjacency 컬럼만 통계 출력\n",
    "stats_adj_opt_0 = adj_opt_0[['Adj_Opt', 'Adjacency']].describe()\n",
    "stats_adj_opt_1 = adj_opt_1[['Adj_Opt', 'Adjacency']].describe()\n",
    "\n",
    "# Ori_Opt에 따라 관련된 Orientation 컬럼만 통계 출력\n",
    "stats_ori_opt_0 = ori_opt_0[['Ori_Opt', 'Orientation']].describe()\n",
    "stats_ori_opt_1 = ori_opt_1[['Ori_Opt', 'Orientation']].describe()\n",
    "\n",
    "# 결과 출력\n",
    "print(\"Statistics for Size_Opt = 0:\\n\", stats_size_opt_0)\n",
    "print(\"\\nStatistics for Size_Opt = 1:\\n\", stats_size_opt_1)\n",
    "\n",
    "print(\"\\nStatistics for Adj_Opt = 0:\\n\", stats_adj_opt_0)\n",
    "print(\"\\nStatistics for Adj_Opt = 1:\\n\", stats_adj_opt_1)\n",
    "\n",
    "print(\"\\nStatistics for Ori_Opt = 0:\\n\", stats_ori_opt_0)\n",
    "print(\"\\nStatistics for Ori_Opt = 1:\\n\", stats_ori_opt_1)\n"
   ],
   "metadata": {
    "collapsed": false,
    "ExecuteTime": {
     "end_time": "2024-09-05T11:42:16.005478200Z",
     "start_time": "2024-09-05T11:42:15.961737300Z"
    }
   },
   "id": "95e706da8260e08f"
  },
  {
   "cell_type": "markdown",
   "source": [
    "#  boxplot / histogram을 통한 데이터 시각화"
   ],
   "metadata": {
    "collapsed": false
   },
   "id": "345c6d6e82b740c6"
  },
  {
   "cell_type": "code",
   "execution_count": 52,
   "outputs": [
    {
     "data": {
      "text/plain": "<Figure size 1000x600 with 0 Axes>"
     },
     "metadata": {},
     "output_type": "display_data"
    },
    {
     "data": {
      "text/plain": "<Figure size 640x480 with 1 Axes>",
      "image/png": "[encoded data removed]"
     },
     "metadata": {},
     "output_type": "display_data"
    }
   ],
   "source": [
    "import matplotlib.pyplot as plt\n",
    "\n",
    "# Weighted Fitness의 boxplot으로 두 그룹을 비교\n",
    "plt.figure(figsize=(10, 6))\n",
    "data.boxplot(column='Weighted_Fitness', by='Size_Opt')\n",
    "plt.title('Weighted Fitness Comparison by Size_Opt')\n",
    "plt.suptitle('')\n",
    "plt.xlabel('Size_Opt')\n",
    "plt.ylabel('Size')\n",
    "plt.show()\n"
   ],
   "metadata": {
    "collapsed": false,
    "ExecuteTime": {
     "end_time": "2024-09-05T10:59:50.161547900Z",
     "start_time": "2024-09-05T10:59:49.959635500Z"
    }
   },
   "id": "5cd1f37626ea3a3"
  },
  {
   "cell_type": "markdown",
   "source": [
    "# 다른 opt가 모두 0이고 지정 opt의 값만 변할 때\n",
    "각 Opt 값이 1이고 나머지는 모두 0인 경우의 관련 피트니스 지표를 비교하는 방법을 설명드리겠습니다. 예를 들어, Size_Opt가 1이고 다른 Opt 값이 모두 0인 경우와, Size_Opt가 0이고 다른 Opt 값도 모두 0인 경우의 Size 관련 피트니스 지표를 비교합니다. 이를 다른 Opt 값들(Adj_Opt, Ori_Opt)에도 적용합니다."
   ],
   "metadata": {
    "collapsed": false
   },
   "id": "3f7ed83c734da46b"
  },
  {
   "cell_type": "code",
   "execution_count": 68,
   "outputs": [
    {
     "name": "stdout",
     "output_type": "stream",
     "text": [
      "Size_Opt = 1, Adj_Opt = 0, Ori_Opt = 0:\n",
      "              Size\n",
      "count  230.000000\n",
      "mean     0.797709\n",
      "std      0.092418\n",
      "min      0.530195\n",
      "25%      0.733712\n",
      "50%      0.798582\n",
      "75%      0.861432\n",
      "max      0.991667\n",
      "\n",
      "Size_Opt = 0, Adj_Opt = 0, Ori_Opt = 0:\n",
      "              Size\n",
      "count  210.000000\n",
      "mean     0.678305\n",
      "std      0.092106\n",
      "min      0.440520\n",
      "25%      0.628750\n",
      "50%      0.691438\n",
      "75%      0.742132\n",
      "max      0.924242\n",
      "\n",
      "Adj_Opt = 1, Size_Opt = 0, Ori_Opt = 0:\n",
      "         Adjacency\n",
      "count  280.000000\n",
      "mean     0.480000\n",
      "std      0.177275\n",
      "min      0.000000\n",
      "25%      0.400000\n",
      "50%      0.400000\n",
      "75%      0.600000\n",
      "max      0.800000\n",
      "\n",
      "Adj_Opt = 0, Size_Opt = 0, Ori_Opt = 0:\n",
      "         Adjacency\n",
      "count  210.000000\n",
      "mean     0.441905\n",
      "std      0.241519\n",
      "min      0.000000\n",
      "25%      0.200000\n",
      "50%      0.400000\n",
      "75%      0.600000\n",
      "max      1.000000\n",
      "\n",
      "Ori_Opt = 1, Size_Opt = 0, Adj_Opt = 0:\n",
      "        Orientation\n",
      "count   240.000000\n",
      "mean      0.944792\n",
      "std       0.106406\n",
      "min       0.500000\n",
      "25%       1.000000\n",
      "50%       1.000000\n",
      "75%       1.000000\n",
      "max       1.000000\n",
      "\n",
      "Ori_Opt = 0, Size_Opt = 0, Adj_Opt = 0:\n",
      "        Orientation\n",
      "count   210.000000\n",
      "mean      0.494048\n",
      "std       0.208148\n",
      "min       0.000000\n",
      "25%       0.250000\n",
      "50%       0.500000\n",
      "75%       0.750000\n",
      "max       1.000000\n"
     ]
    }
   ],
   "source": [
    "# Size_Opt = 1이고 다른 Opt들은 0일 때의 데이터 필터링\n",
    "size_opt_1_only = data[(data['Size_Opt'] == 1) & (data['Adj_Opt'] == 0) & (data['Ori_Opt'] == 0)]\n",
    "\n",
    "# Size_Opt = 0이고 다른 Opt들도 0일 때의 데이터 필터링\n",
    "size_opt_0_only = data[(data['Size_Opt'] == 0) & (data['Adj_Opt'] == 0) & (data['Ori_Opt'] == 0)]\n",
    "\n",
    "# 두 그룹의 Size 관련 피트니스 지표 통계 계산\n",
    "size_fitness_1 = size_opt_1_only[['Size']].describe()\n",
    "size_fitness_0 = size_opt_0_only[['Size']].describe()\n",
    "\n",
    "# 결과 출력\n",
    "print(\"Size_Opt = 1, Adj_Opt = 0, Ori_Opt = 0:\\n\", size_fitness_1)\n",
    "print(\"\\nSize_Opt = 0, Adj_Opt = 0, Ori_Opt = 0:\\n\", size_fitness_0)\n",
    "\n",
    "# Adjacency 관련 지표도 같은 방식으로 진행\n",
    "adj_opt_1_only = data[(data['Adj_Opt'] == 1) & (data['Size_Opt'] == 0) & (data['Ori_Opt'] == 0)]\n",
    "adj_opt_0_only = data[(data['Adj_Opt'] == 0) & (data['Size_Opt'] == 0) & (data['Ori_Opt'] == 0)]\n",
    "\n",
    "# 두 그룹의 Adjacency 관련 피트니스 지표 통계 계산\n",
    "adj_fitness_1 = adj_opt_1_only[['Adjacency']].describe()\n",
    "adj_fitness_0 = adj_opt_0_only[['Adjacency']].describe()\n",
    "\n",
    "print(\"\\nAdj_Opt = 1, Size_Opt = 0, Ori_Opt = 0:\\n\", adj_fitness_1)\n",
    "print(\"\\nAdj_Opt = 0, Size_Opt = 0, Ori_Opt = 0:\\n\", adj_fitness_0)\n",
    "\n",
    "# Orientation 관련 지표도 같은 방식으로 진행\n",
    "ori_opt_1_only = data[(data['Ori_Opt'] == 1) & (data['Size_Opt'] == 0) & (data['Adj_Opt'] == 0)]\n",
    "ori_opt_0_only = data[(data['Ori_Opt'] == 0) & (data['Size_Opt'] == 0) & (data['Adj_Opt'] == 0)]\n",
    "\n",
    "# 두 그룹의 Orientation 관련 피트니스 지표 통계 계산\n",
    "ori_fitness_1 = ori_opt_1_only[['Orientation']].describe()\n",
    "ori_fitness_0 = ori_opt_0_only[['Orientation']].describe()\n",
    "\n",
    "print(\"\\nOri_Opt = 1, Size_Opt = 0, Adj_Opt = 0:\\n\", ori_fitness_1)\n",
    "print(\"\\nOri_Opt = 0, Size_Opt = 0, Adj_Opt = 0:\\n\", ori_fitness_0)\n"
   ],
   "metadata": {
    "collapsed": false,
    "ExecuteTime": {
     "end_time": "2024-09-05T11:44:27.225009500Z",
     "start_time": "2024-09-05T11:44:27.183477200Z"
    }
   },
   "id": "15de9b916ff79bb7"
  },
  {
   "cell_type": "markdown",
   "source": [
    "#  상관관계 비교\n",
    "상관관계를 비교하려면, 각 제약조건(Size_Opt, Adj_Opt, Ori_Opt)이 특정 값(예: 1 또는 0)을 가질 때, 관련된 피트니스 지표 간의 상관관계를 구할 수 있습니다. 이를 위해 먼저 필터링된 데이터를 기반으로 상관계수를 계산하는 방법을 적용할 수 있습니다.\n",
    "\n",
    "### 상관관계 분석의 단계:\n",
    "- 필터링: Size_Opt, Adj_Opt, Ori_Opt 값을 기준으로 데이터를 필터링합니다.\n",
    "- 상관계수 계산: 필터링된 데이터에 대해 관련된 피트니스 지표 간 상관관계를 계산합니다.\n",
    "\n",
    "# 분석\n",
    "- Size_Opt가 1인 경우와 0인 경우 모두에서 Size와의 상관관계를 비교하여, 크기 제약조건이 얼마나 효과적으로 적용되었는지 확인할 수 있습니다.\n",
    "- Adj_Opt와 Adjacency 간의 상관관계. Ori_Opt와 Orientation 간의 상관관계 도 마찬가지로 얼마나 효과적으로 적용되었는지 확인할 수 있다. \n"
   ],
   "metadata": {
    "collapsed": false
   },
   "id": "80c53fbc96b7425d"
  },
  {
   "cell_type": "code",
   "execution_count": 69,
   "outputs": [
    {
     "name": "stdout",
     "output_type": "stream",
     "text": [
      "Correlation matrix for Size_Opt (Size_Opt vs Size) with Adj_Opt = 0 and Ori_Opt = 0:\n",
      "           Size_Opt      Size\n",
      "Size_Opt  1.000000  0.543715\n",
      "Size      0.543715  1.000000\n",
      "\n",
      "Correlation matrix for Adj_Opt (Adj_Opt vs Adjacency) with Size_Opt = 0 and Ori_Opt = 0:\n",
      "             Adj_Opt  Adjacency\n",
      "Adj_Opt    1.000000   0.090777\n",
      "Adjacency  0.090777   1.000000\n",
      "\n",
      "Correlation matrix for Ori_Opt (Ori_Opt vs Orientation) with Size_Opt = 0 and Adj_Opt = 0:\n",
      "               Ori_Opt  Orientation\n",
      "Ori_Opt      1.000000     0.811948\n",
      "Orientation  0.811948     1.000000\n"
     ]
    }
   ],
   "source": [
    "# Size_Opt가 1 또는 0이고, 다른 Opt (Adj_Opt, Ori_Opt)가 모두 0일 때의 Size와 Size_Opt 상관관계\n",
    "size_opt_condition = data[(data['Adj_Opt'] == 0) & (data['Ori_Opt'] == 0)]\n",
    "corr_size_opt = size_opt_condition[['Size_Opt', 'Size']].corr()\n",
    "\n",
    "# Adj_Opt가 1 또는 0이고, 다른 Opt (Size_Opt, Ori_Opt)가 모두 0일 때의 Adjacency와 Adj_Opt 상관관계\n",
    "adj_opt_condition = data[(data['Size_Opt'] == 0) & (data['Ori_Opt'] == 0)]\n",
    "corr_adj_opt = adj_opt_condition[['Adj_Opt', 'Adjacency']].corr()\n",
    "\n",
    "# Ori_Opt가 1 또는 0이고, 다른 Opt (Size_Opt, Adj_Opt)가 모두 0일 때의 Orientation과 Ori_Opt 상관관계\n",
    "ori_opt_condition = data[(data['Size_Opt'] == 0) & (data['Adj_Opt'] == 0)]\n",
    "corr_ori_opt = ori_opt_condition[['Ori_Opt', 'Orientation']].corr()\n",
    "\n",
    "# 결과 출력\n",
    "print(\"Correlation matrix for Size_Opt (Size_Opt vs Size) with Adj_Opt = 0 and Ori_Opt = 0:\\n\", corr_size_opt)\n",
    "print(\"\\nCorrelation matrix for Adj_Opt (Adj_Opt vs Adjacency) with Size_Opt = 0 and Ori_Opt = 0:\\n\", corr_adj_opt)\n",
    "print(\"\\nCorrelation matrix for Ori_Opt (Ori_Opt vs Orientation) with Size_Opt = 0 and Adj_Opt = 0:\\n\", corr_ori_opt)\n"
   ],
   "metadata": {
    "collapsed": false,
    "ExecuteTime": {
     "end_time": "2024-09-05T11:47:38.142555300Z",
     "start_time": "2024-09-05T11:47:38.086575Z"
    }
   },
   "id": "62f076e8b8480d5"
  },
  {
   "cell_type": "markdown",
   "source": [
    "\n",
    "\n",
    "# 세가지 optimization의 조합의 통계\n",
    "Size_Opt, Adj_Opt, Ori_Opt의 세 가지 조합을 기준으로 데이터를 그룹화하여 통계를 내는 코드를 작성해 드리겠습니다. 이 통계는 각 조합에 해당하는 그룹에 대해 평균, 표준편차 등의 통계량을 계산하는 방식입니다.\n"
   ],
   "metadata": {
    "collapsed": false
   },
   "id": "fb6c8820f5953a7e"
  },
  {
   "cell_type": "code",
   "execution_count": 71,
   "outputs": [
    {
     "data": {
      "text/plain": "                         Adjacency                           Orientation  \\\n                              mean       std  min  max count        mean   \nSize_Opt Adj_Opt Ori_Opt                                                   \n0        0       0        0.441905  0.241519  0.0  1.0   210    0.494048   \n                 1        0.514167  0.186936  0.0  1.0   240    0.944792   \n         1       0        0.480000  0.177275  0.0  0.8   280    0.423214   \n                 1        0.508148  0.214373  0.0  0.8   270    0.969444   \n1        0       0        0.511304  0.208452  0.0  1.0   230    0.495652   \n                 1        0.494167  0.206098  0.0  1.0   240    0.889583   \n         1       0        0.513684  0.201635  0.0  1.0   380    0.477632   \n                 1        0.424000  0.225752  0.0  1.0   150    0.893333   \n\n                                                     ...  PA Ratio            \\\n                               std   min  max count  ...      mean       std   \nSize_Opt Adj_Opt Ori_Opt                             ...                       \n0        0       0        0.208148  0.00  1.0   210  ...  0.820798  0.044759   \n                 1        0.106406  0.50  1.0   240  ...  0.822062  0.041880   \n         1       0        0.212504  0.00  1.0   280  ...  0.818694  0.048517   \n                 1        0.082038  0.75  1.0   270  ...  0.826685  0.039509   \n1        0       0        0.220367  0.00  1.0   230  ...  0.802311  0.044897   \n                 1        0.145705  0.50  1.0   240  ...  0.807089  0.049089   \n         1       0        0.230777  0.00  1.0   380  ...  0.808878  0.043992   \n                 1        0.139950  0.50  1.0   150  ...  0.815279  0.048650   \n\n                                                   Weighted_Fitness            \\\n                               min       max count             mean       std   \nSize_Opt Adj_Opt Ori_Opt                                                        \n0        0       0        0.704029  0.940068   210         0.418722  0.189681   \n                 1        0.692120  0.926982   240         0.603765  0.155738   \n         1       0        0.676815  0.938008   280         0.425919  0.182440   \n                 1        0.672017  0.910279   270         0.585893  0.181836   \n1        0       0        0.659279  0.914903   230         0.495788  0.186667   \n                 1        0.681460  0.923560   240         0.596464  0.175469   \n         1       0        0.683098  0.921002   380         0.494787  0.198089   \n                 1        0.682722  0.932992   150         0.523169  0.222993   \n\n                                                        \n                                   min       max count  \nSize_Opt Adj_Opt Ori_Opt                                \n0        0       0        2.000000e-09  0.765803   210  \n                 1        2.000000e-09  0.940150   240  \n         1       0        2.000000e-09  0.708315   280  \n                 1        2.000000e-09  0.851913   270  \n1        0       0        2.000000e-09  0.812713   230  \n                 1        2.000000e-09  0.978687   240  \n         1       0        2.000000e-09  0.893617   380  \n                 1        2.000000e-09  0.888889   150  \n\n[8 rows x 40 columns]",
      "text/html": "<div>\n<style scoped>\n    .dataframe tbody tr th:only-of-type {\n        vertical-align: middle;\n    }\n\n    .dataframe tbody tr th {\n        vertical-align: top;\n    }\n\n    .dataframe thead tr th {\n        text-align: left;\n    }\n\n    .dataframe thead tr:last-of-type th {\n        text-align: right;\n    }\n</style>\n<table border=\"1\" class=\"dataframe\">\n  <thead>\n    <tr>\n      <th></th>\n      <th></th>\n      <th></th>\n      <th colspan=\"5\" halign=\"left\">Adjacency</th>\n      <th colspan=\"5\" halign=\"left\">Orientation</th>\n      <th>...</th>\n      <th colspan=\"5\" halign=\"left\">PA Ratio</th>\n      <th colspan=\"5\" halign=\"left\">Weighted_Fitness</th>\n    </tr>\n    <tr>\n      <th></th>\n      <th></th>\n      <th></th>\n      <th>mean</th>\n      <th>std</th>\n      <th>min</th>\n      <th>max</th>\n      <th>count</th>\n      <th>mean</th>\n      <th>std</th>\n      <th>min</th>\n      <th>max</th>\n      <th>count</th>\n      <th>...</th>\n      <th>mean</th>\n      <th>std</th>\n      <th>min</th>\n      <th>max</th>\n      <th>count</th>\n      <th>mean</th>\n      <th>std</th>\n      <th>min</th>\n      <th>max</th>\n      <th>count</th>\n    </tr>\n    <tr>\n      <th>Size_Opt</th>\n      <th>Adj_Opt</th>\n      <th>Ori_Opt</th>\n      <th></th>\n      <th></th>\n      <th></th>\n      <th></th>\n      <th></th>\n      <th></th>\n      <th></th>\n      <th></th>\n      <th></th>\n      <th></th>\n      <th></th>\n      <th></th>\n      <th></th>\n      <th></th>\n      <th></th>\n      <th></th>\n      <th></th>\n      <th></th>\n      <th></th>\n      <th></th>\n      <th></th>\n    </tr>\n  </thead>\n  <tbody>\n    <tr>\n      <th rowspan=\"4\" valign=\"top\">0</th>\n      <th rowspan=\"2\" valign=\"top\">0</th>\n      <th>0</th>\n      <td>0.441905</td>\n      <td>0.241519</td>\n      <td>0.0</td>\n      <td>1.0</td>\n      <td>210</td>\n      <td>0.494048</td>\n      <td>0.208148</td>\n      <td>0.00</td>\n      <td>1.0</td>\n      <td>210</td>\n      <td>...</td>\n      <td>0.820798</td>\n      <td>0.044759</td>\n      <td>0.704029</td>\n      <td>0.940068</td>\n      <td>210</td>\n      <td>0.418722</td>\n      <td>0.189681</td>\n      <td>2.000000e-09</td>\n      <td>0.765803</td>\n      <td>210</td>\n    </tr>\n    <tr>\n      <th>1</th>\n      <td>0.514167</td>\n      <td>0.186936</td>\n      <td>0.0</td>\n      <td>1.0</td>\n      <td>240</td>\n      <td>0.944792</td>\n      <td>0.106406</td>\n      <td>0.50</td>\n      <td>1.0</td>\n      <td>240</td>\n      <td>...</td>\n      <td>0.822062</td>\n      <td>0.041880</td>\n      <td>0.692120</td>\n      <td>0.926982</td>\n      <td>240</td>\n      <td>0.603765</td>\n      <td>0.155738</td>\n      <td>2.000000e-09</td>\n      <td>0.940150</td>\n      <td>240</td>\n    </tr>\n    <tr>\n      <th rowspan=\"2\" valign=\"top\">1</th>\n      <th>0</th>\n      <td>0.480000</td>\n      <td>0.177275</td>\n      <td>0.0</td>\n      <td>0.8</td>\n      <td>280</td>\n      <td>0.423214</td>\n      <td>0.212504</td>\n      <td>0.00</td>\n      <td>1.0</td>\n      <td>280</td>\n      <td>...</td>\n      <td>0.818694</td>\n      <td>0.048517</td>\n      <td>0.676815</td>\n      <td>0.938008</td>\n      <td>280</td>\n      <td>0.425919</td>\n      <td>0.182440</td>\n      <td>2.000000e-09</td>\n      <td>0.708315</td>\n      <td>280</td>\n    </tr>\n    <tr>\n      <th>1</th>\n      <td>0.508148</td>\n      <td>0.214373</td>\n      <td>0.0</td>\n      <td>0.8</td>\n      <td>270</td>\n      <td>0.969444</td>\n      <td>0.082038</td>\n      <td>0.75</td>\n      <td>1.0</td>\n      <td>270</td>\n      <td>...</td>\n      <td>0.826685</td>\n      <td>0.039509</td>\n      <td>0.672017</td>\n      <td>0.910279</td>\n      <td>270</td>\n      <td>0.585893</td>\n      <td>0.181836</td>\n      <td>2.000000e-09</td>\n      <td>0.851913</td>\n      <td>270</td>\n    </tr>\n    <tr>\n      <th rowspan=\"4\" valign=\"top\">1</th>\n      <th rowspan=\"2\" valign=\"top\">0</th>\n      <th>0</th>\n      <td>0.511304</td>\n      <td>0.208452</td>\n      <td>0.0</td>\n      <td>1.0</td>\n      <td>230</td>\n      <td>0.495652</td>\n      <td>0.220367</td>\n      <td>0.00</td>\n      <td>1.0</td>\n      <td>230</td>\n      <td>...</td>\n      <td>0.802311</td>\n      <td>0.044897</td>\n      <td>0.659279</td>\n      <td>0.914903</td>\n      <td>230</td>\n      <td>0.495788</td>\n      <td>0.186667</td>\n      <td>2.000000e-09</td>\n      <td>0.812713</td>\n      <td>230</td>\n    </tr>\n    <tr>\n      <th>1</th>\n      <td>0.494167</td>\n      <td>0.206098</td>\n      <td>0.0</td>\n      <td>1.0</td>\n      <td>240</td>\n      <td>0.889583</td>\n      <td>0.145705</td>\n      <td>0.50</td>\n      <td>1.0</td>\n      <td>240</td>\n      <td>...</td>\n      <td>0.807089</td>\n      <td>0.049089</td>\n      <td>0.681460</td>\n      <td>0.923560</td>\n      <td>240</td>\n      <td>0.596464</td>\n      <td>0.175469</td>\n      <td>2.000000e-09</td>\n      <td>0.978687</td>\n      <td>240</td>\n    </tr>\n    <tr>\n      <th rowspan=\"2\" valign=\"top\">1</th>\n      <th>0</th>\n      <td>0.513684</td>\n      <td>0.201635</td>\n      <td>0.0</td>\n      <td>1.0</td>\n      <td>380</td>\n      <td>0.477632</td>\n      <td>0.230777</td>\n      <td>0.00</td>\n      <td>1.0</td>\n      <td>380</td>\n      <td>...</td>\n      <td>0.808878</td>\n      <td>0.043992</td>\n      <td>0.683098</td>\n      <td>0.921002</td>\n      <td>380</td>\n      <td>0.494787</td>\n      <td>0.198089</td>\n      <td>2.000000e-09</td>\n      <td>0.893617</td>\n      <td>380</td>\n    </tr>\n    <tr>\n      <th>1</th>\n      <td>0.424000</td>\n      <td>0.225752</td>\n      <td>0.0</td>\n      <td>1.0</td>\n      <td>150</td>\n      <td>0.893333</td>\n      <td>0.139950</td>\n      <td>0.50</td>\n      <td>1.0</td>\n      <td>150</td>\n      <td>...</td>\n      <td>0.815279</td>\n      <td>0.048650</td>\n      <td>0.682722</td>\n      <td>0.932992</td>\n      <td>150</td>\n      <td>0.523169</td>\n      <td>0.222993</td>\n      <td>2.000000e-09</td>\n      <td>0.888889</td>\n      <td>150</td>\n    </tr>\n  </tbody>\n</table>\n<p>8 rows × 40 columns</p>\n</div>"
     },
     "execution_count": 71,
     "metadata": {},
     "output_type": "execute_result"
    }
   ],
   "source": [
    "# 필요한 컬럼만 선택\n",
    "columns_of_interest = ['Size_Opt', 'Adj_Opt', 'Ori_Opt', 'Adjacency', 'Orientation', 'Size', 'Simplicity', 'Rectangularity', 'Regularity', 'PA Ratio', 'Weighted_Fitness']\n",
    "\n",
    "# 데이터 그룹화: Size_Opt, Adj_Opt, Ori_Opt 세 가지 조합으로 그룹화\n",
    "grouped_data = data[columns_of_interest].groupby(['Size_Opt', 'Adj_Opt', 'Ori_Opt'])\n",
    "\n",
    "# 각 그룹에 대한 통계 계산\n",
    "grouped_stats = grouped_data.agg(['mean', 'std', 'min', 'max', 'count'])\n",
    "\n",
    "# 결과 출력\n",
    "grouped_stats\n"
   ],
   "metadata": {
    "collapsed": false,
    "ExecuteTime": {
     "end_time": "2024-09-06T00:51:41.301853600Z",
     "start_time": "2024-09-06T00:51:41.248574500Z"
    }
   },
   "id": "9fc271942d70ca40"
  },
  {
   "cell_type": "markdown",
   "source": [],
   "metadata": {
    "collapsed": false
   },
   "id": "e8f2598fea9b88c9"
  },
  {
   "cell_type": "markdown",
   "source": [
    "### 5. 결과 및 분석\n",
    "\n",
    "#### 5.1. 서론\n",
    "본 연구에서는 주어진 제약조건을 만족시키는 평면도를 생성하기 위한 최적화 과정을 분석하였다. 최적화는 크게 세 가지 요소로 이루어졌으며, 이는 방 크기 최적화(`Size_Opt`), 인접성 최적화(`Adj_Opt`), 방의 방향 최적화(`Ori_Opt`)로 구분된다. 각 최적화 요소가 적용된 경우와 적용되지 않은 경우를 비교하여, 관련된 피트니스(만족도) 지표들이 어떻게 변화하는지를 분석하고자 하였다. 또한, 하나의 최적화가 다른 피트니스 지표들에 미치는 영향을 파악하였다.\n",
    "\n",
    "#### 5.2. 분석 방법\n",
    "본 분석에서는 각 최적화 조건(`Size_Opt`, `Adj_Opt`, `Ori_Opt`)에 따라 그룹을 나누어, 각 그룹별 피트니스 지표의 평균값 및 표준편차, 최대값과 최소값 등을 계산하였다. 이를 통해 각 최적화 조건이 방의 크기, 인접성, 방향성, 단순성, 직사각형성, 규칙성, 공간활용비율(PA Ratio), 그리고 가중치 피트니스 지표에 미치는 영향을 파악하고자 하였다. 각 그룹의 통계값을 통해, 독립적인 최적화 요소와 복합적인 최적화가 관련 피트니스 지표에 어떤 차이를 보이는지 비교 분석하였다.\n",
    "\n",
    "#### 5.3. 최적화 조건별 결과 분석\n",
    "\n",
    "##### 5.3.1. 방 크기 최적화(`Size_Opt`)\n",
    "`Size_Opt`가 적용된 경우와 적용되지 않은 경우의 크기 만족도(`Size`) 지표를 비교한 결과, `Size_Opt`가 적용된 그룹의 평균 크기 만족도는 0.798로, 적용되지 않은 그룹(0.678)보다 약 17% 높게 나타났다. 이는 방 크기 최적화가 효과적으로 크기 관련 피트니스 지표를 향상시킴을 보여준다. 또한, 표준편차는 두 그룹 간에 큰 차이를 보이지 않아, 최적화 여부와 관계없이 크기 만족도의 분포가 유사한 것으로 나타났다. 다른 지표의 경우, 큰 차이를 보이지 않았으나, Rectangularity에서 사이즈 최적화를 \n",
    "\n",
    "- `Size_Opt = 1` (방 크기 최적화 적용): 평균 크기 만족도 0.798, 표준편차 0.099\n",
    "- `Size_Opt = 0` (방 크기 최적화 미적용): 평균 크기 만족도 0.678, 표준편차 0.092\n",
    "\n",
    "##### 5.3.2. 인접성 최적화(`Adj_Opt`)\n",
    "`Adj_Opt`를 적용한 그룹과 그렇지 않은 그룹 간의 인접성 만족도(`Adjacency`) 비교 결과, 최적화가 적용된 경우(평균 0.43)와 적용되지 않은 경우(평균 0.42) 간에 큰 차이가 없었다. 이는 인접성 최적화가 크기 최적화에 비해 상대적으로 제한적인 효과를 보일 수 있음을 시사한다. 그러나, 인접성 최적화가 적용되지 않은 그룹에서 인접성 만족도의 최소값은 0으로 나타나, 일부 케이스에서는 인접성이 크게 저하될 수 있음을 알 수 있다.\n",
    "\n",
    "- `Adj_Opt = 1` (인접성 최적화 적용): 평균 인접성 만족도 0.43\n",
    "- `Adj_Opt = 0` (인접성 최적화 미적용): 평균 인접성 만족도 0.42\n",
    "\n",
    "##### 5.3.3. 방향 최적화(`Ori_Opt`)\n",
    "방향 최적화(`Ori_Opt`)가 적용된 경우, 방의 방향 만족도(`Orientation`)는 평균 0.963으로, 최적화가 적용되지 않은 그룹(평균 0.529)보다 약 82% 더 높은 만족도를 보였다. 이는 방향 최적화가 해당 피트니스 지표에 매우 긍정적인 영향을 미친다는 것을 의미한다. 특히 최적화가 적용된 그룹의 표준편차(0.089)는 매우 작아, 대부분의 샘플이 높은 방향 만족도를 보임을 확인할 수 있었다.\n",
    "\n",
    "- `Ori_Opt = 1` (방향 최적화 적용): 평균 방향 만족도 0.963, 표준편차 0.089\n",
    "- `Ori_Opt = 0` (방향 최적화 미적용): 평균 방향 만족도 0.529, 표준편차 0.226\n",
    "\n",
    "#### 5.4. 복합 최적화 분석\n",
    "최적화 요소들이 복합적으로 적용된 경우, 개별 최적화와 비교했을 때 복합적인 영향을 미치는지를 분석하였다.\n",
    "\n",
    "##### 5.4.1. 방 크기 최적화 및 인접성 최적화 적용\n",
    "`Size_Opt`와 `Adj_Opt`가 모두 적용된 그룹에서는 크기 만족도(평균 0.811)가 단일 `Size_Opt` 적용 그룹(0.794)보다 약간 더 높게 나타났으나, 차이는 크지 않았다. 이는 인접성 최적화가 방 크기 최적화에 미치는 직접적인 상호작용이 제한적일 수 있음을 의미한다.\n",
    "\n",
    "##### 5.4.2. 방 크기 및 방향 최적화 적용\n",
    "`Size_Opt`와 `Ori_Opt`가 모두 적용된 경우, 방향 만족도는 0.889로, 단일 `Ori_Opt` 적용 그룹(0.963)보다 다소 낮게 나타났다. 이는 크기 최적화가 방의 방향성을 완벽하게 만족시키기 어려운 점을 시사하며, 상충되는 요구 사항이 있을 수 있음을 보여준다.\n",
    "\n",
    "#### 5.5. 상관관계 분석\n",
    "상관관계 분석 결과, 방 크기 최적화(`Size_Opt`)는 크기 만족도(`Size`)와 강한 양의 상관관계(0.566)를 보였으며, 방향 최적화(`Ori_Opt`)는 방향 만족도(`Orientation`)와 매우 강한 양의 상관관계(0.811)를 나타냈다. 반면 인접성 최적화(`Adj_Opt`)는 인접성 만족도와 약한 상관관계(0.0907)를 보여, 크기나 방향에 비해 인접성의 영향이 적다는 점을 확인할 수 있었다.\n",
    "\n",
    "### 6. 결론\n",
    "본 연구에서는 세 가지 주요 최적화 요소(`Size_Opt`, `Adj_Opt`, `Ori_Opt`)가 개별적 및 복합적으로 피트니스 지표에 미치는 영향을 분석하였다. 방 크기 최적화와 방향 최적화는 해당 피트니스 지표에 강한 영향을 미치는 반면, 인접성 최적화는 상대적으로 제한적인 효과를 보였다. 또한, 복합 최적화를 통해서는 상호 간의 영향을 확인할 수 있었으며, 특히 방 크기와 방향 최적화는 상충되는 요구 사항이 있음을 확인할 수 있었다."
   ],
   "metadata": {
    "collapsed": false
   },
   "id": "c640764def98f187"
  },
  {
   "cell_type": "code",
   "execution_count": null,
   "outputs": [],
   "source": [],
   "metadata": {
    "collapsed": false
   },
   "id": "968fbcdf7f49a14"
  }
 ],
 "metadata": {
  "kernelspec": {
   "display_name": "Python 3",
   "language": "python",
   "name": "python3"
  },
  "language_info": {
   "codemirror_mode": {
    "name": "ipython",
    "version": 2
   },
   "file_extension": ".py",
   "mimetype": "text/x-python",
   "name": "python",
   "nbconvert_exporter": "python",
   "pygments_lexer": "ipython2",
   "version": "2.7.6"
  }
 },
 "nbformat": 4,
 "nbformat_minor": 5
}
