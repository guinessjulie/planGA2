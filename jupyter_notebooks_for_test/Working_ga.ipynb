{
 "cells": [
  {
   "cell_type": "code",
   "execution_count": null,
   "id": "initial_id",
   "metadata": {
    "collapsed": true
   },
   "outputs": [],
   "source": []
  },
  {
   "cell_type": "code",
   "execution_count": 1,
   "outputs": [
    {
     "data": {
      "text/plain": "array([[ 8,  8,  8,  8,  7,  7,  7,  1,  1,  1,  1,  1,  6,  6,  2,  2],\n       [ 8,  8,  8,  8,  7,  7,  7,  1,  1,  1,  1,  1,  6,  6,  2,  2],\n       [ 5,  5,  5,  5,  4,  4,  4,  4,  1,  1,  1,  1,  6,  6,  6,  6],\n       [ 5,  5,  5,  5,  4,  4,  4,  4,  3,  3,  3,  3,  3,  6,  6,  6],\n       [ 5,  5,  5,  5,  4,  4,  4,  4,  3,  3,  3,  3,  3,  3,  3,  3],\n       [ 5,  5,  5,  5,  4,  4,  4,  4,  1,  3,  3,  3,  3,  3,  3,  3],\n       [ 5,  5,  5,  5,  4,  4,  4,  4,  1,  1,  1,  1, -1, -1, -1, -1],\n       [ 5,  5,  5,  5,  4,  4,  4,  4,  1,  1,  1,  1, -1, -1, -1, -1],\n       [-1, -1, -1, -1, -1, -1,  4,  4,  4,  4, -1, -1, -1, -1, -1, -1],\n       [-1, -1, -1, -1, -1, -1,  4,  4,  4,  4, -1, -1, -1, -1, -1, -1]])"
     },
     "execution_count": 1,
     "metadata": {},
     "output_type": "execute_result"
    }
   ],
   "source": [
    "import numpy as np\n",
    "import random\n",
    "\n",
    "# 부모 배열 정의 (이전과 동일)\n",
    "parent1 = np.array([\n",
    "    [ 1,  1,  2,  2,  2,  2,  2,  2,  2,  2,  2,  4,  4,  4,  4,  4],\n",
    "    [ 1,  1,  2,  2,  2,  2,  2,  6,  2,  2,  2,  4,  4,  4,  4,  4],\n",
    "    [ 1,  1,  1,  1,  1,  1,  1,  6,  2,  2,  2,  4,  4,  4,  4,  4],\n",
    "    [ 1,  1,  1,  1,  1,  1,  1,  1,  3,  3,  3,  3,  3,  4,  4,  4],\n",
    "    [ 1,  1,  1,  1,  1,  1,  1,  1,  3,  3,  3,  3,  3,  3,  3,  3],\n",
    "    [ 1,  1,  1,  1,  1,  7,  7,  5,  5,  3,  3,  3,  3,  3,  3,  3],\n",
    "    [ 1,  1,  1,  1,  1,  7,  7,  5,  5,  8,  8,  8, -1, -1, -1, -1],\n",
    "    [ 1,  1,  1,  1,  1,  7,  7,  5,  5,  8,  8,  8, -1, -1, -1, -1],\n",
    "    [-1, -1, -1, -1, -1, -1,  5,  5,  5,  5, -1, -1, -1, -1, -1, -1],\n",
    "    [-1, -1, -1, -1, -1, -1,  5,  5,  5,  5, -1, -1, -1, -1, -1, -1]\n",
    "])\n",
    "\n",
    "parent2 = np.array([\n",
    "    [ 8,  8,  8,  8,  7,  7,  7,  1,  1,  1,  1,  1,  6,  6,  2,  2],\n",
    "    [ 8,  8,  8,  8,  7,  7,  7,  1,  1,  1,  1,  1,  6,  6,  2,  2],\n",
    "    [ 5,  5,  5,  5,  4,  4,  4,  4,  1,  1,  1,  1,  6,  6,  6,  6],\n",
    "    [ 5,  5,  5,  5,  4,  4,  4,  4,  1,  1,  1,  1,  6,  6,  6,  6],\n",
    "    [ 5,  5,  5,  5,  4,  4,  4,  4,  1,  1,  1,  1,  3,  3,  3,  3],\n",
    "    [ 5,  5,  5,  5,  4,  4,  4,  4,  1,  1,  1,  1,  3,  3,  3,  3],\n",
    "    [ 5,  5,  5,  5,  4,  4,  4,  4,  1,  1,  1,  1, -1, -1, -1, -1],\n",
    "    [ 5,  5,  5,  5,  4,  4,  4,  4,  1,  1,  1,  1, -1, -1, -1, -1],\n",
    "    [-1, -1, -1, -1, -1, -1,  4,  4,  4,  4, -1, -1, -1, -1, -1, -1],\n",
    "    [-1, -1, -1, -1, -1, -1,  4,  4,  4,  4, -1, -1, -1, -1, -1, -1]\n",
    "])\n",
    "\n",
    "# 특정 방 하나를 parent1에서 선택, 나머지 방은 parent2에서 선택\n",
    "def combine_floorplans(parent1, parent2, selected_room):\n",
    "    combined = np.where(parent1 == selected_room, parent1, parent2)  # parent1에서 선택한 방을 유지, 나머지는 parent2에서\n",
    "    return combined\n",
    "\n",
    "# 빈 셀(0)을 인접한 셀의 방 번호로 채우기\n",
    "def fill_empty_cells(floorplan):\n",
    "    filled_floorplan = floorplan.copy()\n",
    "    rows, cols = filled_floorplan.shape\n",
    "    for i in range(rows):\n",
    "        for j in range(cols):\n",
    "            if filled_floorplan[i, j] == 0:  # 빈 셀인 경우\n",
    "                neighbors = get_neighbors(filled_floorplan, i, j)\n",
    "                if neighbors:\n",
    "                    filled_floorplan[i, j] = random.choice(neighbors)  # 인접한 방 번호 중 하나로 채움\n",
    "    return filled_floorplan\n",
    "\n",
    "# 인접한 셀들의 방 번호를 가져오는 함수\n",
    "def get_neighbors(floorplan, i, j):\n",
    "    neighbors = []\n",
    "    if i > 0 and floorplan[i-1, j] != 0:\n",
    "        neighbors.append(floorplan[i-1, j])\n",
    "    if i < floorplan.shape[0] - 1 and floorplan[i+1, j] != 0:\n",
    "        neighbors.append(floorplan[i+1, j])\n",
    "    if j > 0 and floorplan[i, j-1] != 0:\n",
    "        neighbors.append(floorplan[i, j-1])\n",
    "    if j < floorplan.shape[1] - 1 and floorplan[i, j+1] != 0:\n",
    "        neighbors.append(floorplan[i, j+1])\n",
    "    return neighbors\n",
    "\n",
    "# 방 번호 3을 parent1에서 선택하고, 나머지는 parent2에서 선택하여 새로운 floorplan 생성\n",
    "combined_floorplan = combine_floorplans(parent1, parent2, 3)\n",
    "\n",
    "# 빈 셀을 인접 셀의 방 번호로 채움\n",
    "final_floorplan = fill_empty_cells(combined_floorplan)\n",
    "final_floorplan\n"
   ],
   "metadata": {
    "collapsed": false,
    "ExecuteTime": {
     "end_time": "2024-09-02T07:55:30.208795400Z",
     "start_time": "2024-09-02T07:55:29.968043100Z"
    }
   },
   "id": "54b3cd3e3828ff2a"
  },
  {
   "cell_type": "code",
   "execution_count": 9,
   "outputs": [
    {
     "ename": "KeyboardInterrupt",
     "evalue": "",
     "output_type": "error",
     "traceback": [
      "\u001B[1;31m---------------------------------------------------------------------------\u001B[0m",
      "\u001B[1;31mKeyboardInterrupt\u001B[0m                         Traceback (most recent call last)",
      "Cell \u001B[1;32mIn[9], line 66\u001B[0m\n\u001B[0;32m     63\u001B[0m     \u001B[38;5;28;01mreturn\u001B[39;00m floorplan\n\u001B[0;32m     65\u001B[0m \u001B[38;5;66;03m# 덩어리를 병합한 결과를 확인\u001B[39;00m\n\u001B[1;32m---> 66\u001B[0m final_floorplan \u001B[38;5;241m=\u001B[39m \u001B[43mmerge_components\u001B[49m\u001B[43m(\u001B[49m\u001B[43mcombined_floorplan\u001B[49m\u001B[43m,\u001B[49m\u001B[43m \u001B[49m\u001B[38;5;241;43m1\u001B[39;49m\u001B[43m)\u001B[49m\n\u001B[0;32m     67\u001B[0m final_floorplan\n",
      "Cell \u001B[1;32mIn[9], line 43\u001B[0m, in \u001B[0;36mmerge_components\u001B[1;34m(floorplan, room_number)\u001B[0m\n\u001B[0;32m     40\u001B[0m \u001B[38;5;28;01mfor\u001B[39;00m (x, y) \u001B[38;5;129;01min\u001B[39;00m small_component_coords:\n\u001B[0;32m     41\u001B[0m     \u001B[38;5;66;03m# 인접한 큰 덩어리의 셀로 병합\u001B[39;00m\n\u001B[0;32m     42\u001B[0m     neighbors \u001B[38;5;241m=\u001B[39m get_neighbors_coords(labeled_array, x, y, largest_component_label)\n\u001B[1;32m---> 43\u001B[0m     \u001B[38;5;28;01mif\u001B[39;00m \u001B[43mneighbors\u001B[49m:\n\u001B[0;32m     44\u001B[0m         nearest_neighbor \u001B[38;5;241m=\u001B[39m neighbors[\u001B[38;5;241m0\u001B[39m]  \u001B[38;5;66;03m# 가장 가까운 이웃을 선택\u001B[39;00m\n\u001B[0;32m     45\u001B[0m         floorplan[x, y] \u001B[38;5;241m=\u001B[39m room_number\n",
      "File \u001B[1;32m_pydevd_bundle\\pydevd_cython_win32_311_64.pyx:1179\u001B[0m, in \u001B[0;36m_pydevd_bundle.pydevd_cython_win32_311_64.SafeCallWrapper.__call__\u001B[1;34m()\u001B[0m\n",
      "File \u001B[1;32m_pydevd_bundle\\pydevd_cython_win32_311_64.pyx:620\u001B[0m, in \u001B[0;36m_pydevd_bundle.pydevd_cython_win32_311_64.PyDBFrame.trace_dispatch\u001B[1;34m()\u001B[0m\n",
      "File \u001B[1;32m_pydevd_bundle\\pydevd_cython_win32_311_64.pyx:1095\u001B[0m, in \u001B[0;36m_pydevd_bundle.pydevd_cython_win32_311_64.PyDBFrame.trace_dispatch\u001B[1;34m()\u001B[0m\n",
      "File \u001B[1;32m_pydevd_bundle\\pydevd_cython_win32_311_64.pyx:1053\u001B[0m, in \u001B[0;36m_pydevd_bundle.pydevd_cython_win32_311_64.PyDBFrame.trace_dispatch\u001B[1;34m()\u001B[0m\n",
      "File \u001B[1;32mC:\\Program Files\\JetBrains\\PyCharm 2023.2.5\\plugins\\python\\helpers-pro\\jupyter_debug\\pydev_jupyter_plugin.py:169\u001B[0m, in \u001B[0;36mstop\u001B[1;34m(plugin, pydb, frame, event, args, stop_info, arg, step_cmd)\u001B[0m\n\u001B[0;32m    167\u001B[0m     frame \u001B[38;5;241m=\u001B[39m suspend_jupyter(main_debugger, thread, frame, step_cmd)\n\u001B[0;32m    168\u001B[0m     \u001B[38;5;28;01mif\u001B[39;00m frame:\n\u001B[1;32m--> 169\u001B[0m         \u001B[43mmain_debugger\u001B[49m\u001B[38;5;241;43m.\u001B[39;49m\u001B[43mdo_wait_suspend\u001B[49m\u001B[43m(\u001B[49m\u001B[43mthread\u001B[49m\u001B[43m,\u001B[49m\u001B[43m \u001B[49m\u001B[43mframe\u001B[49m\u001B[43m,\u001B[49m\u001B[43m \u001B[49m\u001B[43mevent\u001B[49m\u001B[43m,\u001B[49m\u001B[43m \u001B[49m\u001B[43marg\u001B[49m\u001B[43m)\u001B[49m\n\u001B[0;32m    170\u001B[0m         \u001B[38;5;28;01mreturn\u001B[39;00m \u001B[38;5;28;01mTrue\u001B[39;00m\n\u001B[0;32m    171\u001B[0m \u001B[38;5;28;01mreturn\u001B[39;00m \u001B[38;5;28;01mFalse\u001B[39;00m\n",
      "File \u001B[1;32mC:\\Program Files\\JetBrains\\PyCharm 2023.2.5\\plugins\\python\\helpers\\pydev\\pydevd.py:1160\u001B[0m, in \u001B[0;36mPyDB.do_wait_suspend\u001B[1;34m(self, thread, frame, event, arg, send_suspend_message, is_unhandled_exception)\u001B[0m\n\u001B[0;32m   1157\u001B[0m         from_this_thread\u001B[38;5;241m.\u001B[39mappend(frame_id)\n\u001B[0;32m   1159\u001B[0m \u001B[38;5;28;01mwith\u001B[39;00m \u001B[38;5;28mself\u001B[39m\u001B[38;5;241m.\u001B[39m_threads_suspended_single_notification\u001B[38;5;241m.\u001B[39mnotify_thread_suspended(thread_id, stop_reason):\n\u001B[1;32m-> 1160\u001B[0m     \u001B[38;5;28;43mself\u001B[39;49m\u001B[38;5;241;43m.\u001B[39;49m\u001B[43m_do_wait_suspend\u001B[49m\u001B[43m(\u001B[49m\u001B[43mthread\u001B[49m\u001B[43m,\u001B[49m\u001B[43m \u001B[49m\u001B[43mframe\u001B[49m\u001B[43m,\u001B[49m\u001B[43m \u001B[49m\u001B[43mevent\u001B[49m\u001B[43m,\u001B[49m\u001B[43m \u001B[49m\u001B[43marg\u001B[49m\u001B[43m,\u001B[49m\u001B[43m \u001B[49m\u001B[43msuspend_type\u001B[49m\u001B[43m,\u001B[49m\u001B[43m \u001B[49m\u001B[43mfrom_this_thread\u001B[49m\u001B[43m)\u001B[49m\n",
      "File \u001B[1;32mC:\\Program Files\\JetBrains\\PyCharm 2023.2.5\\plugins\\python\\helpers\\pydev\\pydevd.py:1175\u001B[0m, in \u001B[0;36mPyDB._do_wait_suspend\u001B[1;34m(self, thread, frame, event, arg, suspend_type, from_this_thread)\u001B[0m\n\u001B[0;32m   1172\u001B[0m             \u001B[38;5;28mself\u001B[39m\u001B[38;5;241m.\u001B[39m_call_mpl_hook()\n\u001B[0;32m   1174\u001B[0m         \u001B[38;5;28mself\u001B[39m\u001B[38;5;241m.\u001B[39mprocess_internal_commands()\n\u001B[1;32m-> 1175\u001B[0m         time\u001B[38;5;241m.\u001B[39msleep(\u001B[38;5;241m0.01\u001B[39m)\n\u001B[0;32m   1177\u001B[0m \u001B[38;5;28mself\u001B[39m\u001B[38;5;241m.\u001B[39mcancel_async_evaluation(get_current_thread_id(thread), \u001B[38;5;28mstr\u001B[39m(\u001B[38;5;28mid\u001B[39m(frame)))\n\u001B[0;32m   1179\u001B[0m \u001B[38;5;66;03m# process any stepping instructions\u001B[39;00m\n",
      "\u001B[1;31mKeyboardInterrupt\u001B[0m: "
     ]
    }
   ],
   "source": [
    "import numpy as np\n",
    "from scipy.ndimage import label\n",
    "\n",
    "# 특정 좌표의 이웃 좌표를 찾는 함수 (개선된 버전)\n",
    "def get_neighbors_coords(labeled_array, x, y, target_label):\n",
    "    neighbors = []\n",
    "    if x > 0 and labeled_array[x-1, y] == target_label:\n",
    "        neighbors.append((x-1, y))\n",
    "    if x < labeled_array.shape[0] - 1 and labeled_array[x+1, y] == target_label:\n",
    "        neighbors.append((x+1, y))\n",
    "    if y > 0 and labeled_array[x, y-1] == target_label:\n",
    "        neighbors.append((x, y-1))\n",
    "    if y < labeled_array.shape[1] - 1 and labeled_array[x, y+1] == target_label:\n",
    "        neighbors.append((x, y+1))\n",
    "\n",
    "    return neighbors\n",
    "\n",
    "# 연결된 구성 요소를 식별하고 작은 덩어리를 큰 덩어리에 병합하는 함수\n",
    "def merge_components(floorplan, room_number):\n",
    "    # 방 번호가 room_number인 부분만 추출\n",
    "    binary_floorplan = (floorplan == room_number).astype(int)\n",
    "\n",
    "    # 연결된 구성 요소 식별\n",
    "    labeled_array, num_features = label(binary_floorplan)\n",
    "    \n",
    "    if num_features <= 1:\n",
    "        return floorplan  # 이미 하나의 덩어리로 되어 있으면 반환\n",
    "\n",
    "    # 각 덩어리의 크기 계산\n",
    "    component_sizes = [(labeled_array == i).sum() for i in range(1, num_features + 1)]\n",
    "    \n",
    "    # 가장 큰 덩어리의 레이블 찾기\n",
    "    largest_component_label = component_sizes.index(max(component_sizes)) + 1\n",
    "\n",
    "    # 가장 큰 덩어리를 유지하고, 나머지를 병합\n",
    "    for i in range(1, num_features + 1):\n",
    "        if i != largest_component_label:\n",
    "            # 작은 덩어리의 좌표\n",
    "            small_component_coords = np.argwhere(labeled_array == i)\n",
    "            for (x, y) in small_component_coords:\n",
    "                # 인접한 큰 덩어리의 셀로 병합\n",
    "                neighbors = get_neighbors_coords(labeled_array, x, y, largest_component_label)\n",
    "                if neighbors:\n",
    "                    nearest_neighbor = neighbors[0]  # 가장 가까운 이웃을 선택\n",
    "                    floorplan[x, y] = room_number\n",
    "\n",
    "    # 남아 있는 빈 셀을 채우기 위해 재시도\n",
    "    binary_floorplan = (floorplan == room_number).astype(int)\n",
    "    labeled_array, num_features = label(binary_floorplan)\n",
    "    if num_features > 1:\n",
    "        floorplan = fill_remaining_empty_spaces(floorplan, labeled_array, largest_component_label, room_number)\n",
    "    \n",
    "    return floorplan\n",
    "\n",
    "# 남은 빈 셀을 채우는 함수\n",
    "def fill_remaining_empty_spaces(floorplan, labeled_array, largest_component_label, room_number):\n",
    "    for i in range(labeled_array.shape[0]):\n",
    "        for j in range(labeled_array.shape[1]):\n",
    "            if labeled_array[i, j] != largest_component_label and labeled_array[i, j] > 0:\n",
    "                neighbors = get_neighbors_coords(labeled_array, i, j, largest_component_label)\n",
    "                if neighbors:\n",
    "                    floorplan[i, j] = room_number\n",
    "    return floorplan\n",
    "\n",
    "# 덩어리를 병합한 결과를 확인\n",
    "final_floorplan = merge_components(combined_floorplan, 1)\n",
    "final_floorplan\n"
   ],
   "metadata": {
    "collapsed": false,
    "ExecuteTime": {
     "end_time": "2024-09-02T08:21:07.001539800Z",
     "start_time": "2024-09-02T08:13:48.459040800Z"
    }
   },
   "id": "9d5c1e8e92acf5b5"
  },
  {
   "cell_type": "code",
   "execution_count": 10,
   "outputs": [
    {
     "data": {
      "text/plain": "array([[ 8,  8,  8,  8,  7,  7,  7,  1,  1,  1,  1,  1,  6,  6,  2,  2],\n       [ 8,  8,  8,  8,  7,  7,  7,  1,  1,  1,  1,  1,  6,  6,  2,  2],\n       [ 5,  5,  5,  5,  4,  4,  4,  4,  1,  1,  1,  1,  6,  6,  6,  6],\n       [ 5,  5,  5,  5,  4,  4,  4,  4,  1,  3,  3,  3,  3,  6,  6,  6],\n       [ 5,  5,  5,  5,  4,  4,  4,  4,  1,  3,  3,  3,  3,  3,  3,  3],\n       [ 5,  5,  5,  5,  4,  4,  4,  4,  1,  3,  3,  3,  3,  3,  3,  3],\n       [ 5,  5,  5,  5,  4,  4,  4,  4,  1,  1,  1,  1, -1, -1, -1, -1],\n       [ 5,  5,  5,  5,  4,  4,  4,  4,  1,  1,  1,  1, -1, -1, -1, -1],\n       [-1, -1, -1, -1, -1, -1,  4,  4,  4,  4, -1, -1, -1, -1, -1, -1],\n       [-1, -1, -1, -1, -1, -1,  4,  4,  4,  4, -1, -1, -1, -1, -1, -1]])"
     },
     "execution_count": 10,
     "metadata": {},
     "output_type": "execute_result"
    }
   ],
   "source": [
    "import numpy as np\n",
    "from scipy.ndimage import label\n",
    "from scipy.spatial import distance\n",
    "from queue import Queue\n",
    "\n",
    "# 두 덩어리 사이의 최단 경로를 찾아서 병합하는 함수\n",
    "def find_shortest_path_and_merge(floorplan, room_number):\n",
    "    binary_floorplan = (floorplan == room_number).astype(int)\n",
    "    labeled_array, num_features = label(binary_floorplan)\n",
    "\n",
    "    if num_features <= 1:\n",
    "        return floorplan\n",
    "\n",
    "    # 각 덩어리의 좌표들 가져오기\n",
    "    component_coords = [np.argwhere(labeled_array == i) for i in range(1, num_features + 1)]\n",
    "\n",
    "    # 가장 큰 덩어리 선택\n",
    "    largest_component = max(component_coords, key=len)\n",
    "\n",
    "    # 작은 덩어리들을 큰 덩어리에 병합\n",
    "    for small_component in component_coords:\n",
    "        if np.array_equal(small_component, largest_component):\n",
    "            continue\n",
    "\n",
    "        # 작은 덩어리와 큰 덩어리 사이의 최소 거리 계산\n",
    "        shortest_dist = float('inf')\n",
    "        closest_pair = None\n",
    "\n",
    "        for small_coord in small_component:\n",
    "            for large_coord in largest_component:\n",
    "                dist = np.linalg.norm(small_coord - large_coord)\n",
    "                if dist < shortest_dist:\n",
    "                    shortest_dist = dist\n",
    "                    closest_pair = (small_coord, large_coord)\n",
    "\n",
    "        # 두 덩어리 사이의 경로 채우기\n",
    "        if closest_pair:\n",
    "            small_coord, large_coord = closest_pair\n",
    "            path = draw_path(small_coord, large_coord)\n",
    "            for (x, y) in path:\n",
    "                floorplan[x, y] = room_number\n",
    "\n",
    "    return floorplan\n",
    "\n",
    "# 두 좌표 사이의 직선 경로를 그리는 함수\n",
    "def draw_path(start, end):\n",
    "    path = []\n",
    "    x1, y1 = start\n",
    "    x2, y2 = end\n",
    "    while (x1, y1) != (x2, y2):\n",
    "        if x1 < x2:\n",
    "            x1 += 1\n",
    "        elif x1 > x2:\n",
    "            x1 -= 1\n",
    "        if y1 < y2:\n",
    "            y1 += 1\n",
    "        elif y1 > y2:\n",
    "            y1 -= 1\n",
    "        path.append((x1, y1))\n",
    "    return path\n",
    "\n",
    "# 덩어리를 병합한 결과를 확인\n",
    "final_floorplan = find_shortest_path_and_merge(combined_floorplan, 1)\n",
    "final_floorplan\n"
   ],
   "metadata": {
    "collapsed": false,
    "ExecuteTime": {
     "end_time": "2024-09-02T08:21:10.111778800Z",
     "start_time": "2024-09-02T08:21:09.658014900Z"
    }
   },
   "id": "6b815e1bb12a21f7"
  },
  {
   "cell_type": "code",
   "execution_count": 13,
   "outputs": [
    {
     "ename": "AttributeError",
     "evalue": "'NoneType' object has no attribute 'get'",
     "output_type": "error",
     "traceback": [
      "\u001B[1;31m---------------------------------------------------------------------------\u001B[0m",
      "\u001B[1;31mAttributeError\u001B[0m                            Traceback (most recent call last)",
      "Cell \u001B[1;32mIn[13], line 2\u001B[0m\n\u001B[0;32m      1\u001B[0m \u001B[38;5;28;01mfrom\u001B[39;00m \u001B[38;5;21;01mGridDrawer\u001B[39;00m \u001B[38;5;28;01mimport\u001B[39;00m GridDrawer\n\u001B[1;32m----> 2\u001B[0m \u001B[43mGridDrawer\u001B[49m\u001B[38;5;241;43m.\u001B[39;49m\u001B[43mcolor_cells_by_value\u001B[49m\u001B[43m(\u001B[49m\u001B[43mparent1\u001B[49m\u001B[43m,\u001B[49m\u001B[43m \u001B[49m\u001B[38;5;124;43m'\u001B[39;49m\u001B[38;5;124;43m./\u001B[39;49m\u001B[38;5;124;43m'\u001B[39;49m\u001B[43m,\u001B[49m\u001B[43m \u001B[49m\u001B[38;5;124;43m'\u001B[39;49m\u001B[38;5;124;43mfinal\u001B[39;49m\u001B[38;5;124;43m'\u001B[39;49m\u001B[43m,\u001B[49m\u001B[43m \u001B[49m\u001B[38;5;28;43;01mTrue\u001B[39;49;00m\u001B[43m,\u001B[49m\u001B[43m \u001B[49m\u001B[38;5;28;43;01mTrue\u001B[39;49;00m\u001B[43m,\u001B[49m\u001B[43m \u001B[49m\u001B[38;5;241;43m8\u001B[39;49m\u001B[43m)\u001B[49m\n",
      "File \u001B[1;32mF:\\2024\\dev\\planGA\\GridDrawer.py:545\u001B[0m, in \u001B[0;36mGridDrawer.color_cells_by_value\u001B[1;34m(grid, filename, text, display, save, num_rooms)\u001B[0m\n\u001B[0;32m    543\u001B[0m ticks \u001B[38;5;241m=\u001B[39m \u001B[38;5;28mlist\u001B[39m(\u001B[38;5;28mrange\u001B[39m(\u001B[38;5;241m1\u001B[39m, num_rooms\u001B[38;5;241m+\u001B[39m\u001B[38;5;241m3\u001B[39m))\n\u001B[0;32m    544\u001B[0m tick_labels \u001B[38;5;241m=\u001B[39m  [\u001B[38;5;28mstr\u001B[39m(i) \u001B[38;5;28;01mfor\u001B[39;00m i \u001B[38;5;129;01min\u001B[39;00m \u001B[38;5;28mlist\u001B[39m(\u001B[38;5;28mrange\u001B[39m(\u001B[38;5;241m1\u001B[39m, num_rooms\u001B[38;5;241m+\u001B[39m\u001B[38;5;241m3\u001B[39m))]\n\u001B[1;32m--> 545\u001B[0m tick_labels \u001B[38;5;241m=\u001B[39m \u001B[43m[\u001B[49m\u001B[43mroom_names\u001B[49m\u001B[38;5;241;43m.\u001B[39;49m\u001B[43mget\u001B[49m\u001B[43m(\u001B[49m\u001B[43mi\u001B[49m\u001B[43m,\u001B[49m\u001B[43m \u001B[49m\u001B[38;5;28;43mstr\u001B[39;49m\u001B[43m(\u001B[49m\u001B[43mi\u001B[49m\u001B[43m)\u001B[49m\u001B[43m)\u001B[49m\u001B[43m \u001B[49m\u001B[38;5;28;43;01mfor\u001B[39;49;00m\u001B[43m \u001B[49m\u001B[43mi\u001B[49m\u001B[43m \u001B[49m\u001B[38;5;129;43;01min\u001B[39;49;00m\u001B[43m \u001B[49m\u001B[43mticks\u001B[49m\u001B[43m]\u001B[49m\n\u001B[0;32m    547\u001B[0m colorbar \u001B[38;5;241m=\u001B[39m fig\u001B[38;5;241m.\u001B[39mcolorbar(cax, shrink\u001B[38;5;241m=\u001B[39m\u001B[38;5;241m0.8\u001B[39m, ticks\u001B[38;5;241m=\u001B[39mticks)\n\u001B[0;32m    548\u001B[0m colorbar\u001B[38;5;241m.\u001B[39mset_ticklabels(tick_labels)\n",
      "File \u001B[1;32mF:\\2024\\dev\\planGA\\GridDrawer.py:545\u001B[0m, in \u001B[0;36m<listcomp>\u001B[1;34m(.0)\u001B[0m\n\u001B[0;32m    543\u001B[0m ticks \u001B[38;5;241m=\u001B[39m \u001B[38;5;28mlist\u001B[39m(\u001B[38;5;28mrange\u001B[39m(\u001B[38;5;241m1\u001B[39m, num_rooms\u001B[38;5;241m+\u001B[39m\u001B[38;5;241m3\u001B[39m))\n\u001B[0;32m    544\u001B[0m tick_labels \u001B[38;5;241m=\u001B[39m  [\u001B[38;5;28mstr\u001B[39m(i) \u001B[38;5;28;01mfor\u001B[39;00m i \u001B[38;5;129;01min\u001B[39;00m \u001B[38;5;28mlist\u001B[39m(\u001B[38;5;28mrange\u001B[39m(\u001B[38;5;241m1\u001B[39m, num_rooms\u001B[38;5;241m+\u001B[39m\u001B[38;5;241m3\u001B[39m))]\n\u001B[1;32m--> 545\u001B[0m tick_labels \u001B[38;5;241m=\u001B[39m [\u001B[43mroom_names\u001B[49m\u001B[38;5;241;43m.\u001B[39;49m\u001B[43mget\u001B[49m(i, \u001B[38;5;28mstr\u001B[39m(i)) \u001B[38;5;28;01mfor\u001B[39;00m i \u001B[38;5;129;01min\u001B[39;00m ticks]\n\u001B[0;32m    547\u001B[0m colorbar \u001B[38;5;241m=\u001B[39m fig\u001B[38;5;241m.\u001B[39mcolorbar(cax, shrink\u001B[38;5;241m=\u001B[39m\u001B[38;5;241m0.8\u001B[39m, ticks\u001B[38;5;241m=\u001B[39mticks)\n\u001B[0;32m    548\u001B[0m colorbar\u001B[38;5;241m.\u001B[39mset_ticklabels(tick_labels)\n",
      "\u001B[1;31mAttributeError\u001B[0m: 'NoneType' object has no attribute 'get'"
     ]
    },
    {
     "data": {
      "text/plain": "<Figure size 640x480 with 1 Axes>",
      "image/png": "[encoded data removed]"
     },
     "metadata": {},
     "output_type": "display_data"
    }
   ],
   "source": [
    "from GridDrawer import GridDrawer\n",
    "GridDrawer.color_cells_by_value(parent1, './', 'parent1', True, True, 8)"
   ],
   "metadata": {
    "collapsed": false,
    "ExecuteTime": {
     "end_time": "2024-09-02T08:24:04.788129700Z",
     "start_time": "2024-09-02T08:24:04.440724200Z"
    }
   },
   "id": "f15ef0bd8ee3e59e"
  },
  {
   "cell_type": "code",
   "execution_count": 15,
   "outputs": [
    {
     "ename": "AttributeError",
     "evalue": "'NoneType' object has no attribute 'get'",
     "output_type": "error",
     "traceback": [
      "\u001B[1;31m---------------------------------------------------------------------------\u001B[0m",
      "\u001B[1;31mAttributeError\u001B[0m                            Traceback (most recent call last)",
      "Cell \u001B[1;32mIn[15], line 1\u001B[0m\n\u001B[1;32m----> 1\u001B[0m \u001B[43mGridDrawer\u001B[49m\u001B[38;5;241;43m.\u001B[39;49m\u001B[43mcolor_cells_by_value\u001B[49m\u001B[43m(\u001B[49m\u001B[43mparent2\u001B[49m\u001B[43m,\u001B[49m\u001B[43m \u001B[49m\u001B[38;5;124;43m'\u001B[39;49m\u001B[38;5;124;43m./\u001B[39;49m\u001B[38;5;124;43m'\u001B[39;49m\u001B[43m,\u001B[49m\u001B[43m \u001B[49m\u001B[38;5;124;43m'\u001B[39;49m\u001B[38;5;124;43mparent2\u001B[39;49m\u001B[38;5;124;43m'\u001B[39;49m\u001B[43m,\u001B[49m\u001B[43m \u001B[49m\u001B[38;5;28;43;01mTrue\u001B[39;49;00m\u001B[43m,\u001B[49m\u001B[43m \u001B[49m\u001B[38;5;28;43;01mTrue\u001B[39;49;00m\u001B[43m,\u001B[49m\u001B[43m \u001B[49m\u001B[38;5;241;43m8\u001B[39;49m\u001B[43m)\u001B[49m\n",
      "File \u001B[1;32mF:\\2024\\dev\\planGA\\GridDrawer.py:545\u001B[0m, in \u001B[0;36mGridDrawer.color_cells_by_value\u001B[1;34m(grid, filename, text, display, save, num_rooms)\u001B[0m\n\u001B[0;32m    543\u001B[0m ticks \u001B[38;5;241m=\u001B[39m \u001B[38;5;28mlist\u001B[39m(\u001B[38;5;28mrange\u001B[39m(\u001B[38;5;241m1\u001B[39m, num_rooms\u001B[38;5;241m+\u001B[39m\u001B[38;5;241m3\u001B[39m))\n\u001B[0;32m    544\u001B[0m tick_labels \u001B[38;5;241m=\u001B[39m  [\u001B[38;5;28mstr\u001B[39m(i) \u001B[38;5;28;01mfor\u001B[39;00m i \u001B[38;5;129;01min\u001B[39;00m \u001B[38;5;28mlist\u001B[39m(\u001B[38;5;28mrange\u001B[39m(\u001B[38;5;241m1\u001B[39m, num_rooms\u001B[38;5;241m+\u001B[39m\u001B[38;5;241m3\u001B[39m))]\n\u001B[1;32m--> 545\u001B[0m tick_labels \u001B[38;5;241m=\u001B[39m \u001B[43m[\u001B[49m\u001B[43mroom_names\u001B[49m\u001B[38;5;241;43m.\u001B[39;49m\u001B[43mget\u001B[49m\u001B[43m(\u001B[49m\u001B[43mi\u001B[49m\u001B[43m,\u001B[49m\u001B[43m \u001B[49m\u001B[38;5;28;43mstr\u001B[39;49m\u001B[43m(\u001B[49m\u001B[43mi\u001B[49m\u001B[43m)\u001B[49m\u001B[43m)\u001B[49m\u001B[43m \u001B[49m\u001B[38;5;28;43;01mfor\u001B[39;49;00m\u001B[43m \u001B[49m\u001B[43mi\u001B[49m\u001B[43m \u001B[49m\u001B[38;5;129;43;01min\u001B[39;49;00m\u001B[43m \u001B[49m\u001B[43mticks\u001B[49m\u001B[43m]\u001B[49m\n\u001B[0;32m    547\u001B[0m colorbar \u001B[38;5;241m=\u001B[39m fig\u001B[38;5;241m.\u001B[39mcolorbar(cax, shrink\u001B[38;5;241m=\u001B[39m\u001B[38;5;241m0.8\u001B[39m, ticks\u001B[38;5;241m=\u001B[39mticks)\n\u001B[0;32m    548\u001B[0m colorbar\u001B[38;5;241m.\u001B[39mset_ticklabels(tick_labels)\n",
      "File \u001B[1;32mF:\\2024\\dev\\planGA\\GridDrawer.py:545\u001B[0m, in \u001B[0;36m<listcomp>\u001B[1;34m(.0)\u001B[0m\n\u001B[0;32m    543\u001B[0m ticks \u001B[38;5;241m=\u001B[39m \u001B[38;5;28mlist\u001B[39m(\u001B[38;5;28mrange\u001B[39m(\u001B[38;5;241m1\u001B[39m, num_rooms\u001B[38;5;241m+\u001B[39m\u001B[38;5;241m3\u001B[39m))\n\u001B[0;32m    544\u001B[0m tick_labels \u001B[38;5;241m=\u001B[39m  [\u001B[38;5;28mstr\u001B[39m(i) \u001B[38;5;28;01mfor\u001B[39;00m i \u001B[38;5;129;01min\u001B[39;00m \u001B[38;5;28mlist\u001B[39m(\u001B[38;5;28mrange\u001B[39m(\u001B[38;5;241m1\u001B[39m, num_rooms\u001B[38;5;241m+\u001B[39m\u001B[38;5;241m3\u001B[39m))]\n\u001B[1;32m--> 545\u001B[0m tick_labels \u001B[38;5;241m=\u001B[39m [\u001B[43mroom_names\u001B[49m\u001B[38;5;241;43m.\u001B[39;49m\u001B[43mget\u001B[49m(i, \u001B[38;5;28mstr\u001B[39m(i)) \u001B[38;5;28;01mfor\u001B[39;00m i \u001B[38;5;129;01min\u001B[39;00m ticks]\n\u001B[0;32m    547\u001B[0m colorbar \u001B[38;5;241m=\u001B[39m fig\u001B[38;5;241m.\u001B[39mcolorbar(cax, shrink\u001B[38;5;241m=\u001B[39m\u001B[38;5;241m0.8\u001B[39m, ticks\u001B[38;5;241m=\u001B[39mticks)\n\u001B[0;32m    548\u001B[0m colorbar\u001B[38;5;241m.\u001B[39mset_ticklabels(tick_labels)\n",
      "\u001B[1;31mAttributeError\u001B[0m: 'NoneType' object has no attribute 'get'"
     ]
    },
    {
     "data": {
      "text/plain": "<Figure size 640x480 with 1 Axes>",
      "image/png": "[encoded data removed]"
     },
     "metadata": {},
     "output_type": "display_data"
    }
   ],
   "source": [
    "GridDrawer.color_cells_by_value(parent2, './', 'parent2', True, True, 8)"
   ],
   "metadata": {
    "collapsed": false,
    "ExecuteTime": {
     "end_time": "2024-09-02T08:24:29.050085900Z",
     "start_time": "2024-09-02T08:24:28.623433Z"
    }
   },
   "id": "608491010b1ef4a3"
  },
  {
   "cell_type": "code",
   "execution_count": 17,
   "outputs": [
    {
     "ename": "AttributeError",
     "evalue": "'NoneType' object has no attribute 'get'",
     "output_type": "error",
     "traceback": [
      "\u001B[1;31m---------------------------------------------------------------------------\u001B[0m",
      "\u001B[1;31mAttributeError\u001B[0m                            Traceback (most recent call last)",
      "Cell \u001B[1;32mIn[17], line 1\u001B[0m\n\u001B[1;32m----> 1\u001B[0m \u001B[43mGridDrawer\u001B[49m\u001B[38;5;241;43m.\u001B[39;49m\u001B[43mcolor_cells_by_value\u001B[49m\u001B[43m(\u001B[49m\u001B[43mfinal_floorplan\u001B[49m\u001B[43m,\u001B[49m\u001B[43m \u001B[49m\u001B[38;5;124;43m'\u001B[39;49m\u001B[38;5;124;43m./\u001B[39;49m\u001B[38;5;124;43m'\u001B[39;49m\u001B[43m,\u001B[49m\u001B[43m \u001B[49m\u001B[38;5;124;43m'\u001B[39;49m\u001B[38;5;124;43mfinal\u001B[39;49m\u001B[38;5;124;43m'\u001B[39;49m\u001B[43m,\u001B[49m\u001B[43m \u001B[49m\u001B[38;5;28;43;01mTrue\u001B[39;49;00m\u001B[43m,\u001B[49m\u001B[43m \u001B[49m\u001B[38;5;28;43;01mTrue\u001B[39;49;00m\u001B[43m,\u001B[49m\u001B[43m \u001B[49m\u001B[38;5;241;43m8\u001B[39;49m\u001B[43m)\u001B[49m\n",
      "File \u001B[1;32mF:\\2024\\dev\\planGA\\GridDrawer.py:545\u001B[0m, in \u001B[0;36mGridDrawer.color_cells_by_value\u001B[1;34m(grid, filename, text, display, save, num_rooms)\u001B[0m\n\u001B[0;32m    543\u001B[0m ticks \u001B[38;5;241m=\u001B[39m \u001B[38;5;28mlist\u001B[39m(\u001B[38;5;28mrange\u001B[39m(\u001B[38;5;241m1\u001B[39m, num_rooms\u001B[38;5;241m+\u001B[39m\u001B[38;5;241m3\u001B[39m))\n\u001B[0;32m    544\u001B[0m tick_labels \u001B[38;5;241m=\u001B[39m  [\u001B[38;5;28mstr\u001B[39m(i) \u001B[38;5;28;01mfor\u001B[39;00m i \u001B[38;5;129;01min\u001B[39;00m \u001B[38;5;28mlist\u001B[39m(\u001B[38;5;28mrange\u001B[39m(\u001B[38;5;241m1\u001B[39m, num_rooms\u001B[38;5;241m+\u001B[39m\u001B[38;5;241m3\u001B[39m))]\n\u001B[1;32m--> 545\u001B[0m tick_labels \u001B[38;5;241m=\u001B[39m \u001B[43m[\u001B[49m\u001B[43mroom_names\u001B[49m\u001B[38;5;241;43m.\u001B[39;49m\u001B[43mget\u001B[49m\u001B[43m(\u001B[49m\u001B[43mi\u001B[49m\u001B[43m,\u001B[49m\u001B[43m \u001B[49m\u001B[38;5;28;43mstr\u001B[39;49m\u001B[43m(\u001B[49m\u001B[43mi\u001B[49m\u001B[43m)\u001B[49m\u001B[43m)\u001B[49m\u001B[43m \u001B[49m\u001B[38;5;28;43;01mfor\u001B[39;49;00m\u001B[43m \u001B[49m\u001B[43mi\u001B[49m\u001B[43m \u001B[49m\u001B[38;5;129;43;01min\u001B[39;49;00m\u001B[43m \u001B[49m\u001B[43mticks\u001B[49m\u001B[43m]\u001B[49m\n\u001B[0;32m    547\u001B[0m colorbar \u001B[38;5;241m=\u001B[39m fig\u001B[38;5;241m.\u001B[39mcolorbar(cax, shrink\u001B[38;5;241m=\u001B[39m\u001B[38;5;241m0.8\u001B[39m, ticks\u001B[38;5;241m=\u001B[39mticks)\n\u001B[0;32m    548\u001B[0m colorbar\u001B[38;5;241m.\u001B[39mset_ticklabels(tick_labels)\n",
      "File \u001B[1;32mF:\\2024\\dev\\planGA\\GridDrawer.py:545\u001B[0m, in \u001B[0;36m<listcomp>\u001B[1;34m(.0)\u001B[0m\n\u001B[0;32m    543\u001B[0m ticks \u001B[38;5;241m=\u001B[39m \u001B[38;5;28mlist\u001B[39m(\u001B[38;5;28mrange\u001B[39m(\u001B[38;5;241m1\u001B[39m, num_rooms\u001B[38;5;241m+\u001B[39m\u001B[38;5;241m3\u001B[39m))\n\u001B[0;32m    544\u001B[0m tick_labels \u001B[38;5;241m=\u001B[39m  [\u001B[38;5;28mstr\u001B[39m(i) \u001B[38;5;28;01mfor\u001B[39;00m i \u001B[38;5;129;01min\u001B[39;00m \u001B[38;5;28mlist\u001B[39m(\u001B[38;5;28mrange\u001B[39m(\u001B[38;5;241m1\u001B[39m, num_rooms\u001B[38;5;241m+\u001B[39m\u001B[38;5;241m3\u001B[39m))]\n\u001B[1;32m--> 545\u001B[0m tick_labels \u001B[38;5;241m=\u001B[39m [\u001B[43mroom_names\u001B[49m\u001B[38;5;241;43m.\u001B[39;49m\u001B[43mget\u001B[49m(i, \u001B[38;5;28mstr\u001B[39m(i)) \u001B[38;5;28;01mfor\u001B[39;00m i \u001B[38;5;129;01min\u001B[39;00m ticks]\n\u001B[0;32m    547\u001B[0m colorbar \u001B[38;5;241m=\u001B[39m fig\u001B[38;5;241m.\u001B[39mcolorbar(cax, shrink\u001B[38;5;241m=\u001B[39m\u001B[38;5;241m0.8\u001B[39m, ticks\u001B[38;5;241m=\u001B[39mticks)\n\u001B[0;32m    548\u001B[0m colorbar\u001B[38;5;241m.\u001B[39mset_ticklabels(tick_labels)\n",
      "\u001B[1;31mAttributeError\u001B[0m: 'NoneType' object has no attribute 'get'"
     ]
    },
    {
     "data": {
      "text/plain": "<Figure size 640x480 with 1 Axes>",
      "image/png": "[encoded data removed]"
     },
     "metadata": {},
     "output_type": "display_data"
    }
   ],
   "source": [
    "GridDrawer.color_cells_by_value(final_floorplan, './', 'final', True, True, 8)"
   ],
   "metadata": {
    "collapsed": false,
    "ExecuteTime": {
     "end_time": "2024-09-02T08:25:24.337200Z",
     "start_time": "2024-09-02T08:25:23.815282800Z"
    }
   },
   "id": "a755126b572cbc1"
  },
  {
   "cell_type": "code",
   "execution_count": 23,
   "outputs": [
    {
     "data": {
      "text/plain": "Counter({9: 16, 3: 15, 7: 14, 4: 14, 2: 12, 5: 10, 8: 9, 1: 5, 6: 5})"
     },
     "execution_count": 23,
     "metadata": {},
     "output_type": "execute_result"
    }
   ],
   "source": [
    "from collections import Counter\n",
    "r = []\n",
    "for i in range(100): \n",
    "    r.append(random.randint(1, 8))\n",
    "Counter(r)"
   ],
   "metadata": {
    "collapsed": false,
    "ExecuteTime": {
     "end_time": "2024-09-02T08:37:35.798270300Z",
     "start_time": "2024-09-02T08:37:35.785203800Z"
    }
   },
   "id": "7ccf20354069f528"
  },
  {
   "cell_type": "code",
   "execution_count": 23,
   "outputs": [],
   "source": [],
   "metadata": {
    "collapsed": false,
    "ExecuteTime": {
     "end_time": "2024-09-04T02:31:05.408711800Z",
     "start_time": "2024-09-04T02:31:05.375121100Z"
    }
   },
   "id": "a31a1c3bceb41035"
  },
  {
   "cell_type": "code",
   "execution_count": 24,
   "outputs": [],
   "source": [
    "import numpy as np\n",
    "from scipy.ndimage import label\n",
    "\n",
    "def uniform_crossover(self, parent1, parent2, num_rooms):\n",
    "    \"\"\"\n",
    "    균등 교차를 통해 자식 플로어플랜을 생성합니다.\n",
    "    \"\"\"\n",
    "    # 무작위 마스크 생성\n",
    "    mask = np.random.randint(0, 2, size=parent1.shape)\n",
    "    \n",
    "    # 마스크를 사용하여 자식 생성\n",
    "    child = np.where(mask == 1, parent1, parent2)\n",
    "    \n",
    "    # 각 방의 연결성 검사 및 복구\n",
    "    for room_number in range(1, num_rooms + 1):\n",
    "        child = self.ensure_room_connectivity(child, room_number)\n",
    "    \n",
    "    return child\n",
    "\n",
    "def ensure_room_connectivity(self, floorplan, room_number):\n",
    "    \"\"\"\n",
    "    특정 방의 연결성을 보장합니다.\n",
    "    \"\"\"\n",
    "    binary_floorplan = (floorplan == room_number).astype(int)\n",
    "    labeled_array, num_features = label(binary_floorplan)\n",
    "    \n",
    "    if num_features <= 1:\n",
    "        return floorplan  # 이미 연결되어 있음\n",
    "    \n",
    "    # 가장 큰 연결된 구성요소 유지\n",
    "    largest_component_label = np.argmax(np.bincount(labeled_array.flat)[1:]) + 1\n",
    "    floorplan[labeled_array != largest_component_label] = 0  # 분리된 부분 제거\n",
    "    \n",
    "    # 제거된 부분을 인접 방으로 채우기\n",
    "    floorplan = self.fill_removed_spaces(floorplan)\n",
    "    \n",
    "    return floorplan\n",
    "\n",
    "def fill_removed_spaces(self, floorplan):\n",
    "    \"\"\"\n",
    "    제거된 공간을 인접한 방으로 채웁니다.\n",
    "    \"\"\"\n",
    "    rows, cols = floorplan.shape\n",
    "    for i in range(rows):\n",
    "        for j in range(cols):\n",
    "            if floorplan[i, j] == 0:\n",
    "                neighbors = self.get_adjacent_rooms(floorplan, i, j)\n",
    "                if neighbors:\n",
    "                    floorplan[i, j] = max(set(neighbors), key=neighbors.count)\n",
    "    return floorplan\n",
    "\n",
    "def get_adjacent_rooms(self, floorplan, x, y):\n",
    "    \"\"\"\n",
    "    특정 좌표의 인접한 방 번호들을 반환합니다.\n",
    "    \"\"\"\n",
    "    neighbors = []\n",
    "    if x > 0:\n",
    "        neighbors.append(floorplan[x-1, y])\n",
    "    if x < floorplan.shape[0] - 1:\n",
    "        neighbors.append(floorplan[x+1, y])\n",
    "    if y > 0:\n",
    "        neighbors.append(floorplan[x, y-1])\n",
    "    if y < floorplan.shape[1] - 1:\n",
    "        neighbors.append(floorplan[x, y+1])\n",
    "    return [n for n in neighbors if n > 0]"
   ],
   "metadata": {
    "collapsed": false,
    "ExecuteTime": {
     "end_time": "2024-09-04T02:31:07.859224300Z",
     "start_time": "2024-09-04T02:31:07.810648200Z"
    }
   },
   "id": "41843780128d6bd5"
  },
  {
   "cell_type": "code",
   "execution_count": null,
   "outputs": [],
   "source": [],
   "metadata": {
    "collapsed": false
   },
   "id": "ac3b0e2add7e1beb"
  }
 ],
 "metadata": {
  "kernelspec": {
   "display_name": "Python 3",
   "language": "python",
   "name": "python3"
  },
  "language_info": {
   "codemirror_mode": {
    "name": "ipython",
    "version": 2
   },
   "file_extension": ".py",
   "mimetype": "text/x-python",
   "name": "python",
   "nbconvert_exporter": "python",
   "pygments_lexer": "ipython2",
   "version": "2.7.6"
  }
 },
 "nbformat": 4,
 "nbformat_minor": 5
}
