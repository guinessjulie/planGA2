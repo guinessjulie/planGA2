{
 "cells": [
  {
   "cell_type": "markdown",
   "source": [
    "Folder 내의 File을 하나의 파일에 행렬로 나열해서 나타내줌\n",
    "요구사항 \n",
    "- 큰 파일이 들어있으면 안된다.\n",
    "- 파일의 사이즈가 동일해야 된다.  "
   ],
   "metadata": {
    "collapsed": false
   },
   "id": "efc5ea4d10f202ed"
  },
  {
   "cell_type": "code",
   "execution_count": 25,
   "outputs": [
    {
     "name": "stdout",
     "output_type": "stream",
     "text": [
      "saved at (0, 0)\n",
      "saved at (645, 0)\n",
      "saved at (1290, 0)\n",
      "saved at (1935, 0)\n",
      "saved at (2580, 0)\n",
      "saved at (3225, 0)\n",
      "saved at (3870, 0)\n",
      "saved at (4515, 0)\n",
      "saved at (5160, 0)\n",
      "saved at (0, 485)\n",
      "saved at (645, 485)\n",
      "saved at (1290, 485)\n",
      "saved at (1935, 485)\n",
      "saved at (2580, 485)\n",
      "saved at (3225, 485)\n",
      "saved at (3870, 485)\n",
      "saved at (4515, 485)\n",
      "saved at (5160, 485)\n",
      "saved at (0, 970)\n",
      "saved at (645, 970)\n",
      "saved at (1290, 970)\n",
      "saved at (1935, 970)\n",
      "saved at (2580, 970)\n",
      "saved at (3225, 970)\n",
      "saved at (3870, 970)\n",
      "saved at (4515, 970)\n",
      "saved at (5160, 970)\n"
     ]
    }
   ],
   "source": [
    "from PIL import Image\n",
    "import os\n",
    "\n",
    "\n",
    "def display_images_at_once(directory, interval, grid_size, grid_image_path):\n",
    "    # Get all PNG filenames in the directory and sort them\n",
    "    filenames = sorted([f for f in os.listdir(directory) if f.endswith('.png')])\n",
    "    \n",
    "    \n",
    "    # Load images in sorted order\n",
    "    images = [Image.open(os.path.join(directory, filename)) for filename in filenames]\n",
    "    \n",
    "    if not images:\n",
    "        raise ValueError(\"No PNG images found in the directory.\")\n",
    "    \n",
    "    # Assume all images are the same size\n",
    "    image_width, image_height = images[0].size\n",
    "    \n",
    "    # Calculate total grid size\n",
    "    total_width = (image_width * grid_size[0]) + (interval * (grid_size[0] - 1))\n",
    "    total_height = (image_height * grid_size[1]) + (interval * (grid_size[1] - 1))\n",
    "    \n",
    "    # Create a new image with a white background\n",
    "    grid_image = Image.new('RGB', (total_width, total_height), 'white')\n",
    "    \n",
    "    # Paste images into the grid\n",
    "    for index, image in enumerate(images):\n",
    "        column = index % grid_size[0]\n",
    "        row = index // grid_size[0]\n",
    "        x = column * (image_width + interval)\n",
    "        y = row * (image_height + interval)\n",
    "        grid_image.paste(image, (x, y))\n",
    "        print(f'saved at ({x}, {y})' )\n",
    "    # Save or show the grid image\n",
    "    \n",
    "    grid_image.save(grid_image_path)\n",
    "    # Or display it directly if you're using a Jupyter notebook\n",
    "    # grid_image.show()\n",
    "def display_image_all():\n",
    "    # Parameters\n",
    "    directory ='F:\\\\2024\\\\dev\\\\planGA\\\\initialize'\n",
    "    interval = 5  # Space between images\n",
    "    grid_size = (9, 3)  # Grid size as (columns, rows)\n",
    "    grid_image_path = 'F:\\\\2024\\\\dev\\\\planGA\\\\initialize\\\\all.png'\n",
    "    display_images_at_once(directory, interval, grid_size, grid_image_path)\n",
    "\n",
    "display_image_all()"
   ],
   "metadata": {
    "collapsed": false,
    "ExecuteTime": {
     "end_time": "2024-02-05T10:56:45.586757500Z",
     "start_time": "2024-02-05T10:56:45.132234800Z"
    }
   },
   "id": "800f9f0f0bbc61d9"
  },
  {
   "cell_type": "code",
   "execution_count": null,
   "outputs": [],
   "source": [],
   "metadata": {
    "collapsed": false
   },
   "id": "7c38a30e5d4d7b9"
  },
  {
   "cell_type": "code",
   "execution_count": 28,
   "outputs": [
    {
     "name": "stdout",
     "output_type": "stream",
     "text": [
      "4970.177174576745\n",
      "평균보다 1.2배 큰 PNG 파일들:\n",
      "F:\\2023\\dev\\pythonProject1\\initialize\\all.png\n"
     ]
    }
   ],
   "source": [
    "import os\n",
    "import numpy as np\n",
    "# 디렉토리를 뒤져서 모든 png 파일의 평균을 구한 다음, 편차가 평균값보다 1.2배 정도 더 큰 파일만 리턴\n",
    "def find_large_png_files(directory):\n",
    "    png_files = []\n",
    "    sizes = []\n",
    "\n",
    "    # 디렉토리 탐색하여 PNG 파일과 그 크기 수집\n",
    "    for root, dirs, files in os.walk(directory):\n",
    "        for file in files:\n",
    "            if file.lower().endswith('.png'):\n",
    "                file_path = os.path.join(root, file)\n",
    "                file_size = os.path.getsize(file_path)\n",
    "                png_files.append((file_path, file_size))\n",
    "                sizes.append(file_size)\n",
    "\n",
    "    # 파일이 없으면 빈 리스트 반환\n",
    "    if not sizes:\n",
    "        return []\n",
    "\n",
    "    # 평균 크기 계산\n",
    "    avg_size = sum(sizes) / len(sizes)\n",
    "        \n",
    "    # 평균보다 1.2배 큰 파일 찾기\n",
    "    large_files = [file for file, size in png_files if size > avg_size * 1.2]\n",
    "\n",
    "    return large_files\n",
    "\n",
    "# 디렉토리 경로 예시: 'path/to/your/directory'\n",
    "directory ='F:\\\\2024\\\\dev\\\\planGA\\\\initialize' # 이 부분을 원하는 디렉토리 경로로 변경하세요.\n",
    "large_png_files = find_large_png_files(directory)\n",
    "\n",
    "print(\"평균보다 1.2배 큰 PNG 파일들:\")\n",
    "for file in large_png_files:\n",
    "    print(file)"
   ],
   "metadata": {
    "collapsed": false,
    "ExecuteTime": {
     "end_time": "2024-02-05T11:01:53.507016300Z",
     "start_time": "2024-02-05T11:01:52.835780700Z"
    }
   },
   "id": "cd500f3a074aab2c"
  },
  {
   "cell_type": "markdown",
   "source": [
    "### main_batch_replace(): 폴더 내 파일이름 일괄 자동 변경\n",
    "- Rename `<prefix>_1.xxx` to `<prefix>_01.xxx`\n",
    "- 과정 샷을 생성하기 위해 작은 중간 결과 그림들을 큰 파일로 이어붙이기 할 때 순서대로 배열하게 만듬\n",
    "- run main_bach_replace() "
   ],
   "metadata": {
    "collapsed": false
   },
   "id": "91461c8936b10a1"
  },
  {
   "cell_type": "code",
   "execution_count": 19,
   "outputs": [
    {
     "name": "stdout",
     "output_type": "stream",
     "text": [
      "Renamed \"gen_1.png\" to \"gen_01.png\"\n",
      "Renamed \"gen_2.png\" to \"gen_02.png\"\n"
     ]
    }
   ],
   "source": [
    "import os\n",
    "import re\n",
    "from functools import partial\n",
    "\n",
    "# Function to replace the match with zero-padded number\n",
    "def replace_with_zero_padded(match, prefix):\n",
    "    # Assuming `match.group(1)` captures the number in the filename\n",
    "    return f'{prefix}_0{match.group(1)}.png'\n",
    "\n",
    "def batch_replace_zero_padded(directory, prefix):\n",
    "    # Regular expression to match filenames like 'step_1.png' but not 'step_10.png'\n",
    "    regex = prefix + r'_(\\d)\\.png'\n",
    "\n",
    "    # Iterate over all files in the directory\n",
    "    for filename in os.listdir(directory):\n",
    "        # Using `partial` to bind `prefix` argument to `replace_with_zero_padded`\n",
    "        replacer = partial(replace_with_zero_padded, prefix=prefix)\n",
    "        \n",
    "        # Applying the modified replacer function\n",
    "        new_filename = re.sub(regex, replacer, filename)\n",
    "        \n",
    "        if new_filename != filename:\n",
    "            # Full path for current and new filenames\n",
    "            old_file_path = os.path.join(directory, filename)\n",
    "            new_file_path = os.path.join(directory, new_filename)\n",
    "            # Rename the file\n",
    "            os.rename(old_file_path, new_file_path)\n",
    "            print(f'Renamed \"{filename}\" to \"{new_filename}\"')\n",
    "\n",
    "def main_batch_replace():\n",
    "    directory = 'F:\\\\2024\\\\dev\\\\planGA'\n",
    "    prefix = 'gen'\n",
    "    batch_replace_zero_padded(directory, prefix)\n",
    "\n",
    "main_batch_replace()\n"
   ],
   "metadata": {
    "collapsed": false,
    "ExecuteTime": {
     "end_time": "2024-02-05T08:51:44.228962500Z",
     "start_time": "2024-02-05T08:51:44.212943500Z"
    }
   },
   "id": "2ee7d6e759bf9fe6"
  },
  {
   "cell_type": "code",
   "execution_count": 29,
   "outputs": [
    {
     "name": "stdout",
     "output_type": "stream",
     "text": [
      "i=0, j=0\n",
      "0 0\n",
      "i=0, j=1\n",
      "0 1\n",
      "i=0, j=2\n",
      "0 2\n",
      "i=0, j=3\n",
      "0 3\n",
      "i=0, j=4\n",
      "0 4\n",
      "i=1, j=0\n",
      "1 0\n",
      "i=1, j=1\n",
      "1 1\n",
      "i=1, j=2\n",
      "1 2\n",
      "i=1, j=3\n",
      "1 3\n",
      "i=1, j=4\n",
      "1 4\n"
     ]
    }
   ],
   "source": [
    "rows, cols = 2, 5\n",
    "for i in range(rows):\n",
    "    for j in range(cols):\n",
    "        print(f'i={i}, j={j}')\n",
    "        if rows == 1 or cols == 1:  # Handling the case of a single row or column of subplots\n",
    "            print(max(i, j))\n",
    "        else:\n",
    "            print(i, j)\n"
   ],
   "metadata": {
    "collapsed": false,
    "ExecuteTime": {
     "end_time": "2024-02-05T11:38:12.549147200Z",
     "start_time": "2024-02-05T11:38:12.527620400Z"
    }
   },
   "id": "79bbe628df5ea326"
  },
  {
   "cell_type": "markdown",
   "source": [
    "# Generate Filename with timestamp"
   ],
   "metadata": {
    "collapsed": false
   },
   "id": "ede7fed0e80779a4"
  },
  {
   "cell_type": "code",
   "execution_count": null,
   "outputs": [],
   "source": [
    "from datetime import datetime\n",
    "def generate_filename_with_timestamp(prefix: str, extension: str, steps=None) ->str:\n",
    "    current_time = datetime.now()\n",
    "    time_str = current_time.strftime('%Y-%m-%d_%H-%M-%S')\n",
    "    if steps is not None:\n",
    "        time_str = steps\n",
    "    filename = f\"{prefix}_{time_str}.{extension}\"\n",
    "    return filename"
   ],
   "metadata": {
    "collapsed": false
   },
   "id": "51443a38287e90eb"
  },
  {
   "cell_type": "code",
   "execution_count": 19,
   "outputs": [
    {
     "name": "stdout",
     "output_type": "stream",
     "text": [
      "None\n"
     ]
    }
   ],
   "source": [
    "# convert from webp to jpeg\n",
    "from PIL import Image\n",
    "import os\n",
    "import tkinter as tk\n",
    "from tkinter import filedialog\n",
    "from IPython.display import display\n",
    "\n",
    "\n",
    "def convert_webp(input_file, output_file, format):\n",
    "    try:\n",
    "        image = Image.open(input_file)\n",
    "    except OSError as error:\n",
    "        print(f'could not open {input_file} {error}')\n",
    "        return\n",
    "    \n",
    "    try:\n",
    "        if format.upper() =='JPEG' and image.mode == 'RGBA':\n",
    "            image = image.convert('RGB')\n",
    "        image.save(output_file, format)\n",
    "    except Exception as error:\n",
    "        print(f'could not convert {error}')\n",
    "\n",
    "def browse_file():\n",
    "    root = tk.Tk()\n",
    "    root.withdraw()\n",
    "    \n",
    "    file_path = filedialog.askopenfilename(filetypes=[(\"WEBP files\",\"*.webp\" )])\n",
    "    root.destroy()\n",
    "    return file_path\n",
    "    \n",
    "def extract_filename_from_path(full_path):\n",
    "    filename_without_extention = os.path.basename(full_path)\n",
    "\n",
    "print(extract_filename_from_path('F:/2024/Lecture/background.webp'))\n"
   ],
   "metadata": {
    "collapsed": false,
    "ExecuteTime": {
     "end_time": "2024-05-21T13:24:50.077693300Z",
     "start_time": "2024-05-21T13:24:50.066839300Z"
    }
   },
   "id": "5d4e1a9398e2b0fa"
  },
  {
   "cell_type": "code",
   "execution_count": 9,
   "outputs": [
    {
     "data": {
      "text/plain": "'background.webp'"
     },
     "execution_count": 9,
     "metadata": {},
     "output_type": "execute_result"
    }
   ],
   "source": [
    "path = 'F:/2024/Lecture/background.webp'\n",
    "os.path.basename(path)"
   ],
   "metadata": {
    "collapsed": false,
    "ExecuteTime": {
     "end_time": "2024-05-21T13:13:51.099216400Z",
     "start_time": "2024-05-21T13:13:51.081629500Z"
    }
   },
   "id": "7003d64d7337247c"
  },
  {
   "cell_type": "code",
   "execution_count": 10,
   "outputs": [
    {
     "data": {
      "text/plain": "('F:/2024/Lecture/background', '.webp')"
     },
     "execution_count": 10,
     "metadata": {},
     "output_type": "execute_result"
    }
   ],
   "source": [
    "os.path.splitext(path)[0], os.path.splitext(path)[1]"
   ],
   "metadata": {
    "collapsed": false,
    "ExecuteTime": {
     "end_time": "2024-05-21T13:13:51.654273100Z",
     "start_time": "2024-05-21T13:13:51.627043100Z"
    }
   },
   "id": "3d1a9ba1bf960943"
  },
  {
   "cell_type": "code",
   "execution_count": 20,
   "outputs": [],
   "source": [
    "def GUI_convert_webp():\n",
    "    input_file_path = browse_file()\n",
    "    input_path_without_extension = os.path.splitext(input_file_path)[0]\n",
    "    jpg_filepath = os.path.join(input_path_without_extension, 'jpeg')\n",
    "    png_filepath = os.path.join(input_path_without_extension, 'png')\n",
    "    convert_webp(input_file_path, jpg_filepath, 'JPEG')\n",
    "    convert_webp(input_file_path, png_filepath, 'PNG')"
   ],
   "metadata": {
    "collapsed": false,
    "ExecuteTime": {
     "end_time": "2024-05-21T13:24:54.204030700Z",
     "start_time": "2024-05-21T13:24:54.178364600Z"
    }
   },
   "id": "8ff35f7ed1d9b0ce"
  },
  {
   "cell_type": "code",
   "execution_count": 21,
   "outputs": [],
   "source": [
    "\n",
    "# Run file browsing and conversion within the same cell\n",
    "input_webp = browse_file()  # User browses and selects a file\n",
    "filename = os.path.splitext(input_webp)[0]\n",
    "dir_path = os.path.dirname(input_webp)\n",
    "filepath = os.path.join(dir_path, filename) \n",
    "\n",
    "if input_webp:\n",
    "    output_jpeg = filepath+'.jpeg'\n",
    "    output_png = filepath+'.png'\n",
    "\n",
    "    # Convert to JPEG\n",
    "    convert_webp(input_webp, output_jpeg, 'JPEG')\n",
    "\n",
    "    # Convert to PNG\n",
    "    convert_webp(input_webp, output_png, 'PNG')\n",
    "else:\n",
    "    print(\"File selection was cancelled.\")"
   ],
   "metadata": {
    "collapsed": false,
    "ExecuteTime": {
     "end_time": "2024-05-21T13:25:03.672951100Z",
     "start_time": "2024-05-21T13:24:55.257510700Z"
    }
   },
   "id": "738fd05990a7448e"
  },
  {
   "cell_type": "code",
   "execution_count": null,
   "outputs": [],
   "source": [
    "# 경어체를 반어체로 변환\n",
    "# 워드 파일 지원\n"
   ],
   "metadata": {
    "collapsed": false
   },
   "id": "dd0a545ac41fd976"
  },
  {
   "cell_type": "code",
   "execution_count": null,
   "outputs": [],
   "source": [
    "import re\n",
    "from docx import Document\n",
    "\n",
    "def read_word_file(file_path):\n",
    "    doc = Document(file_path)\n",
    "    full_text = []\n",
    "    for para in doc.paragraphs:\n",
    "        full_text.append(para.text)\n",
    "    return '\\n'.join(full_text)\n",
    "\n",
    "def write_word_file(file_path, content):\n",
    "    doc = Document()\n",
    "    for line in content.split('\\n'):\n",
    "        doc.add_paragraph(line)\n",
    "    doc.save(file_path)\n",
    "\n",
    "def convert_honorific_to_plain(text):\n",
    "    # 경어체 패턴과 변환 규칙을 정의합니다\n",
    "    conversions = [\n",
    "        (r'합니다', '한다'),\n",
    "        (r'됩니다', '된다'),\n",
    "        (r'냅니다', '낸다'),\n",
    "        (r'입니다', '이다'),\n",
    "        (r'입니까', '인가'),\n",
    "        (r'습니까', '는가'),\n",
    "        (r'습니다', '다'),\n",
    "        (r'하십니다', '한다'),\n",
    "        (r'하십니까', '하는가'),\n",
    "        (r'했습니까', '했는가'),\n",
    "        (r'하셨습니다', '했다'),\n",
    "        # 필요시 더 많은 패턴을 추가합니다\n",
    "    ]\n",
    "    \n",
    "    for pattern, replacement in conversions:\n",
    "        text = re.sub(pattern, replacement, text)\n",
    "    \n",
    "    return text\n",
    "\n",
    "def main(input_file_path, output_file_path):\n",
    "    text = read_word_file(input_file_path)\n",
    "    converted_text = convert_honorific_to_plain(text)\n",
    "    write_word_file(output_file_path, converted_text)\n",
    "\n",
    "# 메인 함수 호출 (파일 경로는 사용자가 직접 설정)\n",
    "# main('input.docx', 'output.docx')\n"
   ],
   "metadata": {
    "collapsed": false
   },
   "id": "c56082ad7b1f94c1"
  },
  {
   "cell_type": "markdown",
   "source": [
    "# PDF to DOCX\n"
   ],
   "metadata": {
    "collapsed": false
   },
   "id": "2588eb29d505dee8"
  },
  {
   "cell_type": "code",
   "execution_count": 3,
   "outputs": [
    {
     "name": "stdout",
     "output_type": "stream",
     "text": [
      "Collecting pdf2docx"
     ]
    },
    {
     "name": "stderr",
     "output_type": "stream",
     "text": [
      "\n",
      "[notice] A new release of pip is available: 23.2.1 -> 24.0\n",
      "[notice] To update, run: python.exe -m pip install --upgrade pip\n"
     ]
    },
    {
     "name": "stdout",
     "output_type": "stream",
     "text": [
      "\n",
      "  Obtaining dependency information for pdf2docx from https://files.pythonhosted.org/packages/b5/f9/6d567df395c0409baf2b4dd9cd30d1e977c70672fe7ec2a684af1e6aa41c/pdf2docx-0.5.8-py3-none-any.whl.metadata\n",
      "  Downloading pdf2docx-0.5.8-py3-none-any.whl.metadata (3.2 kB)\n",
      "Collecting PyMuPDF>=1.19.0 (from pdf2docx)\n",
      "  Obtaining dependency information for PyMuPDF>=1.19.0 from https://files.pythonhosted.org/packages/e3/a7/b3d0ce21044034e33e95b33a5c2dfbfa163c2429ee8777898acdf23ea5c1/PyMuPDF-1.24.4-cp311-none-win_amd64.whl.metadata\n",
      "  Downloading PyMuPDF-1.24.4-cp311-none-win_amd64.whl.metadata (3.4 kB)\n",
      "Requirement already satisfied: python-docx>=0.8.10 in c:\\anaconda\\envs\\deep\\lib\\site-packages (from pdf2docx) (1.1.0)\n",
      "Requirement already satisfied: fonttools>=4.24.0 in c:\\anaconda\\envs\\deep\\lib\\site-packages (from pdf2docx) (4.25.0)\n",
      "Requirement already satisfied: numpy>=1.17.2 in c:\\users\\206539\\appdata\\roaming\\python\\python311\\site-packages (from pdf2docx) (1.26.2)\n",
      "Collecting opencv-python-headless>=4.5 (from pdf2docx)\n",
      "  Obtaining dependency information for opencv-python-headless>=4.5 from https://files.pythonhosted.org/packages/20/44/458a0a135866f5e08266566b32ad9a182a7a059a894effe6c41a9c841ff1/opencv_python_headless-4.9.0.80-cp37-abi3-win_amd64.whl.metadata\n",
      "  Downloading opencv_python_headless-4.9.0.80-cp37-abi3-win_amd64.whl.metadata (20 kB)\n",
      "Collecting fire>=0.3.0 (from pdf2docx)\n",
      "  Downloading fire-0.6.0.tar.gz (88 kB)\n",
      "     ---------------------------------------- 0.0/88.4 kB ? eta -:--:--\n",
      "     ---------------------------------------- 88.4/88.4 kB 4.9 MB/s eta 0:00:00\n",
      "  Preparing metadata (setup.py): started\n",
      "  Preparing metadata (setup.py): finished with status 'done'\n",
      "Requirement already satisfied: six in c:\\users\\206539\\appdata\\roaming\\python\\python311\\site-packages (from fire>=0.3.0->pdf2docx) (1.16.0)\n",
      "Requirement already satisfied: termcolor in c:\\anaconda\\envs\\deep\\lib\\site-packages (from fire>=0.3.0->pdf2docx) (2.3.0)\n",
      "Collecting PyMuPDFb==1.24.3 (from PyMuPDF>=1.19.0->pdf2docx)\n",
      "  Obtaining dependency information for PyMuPDFb==1.24.3 from https://files.pythonhosted.org/packages/a2/e5/d2cba4c62c09ed54ba79d4d586517268a6a66b464cc9291a7647352e8124/PyMuPDFb-1.24.3-py3-none-win_amd64.whl.metadata\n",
      "  Downloading PyMuPDFb-1.24.3-py3-none-win_amd64.whl.metadata (1.4 kB)\n",
      "Requirement already satisfied: lxml>=3.1.0 in c:\\anaconda\\envs\\deep\\lib\\site-packages (from python-docx>=0.8.10->pdf2docx) (5.1.0)\n",
      "Requirement already satisfied: typing-extensions in c:\\users\\206539\\appdata\\roaming\\python\\python311\\site-packages (from python-docx>=0.8.10->pdf2docx) (4.8.0)\n",
      "Downloading pdf2docx-0.5.8-py3-none-any.whl (132 kB)\n",
      "   ---------------------------------------- 0.0/132.0 kB ? eta -:--:--\n",
      "   ---------------------------------------- 132.0/132.0 kB ? eta 0:00:00\n",
      "Downloading opencv_python_headless-4.9.0.80-cp37-abi3-win_amd64.whl (38.5 MB)\n",
      "   ---------------------------------------- 0.0/38.5 MB ? eta -:--:--\n",
      "   -- ------------------------------------- 2.4/38.5 MB 51.6 MB/s eta 0:00:01\n",
      "   ---- ----------------------------------- 4.7/38.5 MB 50.1 MB/s eta 0:00:01\n",
      "   ------- -------------------------------- 6.9/38.5 MB 49.2 MB/s eta 0:00:01\n",
      "   --------- ------------------------------ 9.1/38.5 MB 48.5 MB/s eta 0:00:01\n",
      "   ------------ --------------------------- 11.7/38.5 MB 50.4 MB/s eta 0:00:01\n",
      "   -------------- ------------------------- 13.8/38.5 MB 54.7 MB/s eta 0:00:01\n",
      "   -------------- ------------------------- 13.9/38.5 MB 40.9 MB/s eta 0:00:01\n",
      "   -------------- ------------------------- 14.2/38.5 MB 34.6 MB/s eta 0:00:01\n",
      "   --------------- ------------------------ 14.5/38.5 MB 31.2 MB/s eta 0:00:01\n",
      "   ----------------- ---------------------- 16.5/38.5 MB 29.7 MB/s eta 0:00:01\n",
      "   ----------------- ---------------------- 17.3/38.5 MB 26.2 MB/s eta 0:00:01\n",
      "   ------------------- -------------------- 18.4/38.5 MB 24.2 MB/s eta 0:00:01\n",
      "   --------------------- ------------------ 20.7/38.5 MB 24.2 MB/s eta 0:00:01\n",
      "   ------------------------ --------------- 23.4/38.5 MB 25.2 MB/s eta 0:00:01\n",
      "   -------------------------- ------------- 25.8/38.5 MB 34.4 MB/s eta 0:00:01\n",
      "   ----------------------------- ---------- 28.6/38.5 MB 54.7 MB/s eta 0:00:01\n",
      "   -------------------------------- ------- 30.9/38.5 MB 59.5 MB/s eta 0:00:01\n",
      "   ----------------------------------- ---- 34.3/38.5 MB 65.6 MB/s eta 0:00:01\n",
      "   -------------------------------------- - 37.2/38.5 MB 65.2 MB/s eta 0:00:01\n",
      "   ---------------------------------------  38.5/38.5 MB 59.5 MB/s eta 0:00:01\n",
      "   ---------------------------------------  38.5/38.5 MB 59.5 MB/s eta 0:00:01\n",
      "   ---------------------------------------  38.5/38.5 MB 59.5 MB/s eta 0:00:01\n",
      "   ---------------------------------------  38.5/38.5 MB 59.5 MB/s eta 0:00:01\n",
      "   ---------------------------------------  38.5/38.5 MB 59.5 MB/s eta 0:00:01\n",
      "   ---------------------------------------- 38.5/38.5 MB 23.3 MB/s eta 0:00:00\n",
      "Downloading PyMuPDF-1.24.4-cp311-none-win_amd64.whl (3.2 MB)\n",
      "   ---------------------------------------- 0.0/3.2 MB ? eta -:--:--\n",
      "   --------------------------- ------------ 2.2/3.2 MB 69.7 MB/s eta 0:00:01\n",
      "   ---------------------------------------- 3.2/3.2 MB 41.0 MB/s eta 0:00:00\n",
      "Downloading PyMuPDFb-1.24.3-py3-none-win_amd64.whl (12.4 MB)\n",
      "   ---------------------------------------- 0.0/12.4 MB ? eta -:--:--\n",
      "   -------- ------------------------------- 2.6/12.4 MB 56.0 MB/s eta 0:00:01\n",
      "   ------------------- -------------------- 5.9/12.4 MB 63.0 MB/s eta 0:00:01\n",
      "   ---------------------------- ----------- 8.8/12.4 MB 62.3 MB/s eta 0:00:01\n",
      "   ---------------------------------- ----- 10.8/12.4 MB 59.8 MB/s eta 0:00:01\n",
      "   ---------------------------------------  12.4/12.4 MB 59.5 MB/s eta 0:00:01\n",
      "   ---------------------------------------  12.4/12.4 MB 59.5 MB/s eta 0:00:01\n",
      "   ---------------------------------------- 12.4/12.4 MB 38.6 MB/s eta 0:00:00\n",
      "Building wheels for collected packages: fire\n",
      "  Building wheel for fire (setup.py): started\n",
      "  Building wheel for fire (setup.py): finished with status 'done'\n",
      "  Created wheel for fire: filename=fire-0.6.0-py2.py3-none-any.whl size=117048 sha256=96c49cb0d5dd77fb448bf6525f8bc34bb0a762dabff37a14e509f72dcbcd924c\n",
      "  Stored in directory: c:\\users\\206539\\appdata\\local\\pip\\cache\\wheels\\6a\\f3\\0c\\fa347dfa663f573462c6533d259c2c859e97e103d1ce21538f\n",
      "Successfully built fire\n",
      "Installing collected packages: PyMuPDFb, opencv-python-headless, fire, PyMuPDF, pdf2docx\n",
      "Successfully installed PyMuPDF-1.24.4 PyMuPDFb-1.24.3 fire-0.6.0 opencv-python-headless-4.9.0.80 pdf2docx-0.5.8\n"
     ]
    }
   ],
   "source": [
    "!pip install pdf2docx"
   ],
   "metadata": {
    "collapsed": false,
    "ExecuteTime": {
     "end_time": "2024-05-24T06:15:01.671041200Z",
     "start_time": "2024-05-24T06:14:31.503725300Z"
    }
   },
   "id": "b74fd485a0161d2e"
  },
  {
   "cell_type": "code",
   "execution_count": 1,
   "outputs": [
    {
     "ename": "ModuleNotFoundError",
     "evalue": "No module named 'pdf2docx'",
     "output_type": "error",
     "traceback": [
      "\u001B[1;31m---------------------------------------------------------------------------\u001B[0m",
      "\u001B[1;31mModuleNotFoundError\u001B[0m                       Traceback (most recent call last)",
      "Cell \u001B[1;32mIn[1], line 2\u001B[0m\n\u001B[0;32m      1\u001B[0m \u001B[38;5;66;03m# 필요한 라이브러리를 가져옵니다.\u001B[39;00m\n\u001B[1;32m----> 2\u001B[0m \u001B[38;5;28;01mfrom\u001B[39;00m \u001B[38;5;21;01mpdf2docx\u001B[39;00m \u001B[38;5;28;01mimport\u001B[39;00m Converter\n\u001B[0;32m      4\u001B[0m \u001B[38;5;28;01mdef\u001B[39;00m \u001B[38;5;21mpdf_to_word\u001B[39m(pdf_file_path, docx_file_path):\n\u001B[0;32m      5\u001B[0m     \u001B[38;5;66;03m# PDF 파일을 변환하는 Converter 객체를 생성합니다.\u001B[39;00m\n\u001B[0;32m      6\u001B[0m     cv \u001B[38;5;241m=\u001B[39m Converter(pdf_file_path)\n",
      "\u001B[1;31mModuleNotFoundError\u001B[0m: No module named 'pdf2docx'"
     ]
    }
   ],
   "source": [
    "\n",
    "\n",
    "# Writing the final code to a Python file\n",
    "\n",
    "code = \"\"\"\n",
    "from pdf2docx import Converter\n",
    "\n",
    "def pdf_to_word(pdf_file_path, docx_file_path):\n",
    "    cv = Converter(pdf_file_path)\n",
    "    cv.convert(docx_file_path, start=0, end=None)\n",
    "    cv.close()\n",
    "\n",
    "pdf_file_path = 'example.pdf'\n",
    "docx_file_path = 'output.docx'\n",
    "\n",
    "# Uncomment the following line to execute the conversion\n",
    "# pdf_to_word(pdf_file_path, docx_file_path)\n",
    "\"\"\"\n",
    "\n",
    "with open(\"/mnt/data/pdf_to_word.py\", \"w\") as file:\n",
    "    file.write(code)\n",
    "\n"
   ],
   "metadata": {
    "collapsed": false,
    "ExecuteTime": {
     "start_time": "2024-05-24T05:42:38.202959300Z"
    }
   },
   "id": "3a5bdb91398d5b24"
  },
  {
   "cell_type": "code",
   "execution_count": 7,
   "outputs": [
    {
     "name": "stderr",
     "output_type": "stream",
     "text": [
      "[INFO] Start to convert F:\\2024\\refs\\2001-Michalek-MSThesis.pdf\n",
      "[INFO] \u001B[1;36m[1/4] Opening document...\u001B[0m\n",
      "[INFO] \u001B[1;36m[2/4] Analyzing document...\u001B[0m\n",
      "[WARNING] Ignore Line \",\" due to overlap\n",
      "[WARNING] Ignore Line \"(\" due to overlap\n",
      "[WARNING] Ignore Line \",\" due to overlap\n",
      "[WARNING] Ignore Line \",\" due to overlap\n",
      "[WARNING] Ignore Line \"( ,\" due to overlap\n",
      "[WARNING] Ignore Line \"( ,\" due to overlap\n",
      "[WARNING] Ignore Line \"( ,\" due to overlap\n",
      "[WARNING] Ignore Line \"( ,\" due to overlap\n",
      "[WARNING] Ignore Line \"( ,\" due to overlap\n",
      "[WARNING] Ignore Line \"( ,\" due to overlap\n",
      "[WARNING] Ignore Line \"( ,\" due to overlap\n",
      "[WARNING] Ignore Line \"( ,\" due to overlap\n",
      "[WARNING] Ignore Line \"l\" due to overlap\n",
      "[WARNING] Ignore Line \"l\" due to overlap\n",
      "[WARNING] Ignore Line \"-\" due to overlap\n",
      "[WARNING] Ignore Line \"–\" due to overlap\n",
      "[WARNING] Ignore Line \"-\" due to overlap\n",
      "[WARNING] Ignore Line \"–\" due to overlap\n",
      "[WARNING] Ignore Line \"–\" due to overlap\n",
      "[WARNING] Ignore Line \"(\" due to overlap\n",
      "[WARNING] Ignore Line \"(\" due to overlap\n",
      "[WARNING] Ignore Line \"(\" due to overlap\n",
      "[WARNING] Ignore Line \"(\" due to overlap\n",
      "[WARNING] Ignore Line \"(\" due to overlap\n",
      "[INFO] \u001B[1;36m[3/4] Parsing pages...\u001B[0m\n",
      "[INFO] (1/121) Page 1\n",
      "[INFO] (2/121) Page 2\n",
      "[INFO] (3/121) Page 3\n",
      "[INFO] (4/121) Page 4\n",
      "[INFO] (5/121) Page 5\n",
      "[INFO] (6/121) Page 6\n",
      "[INFO] (7/121) Page 7\n",
      "[INFO] (8/121) Page 8\n",
      "[INFO] (9/121) Page 9\n",
      "[INFO] (10/121) Page 10\n",
      "[INFO] (11/121) Page 11\n",
      "[INFO] (12/121) Page 12\n",
      "[INFO] (13/121) Page 13\n",
      "[INFO] (14/121) Page 14\n",
      "[INFO] (15/121) Page 15\n",
      "[INFO] (16/121) Page 16\n",
      "[INFO] (17/121) Page 17\n",
      "[INFO] (18/121) Page 18\n",
      "[INFO] (19/121) Page 19\n",
      "[INFO] (20/121) Page 20\n",
      "[INFO] (21/121) Page 21\n",
      "[INFO] (22/121) Page 22\n",
      "[INFO] (23/121) Page 23\n",
      "[INFO] (24/121) Page 24\n",
      "[INFO] (25/121) Page 25\n",
      "[INFO] (26/121) Page 26\n",
      "[INFO] (27/121) Page 27\n",
      "[INFO] (28/121) Page 28\n",
      "[INFO] (29/121) Page 29\n",
      "[INFO] (30/121) Page 30\n",
      "[INFO] (31/121) Page 31\n",
      "[INFO] (32/121) Page 32\n",
      "[INFO] (33/121) Page 33\n",
      "[INFO] (34/121) Page 34\n",
      "[INFO] (35/121) Page 35\n",
      "[INFO] (36/121) Page 36\n",
      "[INFO] (37/121) Page 37\n",
      "[INFO] (38/121) Page 38\n",
      "[INFO] (39/121) Page 39\n",
      "[INFO] (40/121) Page 40\n",
      "[INFO] (41/121) Page 41\n",
      "[INFO] (42/121) Page 42\n",
      "[INFO] (43/121) Page 43\n",
      "[INFO] (44/121) Page 44\n",
      "[INFO] (45/121) Page 45\n",
      "[INFO] (46/121) Page 46\n",
      "[INFO] (47/121) Page 47\n",
      "[INFO] (48/121) Page 48\n",
      "[INFO] (49/121) Page 49\n",
      "[INFO] (50/121) Page 50\n",
      "[INFO] (51/121) Page 51\n",
      "[INFO] (52/121) Page 52\n",
      "[INFO] (53/121) Page 53\n",
      "[INFO] (54/121) Page 54\n",
      "[INFO] (55/121) Page 55\n",
      "[INFO] (56/121) Page 56\n",
      "[INFO] (57/121) Page 57\n",
      "[INFO] (58/121) Page 58\n",
      "[INFO] (59/121) Page 59\n",
      "[INFO] (60/121) Page 60\n",
      "[INFO] (61/121) Page 61\n",
      "[INFO] (62/121) Page 62\n",
      "[INFO] (63/121) Page 63\n",
      "[INFO] (64/121) Page 64\n",
      "[INFO] (65/121) Page 65\n",
      "[INFO] (66/121) Page 66\n",
      "[INFO] (67/121) Page 67\n",
      "[INFO] (68/121) Page 68\n",
      "[INFO] (69/121) Page 69\n",
      "[INFO] (70/121) Page 70\n",
      "[INFO] (71/121) Page 71\n",
      "[INFO] (72/121) Page 72\n",
      "[INFO] (73/121) Page 73\n",
      "[INFO] (74/121) Page 74\n",
      "[INFO] (75/121) Page 75\n",
      "[INFO] (76/121) Page 76\n",
      "[INFO] (77/121) Page 77\n",
      "[INFO] (78/121) Page 78\n",
      "[INFO] (79/121) Page 79\n",
      "[INFO] (80/121) Page 80\n",
      "[INFO] (81/121) Page 81\n",
      "[INFO] (82/121) Page 82\n",
      "[INFO] (83/121) Page 83\n",
      "[INFO] (84/121) Page 84\n",
      "[INFO] (85/121) Page 85\n",
      "[INFO] (86/121) Page 86\n",
      "[INFO] (87/121) Page 87\n",
      "[INFO] (88/121) Page 88\n",
      "[INFO] (89/121) Page 89\n",
      "[INFO] (90/121) Page 90\n",
      "[INFO] (91/121) Page 91\n",
      "[INFO] (92/121) Page 92\n",
      "[INFO] (93/121) Page 93\n",
      "[INFO] (94/121) Page 94\n",
      "[INFO] (95/121) Page 95\n",
      "[INFO] (96/121) Page 96\n",
      "[INFO] (97/121) Page 97\n",
      "[INFO] (98/121) Page 98\n",
      "[INFO] (99/121) Page 99\n",
      "[INFO] (100/121) Page 100\n",
      "[INFO] (101/121) Page 101\n",
      "[INFO] (102/121) Page 102\n",
      "[INFO] (103/121) Page 103\n",
      "[INFO] (104/121) Page 104\n",
      "[INFO] (105/121) Page 105\n",
      "[INFO] (106/121) Page 106\n",
      "[INFO] (107/121) Page 107\n",
      "[INFO] (108/121) Page 108\n",
      "[INFO] (109/121) Page 109\n",
      "[INFO] (110/121) Page 110\n",
      "[INFO] (111/121) Page 111\n",
      "[INFO] (112/121) Page 112\n",
      "[INFO] (113/121) Page 113\n",
      "[INFO] (114/121) Page 114\n",
      "[INFO] (115/121) Page 115\n",
      "[INFO] (116/121) Page 116\n",
      "[INFO] (117/121) Page 117\n",
      "[INFO] (118/121) Page 118\n",
      "[INFO] (119/121) Page 119\n",
      "[INFO] (120/121) Page 120\n",
      "[INFO] (121/121) Page 121\n",
      "[INFO] \u001B[1;36m[4/4] Creating pages...\u001B[0m\n",
      "[INFO] (1/121) Page 1\n",
      "[INFO] (2/121) Page 2\n",
      "[INFO] (3/121) Page 3\n",
      "[INFO] (4/121) Page 4\n",
      "[INFO] (5/121) Page 5\n",
      "[INFO] (6/121) Page 6\n",
      "[INFO] (7/121) Page 7\n",
      "[INFO] (8/121) Page 8\n",
      "[INFO] (9/121) Page 9\n",
      "[INFO] (10/121) Page 10\n",
      "[INFO] (11/121) Page 11\n",
      "[INFO] (12/121) Page 12\n",
      "[INFO] (13/121) Page 13\n",
      "[INFO] (14/121) Page 14\n",
      "[INFO] (15/121) Page 15\n",
      "[INFO] (16/121) Page 16\n",
      "[INFO] (17/121) Page 17\n",
      "[INFO] (18/121) Page 18\n",
      "[INFO] (19/121) Page 19\n",
      "[INFO] (20/121) Page 20\n",
      "[INFO] (21/121) Page 21\n",
      "[INFO] (22/121) Page 22\n",
      "[INFO] (23/121) Page 23\n",
      "[INFO] (24/121) Page 24\n",
      "[INFO] (25/121) Page 25\n",
      "[INFO] (26/121) Page 26\n",
      "[INFO] (27/121) Page 27\n",
      "[INFO] (28/121) Page 28\n",
      "[INFO] (29/121) Page 29\n",
      "[INFO] (30/121) Page 30\n",
      "[INFO] (31/121) Page 31\n",
      "[INFO] (32/121) Page 32\n",
      "[INFO] (33/121) Page 33\n",
      "[INFO] (34/121) Page 34\n",
      "[INFO] (35/121) Page 35\n",
      "[INFO] (36/121) Page 36\n",
      "[INFO] (37/121) Page 37\n",
      "[INFO] (38/121) Page 38\n",
      "[INFO] (39/121) Page 39\n",
      "[INFO] (40/121) Page 40\n",
      "[INFO] (41/121) Page 41\n",
      "[INFO] (42/121) Page 42\n",
      "[INFO] (43/121) Page 43\n",
      "[INFO] (44/121) Page 44\n",
      "[INFO] (45/121) Page 45\n",
      "[INFO] (46/121) Page 46\n",
      "[INFO] (47/121) Page 47\n",
      "[INFO] (48/121) Page 48\n",
      "[INFO] (49/121) Page 49\n",
      "[INFO] (50/121) Page 50\n",
      "[INFO] (51/121) Page 51\n",
      "[INFO] (52/121) Page 52\n",
      "[INFO] (53/121) Page 53\n",
      "[INFO] (54/121) Page 54\n",
      "[INFO] (55/121) Page 55\n",
      "[INFO] (56/121) Page 56\n",
      "[INFO] (57/121) Page 57\n",
      "[INFO] (58/121) Page 58\n",
      "[INFO] (59/121) Page 59\n",
      "[INFO] (60/121) Page 60\n",
      "[INFO] (61/121) Page 61\n",
      "[INFO] (62/121) Page 62\n",
      "[INFO] (63/121) Page 63\n",
      "[INFO] (64/121) Page 64\n",
      "[INFO] (65/121) Page 65\n",
      "[INFO] (66/121) Page 66\n",
      "[INFO] (67/121) Page 67\n",
      "[INFO] (68/121) Page 68\n",
      "[INFO] (69/121) Page 69\n",
      "[INFO] (70/121) Page 70\n",
      "[INFO] (71/121) Page 71\n",
      "[INFO] (72/121) Page 72\n",
      "[INFO] (73/121) Page 73\n",
      "[INFO] (74/121) Page 74\n",
      "[INFO] (75/121) Page 75\n",
      "[INFO] (76/121) Page 76\n",
      "[INFO] (77/121) Page 77\n",
      "[INFO] (78/121) Page 78\n",
      "[INFO] (79/121) Page 79\n",
      "[INFO] (80/121) Page 80\n",
      "[INFO] (81/121) Page 81\n",
      "[INFO] (82/121) Page 82\n",
      "[INFO] (83/121) Page 83\n",
      "[INFO] (84/121) Page 84\n",
      "[INFO] (85/121) Page 85\n",
      "[INFO] (86/121) Page 86\n",
      "[INFO] (87/121) Page 87\n",
      "[INFO] (88/121) Page 88\n",
      "[INFO] (89/121) Page 89\n",
      "[INFO] (90/121) Page 90\n",
      "[INFO] (91/121) Page 91\n",
      "[INFO] (92/121) Page 92\n",
      "[INFO] (93/121) Page 93\n",
      "[INFO] (94/121) Page 94\n",
      "[INFO] (95/121) Page 95\n",
      "[INFO] (96/121) Page 96\n",
      "[INFO] (97/121) Page 97\n",
      "[INFO] (98/121) Page 98\n",
      "[INFO] (99/121) Page 99\n",
      "[INFO] (100/121) Page 100\n",
      "[INFO] (101/121) Page 101\n",
      "[INFO] (102/121) Page 102\n",
      "[INFO] (103/121) Page 103\n",
      "[INFO] (104/121) Page 104\n",
      "[INFO] (105/121) Page 105\n",
      "[INFO] (106/121) Page 106\n",
      "[INFO] (107/121) Page 107\n",
      "[INFO] (108/121) Page 108\n",
      "[INFO] (109/121) Page 109\n",
      "[INFO] (110/121) Page 110\n",
      "[INFO] (111/121) Page 111\n",
      "[INFO] (112/121) Page 112\n",
      "[INFO] (113/121) Page 113\n",
      "[INFO] (114/121) Page 114\n",
      "[INFO] (115/121) Page 115\n",
      "[INFO] (116/121) Page 116\n",
      "[INFO] (117/121) Page 117\n",
      "[INFO] (118/121) Page 118\n",
      "[INFO] (119/121) Page 119\n",
      "[INFO] (120/121) Page 120\n",
      "[INFO] (121/121) Page 121\n",
      "[INFO] Terminated in 119.91s.\n"
     ]
    }
   ],
   "source": [
    "# 필요한 라이브러리를 가져옵니다.\n",
    "from pdf2docx import Converter\n",
    "\n",
    "def pdf_to_word(pdf_file_path, docx_file_path):\n",
    "    # PDF 파일을 변환하는 Converter 객체를 생성합니다.\n",
    "    cv = Converter(pdf_file_path)\n",
    "    \n",
    "    # PDF 파일을 DOCX 파일로 변환합니다.\n",
    "    cv.convert(docx_file_path, start=0, end=None)\n",
    "    \n",
    "    # 변환이 완료된 후 리소스를 해제합니다.\n",
    "    cv.close()\n",
    "\n",
    "# 예제 실행\n",
    "pdf_file_path = 'F:\\\\2024\\\\refs\\\\2001-Michalek-MSThesis.pdf'\n",
    "docx_file_path = 'F:\\\\2024\\\\refs\\\\2001-Michalek-MSThesis.docx'\n",
    "\n",
    "# 함수 호출을 통해 PDF 파일을 Word 파일로 변환합니다.\n",
    "pdf_to_word(pdf_file_path, docx_file_path)\n"
   ],
   "metadata": {
    "collapsed": false,
    "ExecuteTime": {
     "end_time": "2024-05-24T06:19:38.845248100Z",
     "start_time": "2024-05-24T06:17:38.917217300Z"
    }
   },
   "id": "32a6c95e0a37ad66"
  },
  {
   "cell_type": "code",
   "execution_count": 8,
   "outputs": [
    {
     "name": "stdout",
     "output_type": "stream",
     "text": [
      "Best subset: [1, 3, 4, 6]\n",
      "Max sum: 14\n"
     ]
    }
   ],
   "source": [
    "def exhaustive_search(nums):\n",
    "    n = len(nums)\n",
    "    max_sum = float('-inf')\n",
    "    best_subset = []\n",
    "    \n",
    "    for i in range(1, 2**n):\n",
    "        subset = []\n",
    "        subset_sum = 0\n",
    "        for j in range(n):\n",
    "            if i & (1 << j):\n",
    "                subset.append(nums[j])\n",
    "                subset_sum += nums[j]\n",
    "        \n",
    "        if subset_sum > max_sum:\n",
    "            max_sum = subset_sum\n",
    "            best_subset = subset\n",
    "    \n",
    "    return best_subset, max_sum\n",
    "\n",
    "nums = [1, -2, 3, 4, -5, 6]\n",
    "best_subset, max_sum = exhaustive_search(nums)\n",
    "print(\"Best subset:\", best_subset)\n",
    "print(\"Max sum:\", max_sum)\n"
   ],
   "metadata": {
    "collapsed": false,
    "ExecuteTime": {
     "end_time": "2024-05-25T04:43:37.557742300Z",
     "start_time": "2024-05-25T04:43:37.514675800Z"
    }
   },
   "id": "b0ad464a989ba00f"
  },
  {
   "cell_type": "code",
   "execution_count": null,
   "outputs": [],
   "source": [],
   "metadata": {
    "collapsed": false
   },
   "id": "2838dd2a66bc4b53"
  }
 ],
 "metadata": {
  "kernelspec": {
   "display_name": "Python 3",
   "language": "python",
   "name": "python3"
  },
  "language_info": {
   "codemirror_mode": {
    "name": "ipython",
    "version": 2
   },
   "file_extension": ".py",
   "mimetype": "text/x-python",
   "name": "python",
   "nbconvert_exporter": "python",
   "pygments_lexer": "ipython2",
   "version": "2.7.6"
  }
 },
 "nbformat": 4,
 "nbformat_minor": 5
}
