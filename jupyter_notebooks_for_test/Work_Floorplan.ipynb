{
 "cells": [
  {
   "cell_type": "markdown",
   "source": [
    "# 문제 1:\n",
    "1. floorplans를 저장할 때 방:시드번호로 구성된 seed_cell_list  딕셔너리를 키로 해서 전체 floorplans를 저장한다. \n",
    "2. 이 때 `self.floorplans_dict[self.seed_cell_list] = self.floorplans` 이런 식으로 하면 seed_cell_list가 dictionary라서 hashable 하지 않다.  에러 발생\n",
    "# 대안 1:\n",
    "  튜플로 구조 변겅\n",
    "    `self.floorplans_dict[tuple(self.seed_cell_list.items())] = self.floorplans`\n",
    "# 구조적 문제 \n",
    "### 1. 딕셔너리의 키로 사용하는 데이터의 크기\n",
    "튜플 변환: self.seed_cell_list를 튜플로 변환하여 키로 사용하는 경우, 이 튜플의 크기가 크다면 메모리 사용량이 증가할 수 있습니다. 특히, 수만 개의 데이터를 저장하는 경우, 각 키가 차지하는 메모리 공간이 상당할 수 있습니다.\n",
    "해시 충돌: 해시를 사용하면 키를 비교할 때 효율적이지만, 해시 충돌이 발생할 가능성도 있습니다. 충돌이 빈번하게 발생하면 딕셔너리의 검색 성능이 저하될 수 있습니다.\n",
    "### 2. 키의 고유성 및 데이터 검색 효율성\n",
    "고유성: self.seed_cell_list의 값이 고유한지 확인해야 합니다. 만약 동일한 값을 가진 키가 많다면 데이터 저장 시 의도하지 않은 덮어쓰기(overwriting)가 발생할 수 있습니다.\n",
    "검색 효율성: 딕셔너리는 평균적으로 O(1)의 시간 복잡도로 검색이 가능하지만, 키가 커지거나 해시 충돌이 잦아질 경우, 실제 성능은 저하될 수 있습니다.\n",
    "### 3. 메모리 사용량\n",
    "메모리 최적화: 수만 개의 데이터가 저장될 경우, 메모리 사용량이 급격히 증가할 수 있습니다. 특히, 키의 크기가 크거나 복잡할 경우 메모리 사용량이 비효율적일 수 있습니다.\n",
    "대안적 데이터 구조: 대규모 데이터셋의 경우, 데이터베이스나 다른 종류의 효율적인 데이터 구조(예: defaultdict 또는 OrderedDict)를 사용하는 것이 더 나을 수 있습니다.\n",
    "### 4. 데이터의 지속성 및 관리\n",
    "영구 저장: 수만 개의 데이터를 장시간 저장하고 관리해야 한다면, 메모리에만 의존하지 않고 파일 시스템이나 데이터베이스에 저장하는 방법을 고려해야 합니다.\n",
    "데이터 관리: 메모리 내에서 수만 개의 항목을 관리하는 것은 복잡할 수 있으며, 데이터의 무결성을 유지하기 위한 추가적인 관리가 필요할 수 있습니다.\n",
    "### 5. 대안 제안\n",
    "데이터베이스 사용: 만약 데이터가 수만 개 이상으로 커지며 지속적인 검색 및 업데이트가 필요한 경우, SQLite나 NoSQL과 같은 경량 데이터베이스를 사용하는 것이 더 적절할 수 있습니다. 이를 통해 메모리 사용을 최적화하고, 더 큰 규모의 데이터를 효율적으로 관리할 수 있습니다.\n",
    "고유 식별자를 단순화: 가능하다면 self.seed_cell_list와 같은 복잡한 구조 대신, 해시 값이나 간단한 고유 식별자(ID)를 사용하여 딕셔너리의 키로 사용하는 방법도 고려할 수 있습니다. 이렇게 하면 메모리 사용량이 줄어들고, 검색 속도도 향상될 수 있습니다.\n",
    " \n",
    "# 고유 식별자를 단순화: \n",
    "- `self.seed_cell_list`와 같은 복잡한 구조 대신, 해시 값이나 간단한 고유 식별자(ID)를 사용하여 딕셔너리의 키로 사용하는 방법도 고려할 수 있습니다. \n",
    "- 이렇게 하면 메모리 사용량이 줄어들고, 검색 속도도 향상될 수 있습니다.\n",
    "\n",
    "### 1. **고유 식별자(ID) 생성 방법 **\n",
    "\n",
    "- `self.seed_cell_list`는 방번호와 방 배치의 시작점을 가진 딕셔너리. \n",
    "- 해시 값을 사용한 고유 식별자 생성\n",
    "- 예시: `hashlib` 라이브러리를 사용하여 SHA-256 해시 생성. 이 해시 값은 `self.seed_cell_list`의 문자열 표현을 기반으로 하며, 매우 고유한 식별자 역할을 합\n"
   ],
   "metadata": {
    "collapsed": false
   },
   "id": "2fbf41de68500f12"
  },
  {
   "cell_type": "code",
   "execution_count": 1,
   "outputs": [],
   "source": [
    "import hashlib\n",
    "\n",
    "def generate_unique_id(seed_cell_list):\n",
    "    # seed_cell_list를 문자열로 변환한 후, 해시 값을 생성\n",
    "    seed_str = str(seed_cell_list)\n",
    "    unique_id = hashlib.sha256(seed_str.encode('utf-8')).hexdigest()\n",
    "    return unique_id\n"
   ],
   "metadata": {
    "collapsed": false,
    "ExecuteTime": {
     "end_time": "2024-08-26T00:45:50.326530100Z",
     "start_time": "2024-08-26T00:45:50.295458100Z"
    }
   },
   "id": "ad21c613a6e35d0d"
  },
  {
   "cell_type": "markdown",
   "source": [
    "### 2. **딕셔너리에 고유 식별자(ID) 사용**\n",
    "\n",
    "생성된 고유 식별자(ID)를 딕셔너리의 키로 사용하여 데이터를 저장\n"
   ],
   "metadata": {
    "collapsed": false
   },
   "id": "2b4a85aa320fdbda"
  },
  {
   "cell_type": "code",
   "execution_count": 2,
   "outputs": [
    {
     "ename": "NameError",
     "evalue": "name 'self' is not defined",
     "output_type": "error",
     "traceback": [
      "\u001B[1;31m---------------------------------------------------------------------------\u001B[0m",
      "\u001B[1;31mNameError\u001B[0m                                 Traceback (most recent call last)",
      "Cell \u001B[1;32mIn[2], line 2\u001B[0m\n\u001B[0;32m      1\u001B[0m \u001B[38;5;66;03m# 1. 고유 식별자 생성\u001B[39;00m\n\u001B[1;32m----> 2\u001B[0m unique_id \u001B[38;5;241m=\u001B[39m generate_unique_id(\u001B[38;5;28;43mself\u001B[39;49m\u001B[38;5;241m.\u001B[39mseed_cell_list)\n\u001B[0;32m      4\u001B[0m \u001B[38;5;66;03m# 2. 딕셔너리에 고유 식별자(ID) 사용하여 데이터 저장\u001B[39;00m\n\u001B[0;32m      5\u001B[0m \u001B[38;5;28mself\u001B[39m\u001B[38;5;241m.\u001B[39mfloorplans_dict[unique_id] \u001B[38;5;241m=\u001B[39m \u001B[38;5;28mself\u001B[39m\u001B[38;5;241m.\u001B[39mfloorplans\n",
      "\u001B[1;31mNameError\u001B[0m: name 'self' is not defined"
     ]
    }
   ],
   "source": [
    "# 1. 고유 식별자 생성\n",
    "unique_id = generate_unique_id(self.seed_cell_list)\n",
    "\n",
    "# 2. 딕셔너리에 고유 식별자(ID) 사용하여 데이터 저장\n",
    "self.floorplans_dict[unique_id] = self.floorplans\n"
   ],
   "metadata": {
    "collapsed": false,
    "ExecuteTime": {
     "end_time": "2024-08-26T00:47:29.005301900Z",
     "start_time": "2024-08-26T00:47:28.293952600Z"
    }
   },
   "id": "abd82a055c60b9ef"
  },
  {
   "cell_type": "markdown",
   "source": [
    "### 3. **고유 식별자 사용 예시**\n",
    "\n",
    "수정된 `run_iteration()` 함수의 예시입니다.\n"
   ],
   "metadata": {
    "collapsed": false
   },
   "id": "f70a8ed8e53f8aa3"
  },
  {
   "cell_type": "code",
   "execution_count": null,
   "outputs": [],
   "source": [
    "import hashlib\n",
    "\n",
    "def generate_unique_id(seed_cell_list):\n",
    "    seed_str = str(seed_cell_list)\n",
    "    unique_id = hashlib.sha256(seed_str.encode('utf-8')).hexdigest()\n",
    "    return unique_id\n",
    "\n",
    "def run_iteration(self):\n",
    "    if self.iteration < 10:\n",
    "        self.ok_button.config(state=tk.DISABLED)\n",
    "\n",
    "        initial_floorplan = create_floorplan(self.seed, k=self.num_rooms, options=self.options)\n",
    "        self.draw_floorplan(initial_floorplan, self.initial_canvas)\n",
    "        simplified_floorplan, fit = self.get_optimal_from_initial_floorplan(initial_floorplan)\n",
    "        self.draw_floorplan(simplified_floorplan, self.final_canvas)\n",
    "\n",
    "        # 결과 저장\n",
    "        self.floorplans.append((simplified_floorplan, fit))\n",
    "\n",
    "        # OK 버튼 활성화\n",
    "        self.ok_button.config(state=tk.NORMAL)\n",
    "\n",
    "    else:\n",
    "        self.fitness_label.config(text=\"Batch processing complete.\")\n",
    "        self.ok_button.config(state=tk.DISABLED)\n",
    "        \n",
    "        # 1. 고유 식별자 생성\n",
    "        unique_id = generate_unique_id(self.seed_cell_list)\n",
    "        \n",
    "        # 2. 고유 식별자를 사용해 결과 저장\n",
    "        self.floorplans_dict[unique_id] = self.floorplans"
   ],
   "metadata": {
    "collapsed": false
   },
   "id": "21611ac01a5db43c"
  },
  {
   "cell_type": "markdown",
   "source": [
    "\n",
    "### 4. **고유 식별자 검색 및 사용**\n",
    "\n",
    "나중에 `self.floorplans_dict`에서 데이터를 검색할 때도 동일한 방식으로 고유 식별자를 생성하여 사용."
   ],
   "metadata": {
    "collapsed": false
   },
   "id": "4c4f2e3a24e327b2"
  },
  {
   "cell_type": "code",
   "execution_count": null,
   "outputs": [],
   "source": [
    "\n",
    "unique_id = generate_unique_id(some_seed_cell_list)\n",
    "if unique_id in self.floorplans_dict:\n",
    "    floorplans = self.floorplans_dict[unique_id]\n"
   ],
   "metadata": {
    "collapsed": false
   },
   "id": "90b894525e4c9b56"
  },
  {
   "cell_type": "markdown",
   "source": [
    "\n",
    "### 결론\n",
    "\n",
    "이 방법을 사용하면 `self.seed_cell_list`와 같은 복잡한 구조를 직접 딕셔너리의 키로 사용하는 대신, 고유 식별자(ID) 또는 해시 값을 사용하여 키를 단순화할 수 있습니다. 이렇게 하면 메모리 사용량이 줄어들고, 딕셔너리 검색 속도가 향상됩니다."
   ],
   "metadata": {
    "collapsed": false
   },
   "id": "a098907fa0656285"
  },
  {
   "cell_type": "code",
   "execution_count": null,
   "outputs": [],
   "source": [],
   "metadata": {
    "collapsed": false
   },
   "id": "9358d0e5d7e3747c"
  }
 ],
 "metadata": {
  "kernelspec": {
   "display_name": "Python 3",
   "language": "python",
   "name": "python3"
  },
  "language_info": {
   "codemirror_mode": {
    "name": "ipython",
    "version": 2
   },
   "file_extension": ".py",
   "mimetype": "text/x-python",
   "name": "python",
   "nbconvert_exporter": "python",
   "pygments_lexer": "ipython2",
   "version": "2.7.6"
  }
 },
 "nbformat": 4,
 "nbformat_minor": 5
}
