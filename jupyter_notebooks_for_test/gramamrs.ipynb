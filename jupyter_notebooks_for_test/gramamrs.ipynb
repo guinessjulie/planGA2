{
 "cells": [
  {
   "cell_type": "markdown",
   "source": [
    "# @property 사용방법\n",
    "@property는 Python에서 클래스의 속성을 정의할 때 사용하는 데코레이터입니다. 이 데코레이터를 사용하면, 클래스 메서드를 속성처럼 접근할 수 있게 만들어줍니다. 즉, 메서드 호출 없이 마치 일반 변수처럼 접근할 수 있습니다. @property를 통해 getter, setter, deleter를 정의할 수 있으며, 이로써 속성의 값을 간접적으로 조작할 수 있습니다.\n",
    "\n",
    "### @property의 주요 사용 사례\n",
    "\n",
    "#### 1. `Getter` 정의:\n",
    "\n",
    "- `@property`는 기본적으로 클래스의 속성 값을 **읽기 전용**으로 만들 수 있다. \n",
    "- `getter` 메서드를 정의하고 여기에 `@property`를 적용하면, 메서드를 호출하지 않고도 속성에 접근할 수 있다.\n",
    "\n",
    "#### 2. `Setter` 정의:\n",
    "\n",
    "`@property`와 함께 `@속성명.setter`를 사용하여 setter 메서드를 정의할 수 있다. 이를 통해 속성의 값을 설정할 때 추가적인 로직을 추가할 수 있다.\n",
    "\n",
    "#### 3. `Deleter` 정의:\n",
    "\n",
    "`@property`와 함께 `@속성명.deleter`를 사용하여 deleter 메서드를 정의할 수 있다. 이를 통해 속성을 삭제할 때 추가적인 로직을 실행할 수 있다."
   ],
   "metadata": {
    "collapsed": false
   },
   "id": "df05c75d08587f49"
  },
  {
   "cell_type": "code",
   "execution_count": 1,
   "outputs": [
    {
     "name": "stdout",
     "output_type": "stream",
     "text": [
      "5\n",
      "10\n",
      "78.53975\n",
      "10\n",
      "314.159\n"
     ]
    }
   ],
   "source": [
    "class Circle:\n",
    "    def __init__(self, radius):\n",
    "        self._radius = radius\n",
    "    \n",
    "    @property\n",
    "    def radius(self):\n",
    "        return self._radius\n",
    "    \n",
    "    @radius.setter\n",
    "    def radius(self, value):\n",
    "        if value < 0:\n",
    "            raise ValueError(\"Radius cannot be negative\")\n",
    "        self._radius = value\n",
    "    \n",
    "    @property\n",
    "    def diameter(self):\n",
    "        return self._radius * 2\n",
    "    \n",
    "    @property\n",
    "    def area(self):\n",
    "        return 3.14159 * (self._radius ** 2)\n",
    "\n",
    "# 사용 예시\n",
    "circle = Circle(5)\n",
    "print(circle.radius)  # 5\n",
    "print(circle.diameter)  # 10\n",
    "print(circle.area)  # 78.53975\n",
    "\n",
    "circle.radius = 10\n",
    "print(circle.radius)  # 10\n",
    "print(circle.area)  # 314.159\n",
    "\n",
    "# circle.radius = -10  # 이 경우 ValueError가 발생함\n"
   ],
   "metadata": {
    "collapsed": false,
    "ExecuteTime": {
     "end_time": "2024-08-20T06:06:38.439273500Z",
     "start_time": "2024-08-20T06:06:38.423572300Z"
    }
   },
   "id": "e2874c64563dd25c"
  },
  {
   "cell_type": "code",
   "execution_count": null,
   "outputs": [],
   "source": [],
   "metadata": {
    "collapsed": false
   },
   "id": "c940b0fdfa605623"
  }
 ],
 "metadata": {
  "kernelspec": {
   "display_name": "Python 3",
   "language": "python",
   "name": "python3"
  },
  "language_info": {
   "codemirror_mode": {
    "name": "ipython",
    "version": 2
   },
   "file_extension": ".py",
   "mimetype": "text/x-python",
   "name": "python",
   "nbconvert_exporter": "python",
   "pygments_lexer": "ipython2",
   "version": "2.7.6"
  }
 },
 "nbformat": 4,
 "nbformat_minor": 5
}
