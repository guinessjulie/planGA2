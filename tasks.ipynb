{
 "cells": [
  {
   "cell_type": "code",
   "execution_count": 3,
   "id": "initial_id",
   "metadata": {
    "collapsed": true,
    "ExecuteTime": {
     "end_time": "2024-01-24T01:43:23.225329700Z",
     "start_time": "2024-01-24T01:43:15.982580300Z"
    }
   },
   "outputs": [
    {
     "name": "stdout",
     "output_type": "stream",
     "text": [
      "Requirement already satisfied: pillow in c:\\anaconda\\envs\\deep\\lib\\site-packages (10.0.1)\n"
     ]
    },
    {
     "name": "stderr",
     "output_type": "stream",
     "text": [
      "\n",
      "[notice] A new release of pip is available: 23.2.1 -> 23.3.2\n",
      "[notice] To update, run: python.exe -m pip install --upgrade pip\n"
     ]
    }
   ],
   "source": [
    "!pip install pillow\n"
   ]
  },
  {
   "cell_type": "code",
   "execution_count": 6,
   "outputs": [
    {
     "name": "stdout",
     "output_type": "stream",
     "text": [
      "Converted F:\\2023\\연말정산\\20240124_102338.jpg to F:\\2023\\연말정산\\20240124_102338pdf\n",
      "Converted F:\\2023\\연말정산\\20240124_102356.jpg to F:\\2023\\연말정산\\20240124_102356pdf\n",
      "Converted F:\\2023\\연말정산\\20240124_102423.jpg to F:\\2023\\연말정산\\20240124_102423pdf\n",
      "Converted F:\\2023\\연말정산\\20240124_102443.jpg to F:\\2023\\연말정산\\20240124_102443pdf\n",
      "Converted F:\\2023\\연말정산\\20240124_102502.jpg to F:\\2023\\연말정산\\20240124_102502pdf\n",
      "Converted F:\\2023\\연말정산\\20240124_102556.jpg to F:\\2023\\연말정산\\20240124_102556pdf\n"
     ]
    }
   ],
   "source": [
    "from PIL import Image\n",
    "import os\n",
    "def convert_jpg_to_pdf(jpg_file, pdf_file):\n",
    "    # JPG 이미지를 열기\n",
    "    \n",
    "    \n",
    "    \n",
    "    \n",
    "    \n",
    "    \n",
    "    \n",
    "    if image.mode != 'RGB':\n",
    "        image = image.convert('RGB')\n",
    "\n",
    "    # PDF로 저장\n",
    "    image.save(pdf_file, 'PDF', resolution=100.0)\n",
    "\n",
    "# 모든 v\n",
    "def convert_all_jpg(folder_path):\n",
    "    for filename in os.listdir(folder_path):\n",
    "        if filename.endswith('.jpg') or filename.endswith('.jpeg'):\n",
    "            jpg_file = os.path.join(folder_path, filename)\n",
    "            pdf_file = os.path.join(folder_path, filename.replace('.jpg', 'pdf').replace('jpeg', 'pdf'))\n",
    "            convert_jpg_to_pdf(jpg_file, pdf_file)\n",
    "            print(f\"Converted {jpg_file} to {pdf_file}\")\n",
    "\n",
    "\n",
    "\n",
    "\n",
    "folder_path = 'F:\\\\2023\\\\연말정산'\n",
    "convert_all_jpg(folder_path)"
   ],
   "metadata": {
    "collapsed": false,
    "ExecuteTime": {
     "end_time": "2024-01-24T01:52:20.161923200Z",
     "start_time": "2024-01-24T01:52:17.316242200Z"
    }
   },
   "id": "ac6d51b258b9a2c8"
  },
  {
   "cell_type": "code",
   "execution_count": 7,
   "outputs": [
    {
     "name": "stdout",
     "output_type": "stream",
     "text": [
      "Collecting pyPDF2\n",
      "  Downloading pypdf2-3.0.1-py3-none-any.whl (232 kB)\n",
      "     ---------------------------------------- 0.0/232.6 kB ? eta -:--:--\n",
      "     - -------------------------------------- 10.2/232.6 kB ? eta -:--:--\n",
      "     ---- -------------------------------- 30.7/232.6 kB 435.7 kB/s eta 0:00:01\n",
      "     ------------------------------------ - 225.3/232.6 kB 2.3 MB/s eta 0:00:01\n",
      "     -------------------------------------- 232.6/232.6 kB 2.0 MB/s eta 0:00:00\n",
      "Installing collected packages: pyPDF2\n",
      "Successfully installed pyPDF2-3.0.1\n"
     ]
    },
    {
     "name": "stderr",
     "output_type": "stream",
     "text": [
      "\n",
      "[notice] A new release of pip is available: 23.2.1 -> 23.3.2\n",
      "[notice] To update, run: python.exe -m pip install --upgrade pip\n"
     ]
    }
   ],
   "source": [
    "!pip install pyPDF2\n"
   ],
   "metadata": {
    "collapsed": false,
    "ExecuteTime": {
     "end_time": "2024-01-24T01:53:45.054680Z",
     "start_time": "2024-01-24T01:53:37.886050600Z"
    }
   },
   "id": "9fb9b0e6105d8cbf"
  },
  {
   "cell_type": "code",
   "execution_count": 14,
   "outputs": [
    {
     "name": "stdout",
     "output_type": "stream",
     "text": [
      "['F:\\\\2023\\\\연말정산\\\\1.pdf', 'F:\\\\2023\\\\연말정산\\\\2.pdf', 'F:\\\\2023\\\\연말정산\\\\3.pdf', 'F:\\\\2023\\\\연말정산\\\\4.pdf', 'F:\\\\2023\\\\연말정산\\\\5.pdf']\n",
      "Merged PDF saved as: F:\\2023\\연말정산\\merged.pdf\n"
     ]
    }
   ],
   "source": [
    "import PyPDF2\n",
    "import os\n",
    "\n",
    "def merge_pdfs(paths, output):\n",
    "    pdf_writer = PyPDF2.PdfWriter()\n",
    "\n",
    "    for path in paths:\n",
    "        pdf_reader = PyPDF2.PdfReader(path)\n",
    "        for page in range(len(pdf_reader.pages)):\n",
    "            # Add each page to the writer object\n",
    "            pdf_writer.add_page(pdf_reader.pages[page])\n",
    "\n",
    "    # Write out the merged PDF\n",
    "    with open(output, 'wb') as out:\n",
    "        pdf_writer.write(out)\n",
    "\n",
    "    print(f'Merged PDF saved as: {output}')\n"
   ],
   "metadata": {
    "collapsed": false,
    "ExecuteTime": {
     "end_time": "2024-01-24T02:23:25.944580100Z",
     "start_time": "2024-01-24T02:23:25.913086900Z"
    }
   },
   "id": "aa063b1f70cbffa6"
  },
  {
   "cell_type": "code",
   "execution_count": null,
   "outputs": [],
   "source": [
    "# merge pdf into one file\n",
    "# 폰으로 다운받은 연말정산 서류를 하나로 합친다.\n",
    "\n",
    "folder_path = 'F:\\\\2023\\\\연말정산'\n",
    "\n",
    "# Example usage\n",
    "pdf_files = ['1.pdf', '2.pdf', '3.pdf', '4.pdf', '5.pdf']  # List of PDF \n",
    "pdf_files = [os.path.join(folder_path,filename) for filename in pdf_files]\n",
    "print(pdf_files)\n",
    "# files to merge\n",
    "output_file = os.path.join(folder_path, 'merged.pdf')  # Name of the output file\n",
    "merge_pdfs(pdf_files, output_file)\n"
   ],
   "metadata": {
    "collapsed": false
   },
   "id": "9edb3e83a0413b28"
  },
  {
   "cell_type": "markdown",
   "source": [
    "# Convert Markdown To Word"
   ],
   "metadata": {
    "collapsed": false
   },
   "id": "51121cdde1c6079e"
  },
  {
   "cell_type": "code",
   "execution_count": 2,
   "outputs": [
    {
     "name": "stdout",
     "output_type": "stream",
     "text": [
      "Requirement already satisfied: markdown in c:\\anaconda\\envs\\deep\\lib\\site-packages (3.4.1)\n",
      "Requirement already satisfied: python-docx in c:\\anaconda\\envs\\deep\\lib\\site-packages (1.1.0)\n",
      "Requirement already satisfied: lxml>=3.1.0 in c:\\anaconda\\envs\\deep\\lib\\site-packages (from python-docx) (5.1.0)\n",
      "Requirement already satisfied: typing-extensions in c:\\users\\206539\\appdata\\roaming\\python\\python311\\site-packages (from python-docx) (4.8.0)\n"
     ]
    },
    {
     "name": "stderr",
     "output_type": "stream",
     "text": [
      "\n",
      "[notice] A new release of pip is available: 23.2.1 -> 24.0\n",
      "[notice] To update, run: python.exe -m pip install --upgrade pip\n"
     ]
    }
   ],
   "source": [
    "!pip install markdown python-docx\n"
   ],
   "metadata": {
    "collapsed": false,
    "ExecuteTime": {
     "end_time": "2024-02-22T07:58:57.074221500Z",
     "start_time": "2024-02-22T07:58:45.371041800Z"
    }
   },
   "id": "a4f57556ad796446"
  },
  {
   "cell_type": "code",
   "execution_count": 13,
   "outputs": [
    {
     "name": "stdout",
     "output_type": "stream",
     "text": [
      "Requirement already satisfied: beautifulsoup4 in c:\\users\\206539\\appdata\\roaming\\python\\python311\\site-packages (4.12.2)\n",
      "Requirement already satisfied: soupsieve>1.2 in c:\\users\\206539\\appdata\\roaming\\python\\python311\\site-packages (from beautifulsoup4) (2.4.1)\n"
     ]
    },
    {
     "name": "stderr",
     "output_type": "stream",
     "text": [
      "\n",
      "[notice] A new release of pip is available: 23.2.1 -> 24.0\n",
      "[notice] To update, run: python.exe -m pip install --upgrade pip\n"
     ]
    }
   ],
   "source": [
    "!pip install beautifulsoup4"
   ],
   "metadata": {
    "collapsed": false,
    "ExecuteTime": {
     "end_time": "2024-02-22T08:19:56.388548300Z",
     "start_time": "2024-02-22T08:19:48.082246Z"
    }
   },
   "id": "7245fe1aef5231b9"
  },
  {
   "cell_type": "code",
   "execution_count": 18,
   "outputs": [],
   "source": [
    "# 필요한 라이브러리를 임포트합니다.\n",
    "import markdown\n",
    "from docx import Document\n",
    "from docx.shared import Pt\n",
    "from markdown.extensions.extra import ExtraExtension\n",
    "import os\n",
    "\n",
    "# Markdown 파일을 읽고 HTML로 변환하는 함수\n",
    "def markdown_to_html(markdown_path):\n",
    "    \"\"\"\n",
    "    주어진 Markdown 파일을 읽고 HTML 문자열로 변환합니다.\n",
    "    \n",
    "    Args:\n",
    "    - markdown_path: Markdown 파일의 경로\n",
    "    \n",
    "    Returns:\n",
    "    - HTML 문자열\n",
    "    \"\"\"\n",
    "    # Markdown 파일을 읽습니다.\n",
    "    with open(markdown_path, 'r', encoding='utf-8') as md_file:\n",
    "        md_content = md_file.read()\n",
    "    \n",
    "    # Markdown을 HTML로 변환합니다.\n",
    "    html_content = markdown.markdown(md_content, extensions=[ExtraExtension()])\n",
    "    print(html_content)\n",
    "    return html_content\n",
    "\n",
    "# HTML을 Word 문서로 변환하는 함수\n",
    "def html_to_word(html_content, word_path):\n",
    "    \"\"\"\n",
    "    HTML 내용을 받아 Word 문서(.docx)로 저장합니다.\n",
    "    \n",
    "    Args:\n",
    "    - html_content: HTML 형식의 문자열\n",
    "    - word_path: 저장될 Word 파일의 경로\n",
    "    \"\"\"\n",
    "    # 새 Word 문서를 생성합니다.\n",
    "    doc = Document()\n",
    "    # HTML을 단순 텍스트로 취급하여 Word 문서에 추가합니다.\n",
    "    # 참고: 이 부분은 HTML 태그를 Word로 변환하는 더 복잡한 로직으로 대체될 수 있습니다.\n",
    "    doc.add_paragraph(html_content)\n",
    "    # 문서를 저장합니다.\n",
    "    doc.save(word_path)\n",
    "\n",
    "# 메인 함수: 사용자 입력을 처리하고 변환 프로세스를 관리합니다.\n",
    "def markdown_to_word(markdown_path, word_path):\n",
    "    \"\"\"\n",
    "    Markdown 파일을 Word 문서로 변환하는 메인 함수입니다.\n",
    "    \n",
    "    Args:\n",
    "    - markdown_path: 입력 Markdown 파일의 경로\n",
    "    - word_path: 출력 Word 파일의 경로\n",
    "    \"\"\"\n",
    "    # Markdown 파일을 HTML로 변환합니다.\n",
    "    html_content = markdown_to_html(markdown_path)\n",
    "    # 변환된 HTML을 Word 문서로 변환합니다.\n",
    "    html_to_word_enhanced_v2(html_content, word_path)\n",
    "\n",
    "# 예제 실행을 위한 코드입니다. 실제 사용 시에는 주석을 해제하고 필요한 경로를 입력하세요.\n",
    "# main(\"example.md\", \"output.docx\")\n"
   ],
   "metadata": {
    "collapsed": false,
    "ExecuteTime": {
     "end_time": "2024-02-22T08:26:39.170003100Z",
     "start_time": "2024-02-22T08:26:39.123910400Z"
    }
   },
   "id": "3c9ed3e6e67feabb"
  },
  {
   "cell_type": "code",
   "execution_count": 19,
   "outputs": [],
   "source": [
    "# 필요한 라이브러리를 임포트합니다. BeautifulSoup 추가\n",
    "from bs4 import BeautifulSoup\n",
    "\n",
    "# HTML을 Word 문서로 변환하는 함수 (태그 처리 기능 추가, 수정된 버전)\n",
    "def html_to_word_enhanced_v2(html_content, word_path):\n",
    "    \"\"\"\n",
    "    HTML 내용을 받아 Word 문서(.docx)로 저장합니다. 특정 HTML 태그를 Word 서식으로 변환합니다.\n",
    "    `<body>` 태그의 존재 여부에 관계없이 처리합니다.\n",
    "    \n",
    "    Args:\n",
    "    - html_content: HTML 형식의 문자열\n",
    "    - word_path: 저장될 Word 파일의 경로\n",
    "    \"\"\"\n",
    "    doc = Document()  # 새 Word 문서를 생성합니다.\n",
    "    soup = BeautifulSoup(html_content, 'html.parser')\n",
    "\n",
    "    # `<body>` 태그의 존재 여부와 관계없이 모든 HTML 요소를 순회합니다.\n",
    "    for element in soup.find_all(['h3', 'h4', 'p', 'ul', 'li', 'strong'], recursive=True):\n",
    "        if element.name == 'h3':\n",
    "            doc.add_heading(element.text, level=3)\n",
    "        elif element.name == 'h4':\n",
    "            doc.add_heading(element.text, level=4)\n",
    "        elif element.name == 'p':\n",
    "            doc.add_paragraph(element.text)\n",
    "        elif element.name == 'ul':\n",
    "            for li in element.find_all('li'):\n",
    "                doc.add_paragraph(li.text, style='ListBullet')\n",
    "        elif element.name == 'strong':\n",
    "            p = doc.add_paragraph()\n",
    "            p.add_run(element.text).bold = True\n",
    "        # 여기서는 'li' 요소가 'ul' 내부에 있을 때만 처리하므로, 'li' 태그가 독립적으로 나타날 경우를 대비한 추가 로직이 필요할 수 있습니다.\n",
    "        # 'latex' 태그 처리는 예시에서 생략됩니다.\n",
    "\n",
    "    # 문서를 저장합니다.\n",
    "    doc.save(word_path)\n",
    "\n",
    "# 함수 호출 예시는 주석 처리됩니다. 실제 사용 시에는 필요한 HTML 콘텐츠와 경로를 제공해야 합니다.\n",
    "# html_to_word_enhanced_v2(\"<h3>Example Heading</h3><p>Example paragraph.</p>\", \"example.docx\")\n",
    "\n"
   ],
   "metadata": {
    "collapsed": false,
    "ExecuteTime": {
     "end_time": "2024-02-22T08:26:40.461199300Z",
     "start_time": "2024-02-22T08:26:40.456077500Z"
    }
   },
   "id": "a3e8748934f7625e"
  },
  {
   "cell_type": "code",
   "execution_count": 20,
   "outputs": [
    {
     "name": "stdout",
     "output_type": "stream",
     "text": [
      "<h3>제목: 비정형 그리드 상에서의 색상 확산 알고리즘</h3>\n",
      "<h3>초록</h3>\n",
      "<p>본 논문에서는 주어진 비정형, 직교형 공간 내에서 초기 색상 점들로부터 시작하여 인접한 셀로 색상을 확산시키는 알고리즘을 제안한다. 이 알고리즘은 특정 조건(예: 건축 평면도 내 공간 색칠) 하에서 그리드 기반 시스템의 시각화 및 최적화 문제에 적용될 수 있다. 알고리즘의 핵심은 비정형 그리드 상에서 색상의 효율적인 확산을 달성하는 것이며, 이를 통해 사용자가 지정한 색상으로 모든 접근 가능한 셀을 채우는 것을 목표로 한다.</p>\n",
      "<h3>1. 서론</h3>\n",
      "<p>그리드 기반 시각화는 다양한 분야에서 중요한 역할을 한다. 특히, 비정형 공간에서의 색상 확산은 건축 설계, 게임 개발, 그래픽 디자인 등에서 널리 활용된다. 본 연구에서 제안하는 알고리즘은 비정형, 직교형 그리드 상에서 초기 색상 점들로부터 시작하여 주변 셀로 색상을 확산시키는 새로운 방법을 소개한다.</p>\n",
      "<h3>2. 방법론</h3>\n",
      "<h4>2.1 그리드와 평면도의 정의</h4>\n",
      "<ul>\n",
      "<li><strong>그리드 (G)</strong>: (G)는 (m \\times n) 크기의 행렬로 정의되며, 각 셀 (G_{ij})는 특정 색상으로 칠해질 수 있다.</li>\n",
      "<li><strong>평면도 (F)</strong>: (F)는 (G)와 동일한 크기를 가지며, (F_{ij} = 1)은 해당 위치가 색칠 가능함을, (F_{ij} = 0)은 색칠 불가능함을 나타낸다.</li>\n",
      "</ul>\n",
      "<h4>2.2 색상 초기화</h4>\n",
      "<ul>\n",
      "<li><strong>색상 초기화</strong>: (k)개의 서로 다른 색상이 (F)에 정의된 평면도 내 무작위 위치에 초기 배치된다.</li>\n",
      "</ul>\n",
      "<h4>2.3 색상 확산</h4>\n",
      "<ul>\n",
      "<li><strong>색상 확산</strong>: 각 색상은 인접한 색칠 가능한 셀로 확산된다. 이 과정은 모든 색칠 가능한 셀이 색상으로 채워질 때까지 반복된다.</li>\n",
      "</ul>\n",
      "<h4>2.4 수학적 모델</h4>\n",
      "<ul>\n",
      "<li><strong>확산 함수 (D)</strong>: 색상 확산은 함수 (D: G \\times F \\rightarrow G')를 통해 모델링된다. 여기서 (G')는 최종 색칠된 그리드를 나타낸다.</li>\n",
      "</ul>\n",
      "<h3>3. 알고리즘 구현</h3>\n",
      "<p>본 연구에서 제시하는 알고리즘은 Python 프로그래밍 언어로 구현되었다. 구현 과정에서는 Numpy 라이브러리가 사용되었으며, 알고리즘의 효율성과 정확성을 검증하기 위한 여러 테스트가 수행되었다.</p>\n",
      "<h3>4. 실험 결과 및 분석</h3>\n",
      "<p>실험을 통해 알고리즘은 다양한 크기와 형태의 비정형 평면도에 대해 효과적으로 색상을 확산시킬 수 있음을 보여준다. 결과적으로, 본 연구에서 개발된 알고리즘은 비정형 공간에서의 색상 확산 문제에 대한 해결책을 제공한다.</p>\n",
      "<h3>5. 결론 및 향후 연구</h3>\n",
      "<p>본 논문에서는 비정형, 직교형 공간 내에서의 색상 확산을 위한 새로운 알고리즘을 제안하고 구현하였다. 이 알고리즘은 향후 다양한 응용 분야에서 활용될 잠재력을 가지고 있다. 향후 연구에서는 알고리즘의 최적화 및 다양한 형태의 공간에 대한 적용 가능성을 탐구할 예정이다.</p>\n",
      "<hr />\n",
      "<p>이 예시는 비정형 그리드 색상 확산 알고리즘에 대한 개념을 수식과 함께 논문 형식으로 표현한 것입니다. 실제 논문 작성 시에는 연구 배경, 이론적 근거, 관련 연구 리뷰, 실험 설계 및 결과 분석 등 더 많은 세부 사항이 필요할 수 있습니다.</p>\n",
      "<p>확산 함수 (D)를 수학적 표기로 정의하는 것은 알고리즘의 핵심 메커니즘을 명확하게 설명하는 데 중요합니다. 확산 함수는 그리드 상에서 색상이 확산되는 방식을 모델링합니다. 이 함수는 주어진 그리드 (G)와 평면도 (F)를 입력으로 받아, 색상이 확산된 후의 그리드 (G')를 출력으로 내놓습니다.</p>\n",
      "<h3>확산 함수 (D)의 정의</h3>\n",
      "<p>확산 함수 (D)는 다음과 같이 정의할 수 있습니다:</p>\n",
      "<p>[ D(G, F) = G' ]</p>\n",
      "<p>여기서:\n",
      "- (G)는 (m \\times n) 크기의 초기 그리드 상태를 나타내며, 각 셀 (G_{ij})는 색상 번호 또는 0(색칠되지 않음)을 가집니다.\n",
      "- (F)는 (m \\times n) 크기의 평면도를 나타내며, (F_{ij} = 1)은 해당 셀이 색칠 가능함을, (F_{ij} = 0)은 색칠 불가능함을 나타냅니다.\n",
      "- (G')는 확산 함수 (D)의 적용 후, 즉 색상이 확산된 후의 그리드 상태를 나타냅니다.</p>\n",
      "<p>확산 과정에서 각 색상은 인접한 색칠 가능한 셀로 확산되며, 이 과정은 모든 색칠 가능한 셀이 색상으로 채워질 때까지 반복됩니다.</p>\n",
      "<h3>확산 과정의 수학적 표현</h3>\n",
      "<p>색상 (k)의 확산을 좀 더 구체적으로 표현하기 위해, 각 단계에서 색상이 확산되는 셀을 결정하는 규칙을 정의할 수 있습니다. 이를 위해, 색상 (k)가 확산될 수 있는 인접 셀을 (N(G, i, j))로 나타냅니다:</p>\n",
      "<p>[ N(G, i, j) = { (i', j') \\mid (i', j') \\text{는} (i, j) \\text{에 인접하고} F_{i'j'} = 1 \\text{이며} G_{i'j'} = 0 } ]</p>\n",
      "<p>그리고 확산 단계에서 각 셀 ((i, j))에 대해 새로운 색상 값을 할당하는 함수를 (C(G, i, j, k))로 정의할 수 있습니다. 이 함수는 셀이 색칠 가능한 경우 해당 색상으로 셀을 색칠합니다:</p>\n",
      "<p>[ C(G, i, j, k) = \\begin{cases} k &amp; \\text{if } (i, j) \\in N(G, i, j) \\ G_{ij} &amp; \\text{otherwise} \\end{cases} ]</p>\n",
      "<p>따라서, 확산 함수 (D)는 모든 셀에 대해 (C) 함수를 적용하여 색상 확산을 반영한 새로운 그리드 (G')를 생성합니다.</p>\n",
      "<p>이러한 수학적 표기는 알고리즘의 확산 과정을 추상적이고 정형화된 방식으로 설명합니다. 실제 알고리즘 구현 시에는 이러한 수학적 모델을 알고리즘 로직으로 변환하여 적용합니다.</p>\n",
      "<p>연구 배경은 논문이나 연구 보고서에서 해당 연구가 수행된 맥락과 필요성을 설명하는 부분입니다. 비정형 그리드 상에서의 색상 확산 알고리즘에 대한 연구 배경을 기술해보겠습니다.</p>\n",
      "<h3>연구 배경 (가상의 예시)</h3>\n",
      "<p>최근 디지털 시각화 기술의 발전은 다양한 분야에서 복잡한 데이터와 정보를 이해하고 해석하는 데 큰 도움을 주고 있다. 특히, 공간 데이터의 시각화는 도시 계획, 건축 설계, 게임 개발 등 여러 분야에서 중요한 역할을 하고 있다. 이러한 공간 데이터를 효과적으로 시각화하고 분석하기 위해서는 주어진 공간 내에서 데이터의 분포와 패턴을 정확하게 표현할 수 있는 기술이 필요하다.</p>\n",
      "<p>그러나 기존의 그리드 기반 시각화 방법들은 주로 정형화된 직사각형 그리드를 사용하여 공간 데이터를 표현하고 처리하는 데 초점을 맞추고 있다. 이러한 접근 방식은 정형 공간에서는 효율적이지만, 비정형 또는 복잡한 형태의 공간 데이터를 다루는 경우에는 한계를 가진다. 예를 들어, 건축 평면도나 자연 지형과 같은 비정형 공간을 정형 그리드로 표현하려고 하면, 공간의 형태가 왜곡되거나 중요한 정보가 손실될 수 있다.</p>\n",
      "<p>또한, 비정형 공간 내에서 데이터의 분포를 시각화하기 위한 색상 확산과 같은 과정은 기존의 정형 그리드 기반 방법으로는 직관적이고 효율적으로 처리하기 어려운 경우가 많다. 비정형 공간에서 색상을 확산시키는 과정은 공간의 형태와 구조를 고려해야 하며, 이를 위해서는 공간의 비정형성을 정확하게 반영할 수 있는 새로운 알고리즘 개발이 요구된다.</p>\n",
      "<p>본 연구는 이러한 문제의식에서 출발하여, 비정형 공간 데이터를 효과적으로 시각화하고 분석할 수 있는 새로운 그리드 기반 색상 확산 알고리즘을 제안한다. 제안된 알고리즘은 비정형, 직교형 공간 내에서 초기 색상 점들로부터 시작하여 인접한 셀로 색상을 확산시키는 과정을 모델링하며, 이를 통해 사용자가 지정한 색상으로 모든 접근 가능한 셀을 효율적으로 채우는 것을 목표로 한다. 본 연구를 통해 개발된 알고리즘은 비정형 공간 데이터의 시각화 및 분석 분야에 새로운 접근 방법을 제시하며, 관련 분야의 연구 및 응용에 기여할 것으로 기대된다.</p>\n",
      "<p>이렇게 연구 배경을 기술함으로써, 연구가 수행되는 맥락을 명확히 하고, 연구의 필요성과 중요성을 강조할 수 있습니다.</p>\n",
      "<p>이론적 근거는 연구의 기반을 이루는 핵심 개념과 기존 연구 결과를 종합하여 연구 주제에 대한 깊이 있는 이해와 연구가 진행되는 배경을 제공합니다. 비정형 그리드 상에서의 색상 확산 알고리즘에 대한 이론적 근거를 기술해 보겠습니다.</p>\n",
      "<h3>이론적 근거</h3>\n",
      "<h4>1. 그리드 기반 시각화의 중요성</h4>\n",
      "<p>그리드 기반 시각화는 공간 데이터를 체계적으로 표현하고 분석하는 데 중요한 도구입니다. 이는 복잡한 공간 정보를 단순화하여 이해할 수 있게 하며, 데이터의 패턴과 분포를 명확하게 파악할 수 있도록 합니다. 특히, 그리드는 이산화된 공간에서의 연산을 가능하게 하여 컴퓨터 시뮬레이션과 알고리즘 적용에 있어 기본적인 구조를 제공합니다.</p>\n",
      "<h4>2. 비정형 공간 데이터의 처리</h4>\n",
      "<p>비정형 공간 데이터는 자연 현상, 인간 활동, 건축 설계 등 다양한 형태로 존재합니다. 이러한 데이터를 효과적으로 처리하고 시각화하기 위해서는 전통적인 정형 그리드 방식을 넘어서는 접근 방식이 필요합니다. 비정형 공간을 처리하는 기존 연구들은 공간의 복잡성을 고려한 모델링과 알고리즘을 제안하여, 보다 정확한 데이터 표현과 분석을 가능하게 했습니다.</p>\n",
      "<h4>3. 색상 확산 알고리즘의 발전</h4>\n",
      "<p>색상 확산은 이미지 처리, 시각 예술, 과학 시뮬레이션 등 다양한 분야에서 활용되는 기법입니다. 이 과정에서 색상의 이동과 분포는 해당 공간의 특성과 상호작용을 반영합니다. 색상 확산에 관한 연구는 이러한 과정을 수학적으로 모델링하고, 알고리즘을 통해 구현하는 방법론을 탐구합니다. 이는 복잡한 공간에서의 색상 분포와 패턴 생성을 가능하게 하며, 특히 비정형 공간에서의 적용 가능성에 대한 이해를 높입니다.</p>\n",
      "<h4>4. 비정형 공간에서의 적용</h4>\n",
      "<p>비정형 공간에서 색상을 확산시키는 작업은 기존 정형 공간에서의 접근 방식을 적용하기 어렵게 만듭니다. 이는 비정형 공간의 특성과 구조를 정확하게 이해하고 반영해야 하는 요구를 생성합니다. 본 연구는 이러한 문제에 주목하며, 비정형 공간 내에서 색상을 효율적으로 확산시키기 위한 새로운 알고리즘의 개발을 목표로 합니다. 이는 비정형 공간을 모델링하는 새로운 방법론과 그리드 시스템의 확장을 통해 가능해집니다.</p>\n",
      "<h3>결론</h3>\n",
      "<p>비정형 그리드 상에서의 색상 확산 알고리즘은 그리드 기반 시각화의 중요성, 비정형 공간 데이터의 처리, 색상 확산 알고리즘의 발전, 그리고 비정형 공간에서의 적용 가능성 등의 이론적 근거에 기반합니다. 이러한 이론적 배경은 본 연구가 추구하는 목표와 방향성을 명확히 하며, 비정형 공간 데이터를 효과적으로 시각화하고 분석할 수 있는 새로운 접근 방식을 제시합니다.</p>\n",
      "<p>관련 연구 리뷰는 연구 주제와 밀접한 기존 연구들을 검토하고, 그 결과와 방법론을 요약하여 현재 연구의 배경과 필요성을 더욱 강조하는 부분입니다. 비정형 그리드 상에서의 색상 확산 알고리즘과 관련된 연구 리뷰를 작성해 보겠습니다.</p>\n",
      "<h3>관련 연구 리뷰</h3>\n",
      "<h4>1. 그리드 기반 시각화 연구</h4>\n",
      "<p>그리드 기반 시각화는 공간 데이터의 효율적인 표현과 분석을 가능하게 합니다. Smith et al. (2010)은 정형 그리드를 사용하여 복잡한 지형 데이터를 시각화하는 방법을 제시하였으며, 이는 지형 분석과 시뮬레이션에 널리 적용되고 있습니다. 그러나 이러한 접근법은 정형화된 공간에 한정되며, 비정형 공간의 복잡성을 충분히 반영하지 못한다는 한계가 있습니다.</p>\n",
      "<h4>2. 비정형 공간 데이터 처리 연구</h4>\n",
      "<p>비정형 공간을 다루는 연구는 주로 메쉬 생성과 최적화에 집중되어 왔습니다. Lee and Kim (2015)은 비정형 공간을 위한 동적 메쉬 최적화 기법을 개발하였고, 이는 공간의 복잡성을 효과적으로 모델링하는 데 성공하였습니다. 이 연구는 비정형 공간에서도 정확한 데이터 표현이 가능함을 보여줍니다.</p>\n",
      "<h4>3. 색상 확산 알고리즘과 응용</h4>\n",
      "<p>색상 확산에 관한 연구는 주로 이미지 처리와 컴퓨터 그래픽스 분야에서 활발히 이루어지고 있습니다. Johnson et al. (2018)은 이미지 내에서 색상을 자연스럽게 확산시키는 알고리즘을 개발하여, 사진 편집과 디지털 아트 작성에 새로운 방법을 제시하였습니다. 이러한 알고리즘은 비정형 공간에서의 색상 확산과는 다른 접근을 사용하지만, 색상 확산의 기본 원리와 기술을 공유합니다.</p>\n",
      "<h4>4. 비정형 공간 시각화에 대한 최신 연구</h4>\n",
      "<p>비정형 공간 시각화에 대한 최신 연구는 고도의 맞춤화와 세밀한 공간 표현을 추구합니다. Zhang et al. (2020)은 비정형 건축 공간에서의 데이터 시각화를 위한 프레임워크를 개발하였으며, 이는 건축 설계 과정에서의 의사 결정을 지원하는 데 기여하였습니다. 이 연구는 비정형 공간에서 색상 확산 알고리즘의 적용 가능성을 시사하며, 본 연구의 필요성과 중요성을 더욱 강조합니다.</p>\n",
      "<h3>결론</h3>\n",
      "<p>기존 연구들은 그리드 기반 시각화, 비정형 공간 데이터 처리, 색상 확산 알고리즘의 개발 및 응용 등 다양한 방면에서 중요한 기여를 하였습니다. 그러나 비정형, 직교형 공간에서의 효율적인 색상 확산에 관한 연구는 상대적으로 덜 탐구되었습니다. 본 연구는 이러한 공백을 메우고자 하며, 관련 분야에 새로운 시각과 방법론을 제공하고자 합니다.</p>\n"
     ]
    },
    {
     "name": "stderr",
     "output_type": "stream",
     "text": [
      "C:\\Anaconda\\envs\\deep\\Lib\\site-packages\\docx\\styles\\styles.py:130: UserWarning: style lookup by style_id is deprecated. Use style name as key instead.\n",
      "  return self._get_style_id_from_style(self[style_name], style_type)\n"
     ]
    }
   ],
   "source": [
    "def run_markdown_to_word():\n",
    "    markdown_path = 'F:\\\\2023\\\\Note\\\\obsidian\\\\writing_paper\\\\비정형 그리드 상에서의 색상 확산 알고리즘.md'\n",
    "    word_path = 'F:\\\\2024\\\\논문작성\\\\output1.docx'\n",
    "    markdown_to_word(markdown_path, word_path)\n",
    "run_markdown_to_word()"
   ],
   "metadata": {
    "collapsed": false,
    "ExecuteTime": {
     "end_time": "2024-02-22T08:26:41.451269200Z",
     "start_time": "2024-02-22T08:26:41.307262900Z"
    }
   },
   "id": "b7a9ac1dcfb4c5c9"
  },
  {
   "cell_type": "code",
   "execution_count": 9,
   "outputs": [
    {
     "name": "stdout",
     "output_type": "stream",
     "text": [
      "1\n"
     ]
    }
   ],
   "source": [
    "print(1)"
   ],
   "metadata": {
    "collapsed": false,
    "ExecuteTime": {
     "end_time": "2024-02-22T08:11:06.979625300Z",
     "start_time": "2024-02-22T08:11:06.945208200Z"
    }
   },
   "id": "78d89c0ac80fb9ca"
  },
  {
   "cell_type": "code",
   "execution_count": null,
   "outputs": [],
   "source": [],
   "metadata": {
    "collapsed": false
   },
   "id": "bf2851801e72a39b"
  },
  {
   "cell_type": "code",
   "execution_count": 4,
   "outputs": [
    {
     "name": "stdout",
     "output_type": "stream",
     "text": [
      "New filename: 0306_150400.txt\n"
     ]
    }
   ],
   "source": [
    "from datetime import datetime\n",
    "\n",
    "def create_filename(ext='txt'):\n",
    "    current_datetime = datetime.now()\n",
    "    formatted_datetime = current_datetime.strftime(\"%m%d_%H%M%S\")\n",
    "    filename = f'{formatted_datetime}.{ext}'\n",
    "    return filename\n",
    "\n",
    "# Example usage:\n",
    "new_filename = create_filename()\n",
    "print(f\"New filename: {new_filename}\")"
   ],
   "metadata": {
    "collapsed": false,
    "ExecuteTime": {
     "end_time": "2024-03-06T06:04:00.356358500Z",
     "start_time": "2024-03-06T06:04:00.334061500Z"
    }
   },
   "id": "c13de5f8d7e27662"
  },
  {
   "cell_type": "code",
   "execution_count": null,
   "outputs": [],
   "source": [],
   "metadata": {
    "collapsed": false
   },
   "id": "eb6fe7fbfc0d6948"
  }
 ],
 "metadata": {
  "kernelspec": {
   "display_name": "Python 3",
   "language": "python",
   "name": "python3"
  },
  "language_info": {
   "codemirror_mode": {
    "name": "ipython",
    "version": 2
   },
   "file_extension": ".py",
   "mimetype": "text/x-python",
   "name": "python",
   "nbconvert_exporter": "python",
   "pygments_lexer": "ipython2",
   "version": "2.7.6"
  }
 },
 "nbformat": 4,
 "nbformat_minor": 5
}
