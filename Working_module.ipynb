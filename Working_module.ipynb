{
 "cells": [
  {
   "cell_type": "code",
   "execution_count": null,
   "id": "initial_id",
   "metadata": {
    "collapsed": true
   },
   "outputs": [],
   "source": []
  },
  {
   "cell_type": "code",
   "execution_count": 1,
   "outputs": [
    {
     "name": "stdout",
     "output_type": "stream",
     "text": [
      "Room1 polygon corners: [(0, 0), (2, 0), (2, 2), (1, 2), (1, 3), (0, 3)]\n"
     ]
    }
   ],
   "source": [
    "import numpy as np\n",
    "from collections import defaultdict\n",
    "\n",
    "# 주어진 그리드\n",
    "grid = np.array([[1, 1], [1, 1], [1, 0]])\n",
    "\n",
    "# 셀의 꼭지점 좌표를 구하는 함수\n",
    "def get_cell_corners(grid):\n",
    "    rows, cols = grid.shape\n",
    "    corners = []\n",
    "    for i in range(cols):\n",
    "        for j in range(rows):\n",
    "            if grid[j, i] == 1:\n",
    "                cell_corners = [\n",
    "                    (i, j),\n",
    "                    (i, j+1),\n",
    "                    (i+1, j+1),\n",
    "                    (i+1, j)\n",
    "                ]\n",
    "                corners.append(cell_corners)\n",
    "    return corners\n",
    "\n",
    "# 외곽선 좌표를 구하는 함수\n",
    "def get_polygon_corners(grid):\n",
    "    cell_corners = get_cell_corners(grid)\n",
    "    corner_count = defaultdict(int)\n",
    "    \n",
    "    # 각 꼭지점의 등장 횟수를 셉니다.\n",
    "    for cell in cell_corners:\n",
    "        for corner in cell:\n",
    "            corner_count[corner] += 1\n",
    "            \n",
    "    # 외곽선에 위치한 꼭지점만 선택합니다.\n",
    "    outer_corners = [corner for corner, count in corner_count.items() if count < 4]\n",
    "\n",
    "    # 시계 방향으로 정렬합니다.\n",
    "    def sort_corners(corners):\n",
    "        center = np.mean(corners, axis=0)\n",
    "        corners.sort(key=lambda c: np.arctan2(c[1] - center[1], c[0] - center[0]))\n",
    "        return corners\n",
    "\n",
    "    sorted_corners = sort_corners(outer_corners)\n",
    "\n",
    "    # 일직선 상에 있는 점들을 제거합니다.\n",
    "    def remove_collinear_points(corners):\n",
    "        def is_collinear(p1, p2, p3):\n",
    "            return (p2[1] - p1[1]) * (p3[0] - p2[0]) == (p3[1] - p2[1]) * (p2[0] - p1[0])\n",
    "        \n",
    "        filtered_corners = []\n",
    "        n = len(corners)\n",
    "        for i in range(n):\n",
    "            p1 = corners[i]\n",
    "            p2 = corners[(i + 1) % n]\n",
    "            p3 = corners[(i + 2) % n]\n",
    "            if not is_collinear(p1, p2, p3):\n",
    "                filtered_corners.append(p2)\n",
    "        return filtered_corners\n",
    "\n",
    "    final_corners = remove_collinear_points(sorted_corners)\n",
    "    return final_corners\n",
    "\n",
    "# 폴리건의 꼭지점 좌표 계산\n",
    "polygon_corners = get_polygon_corners(grid)\n",
    "\n",
    "# 결과 출력\n",
    "print(\"Room1 polygon corners:\", polygon_corners)\n"
   ],
   "metadata": {
    "collapsed": false,
    "ExecuteTime": {
     "end_time": "2024-06-12T06:47:10.522958400Z",
     "start_time": "2024-06-12T06:47:10.289386500Z"
    }
   },
   "id": "a9a7ee70a336604a"
  },
  {
   "cell_type": "markdown",
   "source": [
    "# For multi room"
   ],
   "metadata": {
    "collapsed": false
   },
   "id": "4784659642692255"
  },
  {
   "cell_type": "code",
   "execution_count": 2,
   "outputs": [
    {
     "data": {
      "text/plain": "{1: [(4, 2), (4, 1), (5, 1), (5, 4), (4, 4), (4, 3), (3, 3), (3, 2)],\n 2: [(2, 1), (2, 3), (0, 3), (0, 1)],\n 3: [(4, 0), (4, 2), (2, 2), (2, 0)],\n 4: [(2, 3), (2, 2), (3, 2), (3, 3), (4, 3), (4, 4), (0, 4), (0, 3)],\n 5: [(5, 1), (6, 1), (6, 2), (7, 2), (7, 3), (5, 3)]}"
     },
     "execution_count": 2,
     "metadata": {},
     "output_type": "execute_result"
    }
   ],
   "source": [
    "import numpy as np\n",
    "from collections import defaultdict\n",
    "\n",
    "# 주어진 그리드\n",
    "grid = np.array([\n",
    "    [ 4,  4,  4,  4,  1, -1, -1],\n",
    "    [ 2,  2,  4,  1,  1,  5,  5],\n",
    "    [ 2,  2,  3,  3,  1,  5, -1],\n",
    "    [-1, -1,  3,  3, -1, -1, -1]\n",
    "])\n",
    "grid = np.flipud(grid)\n",
    "\n",
    "# Add a border of -1 around the original grid\n",
    "padding = 1\n",
    "padded_grid = np.pad(grid, pad_width=padding, mode='constant', constant_values=-1)\n",
    "\n",
    "# Define the scale\n",
    "scale = 1000  # 1 unit = 1000mm\n",
    "wall_thickness = 50  # Wall thickness in mm\n",
    "# 셀의 꼭지점 좌표를 구하는 함수\n",
    "def get_cell_corners(grid, room_number):\n",
    "    rows, cols = grid.shape\n",
    "    corners = []\n",
    "    for i in range(cols):\n",
    "        for j in range(rows):\n",
    "            if grid[j, i] == room_number:\n",
    "                cell_corners = [\n",
    "                    (i, j),\n",
    "                    (i, j+1),\n",
    "                    (i+1, j+1),\n",
    "                    (i+1, j)\n",
    "                ]\n",
    "                corners.append(cell_corners)\n",
    "    return corners\n",
    "\n",
    "# 외곽선 좌표를 구하는 함수\n",
    "def get_polygon_corners(grid, room_number):\n",
    "    cell_corners = get_cell_corners(grid, room_number)\n",
    "    corner_count = defaultdict(int)\n",
    "    \n",
    "    # 각 꼭지점의 등장 횟수를 셉니다.\n",
    "    for cell in cell_corners:\n",
    "        for corner in cell:\n",
    "            corner_count[corner] += 1\n",
    "            \n",
    "    # 외곽선에 위치한 꼭지점만 선택합니다.\n",
    "    outer_corners = [corner for corner, count in corner_count.items() if count < 4]\n",
    "\n",
    "    # 시계 방향으로 정렬합니다.\n",
    "    def sort_corners(corners):\n",
    "        center = np.mean(corners, axis=0)\n",
    "        corners.sort(key=lambda c: np.arctan2(c[1] - center[1], c[0] - center[0]))\n",
    "        return corners\n",
    "\n",
    "    sorted_corners = sort_corners(outer_corners)\n",
    "\n",
    "    # 일직선 상에 있는 점들을 제거합니다.\n",
    "    def remove_collinear_points(corners):\n",
    "        def is_collinear(p1, p2, p3):\n",
    "            return (p2[1] - p1[1]) * (p3[0] - p2[0]) == (p3[1] - p2[1]) * (p2[0] - p1[0])\n",
    "        \n",
    "        filtered_corners = []\n",
    "        n = len(corners)\n",
    "        for i in range(n):\n",
    "            p1 = corners[i]\n",
    "            p2 = corners[(i + 1) % n]\n",
    "            p3 = corners[(i + 2) % n]\n",
    "            if not is_collinear(p1, p2, p3):\n",
    "                filtered_corners.append(p2)\n",
    "        return filtered_corners\n",
    "\n",
    "    final_corners = remove_collinear_points(sorted_corners)\n",
    "    return final_corners\n",
    "\n",
    "# 각 방에 대한 폴리건 꼭지점 좌표 계산 및 출력\n",
    "room_numbers = [1, 2, 3, 4, 5]\n",
    "room_polygons = {}\n",
    "\n",
    "for room_number in room_numbers:\n",
    "    room_polygons[room_number] = get_polygon_corners(grid, room_number)\n",
    "\n",
    "room_polygons\n"
   ],
   "metadata": {
    "collapsed": false,
    "ExecuteTime": {
     "end_time": "2024-06-12T06:55:06.300995700Z",
     "start_time": "2024-06-12T06:55:06.247421400Z"
    }
   },
   "id": "717b6e82c45cb59a"
  },
  {
   "cell_type": "markdown",
   "source": [
    "# flip y coordinate, scale, padding 적용"
   ],
   "metadata": {
    "collapsed": false
   },
   "id": "6aa64ad570afa0e"
  },
  {
   "cell_type": "code",
   "execution_count": 3,
   "outputs": [
    {
     "data": {
      "text/plain": "{1: [(5000, 3000),\n  (5000, 2000),\n  (6000, 2000),\n  (6000, 5000),\n  (5000, 5000),\n  (5000, 4000),\n  (4000, 4000),\n  (4000, 3000)],\n 2: [(3000, 2000), (3000, 4000), (1000, 4000), (1000, 2000)],\n 3: [(5000, 1000), (5000, 3000), (3000, 3000), (3000, 1000)],\n 4: [(3000, 4000),\n  (3000, 3000),\n  (4000, 3000),\n  (4000, 4000),\n  (5000, 4000),\n  (5000, 5000),\n  (1000, 5000),\n  (1000, 4000)],\n 5: [(6000, 2000),\n  (7000, 2000),\n  (7000, 3000),\n  (8000, 3000),\n  (8000, 4000),\n  (6000, 4000)]}"
     },
     "execution_count": 3,
     "metadata": {},
     "output_type": "execute_result"
    }
   ],
   "source": [
    "import numpy as np\n",
    "from collections import defaultdict\n",
    "\n",
    "# 주어진 그리드\n",
    "grid = np.array([\n",
    "    [ 4,  4,  4,  4,  1, -1, -1],\n",
    "    [ 2,  2,  4,  1,  1,  5,  5],\n",
    "    [ 2,  2,  3,  3,  1,  5, -1],\n",
    "    [-1, -1,  3,  3, -1, -1, -1]\n",
    "])\n",
    "\n",
    "# grid를 상하 반전합니다.\n",
    "grid = np.flipud(grid)\n",
    "\n",
    "# 셀의 크기 및 패딩 설정\n",
    "cell_size = 1000\n",
    "padding_size = cell_size\n",
    "\n",
    "# 패딩 적용을 위해 grid 크기를 확장합니다.\n",
    "padded_grid = np.pad(grid, pad_width=1, mode='constant', constant_values=-1)\n",
    "\n",
    "# 셀의 꼭지점 좌표를 구하는 함수\n",
    "def get_cell_corners(grid, room_number):\n",
    "    rows, cols = grid.shape\n",
    "    corners = []\n",
    "    for i in range(cols):\n",
    "        for j in range(rows):\n",
    "            if grid[j, i] == room_number:\n",
    "                cell_corners = [\n",
    "                    (i * cell_size, j * cell_size),\n",
    "                    (i * cell_size, (j + 1) * cell_size),\n",
    "                    ((i + 1) * cell_size, (j + 1) * cell_size),\n",
    "                    ((i + 1) * cell_size, j * cell_size)\n",
    "                ]\n",
    "                corners.append(cell_corners)\n",
    "    return corners\n",
    "\n",
    "# 외곽선 좌표를 구하는 함수\n",
    "def get_polygon_corners(grid, room_number):\n",
    "    cell_corners = get_cell_corners(grid, room_number)\n",
    "    corner_count = defaultdict(int)\n",
    "    \n",
    "    # 각 꼭지점의 등장 횟수를 셉니다.\n",
    "    for cell in cell_corners:\n",
    "        for corner in cell:\n",
    "            corner_count[corner] += 1\n",
    "            \n",
    "    # 외곽선에 위치한 꼭지점만 선택합니다.\n",
    "    outer_corners = [corner for corner, count in corner_count.items() if count < 4]\n",
    "\n",
    "    # 시계 방향으로 정렬합니다.\n",
    "    def sort_corners(corners):\n",
    "        center = np.mean(corners, axis=0)\n",
    "        corners.sort(key=lambda c: np.arctan2(c[1] - center[1], c[0] - center[0]))\n",
    "        return corners\n",
    "\n",
    "    sorted_corners = sort_corners(outer_corners)\n",
    "\n",
    "    # 일직선 상에 있는 점들을 제거합니다.\n",
    "    def remove_collinear_points(corners):\n",
    "        def is_collinear(p1, p2, p3):\n",
    "            return (p2[1] - p1[1]) * (p3[0] - p2[0]) == (p3[1] - p2[1]) * (p2[0] - p1[0])\n",
    "        \n",
    "        filtered_corners = []\n",
    "        n = len(corners)\n",
    "        for i in range(n):\n",
    "            p1 = corners[i]\n",
    "            p2 = corners[(i + 1) % n]\n",
    "            p3 = corners[(i + 2) % n]\n",
    "            if not is_collinear(p1, p2, p3):\n",
    "                filtered_corners.append(p2)\n",
    "        return filtered_corners\n",
    "\n",
    "    final_corners = remove_collinear_points(sorted_corners)\n",
    "    return final_corners\n",
    "\n",
    "# 각 방에 대한 폴리건 꼭지점 좌표 계산 및 출력\n",
    "room_numbers = [1, 2, 3, 4, 5]\n",
    "room_polygons = {}\n",
    "\n",
    "for room_number in room_numbers:\n",
    "    room_polygons[room_number] = get_polygon_corners(padded_grid, room_number)\n",
    "\n",
    "room_polygons\n"
   ],
   "metadata": {
    "collapsed": false,
    "ExecuteTime": {
     "end_time": "2024-06-12T07:00:53.236379800Z",
     "start_time": "2024-06-12T07:00:53.161176800Z"
    }
   },
   "id": "c101ffa4af3c3f64"
  },
  {
   "cell_type": "code",
   "execution_count": 4,
   "outputs": [
    {
     "name": "stdout",
     "output_type": "stream",
     "text": [
      "DXF file saved as room_polygons.dxf\n"
     ]
    }
   ],
   "source": [
    "import numpy as np\n",
    "from collections import defaultdict\n",
    "import ezdxf\n",
    "\n",
    "# 주어진 그리드\n",
    "grid = np.array([\n",
    "    [ 4,  4,  4,  4,  1, -1, -1],\n",
    "    [ 2,  2,  4,  1,  1,  5,  5],\n",
    "    [ 2,  2,  3,  3,  1,  5, -1],\n",
    "    [-1, -1,  3,  3, -1, -1, -1]\n",
    "])\n",
    "\n",
    "# grid를 상하 반전합니다.\n",
    "grid = np.flipud(grid)\n",
    "\n",
    "# 셀의 크기 및 패딩 설정\n",
    "cell_size = 1000\n",
    "padding_size = cell_size\n",
    "\n",
    "# 패딩 적용을 위해 grid 크기를 확장합니다.\n",
    "padded_grid = np.pad(grid, pad_width=1, mode='constant', constant_values=-1)\n",
    "\n",
    "# 셀의 꼭지점 좌표를 구하는 함수\n",
    "def get_cell_corners(grid, room_number):\n",
    "    rows, cols = grid.shape\n",
    "    corners = []\n",
    "    for i in range(cols):\n",
    "        for j in range(rows):\n",
    "            if grid[j, i] == room_number:\n",
    "                cell_corners = [\n",
    "                    (i * cell_size, j * cell_size),\n",
    "                    (i * cell_size, (j + 1) * cell_size),\n",
    "                    ((i + 1) * cell_size, (j + 1) * cell_size),\n",
    "                    ((i + 1) * cell_size, j * cell_size)\n",
    "                ]\n",
    "                corners.append(cell_corners)\n",
    "    return corners\n",
    "\n",
    "# 외곽선 좌표를 구하는 함수\n",
    "def get_polygon_corners(grid, room_number):\n",
    "    cell_corners = get_cell_corners(grid, room_number)\n",
    "    corner_count = defaultdict(int)\n",
    "    \n",
    "    # 각 꼭지점의 등장 횟수를 셉니다.\n",
    "    for cell in cell_corners:\n",
    "        for corner in cell:\n",
    "            corner_count[corner] += 1\n",
    "            \n",
    "    # 외곽선에 위치한 꼭지점만 선택합니다.\n",
    "    outer_corners = [corner for corner, count in corner_count.items() if count < 4]\n",
    "\n",
    "    # 시계 방향으로 정렬합니다.\n",
    "    def sort_corners(corners):\n",
    "        center = np.mean(corners, axis=0)\n",
    "        corners.sort(key=lambda c: np.arctan2(c[1] - center[1], c[0] - center[0]))\n",
    "        return corners\n",
    "\n",
    "    sorted_corners = sort_corners(outer_corners)\n",
    "\n",
    "    # 일직선 상에 있는 점들을 제거합니다.\n",
    "    def remove_collinear_points(corners):\n",
    "        def is_collinear(p1, p2, p3):\n",
    "            return (p2[1] - p1[1]) * (p3[0] - p2[0]) == (p3[1] - p2[1]) * (p2[0] - p1[0])\n",
    "        \n",
    "        filtered_corners = []\n",
    "        n = len(corners)\n",
    "        for i in range(n):\n",
    "            p1 = corners[i]\n",
    "            p2 = corners[(i + 1) % n]\n",
    "            p3 = corners[(i + 2) % n]\n",
    "            if not is_collinear(p1, p2, p3):\n",
    "                filtered_corners.append(p2)\n",
    "        return filtered_corners\n",
    "\n",
    "    final_corners = remove_collinear_points(sorted_corners)\n",
    "    return final_corners\n",
    "\n",
    "# 각 방에 대한 폴리건 꼭지점 좌표 계산 및 출력\n",
    "room_numbers = [1, 2, 3, 4, 5]\n",
    "room_polygons = {}\n",
    "\n",
    "for room_number in room_numbers:\n",
    "    room_polygons[room_number] = get_polygon_corners(padded_grid, room_number)\n",
    "\n",
    "# DXF 파일 생성 함수\n",
    "def save_polygons_to_dxf(room_polygons, filename):\n",
    "    doc = ezdxf.new(dxfversion='R2010')\n",
    "    msp = doc.modelspace()\n",
    "\n",
    "    for room_number, corners in room_polygons.items():\n",
    "        polyline = msp.add_lwpolyline(corners, close=True)\n",
    "        polyline.dxf.layer = f\"Room_{room_number}\"\n",
    "\n",
    "    doc.saveas(filename)\n",
    "\n",
    "# DXF 파일 저장\n",
    "output_file = \"room_polygons.dxf\"\n",
    "save_polygons_to_dxf(room_polygons, output_file)\n",
    "print(f\"DXF file saved as {output_file}\")\n"
   ],
   "metadata": {
    "collapsed": false,
    "ExecuteTime": {
     "end_time": "2024-06-12T07:04:34.139889100Z",
     "start_time": "2024-06-12T07:04:32.850143600Z"
    }
   },
   "id": "504924c7f8dbda45"
  },
  {
   "cell_type": "markdown",
   "source": [
    "# 각 방의 폴리건을 lwpolyline dxf 파일에 저장"
   ],
   "metadata": {
    "collapsed": false
   },
   "id": "1b209f577eb752df"
  },
  {
   "cell_type": "code",
   "execution_count": 5,
   "outputs": [
    {
     "name": "stdout",
     "output_type": "stream",
     "text": [
      "DXF file saved as room_polygons.dxf\n"
     ]
    }
   ],
   "source": [
    "import numpy as np\n",
    "from collections import defaultdict\n",
    "import ezdxf\n",
    "\n",
    "# 주어진 그리드\n",
    "grid = np.array([\n",
    "    [ 4,  4,  4,  4,  1, -1, -1],\n",
    "    [ 2,  2,  4,  1,  1,  5,  5],\n",
    "    [ 2,  2,  3,  3,  1,  5, -1],\n",
    "    [-1, -1,  3,  3, -1, -1, -1]\n",
    "])\n",
    "\n",
    "# grid를 상하 반전합니다.\n",
    "grid = np.flipud(grid)\n",
    "\n",
    "# 셀의 크기 및 패딩 설정\n",
    "cell_size = 1000\n",
    "padding_size = cell_size\n",
    "\n",
    "# 패딩 적용을 위해 grid 크기를 확장합니다.\n",
    "padded_grid = np.pad(grid, pad_width=1, mode='constant', constant_values=-1)\n",
    "\n",
    "# 셀의 꼭지점 좌표를 구하는 함수\n",
    "def get_cell_corners(grid, room_number):\n",
    "    rows, cols = grid.shape\n",
    "    corners = []\n",
    "    for i in range(cols):\n",
    "        for j in range(rows):\n",
    "            if grid[j, i] == room_number:\n",
    "                cell_corners = [\n",
    "                    (i * cell_size, j * cell_size),\n",
    "                    (i * cell_size, (j + 1) * cell_size),\n",
    "                    ((i + 1) * cell_size, (j + 1) * cell_size),\n",
    "                    ((i + 1) * cell_size, j * cell_size)\n",
    "                ]\n",
    "                corners.append(cell_corners)\n",
    "    return corners\n",
    "\n",
    "# 외곽선 좌표를 구하는 함수\n",
    "def get_polygon_corners(grid, room_number):\n",
    "    cell_corners = get_cell_corners(grid, room_number)\n",
    "    corner_count = defaultdict(int)\n",
    "    \n",
    "    # 각 꼭지점의 등장 횟수를 셉니다.\n",
    "    for cell in cell_corners:\n",
    "        for corner in cell:\n",
    "            corner_count[corner] += 1\n",
    "            \n",
    "    # 외곽선에 위치한 꼭지점만 선택합니다.\n",
    "    outer_corners = [corner for corner, count in corner_count.items() if count < 4]\n",
    "\n",
    "    # 시계 방향으로 정렬합니다.\n",
    "    def sort_corners(corners):\n",
    "        center = np.mean(corners, axis=0)\n",
    "        corners.sort(key=lambda c: np.arctan2(c[1] - center[1], c[0] - center[0]))\n",
    "        return corners\n",
    "\n",
    "    sorted_corners = sort_corners(outer_corners)\n",
    "\n",
    "    # 일직선 상에 있는 점들을 제거합니다.\n",
    "    def remove_collinear_points(corners):\n",
    "        def is_collinear(p1, p2, p3):\n",
    "            return (p2[1] - p1[1]) * (p3[0] - p2[0]) == (p3[1] - p2[1]) * (p2[0] - p1[0])\n",
    "        \n",
    "        filtered_corners = []\n",
    "        n = len(corners)\n",
    "        for i in range(n):\n",
    "            p1 = corners[i]\n",
    "            p2 = corners[(i + 1) % n]\n",
    "            p3 = corners[(i + 2) % n]\n",
    "            if not is_collinear(p1, p2, p3):\n",
    "                filtered_corners.append(p2)\n",
    "        return filtered_corners\n",
    "\n",
    "    final_corners = remove_collinear_points(sorted_corners)\n",
    "    return final_corners\n",
    "\n",
    "# 각 방에 대한 폴리건 꼭지점 좌표 계산 및 출력\n",
    "room_numbers = [1, 2, 3, 4, 5]\n",
    "room_polygons = {}\n",
    "\n",
    "for room_number in room_numbers:\n",
    "    room_polygons[room_number] = get_polygon_corners(padded_grid, room_number)\n",
    "\n",
    "# DXF 파일 생성 함수\n",
    "def save_polygons_to_dxf(room_polygons, filename):\n",
    "    doc = ezdxf.new(dxfversion='R2010')\n",
    "    msp = doc.modelspace()\n",
    "\n",
    "    for room_number, corners in room_polygons.items():\n",
    "        polyline = msp.add_lwpolyline(corners, close=True)\n",
    "        polyline.dxf.layer = f\"Room_{room_number}\"\n",
    "\n",
    "    doc.saveas(filename)\n",
    "\n",
    "# DXF 파일 저장\n",
    "output_file = \"room_polygons.dxf\"\n",
    "save_polygons_to_dxf(room_polygons, output_file)\n",
    "print(f\"DXF file saved as {output_file}\")\n"
   ],
   "metadata": {
    "collapsed": false,
    "ExecuteTime": {
     "end_time": "2024-06-12T07:07:20.532385Z",
     "start_time": "2024-06-12T07:07:20.437345800Z"
    }
   },
   "id": "f9d99183823cc983"
  },
  {
   "cell_type": "code",
   "execution_count": 8,
   "outputs": [
    {
     "name": "stdout",
     "output_type": "stream",
     "text": [
      "DXF file saved as all_room_polygon.dxf\n"
     ]
    }
   ],
   "source": [
    "# 주어진 그리드\n",
    "grid = np.array([\n",
    "    [ 4,  4,  4,  4,  1, -1, -1],\n",
    "    [ 2,  2,  4,  1,  1,  5,  5],\n",
    "    [ 2,  2,  3,  3,  1,  5, -1],\n",
    "    [-1, -1,  3,  3, -1, -1, -1]\n",
    "])\n",
    "\n",
    "# grid를 상하 반전합니다.\n",
    "grid = np.flipud(grid)\n",
    "\n",
    "# 셀의 크기 및 패딩 설정\n",
    "cell_size = 1000\n",
    "padding_size = cell_size\n",
    "\n",
    "# 패딩 적용을 위해 grid 크기를 확장합니다.\n",
    "padded_grid = np.pad(grid, pad_width=1, mode='constant', constant_values=-1)\n",
    "\n",
    "# 셀의 꼭지점 좌표를 구하는 함수\n",
    "def get_cell_corners_all(grid):\n",
    "    rows, cols = grid.shape\n",
    "    corners = []\n",
    "    for i in range(cols):\n",
    "        for j in range(rows):\n",
    "            if grid[j, i] != -1:\n",
    "                cell_corners = [\n",
    "                    (i * cell_size, j * cell_size),\n",
    "                    (i * cell_size, (j + 1) * cell_size),\n",
    "                    ((i + 1) * cell_size, (j + 1) * cell_size),\n",
    "                    ((i + 1) * cell_size, j * cell_size)\n",
    "                ]\n",
    "                corners.append(cell_corners)\n",
    "    return corners\n",
    "\n",
    "# 외곽선 좌표를 구하는 함수\n",
    "def get_polygon_corners_all(grid):\n",
    "    cell_corners = get_cell_corners_all(grid)\n",
    "    corner_count = defaultdict(int)\n",
    "    \n",
    "    # 각 꼭지점의 등장 횟수를 셉니다.\n",
    "    for cell in cell_corners:\n",
    "        for corner in cell:\n",
    "            corner_count[corner] += 1\n",
    "            \n",
    "    # 외곽선에 위치한 꼭지점만 선택합니다.\n",
    "    outer_corners = [corner for corner, count in corner_count.items() if count < 4]\n",
    "\n",
    "    # 시계 방향으로 정렬합니다.\n",
    "    def sort_corners(corners):\n",
    "        center = np.mean(corners, axis=0)\n",
    "        corners.sort(key=lambda c: np.arctan2(c[1] - center[1], c[0] - center[0]))\n",
    "        return corners\n",
    "\n",
    "    sorted_corners = sort_corners(outer_corners)\n",
    "\n",
    "    # 일직선 상에 있는 점들을 제거합니다.\n",
    "    def remove_collinear_points(corners):\n",
    "        def is_collinear(p1, p2, p3):\n",
    "            return (p2[1] - p1[1]) * (p3[0] - p2[0]) == (p3[1] - p2[1]) * (p2[0] - p1[0])\n",
    "        \n",
    "        filtered_corners = []\n",
    "        n = len(corners)\n",
    "        for i in range(n):\n",
    "            p1 = corners[i]\n",
    "            p2 = corners[(i + 1) % n]\n",
    "            p3 = corners[(i + 2) % n]\n",
    "            if not is_collinear(p1, p2, p3):\n",
    "                filtered_corners.append(p2)\n",
    "        return filtered_corners\n",
    "\n",
    "    final_corners = remove_collinear_points(sorted_corners)\n",
    "    return final_corners\n",
    "\n",
    "# 전체 그리드에서 -1을 제외한 모든 셀로 구성된 폴리건의 좌표 계산\n",
    "all_room_polygon = get_polygon_corners_all(padded_grid)\n",
    "\n",
    "\n",
    "\n",
    "# DXF 파일 생성 함수\n",
    "def save_polygon_to_dxf(polygon, filename):\n",
    "    doc = ezdxf.new(dxfversion='R2010')\n",
    "    msp = doc.modelspace()\n",
    "\n",
    "    polyline = msp.add_lwpolyline(polygon, close=True)\n",
    "    polyline.dxf.layer = \"All_Rooms\"\n",
    "\n",
    "    doc.saveas(filename)\n",
    "\n",
    "# DXF 파일 저장\n",
    "output_file = \"all_room_polygon.dxf\"\n",
    "save_polygon_to_dxf(all_room_polygon, output_file)\n",
    "print(f\"DXF file saved as {output_file}\")\n"
   ],
   "metadata": {
    "collapsed": false,
    "ExecuteTime": {
     "end_time": "2024-06-12T07:12:01.324479Z",
     "start_time": "2024-06-12T07:12:01.278114Z"
    }
   },
   "id": "62ddc0cde6fead67"
  },
  {
   "cell_type": "markdown",
   "source": [
    "# 수직인지 결정하는 함수\n",
    "1. Shape 클래스: 코너 좌표를 저장하는 클래스입니다.\n",
    "2. is_perpendicular 함수: 주어진 corner_index에 대해 해당 코너가 앞뒤 코너와 수직인지를 결정합니다.\n",
    "    - prev_corner: 이전 코너의 좌표.\n",
    "    - current_corner: 현재 코너의 좌표.\n",
    "    - next_corner: 다음 코너의 좌표.\n",
    "    - 벡터 계산: 이전 코너와 현재 코너 간의 벡터(prev_vector), 현재 코너와 다음 코너 간의 벡터(next_vector)를 계산합니다.\n",
    "    - 점곱 계산: 두 벡터의 점곱을 계산합니다. 점곱이 0이면 두 벡터는 수직입니다.\n",
    "### 수직성 판별:\n",
    "- 이 함수는 주어진 코너가 이전 코너와 다음 코너와 각각 수직인지를 Boolean 값으로 반환합니다."
   ],
   "metadata": {
    "collapsed": false
   },
   "id": "6e02414345a8d75d"
  },
  {
   "cell_type": "code",
   "execution_count": 12,
   "outputs": [
    {
     "name": "stdout",
     "output_type": "stream",
     "text": [
      "True\n"
     ]
    }
   ],
   "source": [
    "class Shape:\n",
    "    def __init__(self, corners):\n",
    "        self.corners = corners\n",
    "\n",
    "    def is_corner_perpendicular(self, corner_index):\n",
    "        num_corners = len(self.corners)\n",
    "        \n",
    "        # Get the previous, current, and next corners\n",
    "        prev_corner = self.corners[(corner_index - 1) % num_corners]\n",
    "        current_corner = self.corners[corner_index]\n",
    "        next_corner = self.corners[(corner_index + 1) % num_corners]\n",
    "\n",
    "        # Calculate vectors\n",
    "        prev_vector = (current_corner[0] - prev_corner[0], current_corner[1] - prev_corner[1])\n",
    "        next_vector = (next_corner[0] - current_corner[0], next_corner[1] - current_corner[1])\n",
    "\n",
    "        # Check for perpendicularity by calculating the dot product\n",
    "        dot_product = prev_vector[0] * next_vector[0] + prev_vector[1] * next_vector[1]\n",
    "        \n",
    "        # If the dot product is zero, the vectors are perpendicular\n",
    "        return dot_product == 0\n",
    "\n",
    "# Example usage\n",
    "shape = Shape([(5000, 1000),\n",
    " (5000, 2000),\n",
    " (4000, 2000),\n",
    " (4000, 3500),\n",
    " (3000, 3500),\n",
    " (3000, 2000),\n",
    " (1000, 2000),\n",
    " (1000, 1000)])\n",
    "print(shape.is_corner_perpendicular(1))  # Example output\n"
   ],
   "metadata": {
    "collapsed": false,
    "ExecuteTime": {
     "end_time": "2024-06-23T02:21:04.812371200Z",
     "start_time": "2024-06-23T02:21:04.761351Z"
    }
   },
   "id": "2316eaba6e9b208"
  },
  {
   "cell_type": "code",
   "execution_count": 28,
   "outputs": [
    {
     "name": "stdout",
     "output_type": "stream",
     "text": [
      "False\n",
      "[[5000, 2000], [5000, 1000], [6000, 1000], [6000, 4000], [5000, 4000], [5000, 3500], [4000, 3500], [4000, 2000]]\n"
     ]
    }
   ],
   "source": [
    "class Shape:\n",
    "    def __init__(self, corners):\n",
    "        # Convert tuples to lists to allow modification\n",
    "        self.corners = [list(corner) for corner in corners]\n",
    "\n",
    "    def sync_adjacent_corner(self, corner_index, updated_axis):\n",
    "        num_corners = len(self.corners)\n",
    "        \n",
    "        # Get the previous, current, and next corners\n",
    "        prev_corner = self.corners[(corner_index - 1) % num_corners]\n",
    "        current_corner = self.corners[corner_index]\n",
    "        next_corner = self.corners[(corner_index + 1) % num_corners]\n",
    "\n",
    "        # Check alignment with previous and next corners\n",
    "        prev_aligned = (prev_corner[0] == current_corner[0] or prev_corner[1] == current_corner[1])\n",
    "        next_aligned = (next_corner[0] == current_corner[0] or next_corner[1] == current_corner[1])\n",
    "\n",
    "        if prev_aligned and next_aligned:\n",
    "            return True  # Both previous and next corners are aligned\n",
    "\n",
    "        # If not aligned, update the specified axis to match the current corner\n",
    "        if not prev_aligned:\n",
    "            if updated_axis == 'x':\n",
    "                self.corners[(corner_index - 1) % num_corners][0] = current_corner[0]\n",
    "            else:\n",
    "                self.corners[(corner_index - 1) % num_corners][1] = current_corner[1]\n",
    "\n",
    "        if not next_aligned:\n",
    "            if updated_axis == 'x':\n",
    "                self.corners[(corner_index + 1) % num_corners][0] = current_corner[0]\n",
    "            else:\n",
    "                self.corners[(corner_index + 1) % num_corners][1] = current_corner[1]\n",
    "\n",
    "        return False  # At least one corner was not aligned\n",
    "\n",
    "# Example usage\n",
    "shape = Shape([(5000, 2000),\n",
    " (5000, 1000),\n",
    " (6000, 1000),\n",
    " (6000, 4000),\n",
    " (5000, 4000),\n",
    " (5000, 3000),\n",
    " (4000, 3500),\n",
    " (4000, 2000)])\n",
    "print(shape.sync_adjacent_corner(6, 'y'))  # Example output\n",
    "print(shape.corners)  # Updated corners\n"
   ],
   "metadata": {
    "collapsed": false,
    "ExecuteTime": {
     "end_time": "2024-06-23T02:53:28.695843400Z",
     "start_time": "2024-06-23T02:53:18.306386700Z"
    }
   },
   "id": "386b9ba131862c8d"
  },
  {
   "cell_type": "code",
   "execution_count": 31,
   "outputs": [
    {
     "name": "stdout",
     "output_type": "stream",
     "text": [
      "[(3000.0, 3500.0), (4000.0, 3500.0), (3000.0, 3500.0)]\n"
     ]
    }
   ],
   "source": [
    "from shapely.geometry import LineString, Point, Polygon, MultiPoint, MultiLineString\n",
    "\n",
    "class RoomPolygon:\n",
    "    def __init__(self, corners):\n",
    "        self.corners = corners\n",
    "        self.polygon = Polygon(corners)\n",
    "        self.area = self.calculate_area()\n",
    "        self.perimeter = self.calculate_perimeter()\n",
    "        self.min_length = self.calculate_min_length()\n",
    "        self.simplicity = self.calculate_simplicity()\n",
    "        self.moved_corners = []  # 이동된 코너들을 추적합니다.\n",
    "\n",
    "    def calculate_area(self):\n",
    "        return self.polygon.area\n",
    "\n",
    "    def calculate_perimeter(self):\n",
    "        return self.polygon.length\n",
    "\n",
    "    def calculate_min_length(self):\n",
    "        return min([LineString([self.corners[i], self.corners[(i + 1) % len(self.corners)]]).length for i in range(len(self.corners))])\n",
    "\n",
    "    def calculate_simplicity(self):\n",
    "        return self.area / self.perimeter\n",
    "\n",
    "    def get_intersections(self, moved_edge, other_polygon):\n",
    "        intersections = []\n",
    "        moved_line = LineString(moved_edge)\n",
    "        other_corners = other_polygon.corners  # Accessing corners from the other polygon\n",
    "\n",
    "        for i in range(len(other_corners)):\n",
    "            edge = LineString([other_corners[i], other_corners[(i + 1) % len(other_corners)]])\n",
    "            if moved_line.intersects(edge):\n",
    "                intersection = moved_line.intersection(edge)\n",
    "                if isinstance(intersection, Point):\n",
    "                    intersections.append((intersection.x, intersection.y))\n",
    "                elif isinstance(intersection, LineString):\n",
    "                    intersections.extend([(point[0], point[1]) for point in intersection.coords])\n",
    "                elif isinstance(intersection, MultiPoint):\n",
    "                    intersections.extend([(point.x, point.y) for point in intersection])\n",
    "                elif isinstance(intersection, MultiLineString):\n",
    "                    for geom in intersection:\n",
    "                        intersections.extend([(point[0], point[1]) for point in geom.coords])\n",
    "                elif intersection.geom_type == 'GeometryCollection':\n",
    "                    for geom in intersection:\n",
    "                        if isinstance(geom, (Point, LineString)):\n",
    "                            intersections.extend([(point[0], point[1]) for point in geom.coords])\n",
    "        return intersections\n",
    "\n",
    "# Example usage\n",
    "moved_edge = [(4000, 3500), (3000, 3500)]\n",
    "other_polygon = RoomPolygon([(5000, 3500), (5000, 5000), (3000, 5000), (3000, 3500)])\n",
    "\n",
    "room_polygon = RoomPolygon([(4000, 3000), (4000, 3500), (3000, 3500), (3000, 3000)])\n",
    "intersections = room_polygon.get_intersections(moved_edge, other_polygon)\n",
    "print(intersections)\n"
   ],
   "metadata": {
    "collapsed": false,
    "ExecuteTime": {
     "end_time": "2024-06-24T01:34:33.805474300Z",
     "start_time": "2024-06-24T01:34:33.769372600Z"
    }
   },
   "id": "66f9abd9ae23ce6d"
  },
  {
   "cell_type": "markdown",
   "source": [
    "corners 가 바뀔때마다 자동으로 재계산"
   ],
   "metadata": {
    "collapsed": false
   },
   "id": "78aad584244eecdc"
  },
  {
   "cell_type": "code",
   "execution_count": 34,
   "outputs": [
    {
     "name": "stdout",
     "output_type": "stream",
     "text": [
      "Area: 12.0\n",
      "Perimeter: 14.0\n",
      "Min Length: 0.0\n",
      "Simplicity: True\n",
      "Corners updated.\n",
      "New Area: 20.0\n",
      "New Perimeter: 18.0\n",
      "New Min Length: 0.0\n",
      "New Simplicity: True\n"
     ]
    }
   ],
   "source": [
    "from shapely.geometry import Polygon\n",
    "from shapely.geometry.polygon import LinearRing\n",
    "\n",
    "class RoomPolygon:\n",
    "    def __init__(self, corners):\n",
    "        self._corners = None\n",
    "        self.corners = corners\n",
    "\n",
    "    @property\n",
    "    def corners(self):\n",
    "        return self._corners\n",
    "\n",
    "    @corners.setter\n",
    "    def corners(self, new_corners):\n",
    "        self._corners = new_corners\n",
    "        self.polygon = Polygon(new_corners)\n",
    "        self.area = self.calculate_area()\n",
    "        self.perimeter = self.calculate_perimeter()\n",
    "        self.min_length = self.calculate_min_length()\n",
    "        self.simplicity = self.calculate_simplicity()\n",
    "\n",
    "    def calculate_area(self):\n",
    "        return self.polygon.area\n",
    "\n",
    "    def calculate_perimeter(self):\n",
    "        return self.polygon.length\n",
    "\n",
    "    def calculate_min_length(self):\n",
    "        # Calculate the shortest side length\n",
    "        ring = LinearRing(self.polygon.exterior.coords)\n",
    "        min_length = min(ring.project(ring.interpolate(distance))\n",
    "                         for distance in range(int(ring.length)))\n",
    "        return min_length\n",
    "\n",
    "    def calculate_simplicity(self):\n",
    "        # Simplicity calculation logic (example: simple if no self-intersections)\n",
    "        return self.polygon.is_valid and self.polygon.is_simple\n",
    "\n",
    "# 사용 예제\n",
    "corners = [(0, 0), (4, 0), (4, 3), (0, 3)]\n",
    "room = RoomPolygon(corners)\n",
    "\n",
    "print(f\"Area: {room.area}\")\n",
    "print(f\"Perimeter: {room.perimeter}\")\n",
    "print(f\"Min Length: {room.min_length}\")\n",
    "print(f\"Simplicity: {room.simplicity}\")\n",
    "\n",
    "# corners 변경\n",
    "new_corners = [(0, 0), (5, 0), (5, 4), (0, 4)]\n",
    "room.corners = new_corners\n",
    "\n",
    "print(\"Corners updated.\")\n",
    "print(f\"New Area: {room.area}\")\n",
    "print(f\"New Perimeter: {room.perimeter}\")\n",
    "print(f\"New Min Length: {room.min_length}\")\n",
    "print(f\"New Simplicity: {room.simplicity}\")\n"
   ],
   "metadata": {
    "collapsed": false,
    "ExecuteTime": {
     "end_time": "2024-06-25T06:31:25.375072200Z",
     "start_time": "2024-06-25T06:31:25.339464300Z"
    }
   },
   "id": "7529d7c389c4e709"
  },
  {
   "cell_type": "code",
   "execution_count": 33,
   "outputs": [
    {
     "name": "stdout",
     "output_type": "stream",
     "text": [
      "Area: 12.0\n",
      "Perimeter: 14.0\n",
      "Min Length: 0.0\n",
      "Simplicity: True\n",
      "Corners updated.\n",
      "New Area: 20.0\n",
      "New Perimeter: 18.0\n",
      "New Min Length: 0.0\n",
      "New Simplicity: True\n"
     ]
    }
   ],
   "source": [
    "from shapely.geometry import Polygon\n",
    "from shapely.geometry.polygon import LinearRing\n",
    "\n",
    "class RoomPolygon:\n",
    "    def __init__(self, corners):\n",
    "        self._corners = None\n",
    "        self.corners = corners\n",
    "\n",
    "    @property\n",
    "    def corners(self):\n",
    "        return self._corners\n",
    "\n",
    "    @corners.setter\n",
    "    def corners(self, new_corners):\n",
    "        self._corners = new_corners\n",
    "        self.polygon = Polygon(new_corners)\n",
    "        self.area = self.calculate_area()\n",
    "        self.perimeter = self.calculate_perimeter()\n",
    "        self.min_length = self.calculate_min_length()\n",
    "        self.simplicity = self.calculate_simplicity()\n",
    "\n",
    "    def calculate_area(self):\n",
    "        return self.polygon.area\n",
    "\n",
    "    def calculate_perimeter(self):\n",
    "        return self.polygon.length\n",
    "\n",
    "    def calculate_min_length(self):\n",
    "        # Calculate the shortest side length\n",
    "        ring = LinearRing(self.polygon.exterior.coords)\n",
    "        min_length = min(ring.project(ring.interpolate(distance))\n",
    "                         for distance in range(int(ring.length)))\n",
    "        return min_length\n",
    "\n",
    "    def calculate_simplicity(self):\n",
    "        # Simplicity calculation logic (example: simple if no self-intersections)\n",
    "        return self.polygon.is_valid and self.polygon.is_simple\n",
    "\n",
    "# 사용 예제\n",
    "corners = [(0, 0), (4, 0), (4, 3), (0, 3)]\n",
    "room = RoomPolygon(corners)\n",
    "\n",
    "print(f\"Area: {room.area}\")\n",
    "print(f\"Perimeter: {room.perimeter}\")\n",
    "print(f\"Min Length: {room.min_length}\")\n",
    "print(f\"Simplicity: {room.simplicity}\")\n",
    "\n",
    "# corners 변경\n",
    "new_corners = [(0, 0), (5, 0), (5, 4), (0, 4)]\n",
    "room.corners = new_corners\n",
    "\n",
    "print(\"Corners updated.\")\n",
    "print(f\"New Area: {room.area}\")\n",
    "print(f\"New Perimeter: {room.perimeter}\")\n",
    "print(f\"New Min Length: {room.min_length}\")\n",
    "print(f\"New Simplicity: {room.simplicity}\")\n"
   ],
   "metadata": {
    "collapsed": false,
    "ExecuteTime": {
     "end_time": "2024-06-25T06:31:16.404109400Z",
     "start_time": "2024-06-25T06:31:16.334723100Z"
    }
   },
   "id": "c3886136f86daca8"
  },
  {
   "cell_type": "code",
   "execution_count": 35,
   "outputs": [
    {
     "name": "stdout",
     "output_type": "stream",
     "text": [
      "Room1 Area: 16.0, Perimeter: 16.0, Min Length: 4.0, Simplicity: True\n",
      "Room2 Area: 16.0, Perimeter: 16.0, Min Length: 4.0, Simplicity: True\n",
      "Updated Room1 and Room2\n",
      "Room1 Area: 16.0, Perimeter: 16.0, Min Length: 4.0, Simplicity: True\n",
      "Room2 Area: 4.0, Perimeter: 10.0, Min Length: 1.0, Simplicity: True\n"
     ]
    }
   ],
   "source": [
    "from shapely.geometry import Polygon\n",
    "from shapely.geometry.polygon import LinearRing\n",
    "\n",
    "class RoomPolygon:\n",
    "    def __init__(self, corners):\n",
    "        self._corners = None\n",
    "        self.corners = corners  # setter가 호출됨\n",
    "\n",
    "    @property\n",
    "    def corners(self):\n",
    "        return self._corners\n",
    "\n",
    "    @corners.setter\n",
    "    def corners(self, new_corners):\n",
    "        self._corners = new_corners\n",
    "        self.polygon = Polygon(new_corners)\n",
    "        self.area = self.calculate_area()\n",
    "        self.perimeter = self.calculate_perimeter()\n",
    "        self.min_length = self.calculate_min_length()\n",
    "        self.simplicity = self.calculate_simplicity()\n",
    "\n",
    "    def calculate_area(self):\n",
    "        return self.polygon.area\n",
    "\n",
    "    def calculate_perimeter(self):\n",
    "        return self.polygon.length\n",
    "\n",
    "    def calculate_min_length(self):\n",
    "        # Calculate the shortest side length\n",
    "        ring = LinearRing(self.polygon.exterior.coords)\n",
    "        coords = list(ring.coords)\n",
    "        min_length = float('inf')\n",
    "        for i in range(len(coords) - 1):\n",
    "            length = ((coords[i][0] - coords[i + 1][0]) ** 2 + (coords[i][1] - coords[i + 1][1]) ** 2) ** 0.5\n",
    "            if length < min_length:\n",
    "                min_length = length\n",
    "        return min_length\n",
    "\n",
    "    def calculate_simplicity(self):\n",
    "        # Simplicity calculation logic (example: simple if no self-intersections)\n",
    "        return self.polygon.is_valid and self.polygon.is_simple\n",
    "\n",
    "# 예제 함수: 공통 변 업데이트\n",
    "def update_shared_edge(room1, room2, new_shared_edge):\n",
    "    # 새로운 코너 좌표를 반영하도록 업데이트\n",
    "    room1.corners = [(0, 0), new_shared_edge[0], new_shared_edge[1], (0, 4)]\n",
    "    room2.corners = [new_shared_edge[0], (5, 0), (5, 4), new_shared_edge[1]]\n",
    "\n",
    "# RoomPolygon 인스턴스 생성\n",
    "room1 = RoomPolygon([(0, 0), (4, 0), (4, 4), (0, 4)])\n",
    "room2 = RoomPolygon([(4, 0), (8, 0), (8, 4), (4, 4)])\n",
    "\n",
    "print(f\"Room1 Area: {room1.area}, Perimeter: {room1.perimeter}, Min Length: {room1.min_length}, Simplicity: {room1.simplicity}\")\n",
    "print(f\"Room2 Area: {room2.area}, Perimeter: {room2.perimeter}, Min Length: {room2.min_length}, Simplicity: {room2.simplicity}\")\n",
    "\n",
    "# 공통 변 업데이트\n",
    "update_shared_edge(room1, room2, [(4, 0), (4, 4)])\n",
    "\n",
    "print(\"Updated Room1 and Room2\")\n",
    "\n",
    "print(f\"Room1 Area: {room1.area}, Perimeter: {room1.perimeter}, Min Length: {room1.min_length}, Simplicity: {room1.simplicity}\")\n",
    "print(f\"Room2 Area: {room2.area}, Perimeter: {room2.perimeter}, Min Length: {room2.min_length}, Simplicity: {room2.simplicity}\")\n"
   ],
   "metadata": {
    "collapsed": false,
    "ExecuteTime": {
     "end_time": "2024-06-25T06:36:09.039749500Z",
     "start_time": "2024-06-25T06:36:08.879289100Z"
    }
   },
   "id": "962f6b9da4da9738"
  },
  {
   "cell_type": "markdown",
   "source": [
    "# outer_corner를 구하는 방법\n",
    "\n"
   ],
   "metadata": {
    "collapsed": false
   },
   "id": "e88fd577449a597f"
  },
  {
   "cell_type": "code",
   "execution_count": 82,
   "outputs": [],
   "source": [
    "corners = [(5000, 1000),\n",
    " (6000, 2000),\n",
    " (6000, 1000),\n",
    " (5000, 3000),\n",
    " (6000, 3000),\n",
    " (7000, 3000),\n",
    " (6000, 4000),\n",
    " (7000, 4000),\n",
    " (8000, 3000),\n",
    " (8000, 2000)]"
   ],
   "metadata": {
    "collapsed": false,
    "ExecuteTime": {
     "end_time": "2024-06-29T10:18:29.042450500Z",
     "start_time": "2024-06-29T10:18:29.028768600Z"
    }
   },
   "id": "e2b25d148b9101ab"
  },
  {
   "cell_type": "code",
   "execution_count": 100,
   "outputs": [
    {
     "name": "stdout",
     "output_type": "stream",
     "text": [
      "horizontal_line = (6000, 1000),(6000, 2000)\n",
      "start = (6000, 1000), end=(6000, 2000)\n"
     ]
    },
    {
     "data": {
      "text/plain": "((6000, 2000), (8000, 2000))"
     },
     "execution_count": 100,
     "metadata": {},
     "output_type": "execute_result"
    }
   ],
   "source": [
    "outers=[]\n",
    "next_rotation = 'horizontal'\n",
    "min_y = min(corners, key=lambda c:c[1])[1]\n",
    "minx_miny = min((c for c in corners if c[1] == min_y ), key=lambda c: c[0])\n",
    "maxx_miny = max((c for c in corners if c[1]==min_y), key = lambda c: c[0])\n",
    "\n",
    "outers.append(minx_miny)\n",
    "outers.append(maxx_miny)\n",
    "\n",
    "next_rotation = 'vertical' if next_rotation == 'horizontal' else 'horizontal'\n",
    "y_points = [c for c in corners if c[0]==outers[len(outers)-1][0]]\n",
    "y_points.sort(key=lambda c: c[1])\n",
    "y_points.reverse()\n",
    "\n",
    "\n",
    "start = y_points.pop()\n",
    "end = y_points.pop()\n",
    "print(f'horizontal_line = {start},{end}')\n",
    "x_start = end[0]\n",
    "y_start = end[1]\n",
    "print(f'start = {start}, end={end}')\n",
    "x_points = [c for c in corners if c[1] == end[1]][0]# end의 y점과 같은 x 좌표\n",
    "vertical_start  = end\n",
    "(start, end) , x_points \n",
    "x_parallels = [c for c in corners if c[1] == 2000 and c[0] > end[0]] # x 좌표가 현재 x 좌표보다 큰 corner들 \n",
    "y_end = y_start\n",
    "x_end = min(x_parallels)[0]\n",
    "vertical_end = (x_end, y_end)\n",
    "vertical_start, vertical_end"
   ],
   "metadata": {
    "collapsed": false,
    "ExecuteTime": {
     "end_time": "2024-06-29T10:35:49.472049Z",
     "start_time": "2024-06-29T10:35:49.435011700Z"
    }
   },
   "id": "5e899edb9258033c"
  },
  {
   "cell_type": "code",
   "execution_count": 121,
   "outputs": [
    {
     "data": {
      "text/plain": "[((5000, 1000), (6000, 1000))]"
     },
     "execution_count": 121,
     "metadata": {},
     "output_type": "execute_result"
    }
   ],
   "source": [
    "import numpy as np\n",
    "from collections import deque\n",
    "outers=[]\n",
    "next_rotation = 'horizontal'\n",
    "# miny의 x 값 중 최소\n",
    "miny = np.min(corners, axis=0)[1] #1000\n",
    "miny_parallels = [c for c in corners if c[1] == miny]\n",
    "miny_parallels.sort(key=lambda c:c[0], reverse=True) #descending order\n",
    "\n",
    "horiz_start = miny_parallels.pop()\n",
    "miny_parallels.append((7000,1000))#for test\n",
    "horiz_end = min(miny_parallels, key=lambda c: c[0])\n",
    "outers.append((horiz_start, horiz_end))\n",
    "outers\n",
    "\n"
   ],
   "metadata": {
    "collapsed": false,
    "ExecuteTime": {
     "end_time": "2024-06-29T11:41:36.872723600Z",
     "start_time": "2024-06-29T11:41:36.847797Z"
    }
   },
   "id": "9134eba4e539adbe"
  },
  {
   "cell_type": "code",
   "execution_count": 122,
   "outputs": [],
   "source": [
    "next_rotation = 'vertical' if next_rotation == 'horizontal' else 'horizontal'\n"
   ],
   "metadata": {
    "collapsed": false,
    "ExecuteTime": {
     "end_time": "2024-06-29T11:43:07.918822Z",
     "start_time": "2024-06-29T11:43:07.888727300Z"
    }
   },
   "id": "148f3ebdb3781883"
  },
  {
   "cell_type": "code",
   "execution_count": 112,
   "outputs": [
    {
     "data": {
      "text/plain": "array([6000,  500])"
     },
     "execution_count": 112,
     "metadata": {},
     "output_type": "execute_result"
    }
   ],
   "source": [
    "\n",
    "horiz_parallels = [c for c in corners if c[1] == horiz_start[1] and c[0] > horiz_start[0]]\n",
    "horiz_parallels.append((7000,1000) )\n",
    "horiz_parallels.append((8000, 500))\n",
    "np.min(horiz_parallels, axis=0)"
   ],
   "metadata": {
    "collapsed": false,
    "ExecuteTime": {
     "start_time": "2024-06-29T11:06:11.006884400Z"
    }
   },
   "id": "167c698db5d82502"
  },
  {
   "cell_type": "code",
   "execution_count": 102,
   "outputs": [
    {
     "name": "stdout",
     "output_type": "stream",
     "text": [
      "[5000 1000] (5000, 1000) (6000, 1000)\n",
      "horizontal_line = (6000, 1000),(6000, 2000)\n",
      "start = (6000, 1000), end=(6000, 2000)\n"
     ]
    },
    {
     "data": {
      "text/plain": "((6000, 2000), (8000, 2000))"
     },
     "execution_count": 102,
     "metadata": {},
     "output_type": "execute_result"
    }
   ],
   "source": [
    "\n",
    "maxx_miny = max((c for c in corners if c[1]== horiz_start[0]), key = lambda c: c[0])\n",
    "horiz_end =\n",
    "min_y = min(corners, key=lambda c:c[1])[1]\n",
    "minx_miny = min((c for c in corners if c[1] == min_y ), key=lambda c: c[0])\n",
    "print(top_left, minx_miny, maxx_miny)\n",
    "\n",
    "outers.append(minx_miny)\n",
    "outers.append(maxx_miny)\n",
    "\n",
    "next_rotation = 'vertical' if next_rotation == 'horizontal' else 'horizontal'\n",
    "y_points = [c for c in corners if c[0]==outers[len(outers)-1][0]]\n",
    "y_points.sort(key=lambda c: c[1])\n",
    "y_points.reverse()\n",
    "\n",
    "\n",
    "start = y_points.pop()\n",
    "end = y_points.pop()\n",
    "print(f'horizontal_line = {start},{end}')\n",
    "x_start = end[0]\n",
    "y_start = end[1]\n",
    "print(f'start = {start}, end={end}')\n",
    "x_points = [c for c in corners if c[1] == end[1]][0]# end의 y점과 같은 x 좌표\n",
    "vertical_start  = end\n",
    "(start, end) , x_points \n",
    "x_parallels = [c for c in corners if c[1] == 2000 and c[0] > end[0]] # x 좌표가 현재 x 좌표보다 큰 corner들 \n",
    "y_end = y_start\n",
    "x_end = min(x_parallels)[0]\n",
    "vertical_end = (x_end, y_end)\n",
    "vertical_start, vertical_end"
   ],
   "metadata": {
    "collapsed": false,
    "ExecuteTime": {
     "start_time": "2024-06-29T10:54:09.490147300Z"
    }
   },
   "id": "30122878e88e0925"
  },
  {
   "cell_type": "code",
   "execution_count": 195,
   "outputs": [],
   "source": [
    "corners = [(5000, 1000),\n",
    " (6000, 2000),\n",
    " (6000, 1000),\n",
    " (5000, 3000),\n",
    " (6000, 3000),\n",
    " (7000, 3000),\n",
    " (6000, 4000),\n",
    " (7000, 4000),\n",
    " (8000, 3000),\n",
    " (8000, 2000)]"
   ],
   "metadata": {
    "collapsed": false,
    "ExecuteTime": {
     "end_time": "2024-06-29T13:05:47.761182400Z",
     "start_time": "2024-06-29T13:05:47.719590Z"
    }
   },
   "id": "8d4cf4606bc4a2ad"
  },
  {
   "cell_type": "code",
   "execution_count": 210,
   "outputs": [],
   "source": [
    "corners=[(1000,2000),(3000,2000),(3000,3000), (2000,3000), (2000,4000), (4000, 4000), (4000, 3000), (5000,3000), (5000,5000),(1000,5000)]"
   ],
   "metadata": {
    "collapsed": false,
    "ExecuteTime": {
     "end_time": "2024-06-29T13:10:09.557076800Z",
     "start_time": "2024-06-29T13:10:09.518207900Z"
    }
   },
   "id": "1fa3a0711d3ad79d"
  },
  {
   "cell_type": "code",
   "execution_count": 211,
   "outputs": [
    {
     "data": {
      "text/plain": "[((1000, 2000), (3000, 2000))]"
     },
     "execution_count": 211,
     "metadata": {},
     "output_type": "execute_result"
    }
   ],
   "source": [
    "# first horizontal\n",
    "import numpy as np\n",
    "from collections import deque\n",
    "outers=[]\n",
    "next_rotation = 'horizontal'\n",
    "# miny의 x 값 중 최소\n",
    "miny = np.min(corners, axis=0)[1] #1000\n",
    "miny_parallels = [c for c in corners if c[1] == miny]\n",
    "miny_parallels.sort(key=lambda c:c[0], reverse=True) #descending order\n",
    "\n",
    "horiz_start = miny_parallels.pop()\n",
    "horiz_end = min(miny_parallels, key=lambda c: c[0])\n",
    "last = horiz_end\n",
    "outers.append((horiz_start, horiz_end))\n",
    "outers\n",
    "\n"
   ],
   "metadata": {
    "collapsed": false,
    "ExecuteTime": {
     "end_time": "2024-06-29T13:10:09.950132600Z",
     "start_time": "2024-06-29T13:10:09.919029200Z"
    }
   },
   "id": "ba99941293a4f9c2"
  },
  {
   "cell_type": "code",
   "execution_count": 212,
   "outputs": [
    {
     "name": "stdout",
     "output_type": "stream",
     "text": [
      "vert_start=(3000, 2000)\n",
      "lastx_parallels = [(3000, 3000)]\n",
      "outers = [((1000, 2000), (3000, 2000)), ((3000, 2000), (3000, 3000))]\n"
     ]
    }
   ],
   "source": [
    "# first vertical\n",
    "next_rotation = 'vertical' if next_rotation == 'horizontal' else 'horizontal'\n",
    "vert_start = last\n",
    "print(f'vert_start={vert_start}')\n",
    "lastx_parallels = [c for c in corners if c[0] == vert_start[0] and c[1] > vert_start[1]] #x 축이 같은  y,  세로로 직선을 그어 만나면 거기서 end\n",
    "lastx_parallels.sort(key = lambda c:c[1], reverse=True)\n",
    "print(f'lastx_parallels = {lastx_parallels}')\n",
    "vert_end = lastx_parallels.pop()\n",
    "last = vert_end\n",
    "outers.append((vert_start,vert_end))\n",
    "print(f'outers = {outers}')\n"
   ],
   "metadata": {
    "collapsed": false,
    "ExecuteTime": {
     "end_time": "2024-06-29T13:10:13.361529600Z",
     "start_time": "2024-06-29T13:10:13.327057400Z"
    }
   },
   "id": "90f82e70938297ee"
  },
  {
   "cell_type": "code",
   "execution_count": 213,
   "outputs": [
    {
     "name": "stdout",
     "output_type": "stream",
     "text": [
      "horiz_start = (3000, 3000)\n"
     ]
    },
    {
     "data": {
      "text/plain": "[((1000, 2000), (3000, 2000)),\n ((3000, 2000), (3000, 3000)),\n ((3000, 3000), (2000, 3000))]"
     },
     "execution_count": 213,
     "metadata": {},
     "output_type": "execute_result"
    }
   ],
   "source": [
    "# next_ horizontal\n",
    "# 왼쪽으로 갈 수도 있고 오른쪽으로 갈 수도 있다. 어떻게 하나 홀수개가 있는 쪽으로 이동한다.\n",
    "import math\n",
    "next_rotation = 'vertical' if next_rotation == 'horizontal' else 'horizontal'\n",
    "horiz_start = last\n",
    "print(f'horiz_start = {horiz_start}')\n",
    "horiz_points = [c for c in corners if c[1] == horiz_start[1] ] \n",
    "lefts = [c for c in horiz_points if c[0] < horiz_start[0]]\n",
    "rights = [c for c in horiz_points if c[0] > horiz_start[0]]\n",
    "\n",
    "# 홀수 개수인 집합 고르기\n",
    "if len(lefts) % 2 != 0:\n",
    "    odd_set = lefts\n",
    "else:\n",
    "    odd_set = rights\n",
    "    \n",
    "if len(odd_set) ==  1: #  하나이면 그냥 그거\n",
    "    horiz_end = odd_set[0]\n",
    "else:\n",
    "    horiz_end = min(odd_set, key=lambda point: math.sqrt((point[0] - horiz_start[0])**2 + (point[1] - horiz_start[1])**2))\n",
    "\n",
    "\n",
    "outers.append((horiz_start, horiz_end))\n",
    "outers"
   ],
   "metadata": {
    "collapsed": false,
    "ExecuteTime": {
     "end_time": "2024-06-29T13:10:15.005254900Z",
     "start_time": "2024-06-29T13:10:14.989708700Z"
    }
   },
   "id": "18ed4222b014cb00"
  },
  {
   "cell_type": "code",
   "execution_count": 214,
   "outputs": [
    {
     "name": "stdout",
     "output_type": "stream",
     "text": [
      "vert_points = [(2000, 4000), (2000, 3000)]\n",
      "uppers=[]\n",
      "unders=[(2000, 4000)]\n",
      "odd_set=[(2000, 4000)]\n",
      "vert_end=(2000, 4000)\n",
      "outers = [((1000, 2000), (3000, 2000)), ((3000, 2000), (3000, 3000)), ((3000, 3000), (2000, 3000)), ((2000, 3000), (2000, 4000))]\n"
     ]
    }
   ],
   "source": [
    "# next_vertical\n",
    "next_rotation = 'vertical' if next_rotation == 'horizontal' else 'horizontal'\n",
    "vert_start = horiz_end\n",
    "\n",
    "vert_points = [c for c in corners if c[0] == vert_start[0]] #x 축이 같은  y,  세로로 직선을 그어 만나면 거기서 end\n",
    "vert_points.sort(key = lambda c:c[1], reverse=True)\n",
    "print(f'vert_points = {vert_points}')\n",
    "uppers = [c for c in vert_points if c[1] < vert_start[1]]\n",
    "unders = [c for c in vert_points if c[1] > vert_start[1]]\n",
    "print(f'uppers={uppers}')\n",
    "print(f'unders={unders}')\n",
    "\n",
    "# 홀수 개수인 집합 고르기\n",
    "if len(uppers) % 2 != 0:\n",
    "    odd_set = uppers\n",
    "else:\n",
    "    odd_set = unders\n",
    "\n",
    "print(f'odd_set={odd_set}')\n",
    "if len(odd_set) ==  1: #  하나이면 그냥 그거\n",
    "    vert_end = odd_set[0]\n",
    "    \n",
    "else:\n",
    "    vert_end = min(odd_set, key=lambda point: math.sqrt((point[0] - vert_start[0])**2 + (point[1] - vert_start[1])**2))\n",
    "\n",
    "print(f'vert_end={vert_end}')\n",
    "last = vert_end\n",
    "outers.append((vert_start,vert_end))\n",
    "print(f'outers = {outers}')"
   ],
   "metadata": {
    "collapsed": false,
    "ExecuteTime": {
     "end_time": "2024-06-29T13:10:15.950187100Z",
     "start_time": "2024-06-29T13:10:15.925274500Z"
    }
   },
   "id": "930a8ba4fbc070ca"
  },
  {
   "cell_type": "code",
   "execution_count": 215,
   "outputs": [
    {
     "name": "stdout",
     "output_type": "stream",
     "text": [
      "horiz_start = (2000, 4000)\n"
     ]
    },
    {
     "data": {
      "text/plain": "[((1000, 2000), (3000, 2000)),\n ((3000, 2000), (3000, 3000)),\n ((3000, 3000), (2000, 3000)),\n ((2000, 3000), (2000, 4000)),\n ((2000, 4000), (4000, 4000))]"
     },
     "execution_count": 215,
     "metadata": {},
     "output_type": "execute_result"
    }
   ],
   "source": [
    "next_rotation = 'vertical' if next_rotation == 'horizontal' else 'horizontal'\n",
    "horiz_start = last\n",
    "print(f'horiz_start = {horiz_start}')\n",
    "horiz_points = [c for c in corners if c[1] == horiz_start[1] ] \n",
    "lefts = [c for c in horiz_points if c[0] < horiz_start[0]]\n",
    "rights = [c for c in horiz_points if c[0] > horiz_start[0]]\n",
    "\n",
    "# 홀수 개수인 집합 고르기\n",
    "if len(lefts) % 2 != 0:\n",
    "    odd_set = lefts\n",
    "else:\n",
    "    odd_set = rights\n",
    "    \n",
    "if len(odd_set) ==  1: #  하나이면 그냥 그거\n",
    "    horiz_end = odd_set[0]\n",
    "else:\n",
    "    horiz_end = min(odd_set, key=lambda point: math.sqrt((point[0] - horiz_start[0])**2 + (point[1] - horiz_start[1])**2))\n",
    "\n",
    "\n",
    "outers.append((horiz_start, horiz_end))\n",
    "outers"
   ],
   "metadata": {
    "collapsed": false,
    "ExecuteTime": {
     "end_time": "2024-06-29T13:10:37.940606900Z",
     "start_time": "2024-06-29T13:10:37.906699800Z"
    }
   },
   "id": "df21555a9c0584b2"
  },
  {
   "cell_type": "code",
   "execution_count": 193,
   "outputs": [
    {
     "data": {
      "text/plain": "(4000, [(4000, 4000), (4000, 3000)])"
     },
     "execution_count": 193,
     "metadata": {},
     "output_type": "execute_result"
    }
   ],
   "source": [
    "vert_start[0], [c for c in corners if c[0] == vert_start[0]]"
   ],
   "metadata": {
    "collapsed": false,
    "ExecuteTime": {
     "end_time": "2024-06-29T13:04:19.966818800Z",
     "start_time": "2024-06-29T13:04:19.910861500Z"
    }
   },
   "id": "1b94baa6c6aca2d7"
  },
  {
   "cell_type": "code",
   "execution_count": 216,
   "outputs": [
    {
     "name": "stdout",
     "output_type": "stream",
     "text": [
      "vert_points = [(4000, 4000), (4000, 3000)]\n",
      "vert_end=(4000, 3000)\n",
      "outers = [((1000, 2000), (3000, 2000)), ((3000, 2000), (3000, 3000)), ((3000, 3000), (2000, 3000)), ((2000, 3000), (2000, 4000)), ((2000, 4000), (4000, 4000)), ((4000, 4000), (4000, 3000))]\n"
     ]
    }
   ],
   "source": [
    "# next_vertical\n",
    "next_rotation = 'vertical' if next_rotation == 'horizontal' else 'horizontal'\n",
    "vert_start = horiz_end\n",
    "\n",
    "vert_points = [c for c in corners if c[0] == vert_start[0]] #x 축이 같은  y,  세로로 직선을 그어 만나면 거기서 end\n",
    "vert_points.sort(key = lambda c:c[1], reverse=True)\n",
    "print(f'vert_points = {vert_points}')\n",
    "uppers = [c for c in vert_points if c[1] < vert_start[1]]\n",
    "unders = [c for c in vert_points if c[1] > vert_start[1]]\n",
    "\n",
    "\n",
    "# 홀수 개수인 집합 고르기\n",
    "if len(uppers) % 2 != 0:\n",
    "    odd_set = uppers\n",
    "else:\n",
    "    odd_set = unders\n",
    "    \n",
    "if len(odd_set) ==  1: #  하나이면 그냥 그거\n",
    "    vert_end = odd_set[0]\n",
    "else:\n",
    "    vert_end = min(odd_set, key=lambda point: math.sqrt((point[0] - vert_start[0])**2 + (point[1] - vert_start[1])**2))\n",
    "\n",
    "print(f'vert_end={vert_end}')\n",
    "last = vert_end\n",
    "outers.append((vert_start,vert_end))\n",
    "print(f'outers = {outers}')"
   ],
   "metadata": {
    "collapsed": false,
    "ExecuteTime": {
     "end_time": "2024-06-29T13:10:54.784004600Z",
     "start_time": "2024-06-29T13:10:54.758472200Z"
    }
   },
   "id": "4889a3bc50582dd0"
  },
  {
   "cell_type": "code",
   "execution_count": 235,
   "outputs": [],
   "source": [
    "def add_horizontal_edge(corners, next_rotation, last):\n",
    "    next_rotation = 'vertical' if next_rotation == 'horizontal' else 'horizontal'\n",
    "    horiz_start = last\n",
    "    # print(f'horiz_start = {horiz_start}')\n",
    "    horiz_points = [c for c in corners if c[1] == horiz_start[1] ] \n",
    "    lefts = [c for c in horiz_points if c[0] < horiz_start[0]]\n",
    "    rights = [c for c in horiz_points if c[0] > horiz_start[0]]\n",
    "    \n",
    "    # 홀수 개수인 집합 고르기\n",
    "    if len(lefts) % 2 != 0:\n",
    "        odd_set = lefts\n",
    "    else:\n",
    "        odd_set = rights\n",
    "        \n",
    "    if len(odd_set) ==  1: #  하나이면 그냥 그거\n",
    "        horiz_end = odd_set[0]\n",
    "    else:\n",
    "        horiz_end = min(odd_set, key=lambda point: math.sqrt((point[0] - horiz_start[0])**2 + (point[1] - horiz_start[1])**2))\n",
    "    \n",
    "    print(f'horiz_start, horiz_end = ({horiz_start}, {horiz_end})')\n",
    "    # outers.append((horiz_start, horiz_end))\n",
    "    # print(f'outers={outers}')\n",
    "    return (horiz_start, horiz_end)\n",
    "    \n",
    "    \n",
    "def add_vertical_edge(corners, next_rotation, last):\n",
    "        # next_vertical\n",
    "    next_rotation = 'vertical' if next_rotation == 'horizontal' else 'horizontal'\n",
    "    vert_start = last\n",
    "    \n",
    "    vert_points = [c for c in corners if c[0] == vert_start[0]] #x 축이 같은  y,  세로로 직선을 그어 만나면 거기서 end\n",
    "    vert_points.sort(key = lambda c:c[1], reverse=True)\n",
    "    # print(f'vert_points = {vert_points}')\n",
    "    uppers = [c for c in vert_points if c[1] < vert_start[1]]\n",
    "    unders = [c for c in vert_points if c[1] > vert_start[1]]\n",
    "    \n",
    "    \n",
    "    # 홀수 개수인 집합 고르기\n",
    "    if len(uppers) % 2 != 0:\n",
    "        odd_set = uppers\n",
    "    else:\n",
    "        odd_set = unders\n",
    "        \n",
    "    if len(odd_set) ==  1: #  하나이면 그냥 그거\n",
    "        vert_end = odd_set[0]\n",
    "    else:\n",
    "        vert_end = min(odd_set, key=lambda point: math.sqrt((point[0] - vert_start[0])**2 + (point[1] - vert_start[1])**2))\n",
    "    \n",
    "    print(f'vert_end={vert_end}')\n",
    "    # last = vert_end\n",
    "    # outers.append((vert_start,vert_end))\n",
    "    # print(f'outers = {outers}')\n",
    "    return (vert_start, vert_end)"
   ],
   "metadata": {
    "collapsed": false,
    "ExecuteTime": {
     "end_time": "2024-06-29T13:38:34.607098800Z",
     "start_time": "2024-06-29T13:38:34.574947100Z"
    }
   },
   "id": "4e4b9463e2ad4649"
  },
  {
   "cell_type": "code",
   "execution_count": 240,
   "outputs": [
    {
     "name": "stdout",
     "output_type": "stream",
     "text": [
      "2000\n",
      "horiz_start, horiz_end = ((1000, 2000), (3000, 2000))\n",
      "points=((1000, 2000), (3000, 2000)),\tlast=(3000, 2000)\n",
      "outers=[((1000, 2000), (3000, 2000))]\n",
      "vert_end=(3000, 3000)\n",
      "points=((3000, 2000), (3000, 3000)),\tlast=(3000, 3000)\n",
      "outers=[((1000, 2000), (3000, 2000)), ((3000, 2000), (3000, 3000))]\n",
      "horiz_start, horiz_end = ((3000, 3000), (2000, 3000))\n",
      "points=((3000, 3000), (2000, 3000)),\tlast=(2000, 3000)\n",
      "outers=[((1000, 2000), (3000, 2000)), ((3000, 2000), (3000, 3000)), ((3000, 3000), (2000, 3000))]\n",
      "vert_end=(2000, 4000)\n",
      "points=((2000, 3000), (2000, 4000)),\tlast=(2000, 4000)\n",
      "outers=[((1000, 2000), (3000, 2000)), ((3000, 2000), (3000, 3000)), ((3000, 3000), (2000, 3000)), ((2000, 3000), (2000, 4000))]\n",
      "horiz_start, horiz_end = ((2000, 4000), (4000, 4000))\n",
      "points=((2000, 4000), (4000, 4000)),\tlast=(4000, 4000)\n",
      "outers=[((1000, 2000), (3000, 2000)), ((3000, 2000), (3000, 3000)), ((3000, 3000), (2000, 3000)), ((2000, 3000), (2000, 4000)), ((2000, 4000), (4000, 4000))]\n",
      "vert_end=(4000, 3000)\n",
      "points=((4000, 4000), (4000, 3000)),\tlast=(4000, 3000)\n",
      "outers=[((1000, 2000), (3000, 2000)), ((3000, 2000), (3000, 3000)), ((3000, 3000), (2000, 3000)), ((2000, 3000), (2000, 4000)), ((2000, 4000), (4000, 4000)), ((4000, 4000), (4000, 3000))]\n",
      "horiz_start, horiz_end = ((4000, 3000), (5000, 3000))\n",
      "points=((4000, 3000), (5000, 3000)),\tlast=(5000, 3000)\n",
      "outers=[((1000, 2000), (3000, 2000)), ((3000, 2000), (3000, 3000)), ((3000, 3000), (2000, 3000)), ((2000, 3000), (2000, 4000)), ((2000, 4000), (4000, 4000)), ((4000, 4000), (4000, 3000)), ((4000, 3000), (5000, 3000))]\n",
      "vert_end=(5000, 5000)\n",
      "points=((5000, 3000), (5000, 5000)),\tlast=(5000, 5000)\n",
      "outers=[((1000, 2000), (3000, 2000)), ((3000, 2000), (3000, 3000)), ((3000, 3000), (2000, 3000)), ((2000, 3000), (2000, 4000)), ((2000, 4000), (4000, 4000)), ((4000, 4000), (4000, 3000)), ((4000, 3000), (5000, 3000)), ((5000, 3000), (5000, 5000))]\n",
      "horiz_start, horiz_end = ((5000, 5000), (1000, 5000))\n",
      "points=((5000, 5000), (1000, 5000)),\tlast=(1000, 5000)\n",
      "outers=[((1000, 2000), (3000, 2000)), ((3000, 2000), (3000, 3000)), ((3000, 3000), (2000, 3000)), ((2000, 3000), (2000, 4000)), ((2000, 4000), (4000, 4000)), ((4000, 4000), (4000, 3000)), ((4000, 3000), (5000, 3000)), ((5000, 3000), (5000, 5000)), ((5000, 5000), (1000, 5000))]\n",
      "vert_end=(1000, 2000)\n",
      "points=((1000, 5000), (1000, 2000)),\tlast=(1000, 2000)\n",
      "outers=[((1000, 2000), (3000, 2000)), ((3000, 2000), (3000, 3000)), ((3000, 3000), (2000, 3000)), ((2000, 3000), (2000, 4000)), ((2000, 4000), (4000, 4000)), ((4000, 4000), (4000, 3000)), ((4000, 3000), (5000, 3000)), ((5000, 3000), (5000, 5000)), ((5000, 5000), (1000, 5000)), ((1000, 5000), (1000, 2000))]\n"
     ]
    }
   ],
   "source": [
    "corners=[(1000,2000),(3000,2000),(3000,3000), (2000,3000), (2000,4000), (4000, 4000), (4000, 3000), (5000,3000), (5000,5000),(1000,5000)]\n",
    "next_rotation = 'vertical'\n",
    "\n",
    "topy = min(corners,key=lambda coord: coord[1])[1] #top\n",
    "print(topy)\n",
    "top_left = min([c for c in corners if c[1] == miny])\n",
    "last = top_left\n",
    "\n",
    "outers = []\n",
    "for i in range(int(len(corners)/2)):\n",
    "    points = add_horizontal_edge(corners, next_rotation, last)\n",
    "    last = points[1]\n",
    "    outers.append(points)\n",
    "    print(f'points={points},\\tlast={last}')\n",
    "    print(f'outers={outers}')\n",
    "    points = add_vertical_edge(corners, next_rotation, last)\n",
    "    last = points[1]\n",
    "    outers.append(points)\n",
    "    print(f'points={points},\\tlast={last}')\n",
    "    print(f'outers={outers}')\n",
    "\n",
    "\n",
    "\n",
    "\n",
    "# horiz_end = min(miny_parallels, key=lambda c: c[0])\n",
    "# last = horiz_end"
   ],
   "metadata": {
    "collapsed": false,
    "ExecuteTime": {
     "end_time": "2024-06-29T13:43:18.055187Z",
     "start_time": "2024-06-29T13:43:18.022625200Z"
    }
   },
   "id": "478c4d36f86d1a4d"
  },
  {
   "cell_type": "code",
   "execution_count": 238,
   "outputs": [
    {
     "data": {
      "text/plain": "[((1000, 2000), (3000, 2000)),\n ((3000, 2000), (3000, 3000)),\n ((3000, 3000), (2000, 3000)),\n ((2000, 3000), (2000, 4000)),\n ((2000, 4000), (4000, 4000)),\n ((4000, 4000), (4000, 3000)),\n ((4000, 3000), (5000, 3000)),\n ((5000, 3000), (5000, 5000)),\n ((5000, 5000), (1000, 5000)),\n ((1000, 5000), (1000, 2000)),\n ((1000, 2000), (3000, 2000)),\n ((3000, 2000), (3000, 3000)),\n ((3000, 3000), (2000, 3000)),\n ((2000, 3000), (2000, 4000)),\n ((2000, 4000), (4000, 4000)),\n ((4000, 4000), (4000, 3000)),\n ((4000, 3000), (5000, 3000)),\n ((5000, 3000), (5000, 5000)),\n ((5000, 5000), (1000, 5000)),\n ((1000, 5000), (1000, 2000))]"
     },
     "execution_count": 238,
     "metadata": {},
     "output_type": "execute_result"
    }
   ],
   "source": [
    "outers"
   ],
   "metadata": {
    "collapsed": false,
    "ExecuteTime": {
     "end_time": "2024-06-29T13:40:28.966194Z",
     "start_time": "2024-06-29T13:40:28.857479500Z"
    }
   },
   "id": "286f61c37daacc2e"
  },
  {
   "cell_type": "code",
   "execution_count": 246,
   "outputs": [
    {
     "name": "stdout",
     "output_type": "stream",
     "text": [
      "Original grid:\n",
      "[[ 0  0  0  0  1 -1 -1]\n",
      " [ 0  0  0  0  0  5  3]\n",
      " [ 0  0  2  0  4  0 -1]\n",
      " [-1 -1  0  0 -1 -1 -1]]\n",
      "\n",
      "New grid after relocation:\n",
      "[[ 5  0  0  1  0 -1 -1]\n",
      " [ 0  0  0  0  0  0  0]\n",
      " [ 4  0  0  0  0  0 -1]\n",
      " [-1 -1  2  0 -1 -1 -1]]\n",
      "\n",
      "New cells coordinates:\n",
      "{(0, 0), (0, 3), (2, 0), (1, 6), (3, 2)}\n"
     ]
    }
   ],
   "source": [
    "import numpy as np\n",
    "import random\n",
    "\n",
    "# Function to randomly place k colors within the floorplan\n",
    "def place_k_colors_on_grid(grid_arr, k):\n",
    "    colors_placed = 0\n",
    "    cells_coords = set()\n",
    "    coloring_grid = grid_arr.copy()\n",
    "    m, n = grid_arr.shape\n",
    "    while colors_placed < k:\n",
    "        row, col = random.randint(0, m - 1), random.randint(0, n - 1)\n",
    "        if coloring_grid[row, col] == 0:  # Ensure the cell is within the floorplan and uncolored\n",
    "            coloring_grid[row, col] = colors_placed + 1\n",
    "            cells_coords.add((row, col))\n",
    "            colors_placed += 1\n",
    "    coloring_grid, cells_coords = relocate_by_orientation(coloring_grid, cells_coords)\n",
    "    return coloring_grid, cells_coords\n",
    "\n",
    "# Function to relocate cells based on orientation requirements\n",
    "def relocate_by_orientation(grid, cells_coords):\n",
    "    orientation_requirements = {\n",
    "        1: 'north',\n",
    "        2: 'south',\n",
    "        3: 'east',\n",
    "        4: 'west',\n",
    "        5: 'north'\n",
    "    }\n",
    "\n",
    "    def get_new_position(m, n, orientation, occupied):\n",
    "        attempts = 0\n",
    "        max_attempts = m * n  # Limit to avoid infinite loop\n",
    "        while attempts < max_attempts:\n",
    "            if orientation == 'north':\n",
    "                new_pos = (0, random.randint(0, n - 1))\n",
    "            elif orientation == 'south':\n",
    "                new_pos = (m - 1, random.randint(0, n - 1))\n",
    "            elif orientation == 'east':\n",
    "                new_pos = (random.randint(0, m - 1), n - 1)\n",
    "            elif orientation == 'west':\n",
    "                new_pos = (random.randint(0, m - 1), 0)\n",
    "            if new_pos not in occupied and grid[new_pos[0], new_pos[1]] == 0:\n",
    "                return new_pos\n",
    "            attempts += 1\n",
    "        raise ValueError(\"Unable to find a new position for the given orientation\")\n",
    "\n",
    "    m, n = grid.shape\n",
    "    new_grid = np.copy(grid)\n",
    "    new_cells_coords = set()\n",
    "    occupied = set(cells_coords)  # Initialize with original occupied positions\n",
    "\n",
    "    for cell in cells_coords:\n",
    "        row, col = cell\n",
    "        color = grid[row, col]\n",
    "        if color in orientation_requirements:\n",
    "            orientation = orientation_requirements[color]\n",
    "            try:\n",
    "                new_row, new_col = get_new_position(m, n, orientation, occupied)\n",
    "                new_grid[new_row, new_col] = color\n",
    "                new_cells_coords.add((new_row, new_col))\n",
    "                occupied.add((new_row, new_col))\n",
    "            except ValueError:\n",
    "                new_grid[row, col] = color\n",
    "                new_cells_coords.add((row, col))\n",
    "        else:\n",
    "            new_grid[row, col] = color\n",
    "            new_cells_coords.add((row, col))\n",
    "\n",
    "    # Remove original positions\n",
    "    for cell in cells_coords:\n",
    "        row, col = cell\n",
    "        new_grid[row, col] = 0\n",
    "\n",
    "    return new_grid, new_cells_coords\n",
    "\n",
    "# Example usage\n",
    "initialized_grid = np.array([\n",
    "    [ 0,  0,  0,  0,  1, -1, -1],\n",
    "    [ 0,  0,  0,  0,  0,  5,  3],\n",
    "    [ 0,  0,  2,  0,  4,  0, -1],\n",
    "    [-1, -1,  0,  0, -1, -1, -1]\n",
    "])\n",
    "\n",
    "# Identify initial cells' coordinates\n",
    "cells_coords = {(0, 4), (1, 5), (1, 6), (2, 2), (2, 4)}\n",
    "\n",
    "# Apply the relocation\n",
    "coloring_grid, new_cells_coords = relocate_by_orientation(initialized_grid, cells_coords)\n",
    "\n",
    "print(\"Original grid:\")\n",
    "print(initialized_grid)\n",
    "print(\"\\nNew grid after relocation:\")\n",
    "print(coloring_grid)\n",
    "print(\"\\nNew cells coordinates:\")\n",
    "print(new_cells_coords)\n"
   ],
   "metadata": {
    "collapsed": false,
    "ExecuteTime": {
     "end_time": "2024-06-30T04:28:52.823563300Z",
     "start_time": "2024-06-30T04:28:52.776826900Z"
    }
   },
   "id": "4a8ee2edbba7a8b9"
  },
  {
   "cell_type": "code",
   "execution_count": 259,
   "outputs": [
    {
     "name": "stdout",
     "output_type": "stream",
     "text": [
      "cell_position={4: (2, 4), 1: (0, 4), 2: (2, 2), 5: (1, 5), 3: (1, 6)}\n",
      "color=4, orientation = west\n",
      "other_color==color: 4\n",
      "cell_position={4: (2, 4), 1: (0, 4), 2: (2, 2), 5: (1, 5), 3: (1, 6)}\n",
      "color=1, orientation = north\n",
      "other_color==color: 1\n",
      "cell_position={4: (2, 4), 1: (0, 4), 2: (2, 2), 5: (1, 5), 3: (1, 6)}\n",
      "color=2, orientation = south\n",
      "other_color==color: 2\n",
      "cell_position={4: (2, 2), 1: (0, 4), 2: (2, 4), 5: (1, 5), 3: (1, 6)}\n",
      "color=5, orientation = north\n",
      "cell_position={4: (2, 2), 1: (0, 4), 2: (2, 4), 5: (1, 5), 3: (1, 6)}\n",
      "color=3, orientation = east\n",
      "cell_position={4: (2, 2), 1: (0, 4), 2: (2, 4), 5: (1, 5), 3: (1, 6)}\n",
      "color=1, orientation = north\n",
      "other_color==color: 1\n",
      "cell_position={4: (2, 2), 1: (0, 4), 2: (2, 4), 5: (1, 5), 3: (1, 6)}\n",
      "color=2, orientation = south\n",
      "other_color==color: 2\n",
      "cell_position={4: (2, 2), 1: (0, 4), 2: (2, 4), 5: (1, 5), 3: (1, 6)}\n",
      "color=5, orientation = north\n",
      "cell_position={4: (2, 2), 1: (0, 4), 2: (2, 4), 5: (1, 5), 3: (1, 6)}\n",
      "color=4, orientation = west\n",
      "other_color==color: 4\n",
      "cell_position={4: (2, 2), 1: (0, 4), 2: (2, 4), 5: (1, 5), 3: (1, 6)}\n",
      "color=1, orientation = north\n",
      "other_color==color: 1\n",
      "cell_position={4: (2, 2), 1: (1, 5), 2: (2, 4), 5: (0, 4), 3: (1, 6)}\n",
      "color=2, orientation = south\n",
      "cell_position={4: (2, 2), 1: (1, 5), 2: (2, 4), 5: (0, 4), 3: (1, 6)}\n",
      "color=3, orientation = east\n",
      "other_color==color: 3\n",
      "cell_position={4: (2, 2), 1: (1, 5), 2: (2, 4), 5: (1, 6), 3: (1, 5)}\n",
      "color=3, orientation = east\n",
      "other_color==color: 3\n",
      "cell_position={4: (2, 2), 1: (1, 5), 2: (2, 4), 5: (1, 6), 3: (1, 5)}\n",
      "color=4, orientation = west\n",
      "other_color==color: 4\n",
      "cell_position={4: (2, 2), 1: (1, 5), 2: (2, 4), 5: (1, 6), 3: (1, 5)}\n",
      "color=1, orientation = north\n",
      "other_color==color: 1\n",
      "cell_position={4: (2, 2), 1: (1, 5), 2: (2, 4), 5: (1, 6), 3: (1, 5)}\n",
      "color=2, orientation = south\n",
      "other_color==color: 2\n",
      "cell_position={4: (2, 2), 1: (1, 5), 2: (2, 4), 5: (1, 6), 3: (1, 5)}\n",
      "color=5, orientation = north\n",
      "other_color==color: 5\n",
      "cell_position={4: (2, 2), 1: (1, 5), 2: (2, 4), 5: (1, 6), 3: (1, 5)}\n",
      "color=3, orientation = east\n",
      "cell_position={4: (2, 2), 1: (1, 5), 2: (2, 4), 5: (1, 6), 3: (1, 5)}\n",
      "color=4, orientation = west\n",
      "other_color==color: 4\n",
      "cell_position={4: (2, 2), 1: (1, 5), 2: (2, 4), 5: (1, 6), 3: (1, 5)}\n",
      "color=1, orientation = north\n",
      "other_color==color: 1\n",
      "cell_position={4: (2, 2), 1: (1, 5), 2: (2, 4), 5: (1, 6), 3: (1, 5)}\n",
      "color=2, orientation = south\n",
      "cell_position={4: (2, 2), 1: (1, 5), 2: (2, 4), 5: (1, 6), 3: (1, 5)}\n",
      "color=5, orientation = north\n",
      "other_color==color: 5\n",
      "cell_position={4: (2, 2), 1: (1, 5), 2: (2, 4), 5: (1, 5), 3: (1, 6)}\n",
      "color=4, orientation = west\n",
      "other_color==color: 4\n",
      "cell_position={4: (2, 2), 1: (1, 5), 2: (2, 4), 5: (1, 5), 3: (1, 6)}\n",
      "color=1, orientation = north\n",
      "other_color==color: 1\n",
      "cell_position={4: (2, 2), 1: (1, 5), 2: (2, 4), 5: (1, 5), 3: (1, 6)}\n",
      "color=2, orientation = south\n",
      "other_color==color: 2\n",
      "cell_position={4: (2, 2), 1: (1, 5), 2: (2, 4), 5: (1, 5), 3: (1, 6)}\n",
      "color=5, orientation = north\n",
      "other_color==color: 5\n",
      "cell_position={4: (2, 2), 1: (1, 5), 2: (2, 4), 5: (1, 5), 3: (1, 6)}\n",
      "color=3, orientation = east\n",
      "other_color==color: 3\n",
      "Original grid:\n",
      "[[ 0  0  0  0  1 -1 -1]\n",
      " [ 0  0  0  0  0  5  3]\n",
      " [ 0  0  2  0  4  0 -1]\n",
      " [-1 -1  0  0 -1 -1 -1]]\n",
      "\n",
      "New grid after relocation:\n",
      "[[ 0  0  0  0  5 -1 -1]\n",
      " [ 0  0  0  0  0  1  3]\n",
      " [ 0  0  4  0  2  0 -1]\n",
      " [-1 -1  0  0 -1 -1 -1]]\n",
      "\n",
      "New cells coordinates:\n",
      "{(1, 6), (1, 5), (2, 4), (2, 2)}\n"
     ]
    }
   ],
   "source": [
    "import numpy as np\n",
    "import random\n",
    "\n",
    "# Function to randomly place k colors within the floorplan\n",
    "def place_k_colors_on_grid(grid_arr, k):\n",
    "    colors_placed = 0\n",
    "    cells_coords = set()\n",
    "    coloring_grid = grid_arr.copy()\n",
    "    m, n = grid_arr.shape\n",
    "    while colors_placed < k:\n",
    "        row, col = random.randint(0, m - 1), random.randint(0, n - 1)\n",
    "        if coloring_grid[row, col] == 0:  # Ensure the cell is within the floorplan and uncolored\n",
    "            coloring_grid[row, col] = colors_placed + 1\n",
    "            cells_coords.add((row, col))\n",
    "            colors_placed += 1\n",
    "    return coloring_grid, cells_coords\n",
    "\n",
    "# Function to relocate cells based on orientation requirements\n",
    "def relocate_by_orientation2(grid, cells_coords):\n",
    "\n",
    "    def is_position_correct(cell_positions, color, position):\n",
    "        row, col = position\n",
    "        orientation = orientation_requirements[color]\n",
    "        \n",
    "        for other_color, other_position in cell_positions.items():\n",
    "            if other_color == color:\n",
    "                continue\n",
    "            other_row, other_col = other_position\n",
    "            \n",
    "            if orientation == 'north' and row > other_row:\n",
    "                return False\n",
    "            if orientation == 'south' and row < other_row:\n",
    "                return False\n",
    "            if orientation == 'east' and col < other_col:\n",
    "                return False\n",
    "            if orientation == 'west' and col > other_col:\n",
    "                return False\n",
    "        return True\n",
    "    \n",
    "def relocate_by_orientation(grid, cells_coords):\n",
    "\n",
    "\n",
    "    def is_position_correct(cell_positions, color, position):\n",
    "        print(f'cell_position={cell_positions}')\n",
    "        row, col = position\n",
    "        orientation = orientation_requirements[color]\n",
    "        print(f'color={color}, orientation = {orientation}')\n",
    "        \n",
    "        for other_color, other_position in cell_positions.items():\n",
    "            if other_color == color:\n",
    "                print(f'other_color==color: {color}')\n",
    "                continue\n",
    "            other_row, other_col = other_position\n",
    "            \n",
    "            if orientation == 'north' and row > other_row:\n",
    "                return False\n",
    "            if orientation == 'south' and row < other_row:\n",
    "                return False\n",
    "            if orientation == 'east' and col < other_col:\n",
    "                return False\n",
    "            if orientation == 'west' and col > other_col:\n",
    "                return False\n",
    "        return True\n",
    "\n",
    "    def swap_positions(grid, pos1, pos2):\n",
    "        grid[pos1[0], pos1[1]], grid[pos2[0], pos2[1]] = grid[pos2[0], pos2[1]], grid[pos1[0], pos1[1]]\n",
    "\n",
    "\n",
    "    m, n = grid.shape\n",
    "    new_grid = np.copy(grid)\n",
    "    cell_positions = {grid[row, col]: (row, col) for row, col in cells_coords}\n",
    "\n",
    "    any_changes = True\n",
    "    while any_changes:\n",
    "        any_changes = False\n",
    "        for color, position in list(cell_positions.items()):\n",
    "            if color in orientation_requirements and not is_position_correct(cell_positions, color, position):\n",
    "                for other_color, other_position in list(cell_positions.items()):\n",
    "                    if other_color != color and is_position_correct(cell_positions, other_color, position):\n",
    "                        swap_positions(new_grid, position, other_position)\n",
    "                        cell_positions[color], cell_positions[other_color] = other_position, position\n",
    "                        any_changes = True\n",
    "                        \n",
    "    new_cells_coords = set(cell_positions.values())\n",
    "    return new_grid, new_cells_coords                        \n",
    "# Example usage\n",
    "initialized_grid = np.array([\n",
    "    [ 0,  0,  0,  0,  1, -1, -1],\n",
    "    [ 0,  0,  0,  0,  0,  5,  3],\n",
    "    [ 0,  0,  2,  0,  4,  0, -1],\n",
    "    [-1, -1,  0,  0, -1, -1, -1]\n",
    "])\n",
    "orientation_requirements = {\n",
    "    1: 'north',\n",
    "    2: 'south',\n",
    "    3: 'east',\n",
    "    4: 'west',\n",
    "    5: 'north'\n",
    "}\n",
    "\n",
    "# Identify initial cells' coordinates\n",
    "cells_coords = {(0, 4), (1, 5), (1, 6), (2, 2), (2, 4)}\n",
    "\n",
    "# Apply the relocation\n",
    "coloring_grid, new_cells_coords = relocate_by_orientation(initialized_grid, cells_coords)\n",
    "\n",
    "print(\"Original grid:\")\n",
    "print(initialized_grid)\n",
    "print(\"\\nNew grid after relocation:\")\n",
    "print(coloring_grid)\n",
    "print(\"\\nNew cells coordinates:\")\n",
    "print(new_cells_coords)\n"
   ],
   "metadata": {
    "collapsed": false,
    "ExecuteTime": {
     "end_time": "2024-06-30T08:37:57.987904200Z",
     "start_time": "2024-06-30T08:37:57.958100100Z"
    }
   },
   "id": "1ff2964868800543"
  },
  {
   "cell_type": "code",
   "execution_count": null,
   "outputs": [],
   "source": [],
   "metadata": {
    "collapsed": false
   },
   "id": "f5936505ed4832de"
  }
 ],
 "metadata": {
  "kernelspec": {
   "display_name": "Python 3",
   "language": "python",
   "name": "python3"
  },
  "language_info": {
   "codemirror_mode": {
    "name": "ipython",
    "version": 2
   },
   "file_extension": ".py",
   "mimetype": "text/x-python",
   "name": "python",
   "nbconvert_exporter": "python",
   "pygments_lexer": "ipython2",
   "version": "2.7.6"
  }
 },
 "nbformat": 4,
 "nbformat_minor": 5
}
