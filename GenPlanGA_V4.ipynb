{
 "cells": [
  {
   "cell_type": "code",
   "execution_count": null,
   "id": "initial_id",
   "metadata": {
    "collapsed": true
   },
   "outputs": [],
   "source": []
  },
  {
   "cell_type": "code",
   "execution_count": 1,
   "outputs": [
    {
     "name": "stdout",
     "output_type": "stream",
     "text": [
      "Color 2: Vertices = 3, Edges = 3\n",
      "Color 4: Vertices = 6, Edges = 6\n",
      "Color 1: Vertices = 3, Edges = 3\n",
      "Color 3: Vertices = 7, Edges = 7\n"
     ]
    }
   ],
   "source": [
    "import numpy as np\n",
    "\n",
    "def find_boundaries(grid):\n",
    "    nrows, ncols = grid.shape\n",
    "    boundaries = {}\n",
    "    \n",
    "    # 8 방향을 확인하기 위한 offsets 정의\n",
    "    offsets = [(-1, 0), (1, 0), (0, -1), (0, 1), (-1, -1), (-1, 1), (1, -1), (1, 1)]\n",
    "    \n",
    "    def is_boundary(r, c, color):\n",
    "        for dr, dc in offsets:\n",
    "            nr, nc = r + dr, c + dc\n",
    "            if 0 <= nr < nrows and 0 <= nc < ncols:\n",
    "                if grid[nr, nc] != color:\n",
    "                    return True\n",
    "            else:\n",
    "                # 그리드 경계에 위치한 경우도 boundary로 간주\n",
    "                return True\n",
    "        return False\n",
    "    \n",
    "    for r in range(nrows):\n",
    "        for c in range(ncols):\n",
    "            color = grid[r, c]\n",
    "            if color == -1: continue  # 비활성 셀 무시\n",
    "            if color not in boundaries:\n",
    "                boundaries[color] = set()\n",
    "            if is_boundary(r, c, color):\n",
    "                boundaries[color].add((r, c))\n",
    "    \n",
    "    return boundaries\n",
    "\n",
    "def calculate_vertices_and_edges(boundaries):\n",
    "    vertices_edges_count = {}\n",
    "    \n",
    "    for color, b_set in boundaries.items():\n",
    "        # 본 예제에서는 모든 경계 셀을 꼭지점으로 간주\n",
    "        vertices_count = len(b_set)\n",
    "        # 꼭지점 수와 동일하게 벽면 수를 설정\n",
    "        edges_count = vertices_count\n",
    "        vertices_edges_count[color] = (vertices_count, edges_count)\n",
    "    \n",
    "    return vertices_edges_count\n",
    "\n",
    "# 예시 그리드\n",
    "grid = np.array([\n",
    "    [2, 2, 2, -1, -1],\n",
    "    [4, 1, 1, -1, -1],\n",
    "    [4, 1, 3, -1, -1],\n",
    "    [4, 4, 3, 3, 3],\n",
    "    [4, 4, 3, 3, 3]\n",
    "])\n",
    "\n",
    "boundaries = find_boundaries(grid)\n",
    "vertices_edges_count = calculate_vertices_and_edges(boundaries)\n",
    "\n",
    "for color, (v_count, e_count) in vertices_edges_count.items():\n",
    "    print(f\"Color {color}: Vertices = {v_count}, Edges = {e_count}\")\n",
    "#tested boundary not valid"
   ],
   "metadata": {
    "collapsed": false,
    "ExecuteTime": {
     "end_time": "2024-04-25T01:19:13.475959300Z",
     "start_time": "2024-04-25T01:19:13.229535800Z"
    }
   },
   "id": "cd42c18b1e8f0158"
  },
  {
   "cell_type": "code",
   "execution_count": 11,
   "outputs": [
    {
     "name": "stdout",
     "output_type": "stream",
     "text": [
      "Total Edges: 58, Total Vertices: 40\n"
     ]
    }
   ],
   "source": [
    "import numpy as np\n",
    "\n",
    "def calculate_edges_vertices(grid):\n",
    "    nrows, ncols = grid.shape\n",
    "    edges_total = 0\n",
    "    vertices_total = 0\n",
    "\n",
    "    # 셀과 인접한 셀 사이의 공유되는 에지 및 꼭지점 계산\n",
    "    shared_edges = 0\n",
    "    shared_vertices = 0\n",
    "\n",
    "    for r in range(nrows):\n",
    "        for c in range(ncols):\n",
    "            if grid[r, c] == -1:  # 비활성 셀은 무시\n",
    "                continue\n",
    "            \n",
    "            # 각 셀에 대해 4개의 에지와 꼭지점을 가진다고 가정\n",
    "            edges_total += 4\n",
    "            vertices_total += 4\n",
    "            \n",
    "            # 오른쪽 및 아래쪽 셀과 공유하는 에지 및 꼭지점 확인\n",
    "            if c < ncols - 1 and grid[r, c] == grid[r, c + 1]:\n",
    "                shared_edges += 1\n",
    "                shared_vertices += 2\n",
    "            if r < nrows - 1 and grid[r, c] == grid[r + 1, c]:\n",
    "                shared_edges += 1\n",
    "                shared_vertices += 2\n",
    "    \n",
    "    # 전체 에지와 꼭지점에서 공유되는 부분 제외\n",
    "    edges_total -= shared_edges\n",
    "    vertices_total -= shared_vertices\n",
    "    \n",
    "    return edges_total, vertices_total\n",
    "\n",
    "# 예시 그리드\n",
    "grid = np.array([\n",
    "    [2, 2, 2, -1, -1],\n",
    "    [4, 1, 1, -1, -1],\n",
    "    [4, 1, 3, -1, -1],\n",
    "    [4, 4, 3, 3, 3],\n",
    "    [4, 4, 3, 3, 3]\n",
    "])\n",
    "\n",
    "edges, vertices = calculate_edges_vertices(grid)\n",
    "print(f\"Total Edges: {edges}, Total Vertices: {vertices}\")\n"
   ],
   "metadata": {
    "collapsed": false,
    "ExecuteTime": {
     "end_time": "2024-03-06T07:42:23.094154100Z",
     "start_time": "2024-03-06T07:42:23.028655500Z"
    }
   },
   "id": "e07f86567ff36283"
  },
  {
   "cell_type": "code",
   "execution_count": 12,
   "outputs": [
    {
     "name": "stdout",
     "output_type": "stream",
     "text": [
      "Color 2: Vertices = 8, Edges = 10\n",
      "Color 4: Vertices = 12, Edges = 18\n",
      "Color 1: Vertices = 8, Edges = 10\n",
      "Color 3: Vertices = 12, Edges = 20\n"
     ]
    }
   ],
   "source": [
    "import numpy as np\n",
    "\n",
    "def calculate_group_edges_vertices(grid):\n",
    "    nrows, ncols = grid.shape\n",
    "    color_edges_vertices = {}\n",
    "\n",
    "    for r in range(nrows):\n",
    "        for c in range(ncols):\n",
    "            color = grid[r, c]\n",
    "            if color == -1:  # 비활성 셀은 무시\n",
    "                continue\n",
    "\n",
    "            # 색상별로 꼭지점과 에지의 수를 초기화\n",
    "            if color not in color_edges_vertices:\n",
    "                color_edges_vertices[color] = {'vertices': 0, 'edges': 0}\n",
    "\n",
    "            # 기본적으로 각 셀은 4개의 꼭지점과 4개의 에지를 가짐\n",
    "            color_edges_vertices[color]['vertices'] += 4\n",
    "            color_edges_vertices[color]['edges'] += 4\n",
    "\n",
    "            # 인접한 셀과 같은 색상일 경우 공유하는 꼭지점과 에지를 차감\n",
    "            if r > 0 and grid[r-1, c] == color:  # 상단 셀과 공유\n",
    "                color_edges_vertices[color]['vertices'] -= 2\n",
    "                color_edges_vertices[color]['edges'] -= 1\n",
    "            if c > 0 and grid[r, c-1] == color:  # 왼쪽 셀과 공유\n",
    "                color_edges_vertices[color]['vertices'] -= 2\n",
    "                color_edges_vertices[color]['edges'] -= 1\n",
    "\n",
    "    return color_edges_vertices\n",
    "\n",
    "# 예시 그리드\n",
    "grid = np.array([\n",
    "    [2, 2, 2, -1, -1],\n",
    "    [4, 1, 1, -1, -1],\n",
    "    [4, 1, 3, -1, -1],\n",
    "    [4, 4, 3, 3, 3],\n",
    "    [4, 4, 3, 3, 3]\n",
    "])\n",
    "\n",
    "group_info = calculate_group_edges_vertices(grid)\n",
    "for color, info in group_info.items():\n",
    "    print(f\"Color {color}: Vertices = {info['vertices']}, Edges = {info['edges']}\")\n"
   ],
   "metadata": {
    "collapsed": false,
    "ExecuteTime": {
     "end_time": "2024-03-06T07:42:24.450254700Z",
     "start_time": "2024-03-06T07:42:24.424752900Z"
    }
   },
   "id": "88bc7211897d25f5"
  },
  {
   "cell_type": "code",
   "execution_count": 13,
   "outputs": [
    {
     "name": "stdout",
     "output_type": "stream",
     "text": [
      "Color 2: Vertices = 4, Edges = 8\n",
      "Color 4: Vertices = 0, Edges = 12\n",
      "Color 1: Vertices = 4, Edges = 8\n",
      "Color 3: Vertices = -4, Edges = 12\n"
     ]
    }
   ],
   "source": [
    "import numpy as np\n",
    "\n",
    "def calculate_edges_vertices_correct(grid):\n",
    "    nrows, ncols = grid.shape\n",
    "    color_info = {}\n",
    "\n",
    "    # 방향 벡터 (상, 하, 좌, 우)\n",
    "    directions = [(0, 1), (1, 0), (0, -1), (-1, 0)]\n",
    "\n",
    "    for r in range(nrows):\n",
    "        for c in range(ncols):\n",
    "            color = grid[r, c]\n",
    "            if color == -1:  # 비활성 셀 무시\n",
    "                continue\n",
    "\n",
    "            if color not in color_info:\n",
    "                color_info[color] = {'cells': 0, 'shared_edges': 0}\n",
    "\n",
    "            # 셀 수 증가\n",
    "            color_info[color]['cells'] += 1\n",
    "\n",
    "            # 인접 셀과 공유하는 에지 확인\n",
    "            for dr, dc in directions:\n",
    "                nr, nc = r + dr, c + dc\n",
    "                if 0 <= nr < nrows and 0 <= nc < ncols and grid[nr, nc] == color:\n",
    "                    color_info[color]['shared_edges'] += 1\n",
    "\n",
    "    # 최종 꼭지점과 에지 계산\n",
    "    for color, info in color_info.items():\n",
    "        cells = info['cells']\n",
    "        shared_edges = info['shared_edges']\n",
    "        edges = cells * 4 - shared_edges  # 공유된 에지를 제외한 총 에지 수\n",
    "        vertices = cells * 4 - shared_edges * 2  # 공유된 꼭지점을 제외한 총 꼭지점 수\n",
    "        color_info[color] = {'vertices': vertices, 'edges': edges}\n",
    "\n",
    "    return color_info\n",
    "\n",
    "# 그리드 예시\n",
    "grid = np.array([\n",
    "    [2, 2, 2, -1, -1],\n",
    "    [4, 1, 1, -1, -1],\n",
    "    [4, 1, 3, -1, -1],\n",
    "    [4, 4, 3, 3, 3],\n",
    "    [4, 4, 3, 3, 3]\n",
    "])\n",
    "\n",
    "color_info = calculate_edges_vertices_correct(grid)\n",
    "for color, info in color_info.items():\n",
    "    print(f\"Color {color}: Vertices = {info['vertices']}, Edges = {info['edges']}\")\n"
   ],
   "metadata": {
    "collapsed": false,
    "ExecuteTime": {
     "end_time": "2024-03-06T07:42:26.629712200Z",
     "start_time": "2024-03-06T07:42:26.592546400Z"
    }
   },
   "id": "71e85857e50e7751"
  },
  {
   "cell_type": "code",
   "execution_count": 14,
   "outputs": [
    {
     "name": "stdout",
     "output_type": "stream",
     "text": [
      "Color 2: Boundary Cells = [(0, 1), (0, 2), (0, 0)]\n",
      "Color 4: Boundary Cells = [(4, 0), (3, 1), (2, 0), (3, 0), (1, 0), (4, 1)]\n",
      "Color 1: Boundary Cells = [(1, 1), (1, 2), (2, 1)]\n",
      "Color 3: Boundary Cells = [(4, 4), (3, 4), (4, 3), (4, 2), (3, 3), (2, 2), (3, 2)]\n"
     ]
    }
   ],
   "source": [
    "import numpy as np\n",
    "\n",
    "def find_boundary_cells(grid):\n",
    "    nrows, ncols = grid.shape\n",
    "    boundary_cells = {}\n",
    "\n",
    "    # 인접 셀 확인을 위한 방향 벡터\n",
    "    directions = [(-1, 0), (1, 0), (0, -1), (0, 1)]\n",
    "\n",
    "    for r in range(nrows):\n",
    "        for c in range(ncols):\n",
    "            color = grid[r, c]\n",
    "            if color == -1:\n",
    "                continue  # 비활성 셀은 무시\n",
    "\n",
    "            if color not in boundary_cells:\n",
    "                boundary_cells[color] = set()\n",
    "\n",
    "            # 현재 셀이 경계 셀인지 확인\n",
    "            for dr, dc in directions:\n",
    "                nr, nc = r + dr, c + dc\n",
    "                # 그리드 범위를 벗어나거나 인접한 셀의 색상이 현재 셀과 다를 경우\n",
    "                if nr < 0 or nr >= nrows or nc < 0 or nc >= ncols or grid[nr, nc] != color:\n",
    "                    boundary_cells[color].add((r, c))\n",
    "                    break\n",
    "\n",
    "    return boundary_cells\n",
    "\n",
    "# 예시 그리드\n",
    "grid = np.array([\n",
    "    [2, 2, 2, -1, -1],\n",
    "    [4, 1, 1, -1, -1],\n",
    "    [4, 1, 3, -1, -1],\n",
    "    [4, 4, 3, 3, 3],\n",
    "    [4, 4, 3, 3, 3]\n",
    "])\n",
    "\n",
    "boundary_cells = find_boundary_cells(grid)\n",
    "for color, cells in boundary_cells.items():\n",
    "    print(f\"Color {color}: Boundary Cells = {list(cells)}\")\n"
   ],
   "metadata": {
    "collapsed": false,
    "ExecuteTime": {
     "end_time": "2024-03-06T07:42:27.676896Z",
     "start_time": "2024-03-06T07:42:27.658851700Z"
    }
   },
   "id": "8b84b44cf21504c3"
  },
  {
   "cell_type": "code",
   "execution_count": 15,
   "outputs": [],
   "source": [
    "\n",
    "import copy\n",
    "from collections import deque\n",
    "from PIL import Image, ImageDraw\n",
    "s=('(0,0);(0,1);(0,2);(0,3);(1,0);(1,1);(1,2);(1,3);(2,0);(2,1);(2,2);'\n",
    "   '(3,0);(3,1);(3,2);(4,2);(5,2);(5,3)')\n",
    "s=[tuple(int(j) for j in i.strip('()').split(',')) for i in s.split(';')]\n",
    "mx,my=[max(i[j] for i in s) for j in [0,1]]\n",
    "im=Image.new('RGB',(20*(mx+2),20*(my+2)),(255,255,255))\n",
    "draw=ImageDraw.Draw(im)\n",
    "for x,y in s:\n",
    "    draw.rectangle(tuple(i*20+10 for i in [x,y,x+1,y+1]),\n",
    "                   fill=(192,192,192),outline=None,width=0)\n",
    "\n",
    "borders=lambda x,y:[frozenset([(x+a,y+b),(x+c,y+d)])\n",
    "    for (a,b),(c,d),(e,f) in [\n",
    "        ((0,0),(0,1),(0,-1)),\n",
    "        ((0,0),(1,0),(-1,0)),\n",
    "        ((1,0),(1,1),(0,1)),\n",
    "        ((0,1),(1,1),(1,0)),\n",
    "         ]\n",
    "    if (x+f,y+e) not in s]\n",
    "edges=sum((borders(*i) for i in s),[])\n",
    "for e in edges:\n",
    "    draw.line(tuple(i*20+10 for i in [j for p in e for j in p]),\n",
    "              fill=(0,0,0),width=1)\n",
    "#im.show()\n",
    "adjacent=lambda x,y:[(x+i,y+j) for i,j in\n",
    "                     [(1,0),(0,1),(-1,0),(0,-1)]]\n",
    "def bfs(s):\n",
    "    res,res_p=[],[]\n",
    "    s=copy.copy(s)\n",
    "    s_taken=set()\n",
    "    #assuming 1 connected component\n",
    "    for x in s:break\n",
    "    s.remove(x)\n",
    "    res.append(x)\n",
    "    p=list(x)[0]\n",
    "    res_p.append(p)\n",
    "    q=deque([p])\n",
    "    #print(p)\n",
    "    while q:\n",
    "        p=q.popleft()\n",
    "        for p1 in adjacent(*p):\n",
    "            e=frozenset([p,p1])\n",
    "            if e in s:\n",
    "                q.append(p1)\n",
    "                s.remove(e)\n",
    "                res.append(e)\n",
    "                res_p.append(p1)\n",
    "                break\n",
    "    return res,res_p\n",
    "\n",
    "ordered_edges,ordered_points=bfs(set(edges))\n",
    "orientation=lambda x:(lambda y:y[0][0]==y[1][0])(list(x))\n",
    "res=[]\n",
    "for e1,p,e2 in zip(ordered_edges,\n",
    "                   ordered_points,\n",
    "                   ordered_edges[1:]+ordered_edges[:1]):\n",
    "    if orientation(e1)!=orientation(e2):\n",
    "        res.append(p)\n",
    "\n",
    "for x,y in res:\n",
    "    draw.ellipse((20*x+10-2,20*y+10-2,20*x+10+2,20*y+10+2),\n",
    "                 fill=(0,0,255))\n",
    "im.show()"
   ],
   "metadata": {
    "collapsed": false,
    "ExecuteTime": {
     "end_time": "2024-03-06T07:42:38.689241700Z",
     "start_time": "2024-03-06T07:42:34.470659600Z"
    }
   },
   "id": "d662bc7695fbd0ae"
  },
  {
   "cell_type": "markdown",
   "source": [
    "# Image Draw Example"
   ],
   "metadata": {
    "collapsed": false
   },
   "id": "bfe5348effc886f2"
  },
  {
   "cell_type": "code",
   "execution_count": 16,
   "outputs": [],
   "source": [
    "from PIL import Image, ImageDraw\n",
    "\n",
    "# 이미지 객체 생성 예시\n",
    "im = Image.new('RGB', (100, 100), (255, 255, 255))\n",
    "draw = ImageDraw.Draw(im)\n",
    "\n",
    "# draw 객체를 사용하여 그리기 작업 수행\n",
    "# 예: 이미지 중앙에 검은색으로 원 그리기\n",
    "draw.ellipse((0, 0, 100, 95), outline =(255, 0, 0), fill =(0, 0, 0))\n",
    "\n",
    "# 예: 이미지에 텍스트 추가\n",
    "draw.text((10, 10), \"Hello\", fill=(0, 0, 0))\n",
    "\n",
    "# 이미지 보기 (Jupyter Notebook 환경에서)\n",
    "im.show()\n",
    "\n",
    "# 이미지 파일로 저장\n",
    "im.save(\"example.png\")\n"
   ],
   "metadata": {
    "collapsed": false,
    "ExecuteTime": {
     "end_time": "2024-03-06T07:42:46.938930800Z",
     "start_time": "2024-03-06T07:42:43.230221400Z"
    }
   },
   "id": "6decfc46f2be3f2d"
  },
  {
   "cell_type": "code",
   "execution_count": 17,
   "outputs": [],
   "source": [
    "from PIL import Image, ImageDraw\n",
    "def coordinates_to_grid(coordinates):\n",
    "    # 좌표 리스트에서 가장 큰 행과 열 값 찾기\n",
    "    max_row = max(coordinates, key=lambda x: x[0])[0]\n",
    "    max_col = max(coordinates, key=lambda x: x[1])[1]\n",
    "\n",
    "    # 그리드 초기화 (가장 큰 인덱스에 +1 해서 크기를 결정)\n",
    "    grid = [[0 for _ in range(max_col + 1)] for _ in range(max_row + 1)]\n",
    "\n",
    "    # 주어진 좌표에 해당하는 부분을 1로 설정\n",
    "    for row, col in coordinates:\n",
    "        grid[row][col] = 1\n",
    "\n",
    "    return grid\n",
    "\n",
    "# 좌표 리스트 s 정의 (예시)\n",
    "\n",
    "s = [\n",
    "    (0, 0), (0, 1), (0, 2), (0, 3),\n",
    "    (1, 0), (1, 1), (1, 2), (1, 3),\n",
    "    (2, 0), (2, 1), (2, 2), (3, 0),\n",
    "    (3, 1), (3, 2), (4, 2), (5, 2), (5, 3)\n",
    "    ]\n",
    "# 이미지 객체 생성\n",
    "im = Image.new('RGB', (150, 150), (255, 255, 255))\n",
    "draw = ImageDraw.Draw(im)\n",
    "\n",
    "# s 내의 각 좌표에 사각형 그리기\n",
    "for x, y in s:\n",
    "    xx,yy,mxx,myy = tuple(i*20+10 for i in [x, y, x+1, y+1])\n",
    "    draw.rectangle(tuple(i*20+10 for i in [x, y, x+1, y+1]),\n",
    "                   fill=(192, 192, 192), outline=None, width=0)\n",
    "    draw.text((xx+5,yy+5), str(x)+str(y), fill=(0,0,0))\n",
    "\n",
    "\n",
    "\n",
    "# 이미지 보기 (Jupyter Notebook 환경에서)\n",
    "im.show()\n",
    "\n",
    "# 또는 이미지 파일로 저장\n",
    "im.save(\"output.png\")"
   ],
   "metadata": {
    "collapsed": false,
    "ExecuteTime": {
     "end_time": "2024-03-06T07:42:53.240257300Z",
     "start_time": "2024-03-06T07:42:49.558617100Z"
    }
   },
   "id": "ebb1a6c7d25f33bc"
  },
  {
   "cell_type": "code",
   "execution_count": 5,
   "outputs": [
    {
     "name": "stdout",
     "output_type": "stream",
     "text": [
      "[1, 1, 1, 1, 0, 0]\n",
      "[1, 1, 1, 1, 0, 0]\n",
      "[1, 1, 1, 1, 1, 1]\n",
      "[1, 1, 0, 0, 0, 1]\n"
     ]
    }
   ],
   "source": [
    "# first solution\n",
    "from PIL import Image, ImageDraw\n",
    "\n",
    "def coordinates_to_grid(coordinates):\n",
    "    # 좌표 리스트에서 가장 큰 행과 열 값 찾기 (x와 y를 반전)\n",
    "    max_col = max(coordinates, key=lambda x: x[0])[0]\n",
    "    max_row = max(coordinates, key=lambda x: x[1])[1]\n",
    "\n",
    "    # 그리드 초기화 (가장 큰 인덱스에 +1 해서 크기를 결정)\n",
    "    grid = [[0 for _ in range(max_col + 1)] for _ in range(max_row + 1)]\n",
    "\n",
    "    # 주어진 좌표에 해당하는 부분을 1로 설정 (x와 y를 반전)\n",
    "    for y, x in coordinates:\n",
    "        grid[x][y] = 1\n",
    "\n",
    "    return grid\n",
    "\n",
    "# 좌표 리스트 s 정의 (예시)\n",
    "s = [\n",
    "    (0, 0), (0, 1), (0, 2), (0, 3),\n",
    "    (1, 0), (1, 1), (1, 2), (1, 3),\n",
    "    (2, 0), (2, 1), (2, 2), (3, 0),\n",
    "    (3, 1), (3, 2), (4, 2), (5, 2), (5, 3)\n",
    "]\n",
    "\n",
    "# 이미지 객체 생성\n",
    "im = Image.new('RGB', (150, 150), (255, 255, 255))\n",
    "draw = ImageDraw.Draw(im)\n",
    "\n",
    "# s 내의 각 좌표에 사각형 그리기 (x와 y 반전시켜 그리기)\n",
    "for y, x in s:  # 좌표 반전\n",
    "    xx, yy, mxx, myy = tuple(i*20+10 for i in [y, x, y+1, x+1])\n",
    "    draw.rectangle((xx, yy, mxx, myy), fill=(192, 192, 192), outline=None, width=0)\n",
    "    draw.text((xx+5, yy+5), f\"{y}{x}\", fill=(0, 0, 0))\n",
    "\n",
    "# 변경된 좌표를 반영하여 그리드 생성\n",
    "grid = coordinates_to_grid(s)\n",
    "\n",
    "# 그리드 출력\n",
    "for row in grid:\n",
    "    print(row)\n",
    "\n",
    "# 이미지 보기\n",
    "im.show()\n",
    "\n",
    "# 이미지 파일로 저장\n",
    "im.save(\"output_corrected.png\")\n"
   ],
   "metadata": {
    "collapsed": false,
    "ExecuteTime": {
     "end_time": "2024-03-05T00:54:28.289041400Z",
     "start_time": "2024-03-05T00:54:23.629056300Z"
    }
   },
   "id": "4076049c8c7e5aec"
  },
  {
   "cell_type": "code",
   "execution_count": 18,
   "outputs": [],
   "source": [
    "# 좌표 리스트 s 정의 (예시)\n",
    "s = [\n",
    "    (0, 0), (0, 1), (0, 2), (0, 3),\n",
    "    (1, 0), (1, 1), (1, 2), (1, 3),\n",
    "    (2, 0), (2, 1), (2, 2),\n",
    "    (3, 0), (3, 1), (3, 2),\n",
    "                    (4, 2),\n",
    "                    (5, 2), (5, 3)\n",
    "]\n"
   ],
   "metadata": {
    "collapsed": false,
    "ExecuteTime": {
     "end_time": "2024-03-06T07:43:06.262767Z",
     "start_time": "2024-03-06T07:43:06.204150900Z"
    }
   },
   "id": "69b5b0d4c36c8c57"
  },
  {
   "cell_type": "markdown",
   "source": [
    "#  `(row=>y, col=>x)` =>  이미지 형식에서 row는 y, col은 x로 변환하여 출력  \n",
    "\n"
   ],
   "metadata": {
    "collapsed": false
   },
   "id": "d2a8443159af5e92"
  },
  {
   "cell_type": "code",
   "execution_count": 19,
   "outputs": [],
   "source": [
    "from PIL import Image, ImageDraw\n",
    "\n",
    "# 좌표 리스트 s 정의 (예시)\n",
    "s = [\n",
    "    (0, 0), (0, 1), (0, 2), (0, 3),\n",
    "    (1, 0), (1, 1), (1, 2), (1, 3),\n",
    "    (2, 0), (2, 1), (2, 2), \n",
    "    (3, 0), (3, 1), (3, 2), \n",
    "                    (4, 2),\n",
    "                    (5, 2), (5, 3)\n",
    "]\n",
    "\n",
    "\n",
    "def draw_grid_reverse(grid,savepath):\n",
    "    # 이미지 객체 생성\n",
    "    im = Image.new('RGB', (150, 150), (255, 255, 255))\n",
    "    draw = ImageDraw.Draw(im)\n",
    "    \n",
    "    # s 내의 각 좌표에 사각형 그리기\n",
    "    for x, y in s:\n",
    "        # x, y 좌표에 따라 사각형 그리기 위치 계산\n",
    "        rect_start_x = x * 20 + 10\n",
    "        rect_start_y = y * 20 + 10\n",
    "        rect_end_x = (x + 1) * 20 + 10\n",
    "        rect_end_y = (y + 1) * 20 + 10\n",
    "        draw.rectangle([rect_start_x, rect_start_y, rect_end_x, rect_end_y],\n",
    "                       fill=(192, 192, 192), outline=None, width=0)\n",
    "        # x, y 좌표에 따라 텍스트 위치 계산 및 텍스트 추가\n",
    "        text_position_x = rect_start_x + 5\n",
    "        text_position_y = rect_start_y + 5\n",
    "        draw.text((text_position_x, text_position_y), f\"{x}{y}\", fill=(0, 0, 0))\n",
    "    \n",
    "    # 이미지 보기\n",
    "    im.show()\n",
    "    \n",
    "    # 이미지 파일로 저장\n",
    "    im.save(savepath)\n",
    "\n",
    "draw_grid_reverse(s, 'output_reversed.png')"
   ],
   "metadata": {
    "collapsed": false,
    "ExecuteTime": {
     "end_time": "2024-03-06T07:43:12.864142200Z",
     "start_time": "2024-03-06T07:43:09.198962300Z"
    }
   },
   "id": "8d3b72fab8d3fd26"
  },
  {
   "cell_type": "code",
   "execution_count": 20,
   "outputs": [],
   "source": [
    "from PIL import Image, ImageDraw\n",
    "\n",
    "# 좌표 리스트 s 정의 (예시)\n",
    "s = [\n",
    "    (0, 0), (0, 1), (0, 2), (0, 3),\n",
    "    (1, 0), (1, 1), (1, 2), (1, 3),\n",
    "    (2, 0), (2, 1), (2, 2), (3, 0),\n",
    "    (3, 1), (3, 2), (4, 2), (5, 2), (5, 3)\n",
    "]\n",
    "\n",
    "# 이미지 객체 생성\n",
    "im = Image.new('RGB', (150, 150), (255, 255, 255))\n",
    "draw = ImageDraw.Draw(im)\n",
    "\n",
    "# s 내의 각 좌표에 사각형 그리기 (첫 번째 원소를 행으로, 두 번째 원소를 열로)\n",
    "for row, col in s:\n",
    "    # row, col 좌표에 따라 사각형 그리기 위치 계산\n",
    "    rect_start_x = col * 20 + 10\n",
    "    rect_start_y = row * 20 + 10\n",
    "    rect_end_x = (col + 1) * 20 + 10\n",
    "    rect_end_y = (row + 1) * 20 + 10\n",
    "    draw.rectangle([rect_start_x, rect_start_y, rect_end_x, rect_end_y],\n",
    "                   fill=(192, 192, 192), outline=None, width=0)\n",
    "    # row, col 좌표에 따라 텍스트 위치 계산 및 텍스트 추가\n",
    "    text_position_x = rect_start_x + 5\n",
    "    text_position_y = rect_start_y + 5\n",
    "    draw.text((text_position_x, text_position_y), f\"{row}{col}\", fill=(0, 0, 0))\n",
    "\n",
    "# 이미지 보기\n",
    "im.show()\n",
    "\n",
    "# 이미지 파일로 저장\n",
    "im.save(\"output_grid.png\")\n"
   ],
   "metadata": {
    "collapsed": false,
    "ExecuteTime": {
     "end_time": "2024-03-06T07:43:18.981204800Z",
     "start_time": "2024-03-06T07:43:15.305834700Z"
    }
   },
   "id": "7544f2d791456539"
  },
  {
   "cell_type": "code",
   "execution_count": 8,
   "outputs": [],
   "source": [
    "\n",
    "\n",
    "\n",
    "import copy\n",
    "from collections import deque\n",
    "from PIL import Image, ImageDraw\n",
    "s=('(0,0);(0,1);(0,2);(0,3);(1,0);(1,1);(1,2);(1,3);(2,0);(2,1);(2,2);'\n",
    "   '(3,0);(3,1);(3,2);(4,2);(5,2);(5,3)')\n",
    "s=[tuple(int(j) for j in i.strip('()').split(',')) for i in s.split(';')]\n",
    "\n",
    "# max x, max y\n",
    "mx,my=[max(i[j] for i in s) for j in [0,1]]\n",
    "# 새 'RGB' 이미지 생성 크기, 배경색(흰색) 지정\n",
    "im=Image.new('RGB',(20*(mx+2),20*(my+2)),(255,255,255))\n",
    "# draw 객체는 im 이미지 위에 선, 원 및 텍스트 그리기 작업을 수행하는 메소드들을 제공\n",
    "draw=ImageDraw.Draw(im)\n",
    "for x,y in s:\n",
    "    draw.rectangle(tuple(i*20+10 for i in [x,y,x+1,y+1]),\n",
    "                   fill=(192,192,192),outline=None,width=0)\n",
    "\n",
    "# borders=lambda x,y:[frozenset([(x+a,y+b),(x+c,y+d)])\n",
    "#     for (a,b),(c,d),(e,f) in [\n",
    "#         ((0,0),(0,1),(0,-1)),\n",
    "#         ((0,0),(1,0),(-1,0)),\n",
    "#         ((1,0),(1,1),(0,1)),\n",
    "#         ((0,1),(1,1),(1,0)),\n",
    "#          ]\n",
    "#     if (x+f,y+e) not in s]\n",
    "# edges=sum((borders(*i) for i in s),[])\n",
    "# for e in edges:\n",
    "#     draw.line(tuple(i*20+10 for i in [j for p in e for j in p]),\n",
    "#               fill=(0,0,0),width=1)\n",
    "# #im.show()\n",
    "# adjacent=lambda x,y:[(x+i,y+j) for i,j in\n",
    "#                      [(1,0),(0,1),(-1,0),(0,-1)]]\n",
    "# def bfs(s):\n",
    "#     res,res_p=[],[]\n",
    "#     s=copy.copy(s)\n",
    "#     s_taken=set()\n",
    "#     #assuming 1 connected component\n",
    "#     for x in s:break\n",
    "#     s.remove(x)\n",
    "#     res.append(x)\n",
    "#     p=list(x)[0]\n",
    "#     res_p.append(p)\n",
    "#     q=deque([p])\n",
    "#     #print(p)\n",
    "#     while q:\n",
    "#         p=q.popleft()\n",
    "#         for p1 in adjacent(*p):\n",
    "#             e=frozenset([p,p1])\n",
    "#             if e in s:\n",
    "#                 q.append(p1)\n",
    "#                 s.remove(e)\n",
    "#                 res.append(e)\n",
    "#                 res_p.append(p1)\n",
    "#                 break\n",
    "#     return res,res_p\n",
    "# \n",
    "# ordered_edges,ordered_points=bfs(set(edges))\n",
    "# orientation=lambda x:(lambda y:y[0][0]==y[1][0])(list(x))\n",
    "# res=[]\n",
    "# for e1,p,e2 in zip(ordered_edges,\n",
    "#                    ordered_points,\n",
    "#                    ordered_edges[1:]+ordered_edges[:1]):\n",
    "#     if orientation(e1)!=orientation(e2):\n",
    "#         res.append(p)\n",
    "# \n",
    "# for x,y in res:\n",
    "#     draw.ellipse((20*x+10-2,20*y+10-2,20*x+10+2,20*y+10+2),\n",
    "#                  fill=(0,0,255))\n",
    "# im.show()"
   ],
   "metadata": {
    "collapsed": false,
    "ExecuteTime": {
     "end_time": "2024-03-05T00:55:12.322542500Z",
     "start_time": "2024-03-05T00:55:12.298557300Z"
    }
   },
   "id": "ff3d4c5feca46019"
  },
  {
   "cell_type": "code",
   "execution_count": 23,
   "outputs": [
    {
     "name": "stdout",
     "output_type": "stream",
     "text": [
      "[1, 1, 1, 1]\n",
      "[1, 1, 1, 1]\n",
      "[1, 1, 1, 0]\n",
      "[1, 1, 1, 0]\n",
      "[0, 0, 1, 0]\n",
      "[0, 0, 1, 1]\n"
     ]
    }
   ],
   "source": [
    "def coordinates_to_grid(coordinates):\n",
    "    # 좌표 리스트에서 가장 큰 행과 열 값 찾기\n",
    "    max_row = max(coordinates, key=lambda x: x[0])[0]\n",
    "    max_col = max(coordinates, key=lambda x: x[1])[1]\n",
    "\n",
    "    # 그리드 초기화 (가장 큰 인덱스에 +1 해서 크기를 결정)\n",
    "    grid = [[0 for _ in range(max_col + 1)] for _ in range(max_row + 1)]\n",
    "\n",
    "    # 주어진 좌표에 해당하는 부분을 1로 설정\n",
    "    for row, col in coordinates:\n",
    "        grid[row][col] = 1\n",
    "\n",
    "    return grid\n",
    "\n",
    "# 예시 좌표 리스트\n",
    "coordinates = [\n",
    "    (0, 0), (0, 1), (0, 2), (0, 3),\n",
    "    (1, 0), (1, 1), (1, 2), (1, 3),\n",
    "    (2, 0), (2, 1), (2, 2), (3, 0),\n",
    "    (3, 1), (3, 2), (4, 2), (5, 2), (5, 3)\n",
    "]\n",
    "\n",
    "# 좌표 리스트를 그리드로 변환\n",
    "grid = coordinates_to_grid(coordinates)\n",
    "\n",
    "# 그리드 출력\n",
    "for row in grid:\n",
    "    print(row)\n"
   ],
   "metadata": {
    "collapsed": false,
    "ExecuteTime": {
     "end_time": "2024-03-06T07:48:33.048258800Z",
     "start_time": "2024-03-06T07:48:33.031381300Z"
    }
   },
   "id": "2c7125cb862a66be"
  },
  {
   "cell_type": "code",
   "execution_count": 17,
   "outputs": [
    {
     "ename": "AttributeError",
     "evalue": "'list' object has no attribute 'shape'",
     "output_type": "error",
     "traceback": [
      "\u001B[1;31m---------------------------------------------------------------------------\u001B[0m",
      "\u001B[1;31mAttributeError\u001B[0m                            Traceback (most recent call last)",
      "Cell \u001B[1;32mIn[17], line 10\u001B[0m\n\u001B[0;32m      7\u001B[0m         \u001B[38;5;28mprint\u001B[39m(\u001B[38;5;124m\"\u001B[39m\u001B[38;5;124m\"\u001B[39m)  \u001B[38;5;66;03m# 색상별 구분을 위한 개행\u001B[39;00m\n\u001B[0;32m      9\u001B[0m \u001B[38;5;66;03m# 이전에 정의된 find_boundary_cells 함수 사용\u001B[39;00m\n\u001B[1;32m---> 10\u001B[0m boundary_cells \u001B[38;5;241m=\u001B[39m \u001B[43mfind_boundary_cells\u001B[49m\u001B[43m(\u001B[49m\u001B[43mgrid\u001B[49m\u001B[43m)\u001B[49m\n\u001B[0;32m     12\u001B[0m \u001B[38;5;66;03m# 경계 셀 정보 출력\u001B[39;00m\n\u001B[0;32m     13\u001B[0m print_boundary_cells_info(boundary_cells)\n",
      "Cell \u001B[1;32mIn[7], line 4\u001B[0m, in \u001B[0;36mfind_boundary_cells\u001B[1;34m(grid)\u001B[0m\n\u001B[0;32m      3\u001B[0m \u001B[38;5;28;01mdef\u001B[39;00m \u001B[38;5;21mfind_boundary_cells\u001B[39m(grid):\n\u001B[1;32m----> 4\u001B[0m     nrows, ncols \u001B[38;5;241m=\u001B[39m \u001B[43mgrid\u001B[49m\u001B[38;5;241;43m.\u001B[39;49m\u001B[43mshape\u001B[49m\n\u001B[0;32m      5\u001B[0m     boundary_cells \u001B[38;5;241m=\u001B[39m {}\n\u001B[0;32m      7\u001B[0m     \u001B[38;5;66;03m# 인접 셀 확인을 위한 방향 벡터\u001B[39;00m\n",
      "\u001B[1;31mAttributeError\u001B[0m: 'list' object has no attribute 'shape'"
     ]
    }
   ],
   "source": [
    "def print_boundary_cells_info(boundary_cells):\n",
    "    for color, cells in boundary_cells.items():\n",
    "        print(f\"Color {color}: Number of Boundary Cells = {len(cells)}\")\n",
    "        print(\"Boundary Cells Coordinates:\")\n",
    "        for cell in sorted(cells):  # 좌표를 정렬하여 출력\n",
    "            print(f\"({cell[0]}, {cell[1]})\")\n",
    "        print(\"\")  # 색상별 구분을 위한 개행\n",
    "\n",
    "# 이전에 정의된 find_boundary_cells 함수 사용\n",
    "boundary_cells = find_boundary_cells(grid)\n",
    "\n",
    "# 경계 셀 정보 출력\n",
    "print_boundary_cells_info(boundary_cells)\n"
   ],
   "metadata": {
    "collapsed": false,
    "ExecuteTime": {
     "end_time": "2024-02-29T01:15:41.461545400Z",
     "start_time": "2024-02-29T01:15:41.391309900Z"
    }
   },
   "id": "64bf073732c5b5be"
  },
  {
   "cell_type": "code",
   "execution_count": 21,
   "outputs": [
    {
     "name": "stdout",
     "output_type": "stream",
     "text": [
      "Color 1: [(0, 0), (1, 0), (1, 1)]\n",
      "Color 2: [(0, 1), (0, 2), (1, 2)]\n",
      "Color 3: [(0, 3), (1, 3), (2, 2), (2, 3)]\n",
      "Color 4: [(2, 0), (2, 1)]\n"
     ]
    }
   ],
   "source": [
    "def get_color_coordinates(grid):\n",
    "    \"\"\"\n",
    "    그리드에서 각 색상별로 해당 색상의 좌표를 리스트로 반환하는 함수.\n",
    "\n",
    "    Parameters:\n",
    "    grid (list of lists): 2차원 그리드. 각 요소는 색상 값을 나타내는 정수입니다.\n",
    "\n",
    "    Returns:\n",
    "    dict: 각 색상별 좌표 리스트를 포함하는 딕셔너리. 키는 색상 값, 값은 해당 색상의 좌표 리스트입니다.\n",
    "    \"\"\"\n",
    "    color_coordinates = {}  # 색상별 좌표를 저장할 딕셔너리\n",
    "\n",
    "    for row_idx, row in enumerate(grid):\n",
    "        for col_idx, color in enumerate(row):\n",
    "            if color not in color_coordinates:\n",
    "                color_coordinates[color] = []\n",
    "            color_coordinates[color].append((row_idx, col_idx))\n",
    "\n",
    "    return color_coordinates\n",
    "\n",
    "# 예시 그리드\n",
    "grid = [\n",
    "    [1, 2, 2, 3],\n",
    "    [1, 1, 2, 3],\n",
    "    [4, 4, 3, 3]\n",
    "]\n",
    "\n",
    "# 함수 호출 및 결과 출력\n",
    "color_coordinates = get_color_coordinates(grid)\n",
    "for color, coordinates in color_coordinates.items():\n",
    "    print(f\"Color {color}: {coordinates}\")\n"
   ],
   "metadata": {
    "collapsed": false,
    "ExecuteTime": {
     "end_time": "2024-03-06T07:43:45.822092Z",
     "start_time": "2024-03-06T07:43:45.777105700Z"
    }
   },
   "id": "aac554efb85755a8"
  },
  {
   "cell_type": "code",
   "execution_count": 19,
   "outputs": [
    {
     "data": {
      "text/plain": "4"
     },
     "execution_count": 19,
     "metadata": {},
     "output_type": "execute_result"
    }
   ],
   "source": [
    "def get_color_at(grid, row, col):\n",
    "    \"\"\"\n",
    "    \n",
    "    :param grid : list of lists consists of row,col. int element represent color   \n",
    "    :param row:  int \n",
    "    :param col: int\n",
    "    :return:  color value of element (row,col) of grid\n",
    "    \"\"\"\n",
    "    return grid[row][col] if row <= len(grid) and col <= len(grid[0]) and row >= -1 and col >= -1 else None\n",
    "# 예시 그리드\n",
    "grid = [\n",
    "    [1, 2, 2, 3],\n",
    "    [1, 1, 2, 3],\n",
    "    [4, 4, 3, 3]\n",
    "]\n",
    "\n",
    "# 함수 호출 및 결과 출력\n",
    "row, col = 1, 2  # 예시 위치\n",
    "color = get_color_at(grid, 2, 1)\n",
    "color"
   ],
   "metadata": {
    "collapsed": false,
    "ExecuteTime": {
     "end_time": "2024-02-29T01:15:46.884153Z",
     "start_time": "2024-02-29T01:15:46.846204200Z"
    }
   },
   "id": "17d4a0b3f041e08e"
  },
  {
   "cell_type": "code",
   "execution_count": 20,
   "outputs": [
    {
     "ename": "IndentationError",
     "evalue": "expected an indented block after 'if' statement on line 21 (1629637471.py, line 22)",
     "output_type": "error",
     "traceback": [
      "\u001B[1;36m  Cell \u001B[1;32mIn[20], line 22\u001B[1;36m\u001B[0m\n\u001B[1;33m    graph[color].add(neighbor_color)\u001B[0m\n\u001B[1;37m    ^\u001B[0m\n\u001B[1;31mIndentationError\u001B[0m\u001B[1;31m:\u001B[0m expected an indented block after 'if' statement on line 21\n"
     ]
    }
   ],
   "source": [
    "#original build_graph\n",
    "def build_graph_from_grid(grid):\n",
    "    nrows, ncols = len(grid), len(grid[0])\n",
    "    graph = {}\n",
    "\n",
    "    # 인접 셀을 확인하기 위한 방향 벡터\n",
    "    directions = [(-1, 0), (1, 0), (0, -1), (0, 1)]\n",
    "\n",
    "    for r in range(nrows):\n",
    "        for c in range(ncols):\n",
    "            color = grid[r][c]\n",
    "            if color not in graph:\n",
    "                graph[color] = set()\n",
    "\n",
    "            # 현재 셀의 색상과 인접한 다른 색상들 찾기\n",
    "            for dr, dc in directions:\n",
    "                nr, nc = r + dr, c + dc\n",
    "                if 0 <= nr < nrows and 0 <= nc < ncols:\n",
    "                    neighbor_color = grid[nr][nc]\n",
    "                    #if neighbor_color != color  :\n",
    "                    if neighbor_color != color and (neighbor_color <0 and color < 0):\n",
    "                    graph[color].add(neighbor_color)\n",
    "\n",
    "    return graph"
   ],
   "metadata": {
    "collapsed": false,
    "ExecuteTime": {
     "end_time": "2024-02-29T01:15:48.010538200Z",
     "start_time": "2024-02-29T01:15:47.980251400Z"
    }
   },
   "id": "e476c8ba317a62ac"
  },
  {
   "cell_type": "code",
   "execution_count": 21,
   "outputs": [
    {
     "name": "stdout",
     "output_type": "stream",
     "text": [
      "Node 2 is connected to nodes: {1, 4, -1}\n",
      "Node -1 is connected to nodes: {1, 2, 3}\n",
      "Node 4 is connected to nodes: {1, 2, 3}\n",
      "Node 1 is connected to nodes: {2, 3, 4, -1}\n",
      "Node 3 is connected to nodes: {1, 4, -1}\n"
     ]
    }
   ],
   "source": [
    "def build_graph_from_grid(grid, include_outside = True):\n",
    "    nrows, ncols = len(grid), len(grid[0])\n",
    "    graph = {}\n",
    "\n",
    "    # 인접 셀을 확인하기 위한 방향 벡터\n",
    "    directions = [(-1, 0), (1, 0), (0, -1), (0, 1)]\n",
    "\n",
    "    if not include_outside:\n",
    "        for r in range(nrows)[1:len(nrows)-1]:\n",
    "            for c in range(ncols)[1:len(ncols)-1]:\n",
    "                color = grid[r][c]\n",
    "                if color not in graph and color > 0:\n",
    "                    graph[color] = set()\n",
    "    \n",
    "                # 현재 셀의 색상과 인접한 다른 색상들 찾기\n",
    "                for dr, dc in directions:\n",
    "                    nr, nc = r + dr, c + dc\n",
    "                    if 0 <= nr < nrows and 0 <= nc < ncols:\n",
    "                        neighbor_color = grid[nr][nc]\n",
    "                        if include_outside:\n",
    "                            if neighbor_color > 0 and neighbor_color != color :\n",
    "                                graph[color].add(neighbor_color)\n",
    "                        elif neighbor_color != color:\n",
    "                            graph[color].add(neighbor_color)\n",
    "        return graph                        \n",
    "                        \n",
    "\n",
    "    for r in range(nrows):\n",
    "        for c in range(ncols):\n",
    "            color = grid[r][c]\n",
    "            if color not in graph:\n",
    "                graph[color] = set()\n",
    "\n",
    "            # 현재 셀의 색상과 인접한 다른 색상들 찾기\n",
    "            for dr, dc in directions:\n",
    "                nr, nc = r + dr, c + dc\n",
    "                if 0 <= nr < nrows and 0 <= nc < ncols:\n",
    "                    neighbor_color = grid[nr][nc]\n",
    "                    if neighbor_color != color:\n",
    "                        graph[color].add(neighbor_color)\n",
    "    return graph\n",
    "\n",
    "# 예시 그리드\n",
    "grid = [\n",
    "    [1, 2, 2, 3],\n",
    "    [1, 1, 2, 3],\n",
    "    [4, 4, 3, 3]\n",
    "]\n",
    "grid = [\n",
    "    [2, 2, 2, -1, -1],\n",
    "    [4, 1, 1, -1, -1],\n",
    "    [4, 1, 3, -1, -1],\n",
    "    [4, 4, 3, 3, 3],\n",
    "    [4, 4, 3, 3, 3]\n",
    "]\n",
    "# 그래프 구성\n",
    "graph = build_graph_from_grid(grid)\n",
    "\n",
    "# 그래프 출력\n",
    "for node, edges in graph.items():\n",
    "    print(f\"Node {node} is connected to nodes: {edges}\")\n"
   ],
   "metadata": {
    "collapsed": false,
    "ExecuteTime": {
     "end_time": "2024-02-29T01:15:50.166578900Z",
     "start_time": "2024-02-29T01:15:50.145446200Z"
    }
   },
   "id": "6f8f91160a711361"
  },
  {
   "cell_type": "code",
   "execution_count": 22,
   "outputs": [
    {
     "name": "stdout",
     "output_type": "stream",
     "text": [
      "Graph with 5 nodes and 8 edges\n"
     ]
    },
    {
     "data": {
      "text/plain": "<Figure size 640x480 with 1 Axes>",
      "image/png": "[encoded data removed]"
     },
     "metadata": {},
     "output_type": "display_data"
    }
   ],
   "source": [
    "import networkx as nx\n",
    "import matplotlib.pyplot as plt\n",
    "\n",
    "def draw_graph(graph):\n",
    "    \"\"\"\n",
    "    주어진 그래프 정보를 바탕으로 그래프를 시각화합니다.\n",
    "\n",
    "    Parameters:\n",
    "    graph (dict): 노드와 에지를 포함하는 그래프 정보. 각 키는 노드(색상)이며,\n",
    "                  값은 해당 노드에 인접한 노드(색상)의 집합입니다.\n",
    "    \"\"\"\n",
    "    G = nx.Graph()\n",
    "\n",
    "    # 그래프 구성: 노드와 에지 추가\n",
    "    for node, edges in graph.items():\n",
    "        G.add_node(node)\n",
    "        for edge in edges:\n",
    "            G.add_edge(node, edge)\n",
    "    print(G)\n",
    "    # 노드 위치 결정\n",
    "    pos = nx.spring_layout(G)\n",
    "\n",
    "    # 그래프 드로잉\n",
    "    nx.draw(G, pos, with_labels=True, node_color='lightblue', edge_color='gray', node_size=700, font_size=10, font_weight='bold')\n",
    "\n",
    "    # 표시\n",
    "    plt.show()\n",
    "\n",
    "# 앞서 생성한 그래프를 사용하여 드로잉\n",
    "draw_graph(graph)\n"
   ],
   "metadata": {
    "collapsed": false,
    "ExecuteTime": {
     "end_time": "2024-02-29T01:15:54.296245800Z",
     "start_time": "2024-02-29T01:15:51.546796300Z"
    }
   },
   "id": "5c5f02695e312d6c"
  },
  {
   "cell_type": "code",
   "execution_count": 23,
   "outputs": [
    {
     "name": "stdout",
     "output_type": "stream",
     "text": [
      "Graph with 5 nodes and 8 edges\n"
     ]
    },
    {
     "data": {
      "text/plain": "<Figure size 640x480 with 1 Axes>",
      "image/png": "[encoded data removed]"
     },
     "metadata": {},
     "output_type": "display_data"
    }
   ],
   "source": [
    "\n",
    "def draw_graph(graph):\n",
    "    \"\"\"\n",
    "    주어진 그래프 정보를 바탕으로 그래프를 시각화합니다.\n",
    "\n",
    "    Parameters:\n",
    "    graph (dict): 노드와 에지를 포함하는 그래프 정보. 각 키는 노드(색상)이며,\n",
    "                  값은 해당 노드에 인접한 노드(색상)의 집합입니다.\n",
    "    \"\"\"\n",
    "    G = nx.Graph()\n",
    "\n",
    "    # 그래프 구성: 노드와 에지 추가\n",
    "    for node, edges in graph.items():\n",
    "        G.add_node(node)\n",
    "        for edge in edges:\n",
    "            G.add_edge(node, edge)\n",
    "    print(G)\n",
    "    # 노드 위치 결정\n",
    "    pos = nx.spring_layout(G)\n",
    "\n",
    "    # 그래프 드로잉\n",
    "    nx.draw(G, pos, with_labels=True, node_color='lightblue', edge_color='gray', node_size=700, font_size=10, font_weight='bold')\n",
    "\n",
    "    # 표시\n",
    "    plt.show()\n",
    "\n",
    "# 앞서 생성한 그래프를 사용하여 드로잉\n",
    "draw_graph(graph)"
   ],
   "metadata": {
    "collapsed": false,
    "ExecuteTime": {
     "end_time": "2024-02-29T01:15:55.681113900Z",
     "start_time": "2024-02-29T01:15:55.542623400Z"
    }
   },
   "id": "a5548fc8311fbda"
  },
  {
   "cell_type": "code",
   "execution_count": 24,
   "outputs": [
    {
     "name": "stdout",
     "output_type": "stream",
     "text": [
      "Graph with 5 nodes and 8 edges\n"
     ]
    },
    {
     "data": {
      "text/plain": "<Figure size 640x480 with 1 Axes>",
      "image/png": "[encoded data removed]"
     },
     "metadata": {},
     "output_type": "display_data"
    }
   ],
   "source": [
    "\n",
    "def draw_graph(graph):\n",
    "    \"\"\"\n",
    "    주어진 그래프 정보를 바탕으로 그래프를 시각화합니다.\n",
    "\n",
    "    Parameters:\n",
    "    graph (dict): 노드와 에지를 포함하는 그래프 정보. 각 키는 노드(색상)이며,\n",
    "                  값은 해당 노드에 인접한 노드(색상)의 집합입니다.\n",
    "    \"\"\"\n",
    "    G = nx.Graph()\n",
    "\n",
    "    # 그래프 구성: 노드와 에지 추가\n",
    "    for node, edges in graph.items():\n",
    "        G.add_node(node)\n",
    "        for edge in edges:\n",
    "            G.add_edge(node, edge)\n",
    "    print(G)\n",
    "    # 노드 위치 결정\n",
    "    # pos = nx.spring_layout(G)\n",
    "    # pos = nx.spectral_layout(G)\n",
    "    pos = nx.planar_layout(G)\n",
    "\n",
    "    # 그래프 드로잉\n",
    "    nx.draw(G, pos, with_labels=True, node_color='lightblue', edge_color='gray', node_size=700, font_size=10, font_weight='bold')\n",
    "\n",
    "    # 표시\n",
    "    plt.show()\n",
    "\n",
    "# 앞서 생성한 그래프를 사용하여 드로잉\n",
    "draw_graph(graph)"
   ],
   "metadata": {
    "collapsed": false,
    "ExecuteTime": {
     "end_time": "2024-02-29T01:15:58.454578100Z",
     "start_time": "2024-02-29T01:15:58.322065500Z"
    }
   },
   "id": "a3477329c42bf13c"
  },
  {
   "cell_type": "code",
   "execution_count": 25,
   "outputs": [
    {
     "name": "stdout",
     "output_type": "stream",
     "text": [
      "[-1, -1, -1, -1, -1]\n",
      "[-1, 0, 0, 0, -1]\n",
      "[-1, 0, 1, 0, -1]\n",
      "[-1, 0, 0, 0, -1]\n",
      "[-1, -1, -1, -1, -1]\n"
     ]
    }
   ],
   "source": [
    "def add_boundary(grid):\n",
    "    # grid의 행과 열의 길이를 구합니다.\n",
    "    rows, cols = len(grid), len(grid[0])\n",
    "    \n",
    "    # 새로운 grid의 크기를 기존보다 각각 2만큼 더 크게 설정합니다.\n",
    "    # 이렇게 하면 상하좌우에 한 칸씩 여유 공간이 생깁니다.\n",
    "    new_grid = [[-1] * (cols + 2) for _ in range(rows + 2)]\n",
    "    \n",
    "    # 기존 grid의 값을 새로운 grid에 복사합니다.\n",
    "    # 이때, 새로운 grid에서는 한 칸씩 내부로 이동하여 값을 설정합니다.\n",
    "    for r in range(rows):\n",
    "        for c in range(cols):\n",
    "            new_grid[r + 1][c + 1] = grid[r][c]\n",
    "    \n",
    "    return new_grid\n",
    "\n",
    "# 기존 grid\n",
    "grid = [\n",
    "    [0, 0, 0],\n",
    "    [0, 1, 0],\n",
    "    [0, 0, 0]\n",
    "]\n",
    "\n",
    "# 경계가 추가된 새로운 grid 생성\n",
    "new_grid = add_boundary(grid)\n",
    "\n",
    "# 결과 출력\n",
    "for row in new_grid:\n",
    "    print(row)\n"
   ],
   "metadata": {
    "collapsed": false,
    "ExecuteTime": {
     "end_time": "2024-02-29T01:16:00.615426400Z",
     "start_time": "2024-02-29T01:16:00.579714500Z"
    }
   },
   "id": "2f69f702bccd3cb0"
  },
  {
   "cell_type": "code",
   "execution_count": 26,
   "outputs": [
    {
     "data": {
      "text/plain": "<Figure size 640x480 with 1 Axes>",
      "image/png": "[encoded data removed]"
     },
     "metadata": {},
     "output_type": "display_data"
    }
   ],
   "source": [
    "import networkx as nx\n",
    "import matplotlib.pyplot as plt\n",
    "\n",
    "# Create a graph\n",
    "G = nx.Graph()\n",
    "\n",
    "# Add nodes\n",
    "G.add_node('A')\n",
    "G.add_node('B')\n",
    "G.add_node('C')\n",
    "\n",
    "# Add edges\n",
    "G.add_edge('A', 'B')\n",
    "G.add_edge('A', 'C')\n",
    "\n",
    "# Manually set positions\n",
    "pos = {'A': (0, 0), 'B': (1, 1), 'C': (-1, 1)}\n",
    "\n",
    "# Draw the graph using the manually set positions\n",
    "nx.draw(G, pos, with_labels=True, node_color='skyblue', node_size=700)\n",
    "\n",
    "plt.show()\n"
   ],
   "metadata": {
    "collapsed": false,
    "ExecuteTime": {
     "end_time": "2024-02-29T01:16:03.339858700Z",
     "start_time": "2024-02-29T01:16:03.212708800Z"
    }
   },
   "id": "8c5a7bf2b3396ccb"
  },
  {
   "cell_type": "code",
   "execution_count": 27,
   "outputs": [
    {
     "data": {
      "text/plain": "<Figure size 640x480 with 1 Axes>",
      "image/png": "[encoded data removed]"
     },
     "metadata": {},
     "output_type": "display_data"
    }
   ],
   "source": [
    "# Adjust position of node 'C'\n",
    "pos['C'] = (-1, 2)\n",
    "\n",
    "# Redraw the graph with updated positions\n",
    "nx.draw(G, pos, with_labels=True, node_color='lightgreen', node_size=700)\n",
    "\n",
    "plt.show()\n"
   ],
   "metadata": {
    "collapsed": false,
    "ExecuteTime": {
     "end_time": "2024-02-29T01:16:04.727890300Z",
     "start_time": "2024-02-29T01:16:04.595006300Z"
    }
   },
   "id": "503cf061c074e715"
  },
  {
   "cell_type": "code",
   "execution_count": 28,
   "outputs": [
    {
     "data": {
      "text/plain": "<Figure size 640x480 with 1 Axes>",
      "image/png": "[encoded data removed]"
     },
     "metadata": {},
     "output_type": "display_data"
    }
   ],
   "source": [
    "# Use a spring layout to automatically position nodes\n",
    "pos = nx.spring_layout(G)\n",
    "\n",
    "# Maybe adjust positions after automatic layout\n",
    "pos['A'] = (0.5, 0.5)  # Example adjustment\n",
    "\n",
    "# Draw with the layout\n",
    "nx.draw(G, pos, with_labels=True, node_color='salmon', node_size=700)\n",
    "\n",
    "plt.show()\n"
   ],
   "metadata": {
    "collapsed": false,
    "ExecuteTime": {
     "end_time": "2024-02-29T01:16:05.948619500Z",
     "start_time": "2024-02-29T01:16:05.837772600Z"
    }
   },
   "id": "d03cb211894b4c72"
  },
  {
   "cell_type": "code",
   "execution_count": 29,
   "outputs": [
    {
     "data": {
      "text/plain": "<Figure size 640x480 with 1 Axes>",
      "image/png": "[encoded data removed]"
     },
     "metadata": {},
     "output_type": "display_data"
    },
    {
     "data": {
      "text/plain": "<Figure size 640x480 with 1 Axes>",
      "image/png": "[encoded data removed]"
     },
     "metadata": {},
     "output_type": "display_data"
    }
   ],
   "source": [
    "import networkx as nx\n",
    "import matplotlib.pyplot as plt\n",
    "\n",
    "G = nx.Graph()\n",
    "G.add_edges_from([('A', 'B'), ('B', 'C'), ('C', 'D'), ('D', 'A')])\n",
    "\n",
    "# 기본 레이아웃 생성\n",
    "pos = nx.spring_layout(G)\n",
    "nx.draw(G, pos, with_labels=True)\n",
    "plt.show()\n",
    "\n",
    "# 'A' 노드를 가장 왼쪽에 배치\n",
    "min_x = min([p[0] for p in pos.values()])\n",
    "pos['A'] = (min_x - 0.1, pos['A'][1])  # x 좌표를 가장 작은 값보다 작게 조정\n",
    "\n",
    "nx.draw(G, pos, with_labels=True)\n",
    "plt.show()\n"
   ],
   "metadata": {
    "collapsed": false,
    "ExecuteTime": {
     "end_time": "2024-02-29T01:16:07.247279400Z",
     "start_time": "2024-02-29T01:16:06.935967100Z"
    }
   },
   "id": "4a222955cc219640"
  },
  {
   "cell_type": "code",
   "execution_count": 22,
   "outputs": [
    {
     "name": "stdout",
     "output_type": "stream",
     "text": [
      "[0, 1, 1, 0]\n",
      "[0, 0, 0, 1]\n"
     ]
    }
   ],
   "source": [
    "def convert_to_2d_array(coordinates):\n",
    "    max_x = max(coord[0] for coord in coordinates) + 1\n",
    "    max_y = max(coord[1] for coord in coordinates) + 1\n",
    "\n",
    "    two_d_array = [[0] * max_y for _ in range(max_x)]\n",
    "\n",
    "    for x, y in coordinates:\n",
    "        two_d_array[x][y] = 1\n",
    "\n",
    "    return two_d_array\n",
    "\n",
    "# Example usage:\n",
    "coordinates = [(0, 1), (0, 2), (1, 3)]\n",
    "result = convert_to_2d_array(coordinates)\n",
    "\n",
    "# Print the result\n",
    "for row in result:\n",
    "    print(row)\n"
   ],
   "metadata": {
    "collapsed": false,
    "ExecuteTime": {
     "end_time": "2024-03-06T07:47:12.150308900Z",
     "start_time": "2024-03-06T07:47:12.117718200Z"
    }
   },
   "id": "82ee4c587878a420"
  },
  {
   "cell_type": "code",
   "execution_count": 24,
   "outputs": [
    {
     "name": "stdout",
     "output_type": "stream",
     "text": [
      "[(0, 1), (3, 2)]\n"
     ]
    }
   ],
   "source": [
    "def convert_to_coordinates(two_d_array):\n",
    "    coordinates = []\n",
    "\n",
    "    for x, row in enumerate(two_d_array):\n",
    "        for y, value in enumerate(row):\n",
    "            if value == 1:\n",
    "                coordinates.append((x, y))\n",
    "\n",
    "    return coordinates\n",
    "\n",
    "# Example usage:\n",
    "input_2d_array = [\n",
    "    [0, 1, 0],\n",
    "    [0, 0, 0],\n",
    "    [0, 0, 0],\n",
    "    [0, 0, 1]\n",
    "]\n",
    "\n",
    "result_coordinates = convert_to_coordinates(input_2d_array)\n",
    "\n",
    "# Print the result\n",
    "print(result_coordinates)\n"
   ],
   "metadata": {
    "collapsed": false,
    "ExecuteTime": {
     "end_time": "2024-03-06T07:52:59.436899200Z",
     "start_time": "2024-03-06T07:52:59.360359300Z"
    }
   },
   "id": "aaf7d63d406df060"
  },
  {
   "cell_type": "code",
   "execution_count": 26,
   "outputs": [
    {
     "name": "stdout",
     "output_type": "stream",
     "text": [
      "Unique numbers in the 2D array: 9\n"
     ]
    }
   ],
   "source": [
    "def unique_elements_2d_array(arr_2d):\n",
    "    unique_elements = set()\n",
    "\n",
    "    for row in arr_2d:\n",
    "        for element in row:\n",
    "            unique_elements.add(element)\n",
    "\n",
    "    return len(list(unique_elements))\n",
    "\n",
    "# Example usage:\n",
    "example_2d_array = [\n",
    "    [1, 2, 3],\n",
    "    [4, 5, 6],\n",
    "    [1, 2, 3],\n",
    "    [7, 8, 9]\n",
    "]\n",
    "\n",
    "unique_numbers = unique_elements_2d_array(example_2d_array)\n",
    "\n",
    "print(\"Unique numbers in the 2D array:\",len( unique_numbers))\n"
   ],
   "metadata": {
    "collapsed": false,
    "ExecuteTime": {
     "end_time": "2024-03-06T09:24:15.862291Z",
     "start_time": "2024-03-06T09:24:15.765989200Z"
    }
   },
   "id": "c92e9435125578e4"
  },
  {
   "cell_type": "code",
   "execution_count": 37,
   "outputs": [
    {
     "data": {
      "text/plain": "<Figure size 640x480 with 2 Axes>",
      "image/png": "[encoded data removed]"
     },
     "metadata": {},
     "output_type": "display_data"
    }
   ],
   "source": [
    "import numpy as np\n",
    "import matplotlib.pyplot as plt\n",
    "\n",
    "def draw_colored_grid(grid):\n",
    "    rows, cols = len(grid), len(grid[0])\n",
    "\n",
    "    # Create a NumPy array for plotting\n",
    "    plot_array = np.array(grid)\n",
    "\n",
    "    # Create a colormap where positive numbers have distinct colors\n",
    "    cmap = plt.get_cmap('viridis', np.max(grid) + 1)\n",
    "\n",
    "    # Set the color of cells with negative numbers to white\n",
    "    plot_array[plot_array < 0] = -1\n",
    "\n",
    "    # Plot the colored grid\n",
    "    plt.imshow(plot_array, cmap=cmap, interpolation='none', origin='upper', extent=[0, cols, 0, rows])\n",
    "\n",
    "    # Display grid lines\n",
    "    plt.grid(which='both', color='black', linestyle='-', linewidth=1)\n",
    "\n",
    "    # Display the colorbar\n",
    "    cbar = plt.colorbar(ticks=range(np.max(grid) + 1))\n",
    "    cbar.set_label('Values')\n",
    "    plt.savefig('colored_grid.png')\n",
    "    # Show the plot\n",
    "    plt.show()\n",
    "\n",
    "# Example usage with your provided grid\n",
    "grid = [\n",
    "    [2, 2, 2, -1, -1],\n",
    "    [2, 5, 5, -1, -1],\n",
    "    [5, 5, 5, -1, -1],\n",
    "    [3, 3, 3, 3, 1],\n",
    "    [4, 4, 4, 4, 1]\n",
    "]\n",
    "\n",
    "draw_colored_grid(grid)\n"
   ],
   "metadata": {
    "collapsed": false,
    "ExecuteTime": {
     "end_time": "2024-03-07T07:04:18.701364700Z",
     "start_time": "2024-03-07T07:04:18.228553500Z"
    }
   },
   "id": "33a5fedf9a2c67c0"
  },
  {
   "cell_type": "code",
   "execution_count": 46,
   "outputs": [
    {
     "data": {
      "text/plain": "<Figure size 640x480 with 2 Axes>",
      "image/png": "[encoded data removed]"
     },
     "metadata": {},
     "output_type": "display_data"
    }
   ],
   "source": [
    "import numpy as np\n",
    "import matplotlib.pyplot as plt\n",
    "from matplotlib.colors import ListedColormap\n",
    "\n",
    "def draw_colored_grid(grid):\n",
    "    rows, cols = len(grid), len(grid[0])\n",
    "\n",
    "    # Create a NumPy array for plotting\n",
    "    plot_array = np.array(grid)\n",
    "\n",
    "    # Get unique positive values in the grid\n",
    "    unique_values = sorted(set(plot_array[plot_array >= 0].flatten()))\n",
    "\n",
    "    # Create a colormap with a unique color for each positive value\n",
    "    cmap = ListedColormap(plt.cm.viridis(np.linspace(0, 1, len(unique_values))), name='custom_cmap')\n",
    "\n",
    "    # Plot the colored grid\n",
    "    plt.imshow(plot_array, cmap=cmap, interpolation='none', origin='upper', extent=[0, cols, 0, rows])\n",
    "\n",
    "    # Display grid lines\n",
    "    plt.grid(which='both', color='black', linestyle='-', linewidth=1)\n",
    "\n",
    "    # Display the colorbar\n",
    "    cbar = plt.colorbar(ticks=unique_values, extend='min')\n",
    "    cbar.set_label('Values')\n",
    "\n",
    "    # Show the plot\n",
    "    plt.show()\n",
    "\n",
    "# Example usage with your provided grid\n",
    "grid = [\n",
    "    [2, 2, 2, -1, -1],\n",
    "    [2, 5, 5, -1, -1],\n",
    "    [5, 5, 5, -1, -1],\n",
    "    [3, 3, 3, 3, 1],\n",
    "    [4, 4, 4, 4, 1]\n",
    "]\n",
    "\n",
    "draw_colored_grid(grid)\n"
   ],
   "metadata": {
    "collapsed": false,
    "ExecuteTime": {
     "end_time": "2024-03-07T07:11:28.210000300Z",
     "start_time": "2024-03-07T07:11:28.013920800Z"
    }
   },
   "id": "67e70241707a3352"
  },
  {
   "cell_type": "markdown",
   "source": [
    "# Working Modules \n",
    "## TODO: ReFactoring using following module"
   ],
   "metadata": {
    "collapsed": false
   },
   "id": "a7d2b14291139c19"
  },
  {
   "cell_type": "code",
   "execution_count": 36,
   "outputs": [
    {
     "name": "stdout",
     "output_type": "stream",
     "text": [
      "Available modules:\n",
      "1. exe_draw_grid\n",
      "2. exe_get_color_coordinates\n",
      "3. exe_build_graph\n",
      "4. exe_add_boundary\n",
      "[[-2, -2, -2, -2, -2, -2, -2], [-5, 2, 2, 2, -1, -1, -4], [-5, 4, 1, 1, -1, -1, -4], [-5, 4, 1, 3, -1, -1, -4], [-5, 4, 4, 3, 3, 3, -4], [-5, 4, 4, 3, 3, 3, -4], [-3, -3, -3, -3, -3, -3, -3]]\n",
      "-2: {2, -5, -4, -1}\n",
      "-5: {2, 4, -3, -2}\n",
      "2: {1, 4, -1, -5, -2}\n",
      "-1: {1, 2, 3, -4, -2}\n",
      "-4: {3, -3, -2, -1}\n",
      "4: {1, 2, 3, -5, -3}\n",
      "1: {2, 3, 4, -1}\n",
      "3: {1, 4, -4, -3, -1}\n",
      "-3: {3, -5, 4, -4}\n",
      "Graph with 9 nodes and 20 edges\n"
     ]
    },
    {
     "data": {
      "text/plain": "<Figure size 640x480 with 1 Axes>",
      "image/png": "[encoded data removed]"
     },
     "metadata": {},
     "output_type": "display_data"
    }
   ],
   "source": [
    "from PIL import Image, ImageDraw\n",
    "def draw_grid_reversed(grid, savepath):\n",
    "    # 이미지 객체 생성\n",
    "    im = Image.new('RGB', (150, 150), (255, 255, 255))\n",
    "    draw = ImageDraw.Draw(im)\n",
    "\n",
    "    # s 내의 각 좌표에 사각형 그리기\n",
    "    for x, y in grid:\n",
    "        # x, y 좌표에 따라 사각형 그리기 위치 계산\n",
    "        rect_start_x = x * 20 + 10\n",
    "        rect_start_y = y * 20 + 10\n",
    "        rect_end_x = (x + 1) * 20 + 10\n",
    "        rect_end_y = (y + 1) * 20 + 10\n",
    "        draw.rectangle([rect_start_x, rect_start_y, rect_end_x, rect_end_y],\n",
    "                       fill=(192, 192, 192), outline=None, width=0)\n",
    "        # x, y 좌표에 따라 텍스트 위치 계산 및 텍스트 추가\n",
    "        text_position_x = rect_start_x + 5\n",
    "        text_position_y = rect_start_y + 5\n",
    "        draw.text((text_position_x, text_position_y), f\"{x}{y}\", fill=(0, 0, 0))\n",
    "\n",
    "    # 이미지 보기\n",
    "    im.show()\n",
    "\n",
    "    # 이미지 파일로 저장\n",
    "    im.save(savepath)\n",
    "\n",
    "def draw_grid(coords, outfile):\n",
    "    \"\"\"\n",
    "    주어진 좌표 리스트를 사용하여 사각형과 좌표 텍스트를 그린 이미지를 생성하고 저장하는 함수.\n",
    "    parameters:\n",
    "    coords (list of tuples):그리기를 원하는 좌표의 리스트. 각 튜플은 (행, 열) 형식.\n",
    "    outfile (str): 생성된 이미지를 저장할 파일 이름.\n",
    "    \"\"\"\n",
    "    # 이미지 객체 생성\n",
    "    im = Image.new('RGB', (150, 150), (255, 255, 255))\n",
    "    draw = ImageDraw.Draw(im)\n",
    "\n",
    "    # s 내의 각 좌표에 사각형 그리기 (첫 번째 원소를 행으로, 두 번째 원소를 열로)\n",
    "    for row, col in coords:\n",
    "        # row, col 좌표에 따라 사각형 그리기 위치 계산\n",
    "        rect_start_x = col * 20 + 10\n",
    "        rect_start_y = row * 20 + 10\n",
    "        rect_end_x = (col + 1) * 20 + 10\n",
    "        rect_end_y = (row + 1) * 20 + 10\n",
    "        draw.rectangle([rect_start_x, rect_start_y, rect_end_x, rect_end_y],\n",
    "                       fill=(192, 192, 192), outline=None, width=0)\n",
    "        # row, col 좌표에 따라 텍스트 위치 계산 및 텍스트 추가\n",
    "        text_position_x = rect_start_x + 5\n",
    "        text_position_y = rect_start_y + 5\n",
    "        draw.text((text_position_x, text_position_y), f\"{row}{col}\", fill=(0, 0, 0))\n",
    "\n",
    "    # 이미지 보기\n",
    "    im.show()\n",
    "\n",
    "    # 이미지 파일로 저장\n",
    "    im.save(outfile)\n",
    "\n",
    "\n",
    "def exe_draw_grid():\n",
    "\n",
    "    savepath_reversed = 'output_reversed.png'\n",
    "    savepath = 'output.png'\n",
    "    grid = [\n",
    "        (0, 0), (0, 1), (0, 2), (0, 3),\n",
    "        (1, 0), (1, 1), (1, 2), (1, 3),\n",
    "        (2, 0), (2, 1), (2, 2),\n",
    "        (3, 0), (3, 1), (3, 2),\n",
    "        (4, 2),\n",
    "        (5, 2), (5, 3)\n",
    "    ]\n",
    "    draw_grid_reversed(grid, savepath_reversed)\n",
    "    draw_grid(grid, savepath)\n",
    "\n",
    "####################################################################################\n",
    "\n",
    "def get_color_coordinates(grid):\n",
    "    \"\"\"\n",
    "    그리드에서 각 색상별로 해당 색상의 좌표를 리스트로 반환하는 함수.\n",
    "\n",
    "    Parameters:\n",
    "    grid (list of lists): 2차원 그리드. 각 요소는 색상 값을 나타내는 정수.\n",
    "\n",
    "    Returns:\n",
    "    dict: 각 색상별 좌표 리스트를 포함하는 딕셔너리. 키는 색상 값, 값은 해당 색상의 좌표 리스트.\n",
    "    \"\"\"\n",
    "    color_coordinates = {}  # 색상별 좌표를 저장할 딕셔너리\n",
    "\n",
    "    for row_idx, row in enumerate(grid):\n",
    "        for col_idx, color in enumerate(row):\n",
    "            if color not in color_coordinates:\n",
    "                color_coordinates[color] = []\n",
    "            color_coordinates[color].append((row_idx, col_idx))\n",
    "\n",
    "    return color_coordinates\n",
    "\n",
    "\n",
    "\n",
    "def get_color_at(grid, row, col):\n",
    "    \"\"\"\n",
    "\n",
    "    :param grid : list of lists consists of row,col. int element represent color\n",
    "    :param row:  int\n",
    "    :param col: int\n",
    "    :return:  color value of element (row,col) of grid\n",
    "    \"\"\"\n",
    "    if row < len(grid) and row >=0 and col >=0 and col < len(grid[0]):\n",
    "        return grid[row][col]\n",
    "    else:\n",
    "        return None\n",
    "\n",
    "def exe_get_color_coordinates():\n",
    "    grid = [\n",
    "        [2, 2, 2, -1, -1],\n",
    "        [4, 1, 1, -1, -1],\n",
    "        [4, 1, 3, -1, -1],\n",
    "        [4, 4, 3, 3, 3],\n",
    "        [4, 4, 3, 3, 3]\n",
    "    ]\n",
    "    colors = get_color_coordinates(grid)\n",
    "    color = get_color_at(grid, -1, 3)\n",
    "    print(colors, color)\n",
    "\n",
    "######################################################\n",
    "###########     graph      ###########################\n",
    "######################################################\n",
    "def build_graph_from_grid(grid, include_outside = True):\n",
    "    nrows, ncols = len(grid), len(grid[0])\n",
    "    graph = {}\n",
    "\n",
    "    # 인접 셀을 확인하기 위한 방향 벡터\n",
    "    directions = [(-1, 0), (1, 0), (0, -1), (0, 1)]\n",
    "\n",
    "    if not include_outside:\n",
    "        for r in range(nrows)[1:nrows-1]:\n",
    "            for c in range(ncols)[1:ncols-1]:\n",
    "                color = grid[r][c]\n",
    "                if color not in graph and color > 0:\n",
    "                    graph[color] = set()\n",
    "    \n",
    "                # 현재 셀의 색상과 인접한 다른 색상들 찾기\n",
    "                for dr, dc in directions:\n",
    "                    nr, nc = r + dr, c + dc\n",
    "                    if 0 <= nr < nrows and 0 <= nc < ncols:\n",
    "                        neighbor_color = grid[nr][nc]\n",
    "                        if include_outside:\n",
    "                            if neighbor_color > 0 and neighbor_color != color :\n",
    "                                graph[color].add(neighbor_color)\n",
    "                        else:\n",
    "                            if color < 0 or neighbor_color < 0:\n",
    "                                break\n",
    "                            elif neighbor_color != color:\n",
    "                                graph[color].add(neighbor_color)\n",
    "        return graph                        \n",
    "                        \n",
    "\n",
    "    for r in range(nrows):\n",
    "        for c in range(ncols):\n",
    "            color = grid[r][c]\n",
    "            if color not in graph:\n",
    "                graph[color] = set()\n",
    "\n",
    "            # 현재 셀의 색상과 인접한 다른 색상들 찾기\n",
    "            for dr, dc in directions:\n",
    "                nr, nc = r + dr, c + dc\n",
    "                if 0 <= nr < nrows and 0 <= nc < ncols:\n",
    "                    neighbor_color = grid[nr][nc]\n",
    "                    if neighbor_color != color:\n",
    "                        graph[color].add(neighbor_color)\n",
    "    return graph\n",
    "\n",
    "import networkx as nx\n",
    "import matplotlib.pyplot as plt\n",
    "def draw_weighted_graph(graph):\n",
    "    pos = nx.spring_layout(graph)\n",
    "    node_sizes=[1000*graph.nodes[node]['weight'] for node in graph.nodes]\n",
    "    nx.draw(graph, pos, with_labels=True, node_size=node_sizes, node_color='skyblue', edge_color='gray')\n",
    "    node_labels = nx.get_node_attributes(graph, 'weight')\n",
    "    nx.draw_networkx_labels(graph, pos, labels=node_labels)\n",
    "    \n",
    "    \n",
    "def draw_graph(graph):\n",
    "    \"\"\"\n",
    "    주어진 그래프 정보를 바탕으로 그래프를 시각화.\n",
    "\n",
    "    Parameters:\n",
    "    graph (dict): 노드와 에지를 포함하는 그래프 정보. 각 키는 노드(색상)이며,\n",
    "                  값은 해당 노드에 인접한 노드(색상)의 집합입니다.\n",
    "    \"\"\"\n",
    "    G = nx.Graph()\n",
    "\n",
    "    # 그래프 구성: 노드와 에지 추가\n",
    "    for node, edges in graph.items():\n",
    "        G.add_node(node)\n",
    "        for edge in edges:\n",
    "            G.add_edge(node, edge)\n",
    "    print(G)\n",
    "    # 노드 위치 결정\n",
    "    pos = nx.spring_layout(G)\n",
    "\n",
    "    # 그래프 드로잉\n",
    "    nx.draw(G, pos, with_labels=True, node_color='lightblue', edge_color='gray', node_size=700, font_size=10, font_weight='bold')\n",
    "\n",
    "    # 표시\n",
    "    plt.show()\n",
    "\n",
    "\n",
    "\n",
    "def exe_build_graph():\n",
    "    grid = [\n",
    "        [2, 2, 2, -1, -1],\n",
    "        [4, 1, 1, -1, -1],\n",
    "        [4, 1, 3, -1, -1],\n",
    "        [4, 4, 3, 3, 3],\n",
    "        [4, 4, 3, 3, 3]\n",
    "    ]\n",
    "    grid = [[-2, -2, -2, -2, -2, -2, -2],\n",
    "                [-5,  2,  2,  2, -1, -1, -4],\n",
    "                [-5,  4,  1,  1, -1, -1, -4],\n",
    "                [-5,  4,  1,  3, -1, -1, -4],\n",
    "                [-5,  4,  4,  3,  3,  3, -4],\n",
    "                [-5,  4,  4,  3,  3,  3, -4],\n",
    "                [-3, -3, -3, -3, -3, -3, -3]]\n",
    "    # 그래프 구성\n",
    "    graph = build_graph_from_grid(grid)\n",
    "\n",
    "    # 그래프 출력\n",
    "    for node, edges in graph.items():\n",
    "        print(f\"{node} : {edges}\")\n",
    "\n",
    "    # 앞서 생성한 그래프를 사용하여 드로잉\n",
    "    draw_graph_with_boundary(graph)\n",
    "\n",
    "def add_boundary(grid):\n",
    "    rows, cols = len(grid), len(grid[0])\n",
    "\n",
    "    # 새로운 grid의 크기를 기존보다 각각 2만큼 더 크게 설정.\n",
    "    # 이렇게 하면 상하좌우에 한 칸씩 여유 공간이 생\n",
    "    new_grid = [[-1] * (cols + 2) for _ in range(rows + 2)]\n",
    "\n",
    "    # 기존 grid의 값을 새로운 grid에 복사.\n",
    "    # 이때, 새로운 grid에서는 한 칸씩 내부로 이동하여 값을 설정.\n",
    "    for r in range(rows):\n",
    "        for c in range(cols):\n",
    "            new_grid[r + 1][c + 1] = grid[r][c]\n",
    "\n",
    "    return new_grid\n",
    "\n",
    "\n",
    "def add_custom_boundary(grid):\n",
    "    \"\"\"\n",
    "    동서남북 각 경계에 외부 공간을 추가하고 각기 다른 값을 할당\n",
    "    북쪽 경계: -2 값 할당\n",
    "    남쪽 경계: -3 값 할당\n",
    "    동쪽 경계: -4 값 할당\n",
    "    서쪽 경계: -5 값 할당\n",
    "    기존 grid의 각 셀은 새로운 grid에서 한 칸씩 내부로 이동하여 값 유지\n",
    "    :param grid: 입력 list of cell coord(row,col)\n",
    "    :return:new_grid\n",
    "    \"\"\"\n",
    "    rows, cols = len(grid), len(grid[0])\n",
    "\n",
    "    # 새로운 grid의 크기를 기존보다 각각 2만큼 더 크게 설정하고,\n",
    "    # 북쪽(-2)과 남쪽(-3) 경계를 설정합니다.\n",
    "    new_grid = [[-2] * (cols + 2) if r == 0 or r == rows + 1 else [-1] * (cols + 2) for r in range(rows + 2)]\n",
    "\n",
    "    # 동쪽(-4)과 서쪽(-5) 경계를 설정합니다.\n",
    "    for r in range(1, rows + 1):\n",
    "        new_grid[r][0] = -5  # 서쪽\n",
    "        new_grid[r][cols + 1] = -4  # 동쪽\n",
    "\n",
    "    # 남쪽 경계를 -3으로 설정합니다.\n",
    "    new_grid[rows + 1] = [-3] * (cols + 2)\n",
    "\n",
    "    # 기존 grid의 값을 새로운 grid에 복사합니다.\n",
    "    for r in range(rows):\n",
    "        for c in range(cols):\n",
    "            new_grid[r + 1][c + 1] = grid[r][c]\n",
    "\n",
    "    return new_grid\n",
    "\n",
    "def print_graph(graph):\n",
    "    # 그래프 출력\n",
    "    for node, edges in graph.items():\n",
    "        print(f\"{node}: {edges}\")\n",
    "        \n",
    "def exe_add_boundary():\n",
    "    grid = [\n",
    "        [2, 2, 2, -1, -1],\n",
    "        [4, 1, 1, -1, -1],\n",
    "        [4, 1, 3, -1, -1],\n",
    "        [4, 4, 3, 3, 3],\n",
    "        [4, 4, 3, 3, 3]\n",
    "    ]\n",
    "    new_grid = [[-2, -2, -2, -2, -2, -2, -2],\n",
    "                [-5,  2,  2,  2, -1, -1, -4],\n",
    "                [-5,  4,  1,  1, -1, -1, -4],\n",
    "                [-5,  4,  1,  3, -1, -1, -4],\n",
    "                [-5,  4,  4,  3,  3,  3, -4],\n",
    "                [-5,  4,  4,  3,  3,  3, -4],\n",
    "                [-3, -3, -3, -3, -3, -3, -3]]\n",
    "#    new_grid = add_boundary(grid)\n",
    "#    print(new_grid)\n",
    "#    graph = build_graph_from_grid(new_grid)\n",
    "#    draw_graph(graph)\n",
    "\n",
    "    new_grid = add_custom_boundary(grid)\n",
    "    print(new_grid)\n",
    "    graph = build_graph_from_grid(new_grid, include_outside=True)\n",
    "    print_graph(graph)\n",
    "    draw_graph(graph)\n",
    "\n",
    "\n",
    "\n",
    "# 사용자 입력에 따라 모듈을 실행하는 메인 함수\n",
    "def main():\n",
    "    # 사용 가능한 모듈 이름 나열\n",
    "    modules = {\n",
    "        \"1\": exe_draw_grid,\n",
    "        \"2\": exe_get_color_coordinates,\n",
    "        \"3\": exe_build_graph, # full graph including outside cells\n",
    "        \"4\": exe_add_boundary\n",
    "    }\n",
    "\n",
    "    # 사용자에게 모듈 선택을 안내\n",
    "    print(\"Available modules:\")\n",
    "    for key, name in modules.items():\n",
    "        print(f\"{key}. {name.__name__}\")\n",
    "\n",
    "    # 사용자 입력 받기\n",
    "    choice = input(\"Enter the number of the module to run: \")\n",
    "\n",
    "    # 선택된 모듈 실행\n",
    "    if choice in modules:\n",
    "        modules[choice]()\n",
    "    else:\n",
    "        print(\"Invalid module number.\")\n",
    "\n",
    "\n",
    "\n",
    "if __name__ == '__main__':\n",
    "    main()\n"
   ],
   "metadata": {
    "collapsed": false,
    "ExecuteTime": {
     "end_time": "2024-02-29T01:19:02.043890500Z",
     "start_time": "2024-02-29T01:18:59.851201300Z"
    }
   },
   "id": "5fffc8c8e7646d5f"
  },
  {
   "cell_type": "code",
   "execution_count": 37,
   "outputs": [
    {
     "name": "stdout",
     "output_type": "stream",
     "text": [
      "2 : {1, 4, -1, -5, -2}\n",
      "4 : {1, 2, 3, -5, -3}\n",
      "1 : {2, 3, 4, -1}\n",
      "3 : {1, 4, -4, -3, -1}\n",
      "Graph with 9 nodes and 14 edges\n"
     ]
    },
    {
     "data": {
      "text/plain": "<Figure size 640x480 with 1 Axes>",
      "image/png": "[encoded data removed]"
     },
     "metadata": {},
     "output_type": "display_data"
    }
   ],
   "source": [
    " def build_graph_from_grid(grid):\n",
    "    nrows, ncols = len(grid), len(grid[0])\n",
    "    graph = {}\n",
    "\n",
    "    # 인접 셀을 확인하기 위한 방향 벡터\n",
    "    directions = [(-1, 0), (1, 0), (0, -1), (0, 1)]\n",
    "\n",
    "    for r in range(nrows):\n",
    "        for c in range(ncols):\n",
    "            color = grid[r][c]\n",
    "            if color not in graph:\n",
    "                graph[color] = set()\n",
    "\n",
    "            # 현재 셀의 색상과 인접한 다른 색상들 찾기\n",
    "            for dr, dc in directions:\n",
    "                nr, nc = r + dr, c + dc\n",
    "                if 0 <= nr < nrows and 0 <= nc < ncols:\n",
    "                    neighbor_color = grid[nr][nc]\n",
    "                    if neighbor_color != color:\n",
    "                        graph[color].add(neighbor_color)\n",
    "    return graph\n",
    "\n",
    "\n",
    "def build_graph_inside_only(grid):\n",
    "    nrows, ncols = len(grid), len(grid[0])\n",
    "    graph = {}\n",
    "\n",
    "    # 인접 셀을 확인하기 위한 방향 벡터\n",
    "    directions = [(-1, 0), (1, 0), (0, -1), (0, 1)]\n",
    "\n",
    "    for r in range(nrows)[1:nrows-1]:\n",
    "        for c in range(ncols)[1:ncols-1]:\n",
    "            color = grid[r][c]\n",
    "            if color not in graph and color > 0:\n",
    "                graph[color] = set()\n",
    "\n",
    "            # 현재 셀의 색상과 인접한 다른 색상들 찾기\n",
    "            for dr, dc in directions:\n",
    "                \n",
    "                nr, nc = r + dr, c + dc\n",
    "                if 0 <= nr < nrows and 0 <= nc < ncols:\n",
    "                    neighbor_color = grid[nr][nc]\n",
    "                    if color < 0 or neighbor_color < 0:\n",
    "                        break\n",
    "                    elif neighbor_color != color:\n",
    "                        graph[color].add(neighbor_color)\n",
    "    return graph          \n",
    "\n",
    "def build_graph_not_connect_outside(grid):\n",
    "    nrows, ncols = len(grid), len(grid[0])\n",
    "    graph = {}\n",
    "\n",
    "    # 인접 셀을 확인하기 위한 방향 벡터\n",
    "    directions = [(-1, 0), (1, 0), (0, -1), (0, 1)]\n",
    "\n",
    "    for r in range(nrows)[1:nrows-1]:\n",
    "        for c in range(ncols)[1:ncols-1]:\n",
    "            color = grid[r][c]\n",
    "            if color not in graph and color > 0:\n",
    "                graph[color] = set()\n",
    "\n",
    "            # 현재 셀의 색상과 인접한 다른 색상들 찾기\n",
    "            for dr, dc in directions:\n",
    "                nr, nc = r + dr, c + dc\n",
    "                if 0 <= nr < nrows and 0 <= nc < ncols:\n",
    "                    neighbor_color = grid[nr][nc]\n",
    "                    if color < 0 and neighbor_color < 0:\n",
    "                        break\n",
    "                    elif neighbor_color != color:\n",
    "                        graph[color].add(neighbor_color)\n",
    "    return graph\n",
    "\n",
    "def exe_build_graph():\n",
    "\n",
    "    grid = [[-2, -2, -2, -2, -2, -2, -2],\n",
    "                [-5,  2,  2,  2, -1, -1, -4],\n",
    "                [-5,  4,  1,  1, -1, -1, -4],\n",
    "                [-5,  4,  1,  3, -1, -1, -4],\n",
    "                [-5,  4,  4,  3,  3,  3, -4],\n",
    "                [-5,  4,  4,  3,  3,  3, -4],\n",
    "                [-3, -3, -3, -3, -3, -3, -3]]\n",
    "    # 선택적 그래프 구성 \n",
    "    graph = build_graph_from_grid(grid)\n",
    "    graph = build_graph_inside_only(grid)\n",
    "    graph = build_graph_not_connect_outside(grid)\n",
    "\n",
    "    # 그래프 출력\n",
    "    for node, edges in graph.items():\n",
    "        print(f\"{node} : {edges}\")\n",
    "\n",
    "    # 앞서 생성한 그래프를 사용하여 드로잉\n",
    "    draw_graph_with_boundary(graph)\n",
    "\n",
    "def exe_build_graph_inside_only():\n",
    "    grid = [[-2, -2, -2, -2, -2, -2, -2],\n",
    "            [-5,  2,  2,  2, -1, -1, -4],\n",
    "            [-5,  4,  1,  1, -1, -1, -4],\n",
    "            [-5,  4,  1,  3, -1, -1, -4],\n",
    "            [-5,  4,  4,  3,  3,  3, -4],\n",
    "            [-5,  4,  4,  3,  3,  3, -4],\n",
    "            [-3, -3, -3, -3, -3, -3, -3]]\n",
    "    \n",
    "    print(new_grid)\n",
    "    graph = build_graph_inside_only(grid)\n",
    "    print_graph(graph)\n",
    "    draw_graph(graph)\n",
    "\n",
    "import numpy as np\n",
    "def draw_graph_with_boundary(graph):\n",
    "    \"\"\"\n",
    "    주어진 그래프 정보를 바탕으로 그래프를 시각화\n",
    "    -2:맨 위로\n",
    "    -3:맨 아래쪽\n",
    "    -4:맨 오른쪽\n",
    "    -5:맨 왼쪽\n",
    "\n",
    "    Parameters:\n",
    "    graph (dict): 노드와 에지를 포함하는 그래프 정보. 각 키는 노드(색상)이며,\n",
    "                  값은 해당 노드에 인접한 노드(색상)의 집합입니다.\n",
    "    \"\"\"\n",
    "    G = nx.Graph()\n",
    "\n",
    "    # 그래프 구성: 노드와 에지 추가\n",
    "    for node, edges in graph.items():\n",
    "        G.add_node(node)\n",
    "        for edge in edges:\n",
    "            G.add_edge(node, edge)\n",
    "    print(G)\n",
    "    \n",
    "    # 노드 위치 결정\n",
    "    # outside space: boundary는 맨 가장자리에 위치\n",
    "    pos = nx.spring_layout(G)\n",
    "    pos[-2] = (0, 2)     \n",
    "    pos[-3] = (0, -2)     \n",
    "    pos[-4] = (2, 0)     \n",
    "    pos[-5] = (-2, 0)    \n",
    "        \n",
    "    pos.update(nx.spring_layout(G, pos=pos, fixed=[-2,-3,-4,-4]))\n",
    "    \n",
    "    # 그래프 드로잉\n",
    "    nx.draw(G, pos, with_labels=True, node_color='lightblue', edge_color='gray', node_size=700, font_size=10, font_weight='bold')\n",
    "\n",
    "    # 표시\n",
    "    plt.show()\n",
    "    \n",
    "exe_build_graph()"
   ],
   "metadata": {
    "collapsed": false,
    "ExecuteTime": {
     "end_time": "2024-02-29T02:00:03.309632200Z",
     "start_time": "2024-02-29T02:00:03.120255600Z"
    }
   },
   "id": "d0219277522302d"
  },
  {
   "cell_type": "code",
   "execution_count": 1,
   "outputs": [
    {
     "ename": "NameError",
     "evalue": "name 'exe_draw_grid' is not defined",
     "output_type": "error",
     "traceback": [
      "\u001B[1;31m---------------------------------------------------------------------------\u001B[0m",
      "\u001B[1;31mNameError\u001B[0m                                 Traceback (most recent call last)",
      "Cell \u001B[1;32mIn[1], line 29\u001B[0m\n\u001B[0;32m     23\u001B[0m         \u001B[38;5;28mprint\u001B[39m(\u001B[38;5;124m\"\u001B[39m\u001B[38;5;124mInvalid module number.\u001B[39m\u001B[38;5;124m\"\u001B[39m)\n\u001B[0;32m     27\u001B[0m \u001B[38;5;28;01mif\u001B[39;00m \u001B[38;5;18m__name__\u001B[39m \u001B[38;5;241m==\u001B[39m \u001B[38;5;124m'\u001B[39m\u001B[38;5;124m__main__\u001B[39m\u001B[38;5;124m'\u001B[39m:\n\u001B[1;32m---> 29\u001B[0m     \u001B[43mmain\u001B[49m\u001B[43m(\u001B[49m\u001B[43m)\u001B[49m\n",
      "Cell \u001B[1;32mIn[1], line 4\u001B[0m, in \u001B[0;36mmain\u001B[1;34m()\u001B[0m\n\u001B[0;32m      1\u001B[0m \u001B[38;5;28;01mdef\u001B[39;00m \u001B[38;5;21mmain\u001B[39m():\n\u001B[0;32m      2\u001B[0m     \u001B[38;5;66;03m# 사용 가능한 모듈 이름 나열\u001B[39;00m\n\u001B[0;32m      3\u001B[0m     modules \u001B[38;5;241m=\u001B[39m {\n\u001B[1;32m----> 4\u001B[0m         \u001B[38;5;124m\"\u001B[39m\u001B[38;5;124m1\u001B[39m\u001B[38;5;124m\"\u001B[39m: \u001B[43mexe_draw_grid\u001B[49m,\n\u001B[0;32m      5\u001B[0m         \u001B[38;5;124m\"\u001B[39m\u001B[38;5;124m2\u001B[39m\u001B[38;5;124m\"\u001B[39m: exe_get_color_coordinates,\n\u001B[0;32m      6\u001B[0m         \u001B[38;5;124m\"\u001B[39m\u001B[38;5;124m3\u001B[39m\u001B[38;5;124m\"\u001B[39m: exe_build_graph,\n\u001B[0;32m      7\u001B[0m         \u001B[38;5;124m\"\u001B[39m\u001B[38;5;124m4\u001B[39m\u001B[38;5;124m\"\u001B[39m: exe_build_graph_inside_only,\n\u001B[0;32m      8\u001B[0m         \u001B[38;5;124m\"\u001B[39m\u001B[38;5;124m5\u001B[39m\u001B[38;5;124m\"\u001B[39m: exe_add_boundary\n\u001B[0;32m      9\u001B[0m     }\n\u001B[0;32m     11\u001B[0m     \u001B[38;5;66;03m# 사용자에게 모듈 선택을 안내\u001B[39;00m\n\u001B[0;32m     12\u001B[0m     \u001B[38;5;28mprint\u001B[39m(\u001B[38;5;124m\"\u001B[39m\u001B[38;5;124mAvailable modules:\u001B[39m\u001B[38;5;124m\"\u001B[39m)\n",
      "\u001B[1;31mNameError\u001B[0m: name 'exe_draw_grid' is not defined"
     ]
    }
   ],
   "source": [
    "def main():\n",
    "    # 사용 가능한 모듈 이름 나열\n",
    "    modules = {\n",
    "        \"1\": exe_draw_grid,\n",
    "        \"2\": exe_get_color_coordinates,\n",
    "        \"3\": exe_build_graph,\n",
    "        \"4\": exe_build_graph_inside_only,\n",
    "        \"5\": exe_add_boundary\n",
    "    }\n",
    "\n",
    "    # 사용자에게 모듈 선택을 안내\n",
    "    print(\"Available modules:\")\n",
    "    for key, name in modules.items():\n",
    "        print(f\"{key}. {name.__name__}\")\n",
    "\n",
    "    # 사용자 입력 받기\n",
    "    choice = input(\"Enter the number of the module to run: \")\n",
    "\n",
    "    # 선택된 모듈 실행\n",
    "    if choice in modules:\n",
    "        modules[choice]()\n",
    "    else:\n",
    "        print(\"Invalid module number.\")\n",
    "\n",
    "          \n",
    "\n",
    "if __name__ == '__main__':\n",
    "\n",
    "    main()"
   ],
   "metadata": {
    "collapsed": false,
    "ExecuteTime": {
     "end_time": "2024-02-29T01:14:22.355159800Z",
     "start_time": "2024-02-29T01:14:21.732033900Z"
    }
   },
   "id": "c2dfb23b46e810e5"
  },
  {
   "cell_type": "code",
   "execution_count": 67,
   "outputs": [
    {
     "data": {
      "text/plain": "<Figure size 640x480 with 1 Axes>",
      "image/png": "[encoded data removed]"
     },
     "metadata": {},
     "output_type": "display_data"
    }
   ],
   "source": [
    "import networkx as nx\n",
    "import matplotlib.pyplot as plt\n",
    "\n",
    "# 그래프 생성 및 노드 추가\n",
    "G = nx.Graph()\n",
    "G.add_nodes_from([\n",
    "    ('A', {'weight': 5}),\n",
    "    ('B', {'weight': 3}),\n",
    "    ('C', {'weight': 4}),\n",
    "    ('D', {'weight': 2})\n",
    "])\n",
    "\n",
    "# 간선 추가\n",
    "G.add_edges_from([('A', 'B'), ('A', 'C'), ('B', 'C'), ('C', 'D')])\n",
    "\n",
    "# 노드 가중치에 따른 크기 조정\n",
    "node_sizes = [1000 * G.nodes[node]['weight'] for node in G.nodes]\n",
    "\n",
    "# 그래프 시각화\n",
    "pos = nx.spring_layout(G)  # 노드 위치 결정\n",
    "nx.draw(G, pos, with_labels=True, node_size=node_sizes, node_color='skyblue', edge_color='gray')\n",
    "\n",
    "plt.show()\n"
   ],
   "metadata": {
    "collapsed": false,
    "ExecuteTime": {
     "end_time": "2024-02-26T14:50:19.157826100Z",
     "start_time": "2024-02-26T14:50:18.968382400Z"
    }
   },
   "id": "4f8d1c8b4ce0035e"
  },
  {
   "cell_type": "code",
   "execution_count": 76,
   "outputs": [
    {
     "data": {
      "text/plain": "<Figure size 640x480 with 1 Axes>",
      "image/png": "[encoded data removed]"
     },
     "metadata": {},
     "output_type": "display_data"
    }
   ],
   "source": [
    "def draw_weighted_graph(graph):\n",
    "    pos = nx.spring_layout(graph)\n",
    "    node_sizes=[1000*graph.nodes[node]['weight'] for node in graph.nodes]\n",
    "    nx.draw(graph, pos, with_labels=True, node_size=node_sizes, node_color='skyblue', edge_color='gray')\n",
    "    node_labels = nx.get_node_attributes(graph, 'weight')\n",
    "    nx.draw_networkx_labels(graph, pos)\n",
    "  \n",
    "\n",
    "def build_weighted_graph_from_grid(grid):\n",
    "    \"\"\"\n",
    "    각 색상 그룹을 노드로 표현하고, 노드의 가중치로 색상별 셀의 개수를 지정\n",
    "    두 색상 그룹이 인접한 경우, 에지 생성\n",
    "    :param grid: two-dimensional array. each element represents colors(plan)\n",
    "    :return: graph as a NetworkX object with weights representing the count of cells per color\n",
    "    \"\"\"\n",
    "    import networkx as nx\n",
    "\n",
    "    nrows, ncols = len(grid), len(grid[0])\n",
    "    graph = nx.Graph()\n",
    "\n",
    "    # 색상별 셀의 개수를 저장하기 위한 딕셔너리\n",
    "    color_counts = {}\n",
    "\n",
    "    # 인접 셀을 확인하기 위한 방향 벡터\n",
    "    directions = [(-1, 0), (1, 0), (0, -1), (0, 1)]\n",
    "\n",
    "    for r in range(nrows):\n",
    "        for c in range(ncols):\n",
    "            color = grid[r][c]\n",
    "            # 색상별 셀의 개수 업데이트\n",
    "            if color in color_counts:\n",
    "                color_counts[color] += 1\n",
    "            else:\n",
    "                color_counts[color] = 1\n",
    "\n",
    "            # 노드가 아직 그래프에 없으면 추가\n",
    "            if not graph.has_node(color):\n",
    "                graph.add_node(color, weight=color_counts[color])\n",
    "            else:\n",
    "                # 노드의 가중치(색상별 셀의 개수) 업데이트\n",
    "                nx.set_node_attributes(graph, {color: {'weight': color_counts[color]}})\n",
    "\n",
    "            # 현재 셀의 색상과 인접한 다른 색상들 찾기\n",
    "            for dr, dc in directions:\n",
    "                nr, nc = r + dr, c + dc\n",
    "                if 0 <= nr < nrows and 0 <= nc < ncols:\n",
    "                    neighbor_color = grid[nr][nc]\n",
    "                    if neighbor_color != color:\n",
    "                        graph.add_edge(color, neighbor_color)\n",
    "\n",
    "    return graph\n",
    "grid = [\n",
    "        [2, 2, 2, -1, -1],\n",
    "        [4, 1, 1, -1, -1],\n",
    "        [4, 1, 3, -1, -1],\n",
    "        [4, 4, 3, 3, 3],\n",
    "        [4, 4, 3, 3, 3]\n",
    "    ]\n",
    "graph = build_weighted_graph_from_grid(grid)\n",
    "draw_weighted_graph(graph)"
   ],
   "metadata": {
    "collapsed": false,
    "ExecuteTime": {
     "end_time": "2024-02-26T15:23:48.737600400Z",
     "start_time": "2024-02-26T15:23:48.597586600Z"
    }
   },
   "id": "30fd5ca02de3fc98"
  },
  {
   "cell_type": "code",
   "execution_count": 74,
   "outputs": [
    {
     "data": {
      "text/plain": "networkx.classes.graph.Graph"
     },
     "execution_count": 74,
     "metadata": {},
     "output_type": "execute_result"
    }
   ],
   "source": [
    "type(graph)"
   ],
   "metadata": {
    "collapsed": false,
    "ExecuteTime": {
     "end_time": "2024-02-26T15:16:48.620511700Z",
     "start_time": "2024-02-26T15:16:48.467097800Z"
    }
   },
   "id": "a8df2cb306fcc073"
  },
  {
   "cell_type": "code",
   "execution_count": 47,
   "outputs": [
    {
     "data": {
      "text/plain": "<Figure size 640x480 with 2 Axes>",
      "image/png": "[encoded data removed]"
     },
     "metadata": {},
     "output_type": "display_data"
    }
   ],
   "source": [
    "import matplotlib.pyplot as plt\n",
    "from matplotlib.colors import ListedColormap\n",
    "\n",
    "# Define a predefined colormap\n",
    "predefined_cmap = plt.cm.jet\n",
    "\n",
    "# Extract the colors from the predefined colormap\n",
    "colors = predefined_cmap(np.linspace(0, 1, predefined_cmap.N))\n",
    "\n",
    "# Modify specific colors (e.g., change the first color to white)\n",
    "colors[0] = [1, 1, 1, 1]  # RGBA value for white\n",
    "\n",
    "# Create a ListedColormap using the modified colors\n",
    "custom_cmap = ListedColormap(colors)\n",
    "\n",
    "# Plot using the custom colormap\n",
    "plt.imshow([[0, 1, 2, 3]], cmap=custom_cmap)\n",
    "plt.colorbar(ticks=[0, 1, 2, 3])\n",
    "plt.show()\n"
   ],
   "metadata": {
    "collapsed": false,
    "ExecuteTime": {
     "end_time": "2024-03-07T10:08:15.026687400Z",
     "start_time": "2024-03-07T10:08:14.754830600Z"
    }
   },
   "id": "74829318bf33bf04"
  },
  {
   "cell_type": "code",
   "execution_count": null,
   "outputs": [],
   "source": [],
   "metadata": {
    "collapsed": false
   },
   "id": "9bd41aa062c9f0c3"
  }
 ],
 "metadata": {
  "kernelspec": {
   "display_name": "Python 3",
   "language": "python",
   "name": "python3"
  },
  "language_info": {
   "codemirror_mode": {
    "name": "ipython",
    "version": 2
   },
   "file_extension": ".py",
   "mimetype": "text/x-python",
   "name": "python",
   "nbconvert_exporter": "python",
   "pygments_lexer": "ipython2",
   "version": "2.7.6"
  }
 },
 "nbformat": 4,
 "nbformat_minor": 5
}
