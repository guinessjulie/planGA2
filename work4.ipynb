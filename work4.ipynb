{
 "cells": [
  {
   "cell_type": "code",
   "execution_count": 24,
   "id": "initial_id",
   "metadata": {
    "collapsed": true,
    "ExecuteTime": {
     "end_time": "2024-07-17T01:42:13.175365500Z",
     "start_time": "2024-07-17T01:42:13.154865800Z"
    }
   },
   "outputs": [
    {
     "name": "stdout",
     "output_type": "stream",
     "text": [
      "(0, 0) diff_ratio=0.5\n",
      "(0, 1) diff_ratio=0.3333333333333333\n",
      "(0, 2) diff_ratio=0.0\n",
      "(0, 3) diff_ratio=0.0\n",
      "(0, 4) diff_ratio=0.6666666666666666\n",
      "(0, 5) diff_ratio=0.3333333333333333\n",
      "(0, 6) diff_ratio=0.0\n",
      "(0, 7) diff_ratio=0.3333333333333333\n",
      "(0, 8) diff_ratio=0.6666666666666666\n",
      "(0, 9) diff_ratio=0.5\n",
      "(1, 0) diff_ratio=0.3333333333333333\n",
      "(1, 1) diff_ratio=0.25\n",
      "(1, 2) diff_ratio=0.0\n",
      "(1, 3) diff_ratio=0.25\n",
      "(1, 4) diff_ratio=0.5\n",
      "(1, 5) diff_ratio=0.0\n",
      "(1, 6) diff_ratio=0.25\n",
      "(1, 7) diff_ratio=0.5\n",
      "(1, 8) diff_ratio=0.25\n",
      "(1, 9) diff_ratio=0.0\n",
      "(2, 0) diff_ratio=0.3333333333333333\n",
      "(2, 1) diff_ratio=0.25\n",
      "(2, 2) diff_ratio=0.0\n",
      "(2, 3) diff_ratio=0.25\n",
      "(2, 4) diff_ratio=0.25\n",
      "(2, 5) diff_ratio=0.0\n",
      "(2, 6) diff_ratio=0.25\n",
      "(2, 7) diff_ratio=0.25\n",
      "(2, 8) diff_ratio=0.0\n",
      "(2, 9) diff_ratio=0.0\n",
      "(2, 10) diff_ratio=0.3333333333333333\n",
      "(2, 11) diff_ratio=0.6666666666666666\n",
      "(2, 12) diff_ratio=0.3333333333333333\n",
      "(2, 13) diff_ratio=0.0\n",
      "(3, 0) diff_ratio=0.3333333333333333\n",
      "(3, 1) diff_ratio=0.25\n",
      "(3, 2) diff_ratio=0.0\n",
      "(3, 3) diff_ratio=0.25\n",
      "(3, 4) diff_ratio=0.25\n",
      "(3, 5) diff_ratio=0.0\n",
      "(3, 6) diff_ratio=0.25\n",
      "(3, 7) diff_ratio=0.25\n",
      "(3, 8) diff_ratio=0.0\n",
      "(3, 9) diff_ratio=0.5\n",
      "(3, 10) diff_ratio=0.5\n",
      "(3, 11) diff_ratio=0.25\n",
      "(3, 12) diff_ratio=0.0\n",
      "(3, 13) diff_ratio=0.0\n",
      "(4, 0) diff_ratio=0.3333333333333333\n",
      "(4, 1) diff_ratio=0.5\n",
      "(4, 2) diff_ratio=0.25\n",
      "(4, 3) diff_ratio=0.25\n",
      "(4, 4) diff_ratio=0.25\n",
      "(4, 5) diff_ratio=0.0\n",
      "(4, 6) diff_ratio=0.25\n",
      "(4, 7) diff_ratio=0.5\n",
      "(4, 8) diff_ratio=0.5\n",
      "(4, 9) diff_ratio=0.5\n",
      "(4, 10) diff_ratio=0.0\n",
      "(4, 11) diff_ratio=0.0\n",
      "(5, 0) diff_ratio=0.0\n",
      "(5, 1) diff_ratio=0.3333333333333333\n",
      "(5, 2) diff_ratio=0.6666666666666666\n",
      "(5, 3) diff_ratio=0.6666666666666666\n",
      "(5, 4) diff_ratio=0.25\n",
      "(5, 5) diff_ratio=0.0\n",
      "(5, 6) diff_ratio=0.5\n",
      "(5, 7) diff_ratio=0.5\n",
      "(5, 8) diff_ratio=0.3333333333333333\n",
      "(5, 9) diff_ratio=0.0\n",
      "(5, 10) diff_ratio=0.0\n",
      "(5, 11) diff_ratio=0.0\n",
      "(6, 4) diff_ratio=0.0\n",
      "(6, 5) diff_ratio=0.5\n",
      "(6, 6) diff_ratio=0.5\n",
      "(6, 7) diff_ratio=0.0\n",
      "(7, 4) diff_ratio=0.5\n",
      "(7, 5) diff_ratio=0.6666666666666666\n",
      "(7, 6) diff_ratio=0.0\n",
      "(7, 7) diff_ratio=0.0\n",
      "diff_ratios=\n",
      "[[0.5 0.3 0.  0.  0.7 0.3 0.  0.3 0.7 0.5 0.  0.  0.  0. ]\n",
      " [0.3 0.2 0.  0.2 0.5 0.  0.2 0.5 0.2 0.  0.  0.  0.  0. ]\n",
      " [0.3 0.2 0.  0.2 0.2 0.  0.2 0.2 0.  0.  0.3 0.7 0.3 0. ]\n",
      " [0.3 0.2 0.  0.2 0.2 0.  0.2 0.2 0.  0.5 0.5 0.2 0.  0. ]\n",
      " [0.3 0.5 0.2 0.2 0.2 0.  0.2 0.5 0.5 0.5 0.  0.  0.  0. ]\n",
      " [0.  0.3 0.7 0.7 0.2 0.  0.5 0.5 0.3 0.  0.  0.  0.  0. ]\n",
      " [0.  0.  0.  0.  0.  0.5 0.5 0.  0.  0.  0.  0.  0.  0. ]\n",
      " [0.  0.  0.  0.  0.5 0.7 0.  0.  0.  0.  0.  0.  0.  0. ]]\n",
      "aligned_corners=\n",
      "[[0 0 0 0 0 0 0 0 0 0 0 0 0 0]\n",
      " [0 0 0 1 0 1 1 0 1 0 0 0 0 0]\n",
      " [0 0 0 0 0 0 0 0 0 0 0 0 0 0]\n",
      " [0 0 0 0 0 0 0 0 1 1 0 0 0 0]\n",
      " [0 0 1 0 0 0 0 0 0 1 1 1 0 0]\n",
      " [0 0 0 0 0 1 0 0 0 0 0 0 0 0]\n",
      " [0 0 0 0 0 1 1 0 0 0 0 0 0 0]\n",
      " [0 0 0 0 0 0 0 0 0 0 0 0 0 0]]\n",
      "[[0 0 0 0 1 0 0 0 1 0 0 0 0 0]\n",
      " [0 0 0 0 0 0 0 0 0 0 0 0 0 0]\n",
      " [0 0 0 0 0 0 0 0 0 0 0 1 0 0]\n",
      " [0 0 0 0 0 0 0 0 0 1 0 0 0 0]\n",
      " [0 0 0 0 0 0 0 0 0 1 0 0 0 0]\n",
      " [0 0 1 1 0 0 0 0 0 0 0 0 0 0]\n",
      " [0 0 0 0 0 1 1 0 0 0 0 0 0 0]\n",
      " [0 0 0 0 0 1 0 0 0 0 0 0 0 0]]\n"
     ]
    }
   ],
   "source": [
    "def is_consecutive_neighbors_same_room(floorplan, cell, direction):\n",
    "    directions = {'north': [(-1,0), (-1,-1), (-1,1)],\n",
    "                       'south': [(1,0), (1,-1), (1,1)],\n",
    "                       'west' : [(0,-1), (-1,-1), (1, -1)],\n",
    "                       'east': [(0,1), (-1,1), (1,1)]\n",
    "                }\n",
    "    consecutive3 = []\n",
    "    rows, cols = floorplan.shape\n",
    "    for d in directions[direction]:\n",
    "        neighbor = (cell[0] + d[0], cell[1] + d[1])\n",
    "        # 경계를 벗어났는지 확인\n",
    "        if 0 <= neighbor[0] < rows and 0 <= neighbor[1] < cols:\n",
    "            consecutive3.append(neighbor)\n",
    "    \n",
    "    if len(consecutive3) < 3:\n",
    "        return False\n",
    "    is_consecutive = all([floorplan[n] == floorplan[cell] for n in consecutive3]) # 현재셀과 세 개의 연속셀이 모두 같으면\n",
    "    # print(f'[is_consecutive_neighbors_same_room]{cell} to  is_consecutive = {is_consecutive}')\n",
    "    return is_consecutive\n",
    "\n",
    "def consecutive_neighbor_in_orientation(floorplan, cell):\n",
    "    orientation = ['north', 'south', 'west', 'east']\n",
    "    count_true = 0\n",
    "    triple_match_directions = []\n",
    "    for o in orientation:\n",
    "        if is_consecutive_neighbors_same_room(floorplan, cell, o):\n",
    "            triple_match_directions.append(o)\n",
    "    # print(f'[{cell}]: triple_match_directions{triple_match_directions}')\n",
    "    return triple_match_directions\n",
    "        \n",
    "def is_cascading_corner(triple_match_directions): # consecutive3_direction 세 셀이 같은 방향\n",
    "    if len(triple_match_directions) != 2: return False\n",
    "    if 'north' in triple_match_directions  or 'south' in triple_match_directions :\n",
    "        if 'east'  in triple_match_directions or 'west' in triple_match_directions :\n",
    "            return True\n",
    "    if 'east' in  triple_match_directions or  'west' in triple_match_directions:\n",
    "        if ('north' in triple_match_directions  or 'south' in triple_match_directions) :\n",
    "            return True\n",
    "\n",
    "def all_neighbors(cell, floorplan):\n",
    "    directions4 = [(-1, 0), (1, 0), (0, -1), (0, 1)]\n",
    "    neighbors = []\n",
    "    for d in directions4:\n",
    "        neighbor = (cell[0] + d[0], cell[1] + d[1])\n",
    "        if 0 <= neighbor[0] < floorplan.shape[0] and 0 <= neighbor[1] < floorplan.shape[1] and floorplan[\n",
    "            neighbor] > 0:\n",
    "            neighbors.append(neighbor)\n",
    "    return neighbors\n",
    "\n",
    "def get_diff_ratio_neighbors(floorplan, cell):\n",
    "    # cells = all_active_neighbors8(cell, floorplan)\n",
    "    cells = all_neighbors(cell, floorplan)\n",
    "    diff_ratio_dict = {}\n",
    "    for neighbor_cell in cells:\n",
    "        if floorplan[cell] != floorplan[neighbor_cell]:\n",
    "            diff_ratio = get_diff_ratio_cell(floorplan, neighbor_cell)\n",
    "            diff_ratio_dict[neighbor_cell] = diff_ratio\n",
    "    return diff_ratio_dict\n",
    "\n",
    "def get_diff_ratio_cell(floorplan, cell):\n",
    "    # neighbors = all_active_neighbors8(cell, floorplan)\n",
    "    # neighbors = all_active_neighbors(cell, floorplan)\n",
    "    neighbors = all_neighbors(cell, floorplan)\n",
    "    max_neighbors = len(neighbors)\n",
    "    if max_neighbors == 0. :\n",
    "        print(neighbors, cell)\n",
    "    num_diff_neighbors = sum(\n",
    "        1 for neighbor in neighbors if floorplan[neighbor[0], neighbor[1]] != floorplan[cell[0], cell[1]])\n",
    "    diff_ratio = num_diff_neighbors / max_neighbors\n",
    "    # print(f'max_neighbors = {max_neighbors}, num_diff_neighbors = {num_diff_neighbors}, diff_ratio = {diff_ratio} returning {diff_ratio}')\n",
    "    # print(f'\\t\\t\\t[get_diff_ratio_cell] ...when {cell}={floorplan[cell]}s diff_ratio = {diff_ratio} max_neighbors {max_neighbors}')\n",
    "    return diff_ratio\n",
    "\n",
    "def create_diff_ratio_array(floorplan):\n",
    "    diff_ratios = np.zeros_like(floorplan, dtype=float)\n",
    "    \n",
    "    for i in range(floorplan.shape[0]):\n",
    "        for j in range(floorplan.shape[1]):\n",
    "            cell = (i,j)            \n",
    "            if is_valid_cell(floorplan, cell):\n",
    "                diff_ratios[cell] = get_diff_ratio_cell(floorplan, cell)\n",
    "                print(f'{cell} diff_ratio={diff_ratios[cell]}')\n",
    "    return diff_ratios\n",
    "\n",
    "def is_valid_cell(floorplan, cell):\n",
    "    is_valid = 0 <= cell[0] < floorplan.shape[0] and 0 <= cell[1] < floorplan.shape[1] and floorplan[cell] > 0\n",
    "    # print(f'{cell} is_valid={is_valid}')\n",
    "    return is_valid\n",
    "        \n",
    "import numpy as np\n",
    "floorplan = np.array([\n",
    "        [5, 4, 4, 4, 4, 3, 3, 3, 3, 2, -1, -1, -1, -1],\n",
    "        [5, 4, 4, 4, 3, 3, 3, 2, 2, 2, -1, -1, -1, -1],\n",
    "        [5, 4, 4, 4, 3, 3, 3, 2, 2, 2, 2, 2, 1, 1],\n",
    "        [5, 4, 4, 4, 3, 3, 3, 2, 2, 2, 1, 1, 1, 1],\n",
    "        [5, 4, 4, 4, 3, 3, 3, 2, 2, 1, 1, 1, -1, -1],\n",
    "        [5, 5, 5, 4, 3, 3, 3, 1, 1, 1, 1, 1, -1, -1],\n",
    "        [-1,-1,-1,-1,3, 3, 1, 1, -1, -1, -1, -1, -1, -1],\n",
    "        [-1,-1,-1,-1,3, 1, 1, 1, -1, -1, -1, -1, -1, -1]\n",
    "    ])\n",
    "np.set_printoptions(precision=1, suppress=True)\n",
    "diff_ratios = create_diff_ratio_array(floorplan)\n",
    "print(f'diff_ratios=\\n{diff_ratios}')\n",
    "aligned_corners = np.zeros_like(floorplan)\n",
    "directions = ['west', 'east', 'south', 'north']\n",
    "for i in range(floorplan.shape[0]):\n",
    "    for j in range(floorplan.shape[1]):\n",
    "        cell = (i,j)\n",
    "        if is_valid_cell(floorplan, cell) :\n",
    "        # for direction in directions:\n",
    "        #     aligned3 = is_consecutive_neighbors_same_room(floorplan, cell, direction)\n",
    "        #     print(f'{cell}:{direction} = {aligned3}')\n",
    "            \n",
    "            triple_match_directions = consecutive_neighbor_in_orientation(floorplan, cell)\n",
    "            # print(f'triple_match_directions {cell} = {triple_match_directions}')\n",
    "            aligned_corners[i, j] = is_cascading_corner( triple_match_directions)\n",
    "print(f'aligned_corners=\\n{aligned_corners}')\n",
    "mask = (diff_ratios > 0.5) | (( diff_ratios == 0.5) & (aligned_corners == 1))\n",
    "print(mask.astype(int))\n",
    "\n",
    "# for idx in np.ndindex(floorplan.shape):\n",
    "#     print(f\"{idx}: {floorplan[idx]}\")\n",
    "\n",
    "# consecutive_neighbor_in_orientation(floorplan, cell)"
   ]
  },
  {
   "cell_type": "code",
   "execution_count": 32,
   "outputs": [
    {
     "name": "stdout",
     "output_type": "stream",
     "text": [
      "[[1 1 1 1 1 1 1 1 1 1 1 1 1 1]\n",
      " [1 0 0 0 0 0 0 0 0 1 1 1 1 1]\n",
      " [1 0 0 0 0 0 0 0 0 1 1 1 1 1]\n",
      " [1 0 0 0 0 0 0 0 0 0 0 1 1 1]\n",
      " [1 0 0 0 0 0 0 0 0 0 0 1 1 1]\n",
      " [1 1 1 1 1 0 0 1 1 1 1 1 1 1]\n",
      " [1 1 1 1 1 0 0 1 1 1 1 1 1 1]\n",
      " [1 1 1 1 1 1 1 1 1 1 1 1 1 1]]\n",
      "{(0, 0): True, (5, 0): True, (0, 4): True, (0, 5): True, (0, 8): True, (0, 9): True, (1, 4): False, (1, 9): True, (2, 11): True, (2, 12): True, (2, 13): True, (3, 9): False, (3, 10): False, (3, 11): True, (3, 13): True, (4, 8): False, (4, 9): False, (5, 2): True, (5, 3): True, (5, 6): False, (5, 7): True, (5, 11): True, (6, 5): False, (6, 6): False, (7, 4): True, (7, 5): True, (1, 1): False, (2, 5): False, (5, 5): False, (4, 4): False}\n"
     ]
    }
   ],
   "source": [
    "import numpy as np\n",
    "\n",
    "def is_corner_room(floorplan, cell):\n",
    "\n",
    "    # 경계 검사:\n",
    "    # 셀이 배열의 경계에 있는지 확인합니다. 셀이 경계에 있으면 True를 반환합니다.\n",
    "    # -1 검사:\n",
    "    # 이웃 셀들 중 -1이 있는지 확인합니다. 이웃 셀 중 하나라도 -1이면 True를 반환합니다.\n",
    "    # 이웃 셀 확인:\n",
    "    # 이웃 셀들 중 floorplan[cell]과 같은 값을 가지는 셀들의 위치를 저장합니다.\n",
    "    # 코너 셀 조건:\n",
    "    # 인접한 방이 1개 또는 2개인 경우 코너 셀로 간주하여 True를 반환합니다.\n",
    "\n",
    "    rows, cols = floorplan.shape\n",
    "    room_value = floorplan[cell]\n",
    "    \n",
    "    # 방향: 상, 하, 좌, 우, 좌상, 우상, 좌하, 우하\n",
    "    directions = [(-1, 0), (1, 0), (0, -1), (0, 1), (-1, -1), (-1, 1), (1, -1), (1, 1)]\n",
    "    \n",
    "    # 셀이 유효한 범위에 있는지 확인하는 함수\n",
    "    def is_valid(cell):\n",
    "        return 0 <= cell[0] < rows and 0 <= cell[1] < cols and room_value > 0\n",
    "    \n",
    "    # 경계에 있는 경우 코너로 간주\n",
    "    if cell[0] == 0 or cell[0] == rows - 1 or cell[1] == 0 or cell[1] == cols - 1:\n",
    "        return True\n",
    "    \n",
    "    # 이웃 셀들 중 -1이 있는지 확인\n",
    "    for d in directions:\n",
    "        neighbor = (cell[0] + d[0], cell[1] + d[1])\n",
    "        if is_valid(neighbor) and floorplan[neighbor] == -1:\n",
    "            return True\n",
    "    \n",
    "    # 이웃 셀들 중 floorplan[cell]과 같은 값을 가지는 셀들의 위치를 저장\n",
    "    neighbor_same_room = [cell for d in directions if is_valid((cell[0] + d[0], cell[1] + d[1])) and floorplan[(cell[0] + d[0], cell[1] + d[1])] == room_value]\n",
    "\n",
    "    # 코너 셀은 인접한 방이 1개 또는 2개인 경우 (대각선 방향이 방의 내부에 포함되지 않는 경우)\n",
    "    if len(neighbor_same_room) <= 2:\n",
    "        return True\n",
    "    \n",
    "    return False\n",
    "\n",
    "# 테스트 배열\n",
    "floorplan = np.array([\n",
    "    [5, 4, 4, 4, 4, 3, 3, 3, 3, 2, -1, -1, -1, -1],\n",
    "    [5, 4, 4, 4, 3, 3, 3, 2, 2, 2, -1, -1, -1, -1],\n",
    "    [5, 4, 4, 4, 3, 3, 3, 2, 2, 2, 2, 2, 1, 1],\n",
    "    [5, 4, 4, 4, 3, 3, 3, 2, 2, 2, 1, 1, 1, 1],\n",
    "    [5, 4, 4, 4, 3, 3, 3, 2, 2, 1, 1, 1, -1, -1],\n",
    "    [5, 5, 5, 4, 3, 3, 3, 1, 1, 1, 1, 1, -1, -1],\n",
    "    [-1, -1, -1, -1, 3, 3, 1, 1, -1, -1, -1, -1, -1, -1],\n",
    "    [-1, -1, -1, -1, 3, 1, 1, 1, -1, -1, -1, -1, -1, -1]\n",
    "])\n",
    "\n",
    "# 코너 셀 여부를 저장할 배열 초기화\n",
    "corner_cells = np.zeros_like(floorplan, dtype=bool)\n",
    "\n",
    "# 모든 셀에 대해 코너 셀 여부를 판단\n",
    "for i in range(floorplan.shape[0]):\n",
    "    for j in range(floorplan.shape[1]):\n",
    "        corner_cells[i, j] = is_corner_room(floorplan, (i, j))\n",
    "print(corner_cells.astype(int))\n",
    "# 테스트 실행\n",
    "test_cells = [(0, 0), (5,0),(0,4),(0,5), (0,8), (0,9), (1,4), (1,9),(2,11), (2,12),(2,13), (3,9), (3,10), (3,11), (3,13), (4,8), (4,9), (5,2), (5,3), (5,6), (5,7),(5,11),\n",
    "              (6,5), (6,6),(7,4),(7,5), (1, 1), (2, 5), (5, 5), (4, 4)]\n",
    "results = {cell: is_corner_room(floorplan, cell) for cell in test_cells}\n",
    "print(results)\n"
   ],
   "metadata": {
    "collapsed": false,
    "ExecuteTime": {
     "end_time": "2024-07-17T04:58:00.621190600Z",
     "start_time": "2024-07-17T04:58:00.589513100Z"
    }
   },
   "id": "78aba3489ab3d117"
  },
  {
   "cell_type": "code",
   "execution_count": 31,
   "outputs": [
    {
     "name": "stdout",
     "output_type": "stream",
     "text": [
      "[[1 1 1 1 1 1 1 1 1 1 1 1 1 1]\n",
      " [1 0 0 0 0 0 0 0 0 1 1 1 1 1]\n",
      " [1 0 0 0 0 0 0 0 0 1 1 1 1 1]\n",
      " [1 0 0 0 0 0 0 0 0 0 0 1 1 1]\n",
      " [1 0 0 0 0 0 0 0 0 0 0 1 1 1]\n",
      " [1 1 1 1 1 0 0 1 1 1 1 1 1 1]\n",
      " [1 1 1 1 1 0 0 1 1 1 1 1 1 1]\n",
      " [1 1 1 1 1 1 1 1 1 1 1 1 1 1]]\n"
     ]
    }
   ],
   "source": [
    "import numpy as np\n",
    "\n",
    "def is_corner_room(floorplan, cell):\n",
    "    rows, cols = floorplan.shape\n",
    "    room_value = floorplan[cell]\n",
    "    \n",
    "    # 방향: 상, 하, 좌, 우, 좌상, 우상, 좌하, 우하\n",
    "    directions = [(-1, 0), (1, 0), (0, -1), (0, 1), (-1, -1), (-1, 1), (1, -1), (1, 1)]\n",
    "    \n",
    "    # 셀이 유효한 범위에 있는지 확인하는 함수\n",
    "    def is_valid(cell):\n",
    "        return 0 <= cell[0] < rows and 0 <= cell[1] < cols\n",
    "    \n",
    "    # 경계에 있는 경우 코너로 간주\n",
    "    if cell[0] == 0 or cell[0] == rows - 1 or cell[1] == 0 or cell[1] == cols - 1:\n",
    "        return True\n",
    "    \n",
    "    # 이웃 셀들 중 -1이 있는지 확인\n",
    "    for d in directions:\n",
    "        neighbor = (cell[0] + d[0], cell[1] + d[1])\n",
    "        if is_valid(neighbor) and floorplan[neighbor] == -1:\n",
    "            return True\n",
    "    \n",
    "    # 이웃 셀들 중 floorplan[cell]과 같은 값을 가지는 셀들의 위치를 저장\n",
    "    neighbor_same_room = [cell for d in directions if is_valid((cell[0] + d[0], cell[1] + d[1])) and floorplan[(cell[0] + d[0], cell[1] + d[1])] == room_value]\n",
    "\n",
    "    # 코너 셀은 인접한 방이 1개 또는 2개인 경우 (대각선 방향이 방의 내부에 포함되지 않는 경우)\n",
    "    if len(neighbor_same_room) <= 2:\n",
    "        return True\n",
    "    \n",
    "    return False\n",
    "\n",
    "# 테스트 배열\n",
    "floorplan = np.array([\n",
    "    [5, 4, 4, 4, 4, 3, 3, 3, 3, 2, -1, -1, -1, -1],\n",
    "    [5, 4, 4, 4, 3, 3, 3, 2, 2, 2, -1, -1, -1, -1],\n",
    "    [5, 4, 4, 4, 3, 3, 3, 2, 2, 2, 2, 2, 1, 1],\n",
    "    [5, 4, 4, 4, 3, 3, 3, 2, 2, 2, 1, 1, 1, 1],\n",
    "    [5, 4, 4, 4, 3, 3, 3, 2, 2, 1, 1, 1, -1, -1],\n",
    "    [5, 5, 5, 4, 3, 3, 3, 1, 1, 1, 1, 1, -1, -1],\n",
    "    [-1, -1, -1, -1, 3, 3, 1, 1, -1, -1, -1, -1, -1, -1],\n",
    "    [-1, -1, -1, -1, 3, 1, 1, 1, -1, -1, -1, -1, -1, -1]\n",
    "])\n",
    "\n",
    "# 코너 셀 여부를 저장할 배열 초기화\n",
    "corner_cells = np.zeros_like(floorplan, dtype=bool)\n",
    "\n",
    "# 모든 셀에 대해 코너 셀 여부를 판단\n",
    "for i in range(floorplan.shape[0]):\n",
    "    for j in range(floorplan.shape[1]):\n",
    "        corner_cells[i, j] = is_corner_room(floorplan, (i, j))\n",
    "\n",
    "# 결과 출력\n",
    "print(corner_cells.astype(int))\n"
   ],
   "metadata": {
    "collapsed": false,
    "ExecuteTime": {
     "end_time": "2024-07-17T04:57:09.554563200Z",
     "start_time": "2024-07-17T04:57:09.534894400Z"
    }
   },
   "id": "213818da054086f7"
  },
  {
   "cell_type": "markdown",
   "source": [
    "### floorplan의 각 셀에 대해 경계 셀인지 여부를 True/False로 표시\n",
    "#### is_boundary_cell 함수:\n",
    "주어진 셀이 경계 셀인지 여부를 판단합니다.\n",
    "주어진 셀의 이웃 셀이 경계 바깥에 있거나 -1인 경우 True를 반환합니다.\n",
    "#### boundary_cells 배열 초기화:\n",
    "floorplan과 같은 크기의 boundary_cells 배열을 초기화합니다. 이 배열은 각 셀이 경계 셀인지 여부를 True/False로 저장합니다.\n",
    "모든 셀에 대해 경계 셀 여부 판단:\n",
    "이중 for 루프를 사용하여 floorplan의 모든 셀을 순회하며 is_boundary_cell 함수를 적용하고, 그 결과를 boundary_cells 배열에 저장합니다"
   ],
   "metadata": {
    "collapsed": false
   },
   "id": "52f583869826c255"
  },
  {
   "cell_type": "code",
   "execution_count": 34,
   "outputs": [
    {
     "name": "stdout",
     "output_type": "stream",
     "text": [
      "[[1 1 1 1 1 1 1 1 1 1 1 1 1 1]\n",
      " [1 0 0 0 0 0 0 0 0 1 1 1 1 1]\n",
      " [1 0 0 0 0 0 0 0 0 1 1 1 1 1]\n",
      " [1 0 0 0 0 0 0 0 0 0 0 1 1 1]\n",
      " [1 0 0 0 0 0 0 0 0 0 0 1 1 1]\n",
      " [1 1 1 1 1 0 0 1 1 1 1 1 1 1]\n",
      " [1 1 1 1 1 0 0 1 1 1 1 1 1 1]\n",
      " [1 1 1 1 1 1 1 1 1 1 1 1 1 1]]\n"
     ]
    }
   ],
   "source": [
    "import numpy as np\n",
    "\n",
    "def is_boundary_cell(floorplan, cell):\n",
    "    rows, cols = floorplan.shape\n",
    "    \n",
    "    # 방향: 상, 하, 좌, 우, 좌상, 우상, 좌하, 우하\n",
    "    directions = [(-1, 0), (1, 0), (0, -1), (0, 1), (-1, -1), (-1, 1), (1, -1), (1, 1)]\n",
    "    \n",
    "    # 셀이 유효한 범위에 있는지 확인하는 함수\n",
    "    def is_valid(cell):\n",
    "        return 0 <= cell[0] < rows and 0 <= cell[1] < cols\n",
    "    \n",
    "    # 이웃 셀들 중 경계 바깥에 있거나 -1이 있는지 확인\n",
    "    for d in directions:\n",
    "        neighbor = (cell[0] + d[0], cell[1] + d[1])\n",
    "        if not is_valid(neighbor) or floorplan[neighbor] == -1:\n",
    "            return True\n",
    "    \n",
    "    return False\n",
    "\n",
    "# 테스트 배열\n",
    "floorplan = np.array([\n",
    "    [5, 4, 4, 4, 4, 3, 3, 3, 3, 2, -1, -1, -1, -1],\n",
    "    [5, 4, 4, 4, 3, 3, 3, 2, 2, 2, -1, -1, -1, -1],\n",
    "    [5, 4, 4, 4, 3, 3, 3, 2, 2, 2, 2, 2, 1, 1],\n",
    "    [5, 4, 4, 4, 3, 3, 3, 2, 2, 2, 1, 1, 1, 1],\n",
    "    [5, 4, 4, 4, 3, 3, 3, 2, 2, 1, 1, 1, -1, -1],\n",
    "    [5, 5, 5, 4, 3, 3, 3, 1, 1, 1, 1, 1, -1, -1],\n",
    "    [-1, -1, -1, -1, 3, 3, 1, 1, -1, -1, -1, -1, -1, -1],\n",
    "    [-1, -1, -1, -1, 3, 1, 1, 1, -1, -1, -1, -1, -1, -1]\n",
    "])\n",
    "\n",
    "# 경계 셀 여부를 저장할 배열 초기화\n",
    "boundary_cells = np.zeros_like(floorplan, dtype=bool)\n",
    "\n",
    "# 모든 셀에 대해 경계 셀 여부를 판단\n",
    "for i in range(floorplan.shape[0]):\n",
    "    for j in range(floorplan.shape[1]):\n",
    "        boundary_cells[i, j] = is_boundary_cell(floorplan, (i, j))\n",
    "\n",
    "# 결과 출력\n",
    "print(boundary_cells.astype(int))\n"
   ],
   "metadata": {
    "collapsed": false,
    "ExecuteTime": {
     "end_time": "2024-07-17T06:29:28.780477100Z",
     "start_time": "2024-07-17T06:29:28.702293Z"
    }
   },
   "id": "23c2fa61671dccb7"
  },
  {
   "cell_type": "markdown",
   "source": [
    "헷갈리니까 원래 -1인 셀은 그냥 -1로 표시,"
   ],
   "metadata": {
    "collapsed": false
   },
   "id": "a243352a16c9cc8a"
  },
  {
   "cell_type": "code",
   "execution_count": 38,
   "outputs": [
    {
     "name": "stdout",
     "output_type": "stream",
     "text": [
      "[  1  1  1  1  1  1  1  1  1  1 -1 -1 -1 -1 ]\n",
      "[  1  0  0  0  0  0  0  0  0  1 -1 -1 -1 -1 ]\n",
      "[  1  0  0  0  0  0  0  0  0  1  1  1  1  1 ]\n",
      "[  1  0  0  0  0  0  0  0  0  0  0  1  1  1 ]\n",
      "[  1  0  0  0  0  0  0  0  0  0  0  1 -1 -1 ]\n",
      "[  1  1  1  1  1  0  0  1  1  1  1  1 -1 -1 ]\n",
      "[ -1 -1 -1 -1  1  0  0  1 -1 -1 -1 -1 -1 -1 ]\n",
      "[ -1 -1 -1 -1  1  1  1  1 -1 -1 -1 -1 -1 -1 ]\n"
     ]
    }
   ],
   "source": [
    "import numpy as np\n",
    "\n",
    "def is_boundary_cell(floorplan, cell):\n",
    "    rows, cols = floorplan.shape\n",
    "    \n",
    "    # 방향: 상, 하, 좌, 우, 좌상, 우상, 좌하, 우하\n",
    "    directions = [(-1, 0), (1, 0), (0, -1), (0, 1), (-1, -1), (-1, 1), (1, -1), (1, 1)]\n",
    "    \n",
    "    # 셀이 유효한 범위에 있는지 확인하는 함수\n",
    "    def is_valid(cell):\n",
    "        return 0 <= cell[0] < rows and 0 <= cell[1] < cols\n",
    "    \n",
    "    # 이웃 셀들 중 경계 바깥에 있거나 -1이 있는지 확인\n",
    "    for d in directions:\n",
    "        neighbor = (cell[0] + d[0], cell[1] + d[1])\n",
    "        if not is_valid(neighbor) or floorplan[neighbor] == -1:\n",
    "            return True\n",
    "    \n",
    "    return False\n",
    "\n",
    "# 테스트 배열\n",
    "floorplan = np.array([\n",
    "    [5, 4, 4, 4, 4, 3, 3, 3, 3, 2, -1, -1, -1, -1],\n",
    "    [5, 4, 4, 4, 3, 3, 3, 2, 2, 2, -1, -1, -1, -1],\n",
    "    [5, 4, 4, 4, 3, 3, 3, 2, 2, 2, 2, 2, 1, 1],\n",
    "    [5, 4, 4, 4, 3, 3, 3, 2, 2, 2, 1, 1, 1, 1],\n",
    "    [5, 4, 4, 4, 3, 3, 3, 2, 2, 1, 1, 1, -1, -1],\n",
    "    [5, 5, 5, 4, 3, 3, 3, 1, 1, 1, 1, 1, -1, -1],\n",
    "    [-1, -1, -1, -1, 3, 3, 1, 1, -1, -1, -1, -1, -1, -1],\n",
    "    [-1, -1, -1, -1, 3, 1, 1, 1, -1, -1, -1, -1, -1, -1]\n",
    "])\n",
    "\n",
    "# 경계 셀 여부를 저장할 배열 초기화\n",
    "boundary_cells = np.full(floorplan.shape, False, dtype=int)\n",
    "\n",
    "# 모든 셀에 대해 경계 셀 여부를 판단\n",
    "for i in range(floorplan.shape[0]):\n",
    "    for j in range(floorplan.shape[1]):\n",
    "        if floorplan[i, j] == -1:\n",
    "            boundary_cells[i, j] = -1\n",
    "        else:\n",
    "            boundary_cells[i, j] = is_boundary_cell(floorplan, (i, j))\n",
    "\n",
    "# 결과 출력\n",
    "for row in boundary_cells:\n",
    "    print(\"[\", \" \".join(f\"{int(x):2}\" if x != -1 else f\"{x:2}\" for x in row), \"]\")\n"
   ],
   "metadata": {
    "collapsed": false,
    "ExecuteTime": {
     "end_time": "2024-07-17T06:35:53.291319800Z",
     "start_time": "2024-07-17T06:35:53.283075400Z"
    }
   },
   "id": "72df0b298ba06edd"
  },
  {
   "cell_type": "markdown",
   "source": [
    "주어진 셀의 값과 다른 인접 셀들의 위치를 확인하고, 그 셀들이 동서남북 방향으로 시계방향 또는 반시계방향 순서대로 연속해서 있는지 확인하는 is_cascading_cell 함수\n",
    "\n"
   ],
   "metadata": {
    "collapsed": false
   },
   "id": "b186b948d219078e"
  },
  {
   "cell_type": "code",
   "execution_count": 39,
   "outputs": [],
   "source": [
    "\n",
    "def is_cascading_cell(floorplan, cell):\n",
    "    rows, cols = floorplan.shape\n",
    "    room_value = floorplan[cell]\n",
    "    \n",
    "    # 방향: 북, 동, 남, 서\n",
    "    directions = [(-1, 0), (0, 1), (1, 0), (0, -1)]\n",
    "    direction_names = [\"북\", \"동\", \"남\", \"서\"]\n",
    "    \n",
    "    # 셀이 유효한 범위에 있는지 확인하는 함수\n",
    "    def is_valid(cell):\n",
    "        return 0 <= cell[0] < rows and 0 <= cell[1] < cols\n",
    "    \n",
    "    # 인접 셀들 중 현재 셀의 값과 다른 셀들의 위치와 방향을 저장\n",
    "    different_neighbors = []\n",
    "    for idx, d in enumerate(directions):\n",
    "        neighbor = (cell[0] + d[0], cell[1] + d[1])\n",
    "        if is_valid(neighbor) and floorplan[neighbor] != room_value:\n",
    "            different_neighbors.append((neighbor, direction_names[idx]))\n",
    "    \n",
    "    # 인접 셀들의 방향이 시계방향 또는 반시계방향으로 연속되어 있는지 확인\n",
    "    if len(different_neighbors) != 2:\n",
    "        return False\n",
    "    \n",
    "    dir1 = direction_names.index(different_neighbors[0][1])\n",
    "    dir2 = direction_names.index(different_neighbors[1][1])\n",
    "    \n",
    "    if (dir1 + 1) % 4 == dir2 or (dir1 - 1) % 4 == dir2:\n",
    "        return True\n",
    "    \n",
    "    return False"
   ],
   "metadata": {
    "collapsed": false,
    "ExecuteTime": {
     "end_time": "2024-07-17T12:43:45.870020800Z",
     "start_time": "2024-07-17T12:43:45.820073500Z"
    }
   },
   "id": "8b254fa23ebc3578"
  },
  {
   "cell_type": "code",
   "execution_count": 41,
   "outputs": [
    {
     "name": "stdout",
     "output_type": "stream",
     "text": [
      "{(0, 4): True, (0, 5): False, (0, 8): True, (0, 9): False, (1, 4): True, (1, 7): True, (2, 11): False, (2, 12): True, (2, 13): False, (3, 9): True, (3, 10): True, (4, 8): True, (4, 9): True, (5, 2): False, (5, 3): False, (5, 6): True, (5, 7): True, (4, 4): False}\n"
     ]
    }
   ],
   "source": [
    "# 테스트 실행\n",
    "test_cells = [(0, 4), (0, 5), (0, 8),(0,9),(1,4),(1,7),(2,11),(2,12),(2,13),(3,9),(3,10), (4,8),(4,9),(5,2),(5,3),(5,6),(5,7),(4, 4), (0, 4), (0, 5)]\n",
    "results = {cell: is_cascading_cell(floorplan, cell) for cell in test_cells}\n",
    "print(results)"
   ],
   "metadata": {
    "collapsed": false,
    "ExecuteTime": {
     "end_time": "2024-07-17T12:47:06.209515100Z",
     "start_time": "2024-07-17T12:47:06.188557900Z"
    }
   },
   "id": "6526bcd2f4ded917"
  },
  {
   "cell_type": "markdown",
   "source": [
    "모든 셀에 대해 is_cascading_cell 함수를 적용하여 결과를 배열로 변환하는 방법"
   ],
   "metadata": {
    "collapsed": false
   },
   "id": "b53455046e942580"
  },
  {
   "cell_type": "code",
   "execution_count": 42,
   "outputs": [],
   "source": [
    "import numpy as np\n",
    "\n",
    "def is_cascading_cell(floorplan, cell):\n",
    "    rows, cols = floorplan.shape\n",
    "    room_value = floorplan[cell]\n",
    "    \n",
    "    # 방향: 북, 동, 남, 서\n",
    "    directions = [(-1, 0), (0, 1), (1, 0), (0, -1)]\n",
    "    direction_names = [\"북\", \"동\", \"남\", \"서\"]\n",
    "    \n",
    "    # 셀이 유효한 범위에 있는지 확인하는 함수\n",
    "    def is_valid(cell):\n",
    "        return 0 <= cell[0] < rows and 0 <= cell[1] < cols\n",
    "    \n",
    "    # 인접 셀들 중 현재 셀의 값과 다른 셀들의 위치와 방향을 저장\n",
    "    different_neighbors = []\n",
    "    for idx, d in enumerate(directions):\n",
    "        neighbor = (cell[0] + d[0], cell[1] + d[1])\n",
    "        if is_valid(neighbor) and floorplan[neighbor] != room_value:\n",
    "            different_neighbors.append((neighbor, direction_names[idx]))\n",
    "    \n",
    "    # 인접 셀들의 방향이 시계방향 또는 반시계방향으로 연속되어 있는지 확인\n",
    "    if len(different_neighbors) != 2:\n",
    "        return False\n",
    "    \n",
    "    dir1 = direction_names.index(different_neighbors[0][1])\n",
    "    dir2 = direction_names.index(different_neighbors[1][1])\n",
    "    \n",
    "    if (dir1 + 1) % 4 == dir2 or (dir1 - 1) % 4 == dir2:\n",
    "        return True\n",
    "    \n",
    "    return False\n",
    "\n"
   ],
   "metadata": {
    "collapsed": false,
    "ExecuteTime": {
     "end_time": "2024-07-17T12:49:40.114014300Z",
     "start_time": "2024-07-17T12:49:40.063304800Z"
    }
   },
   "id": "56c2a1e6e882ce6b"
  },
  {
   "cell_type": "code",
   "execution_count": 43,
   "outputs": [
    {
     "name": "stdout",
     "output_type": "stream",
     "text": [
      "[  0  0  0  0  1  0  0  0  1  0  0  0  0  0 ]\n",
      "[  0  0  0  0  1  0  0  1  0  0  1  0  0  0 ]\n",
      "[  0  0  0  0  0  0  0  0  0  0  0  0  1  0 ]\n",
      "[  0  0  0  0  0  0  0  0  0  1  1  0  0  0 ]\n",
      "[  0  1  0  0  0  0  0  1  1  1  0  0  1  0 ]\n",
      "[  0  0  0  0  0  0  1  1  0  0  0  1  0  0 ]\n",
      "[  0  0  0  1  0  1  1  0  1  0  0  0  0  0 ]\n",
      "[  0  0  0  0  0  1  0  0  0  0  0  0  0  0 ]\n"
     ]
    }
   ],
   "source": [
    "\n",
    "# 코너 셀 여부를 저장할 배열 초기화\n",
    "cascading_cells = np.zeros_like(floorplan, dtype=bool)\n",
    "\n",
    "# 모든 셀에 대해 코너 셀 여부를 판단\n",
    "for i in range(floorplan.shape[0]):\n",
    "    for j in range(floorplan.shape[1]):\n",
    "        cascading_cells[i, j] = is_cascading_cell(floorplan, (i, j))\n",
    "\n",
    "# 결과 출력 (칸을 맞춰서)\n",
    "for row in cascading_cells:\n",
    "    print(\"[\", \" \".join(f\"{int(x):2}\" for x in row), \"]\")"
   ],
   "metadata": {
    "collapsed": false,
    "ExecuteTime": {
     "end_time": "2024-07-17T12:49:41.515125900Z",
     "start_time": "2024-07-17T12:49:41.452892700Z"
    }
   },
   "id": "b0fbf6b03e6a308f"
  },
  {
   "cell_type": "markdown",
   "source": [
    "이 cascading_cells 에서 1인 값을 랜덤하게 골라서 셀의 위치를 리턴\n"
   ],
   "metadata": {
    "collapsed": false
   },
   "id": "1dc00633a4c15532"
  },
  {
   "cell_type": "code",
   "execution_count": 44,
   "outputs": [
    {
     "name": "stdout",
     "output_type": "stream",
     "text": [
      "[  0  0  0  0  1  0  0  0  1  0  0  0  0  0 ]\n",
      "[  0  0  0  0  1  0  0  1  0  0  1  0  0  0 ]\n",
      "[  0  0  0  0  0  0  0  0  0  0  0  0  1  0 ]\n",
      "[  0  0  0  0  0  0  0  0  0  1  1  0  0  0 ]\n",
      "[  0  1  0  0  0  0  0  1  1  1  0  0  1  0 ]\n",
      "[  0  0  0  0  0  0  1  1  0  0  0  1  0  0 ]\n",
      "[  0  0  0  1  0  1  1  0  1  0  0  0  0  0 ]\n",
      "[  0  0  0  0  0  1  0  0  0  0  0  0  0  0 ]\n",
      "Random cascading cell: (6, 8)\n"
     ]
    }
   ],
   "source": [
    "def random_cascading_cell(cascading_cells):\n",
    "    indices = np.argwhere(cascading_cells == 1)\n",
    "    if len(indices) == 0:\n",
    "        return None\n",
    "    return tuple(indices[np.random.choice(len(indices))])\n",
    "\n",
    "# 결과 출력\n",
    "for row in cascading_cells:\n",
    "    print(\"[\", \" \".join(f\"{int(x):2}\" for x in row), \"]\")\n",
    "\n",
    "# 랜덤하게 1인 값을 가진 셀의 위치를 반환\n",
    "random_cell = random_cascading_cell(cascading_cells)\n",
    "print(\"Random cascading cell:\", random_cell)"
   ],
   "metadata": {
    "collapsed": false,
    "ExecuteTime": {
     "end_time": "2024-07-18T06:18:27.342976Z",
     "start_time": "2024-07-18T06:18:27.292876900Z"
    }
   },
   "id": "39897ae5f7eccab2"
  },
  {
   "cell_type": "markdown",
   "source": [],
   "metadata": {
    "collapsed": false
   },
   "id": "bcb7ece57c9cb324"
  },
  {
   "cell_type": "markdown",
   "source": [
    "\n",
    "- `is_valid` 함수:\n",
    "주어진 셀이 유효한 범위 내에 있는지 확인합니다.\n",
    "- `boundary_cell_room` 함수:\n",
    "floorplan 배열과 같은 크기의 boundary_cells 배열을 생성합니다. floorplan의 값이 -1인 셀은 그대로 -1로 설정하고, 나머지 셀은 0으로 초기화합니다.\n",
    "각 셀의 값을 확인하고, 인접 셀 중 하나라도 값이 다르거나 경계를 벗어나는 경우 해당 셀을 경계 셀로 간주하여 1로 설정합니다.\n",
    "- 경계 셀 여부를 저장할 배열 계산 및 출력:\n",
    "이중 for 루프를 사용하여 floorplan의 모든 셀을 순회하며 boundary_cell_room 함수를 적용하고, 그 결과를 boundary_cells 배열에 저장합니다.\n",
    "각 행을 출력할 때 값을 일정한 폭으로 맞춰서 출력합니다.\n",
    "- 결과\n",
    "위 코드를 실행하면 boundary_cells 배열이 출력됩니다. 이 배열은 floorplan의 각 셀에 대해 경계 셀인지 여부를 1/0으로 나타내며, 원래 -1인 셀은 그대로 -1로 유지됩니다."
   ],
   "metadata": {
    "collapsed": false
   },
   "id": "da6120c58f3ac2c2"
  },
  {
   "cell_type": "code",
   "execution_count": 50,
   "outputs": [
    {
     "name": "stdout",
     "output_type": "stream",
     "text": [
      "[  1  1  1  1  1  1  1  1  1  1 -1 -1 -1 -1 ]\n",
      "[  1  1  0  1  1  0  1  1  1  1 -1 -1 -1 -1 ]\n",
      "[  1  1  0  1  1  0  1  1  0  0  1  1  1  1 ]\n",
      "[  1  1  0  1  1  0  1  1  0  1  1  1  1  1 ]\n",
      "[  1  1  1  1  1  0  1  1  1  1  0  1 -1 -1 ]\n",
      "[  1  1  1  1  1  0  1  1  1  1  1  1 -1 -1 ]\n",
      "[ -1 -1 -1 -1  1  1  1  1 -1 -1 -1 -1 -1 -1 ]\n",
      "[ -1 -1 -1 -1  1  1  1  1 -1 -1 -1 -1 -1 -1 ]\n"
     ]
    }
   ],
   "source": [
    "import numpy as np\n",
    "\n",
    "def boundary_cell_room(floorplan):\n",
    "    rows, cols = floorplan.shape\n",
    "\n",
    "    # 방향: 북, 동, 남, 서\n",
    "    directions = [(-1, 0), (0, 1), (1, 0), (0, -1)]\n",
    "    \n",
    "    # 셀이 유효한 범위에 있는지 확인하는 함수\n",
    "    def is_valid(cell):\n",
    "        return 0 <= cell[0] < rows and 0 <= cell[1] < cols\n",
    "\n",
    "    # 결과 배열 초기화 (-1은 그대로 유지)\n",
    "    boundary_cells = np.where(floorplan == -1, -1, 0)\n",
    "\n",
    "    for i in range(rows):\n",
    "        for j in range(cols):\n",
    "            if floorplan[i, j] == -1:\n",
    "                continue\n",
    "            current_value = floorplan[i, j]\n",
    "            for d in directions:\n",
    "                neighbor = (i + d[0], j + d[1])\n",
    "                # 경계 셀은 배열의 경계를 벗어나는 셀과 인접한 셀로 정의\n",
    "                if not is_valid(neighbor) or floorplan[neighbor] != current_value:\n",
    "                    boundary_cells[i, j] = 1\n",
    "                    break\n",
    "\n",
    "    return boundary_cells\n",
    "\n",
    "# 테스트 배열\n",
    "floorplan = np.array([\n",
    "    [5, 4, 4, 4, 4, 3, 3, 3, 3, 2, -1, -1, -1, -1],\n",
    "    [5, 4, 4, 4, 3, 3, 3, 2, 2, 2, -1, -1, -1, -1],\n",
    "    [5, 4, 4, 4, 3, 3, 3, 2, 2, 2, 2, 2, 1, 1],\n",
    "    [5, 4, 4, 4, 3, 3, 3, 2, 2, 2, 1, 1, 1, 1],\n",
    "    [5, 4, 4, 4, 3, 3, 3, 2, 2, 1, 1, 1, -1, -1],\n",
    "    [5, 5, 5, 4, 3, 3, 3, 1, 1, 1, 1, 1, -1, -1],\n",
    "    [-1, -1, -1, -1, 3, 3, 1, 1, -1, -1, -1, -1, -1, -1],\n",
    "    [-1, -1, -1, -1, 3, 1, 1, 1, -1, -1, -1, -1, -1, -1]\n",
    "])\n",
    "\n",
    "# 경계 셀 여부를 저장할 배열 계산\n",
    "boundary_cells = boundary_cell_room(floorplan)\n",
    "\n",
    "# 결과 출력 (칸을 맞춰서)\n",
    "for row in boundary_cells:\n",
    "    print(\"[\", \" \".join(f\"{x:2}\" for x in row), \"]\")\n"
   ],
   "metadata": {
    "collapsed": false,
    "ExecuteTime": {
     "end_time": "2024-07-19T08:09:15.284550600Z",
     "start_time": "2024-07-19T08:09:15.272326800Z"
    }
   },
   "id": "ed61a995cc06aae0"
  },
  {
   "cell_type": "code",
   "execution_count": null,
   "outputs": [],
   "source": [],
   "metadata": {
    "collapsed": false
   },
   "id": "88134e189d65e014"
  }
 ],
 "metadata": {
  "kernelspec": {
   "display_name": "Python 3",
   "language": "python",
   "name": "python3"
  },
  "language_info": {
   "codemirror_mode": {
    "name": "ipython",
    "version": 2
   },
   "file_extension": ".py",
   "mimetype": "text/x-python",
   "name": "python",
   "nbconvert_exporter": "python",
   "pygments_lexer": "ipython2",
   "version": "2.7.6"
  }
 },
 "nbformat": 4,
 "nbformat_minor": 5
}
